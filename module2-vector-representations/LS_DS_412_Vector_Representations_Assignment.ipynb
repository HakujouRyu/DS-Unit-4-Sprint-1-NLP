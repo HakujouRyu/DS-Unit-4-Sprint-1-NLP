{
 "cells": [
  {
   "cell_type": "markdown",
   "metadata": {},
   "source": [
    "<img align=\"left\" src=\"https://lever-client-logos.s3.amazonaws.com/864372b1-534c-480e-acd5-9711f850815c-1524247202159.png\" width=200>\n",
    "<br></br>\n",
    "\n",
    "# Vector Representations\n",
    "## *Data Science Unit 4 Sprint 2 Assignment 2*"
   ]
  },
  {
   "cell_type": "code",
   "execution_count": 1,
   "metadata": {
    "colab": {
     "base_uri": "https://localhost:8080/",
     "height": 159
    },
    "colab_type": "code",
    "id": "hyj-f9FDcVFp",
    "outputId": "5dd045fe-6e4c-458c-e2fc-253c3da9c805"
   },
   "outputs": [],
   "source": [
    "import re\n",
    "import string\n",
    "\n",
    "from sklearn.feature_extraction.text import CountVectorizer, TfidfVectorizer\n",
    "import matplotlib.pyplot as plt\n",
    "import pandas as pd\n",
    "import numpy as np\n",
    "import spacy"
   ]
  },
  {
   "cell_type": "markdown",
   "metadata": {
    "colab_type": "text",
    "id": "M7bcmqfGXrFG"
   },
   "source": [
    "## 1) *Optional:* Scrape 100 Job Listings that contain the title \"Data Scientist\" from indeed.com\n",
    "\n",
    "At a minimum your final dataframe of job listings should contain\n",
    "- Job Title\n",
    "- Job Description\n",
    "\n",
    "If you choose to not to scrape the data, there is a CSV with outdated data in the directory. Remeber, if you scrape Indeed, you're helping yourself find a job. ;)"
   ]
  },
  {
   "cell_type": "code",
   "execution_count": 2,
   "metadata": {
    "colab": {},
    "colab_type": "code",
    "id": "KcYlc1URXhlC"
   },
   "outputs": [],
   "source": [
    "##### Your Code Here #####\n",
    "# raise Exception(\"\\nThis task is not complete. \\nReplace this line with your code for the task.\")\n",
    "from bs4 import BeautifulSoup as bs4\n",
    "import requests"
   ]
  },
  {
   "cell_type": "markdown",
   "metadata": {
    "colab_type": "text",
    "id": "5C4xFZNtX1m2"
   },
   "source": [
    "## 2) Use Spacy to tokenize / clean the listings "
   ]
  },
  {
   "cell_type": "code",
   "execution_count": 66,
   "metadata": {
    "colab": {},
    "colab_type": "code",
    "id": "dhUHuMr-X-II"
   },
   "outputs": [],
   "source": [
    "import pandas as pd\n",
    "import seaborn as sns\n",
    "import matplotlib.pyplot as plt\n",
    "\n",
    "from sklearn.feature_extraction.text import CountVectorizer, TfidfVectorizer\n",
    "from sklearn.metrics.pairwise import cosine_similarity\n",
    "from sklearn.neighbors import NearestNeighbors\n",
    "from sklearn.decomposition import PCA\n",
    "\n",
    "import spacy\n",
    "from spacy.tokenizer import Tokenizer\n",
    "tokenizer = Tokenizer(nlp.vocab)\n",
    "nlp = spacy.load(\"en_core_web_lg\")"
   ]
  },
  {
   "cell_type": "code",
   "execution_count": 23,
   "metadata": {},
   "outputs": [],
   "source": [
    "#Load csv\n",
    "listings = pd.read_csv('data/job_listings.csv', index_col=0)"
   ]
  },
  {
   "cell_type": "code",
   "execution_count": 31,
   "metadata": {},
   "outputs": [
    {
     "data": {
      "text/plain": [
       "(426, 2)"
      ]
     },
     "execution_count": 31,
     "metadata": {},
     "output_type": "execute_result"
    }
   ],
   "source": [
    "listings.shape"
   ]
  },
  {
   "cell_type": "code",
   "execution_count": 24,
   "metadata": {},
   "outputs": [
    {
     "data": {
      "text/html": [
       "<div>\n",
       "<style scoped>\n",
       "    .dataframe tbody tr th:only-of-type {\n",
       "        vertical-align: middle;\n",
       "    }\n",
       "\n",
       "    .dataframe tbody tr th {\n",
       "        vertical-align: top;\n",
       "    }\n",
       "\n",
       "    .dataframe thead th {\n",
       "        text-align: right;\n",
       "    }\n",
       "</style>\n",
       "<table border=\"1\" class=\"dataframe\">\n",
       "  <thead>\n",
       "    <tr style=\"text-align: right;\">\n",
       "      <th></th>\n",
       "      <th>description</th>\n",
       "      <th>title</th>\n",
       "    </tr>\n",
       "  </thead>\n",
       "  <tbody>\n",
       "    <tr>\n",
       "      <th>0</th>\n",
       "      <td>b\"&lt;div&gt;&lt;div&gt;Job Requirements:&lt;/div&gt;&lt;ul&gt;&lt;li&gt;&lt;p&gt;...</td>\n",
       "      <td>Data scientist</td>\n",
       "    </tr>\n",
       "    <tr>\n",
       "      <th>1</th>\n",
       "      <td>b'&lt;div&gt;Job Description&lt;br/&gt;\\n&lt;br/&gt;\\n&lt;p&gt;As a Da...</td>\n",
       "      <td>Data Scientist I</td>\n",
       "    </tr>\n",
       "    <tr>\n",
       "      <th>2</th>\n",
       "      <td>b'&lt;div&gt;&lt;p&gt;As a Data Scientist you will be work...</td>\n",
       "      <td>Data Scientist - Entry Level</td>\n",
       "    </tr>\n",
       "    <tr>\n",
       "      <th>3</th>\n",
       "      <td>b'&lt;div class=\"jobsearch-JobMetadataHeader icl-...</td>\n",
       "      <td>Data Scientist</td>\n",
       "    </tr>\n",
       "    <tr>\n",
       "      <th>4</th>\n",
       "      <td>b'&lt;ul&gt;&lt;li&gt;Location: USA \\xe2\\x80\\x93 multiple ...</td>\n",
       "      <td>Data Scientist</td>\n",
       "    </tr>\n",
       "  </tbody>\n",
       "</table>\n",
       "</div>"
      ],
      "text/plain": [
       "                                         description  \\\n",
       "0  b\"<div><div>Job Requirements:</div><ul><li><p>...   \n",
       "1  b'<div>Job Description<br/>\\n<br/>\\n<p>As a Da...   \n",
       "2  b'<div><p>As a Data Scientist you will be work...   \n",
       "3  b'<div class=\"jobsearch-JobMetadataHeader icl-...   \n",
       "4  b'<ul><li>Location: USA \\xe2\\x80\\x93 multiple ...   \n",
       "\n",
       "                          title  \n",
       "0               Data scientist   \n",
       "1              Data Scientist I  \n",
       "2  Data Scientist - Entry Level  \n",
       "3                Data Scientist  \n",
       "4                Data Scientist  "
      ]
     },
     "execution_count": 24,
     "metadata": {},
     "output_type": "execute_result"
    }
   ],
   "source": [
    "listings.head()"
   ]
  },
  {
   "cell_type": "code",
   "execution_count": 44,
   "metadata": {},
   "outputs": [
    {
     "data": {
      "text/plain": [
       "\"b'<ul><li>Location: USA \\\\xe2\\\\x80\\\\x93 multiple locations</li>\\\\n<li>2+ years of Analytics experience</li>\\\\n<li>Understand business requirements and technical requirements</li>\\\\n<li>Can handle data extraction, preparation and transformation</li>\\\\n<li>Create and implement data models</li></ul>'\""
      ]
     },
     "execution_count": 44,
     "metadata": {},
     "output_type": "execute_result"
    }
   ],
   "source": [
    "listings.description[4]"
   ]
  },
  {
   "cell_type": "code",
   "execution_count": 71,
   "metadata": {},
   "outputs": [],
   "source": [
    "soup = bs4(listings.description[0])"
   ]
  },
  {
   "cell_type": "code",
   "execution_count": 79,
   "metadata": {},
   "outputs": [
    {
     "data": {
      "text/plain": [
       "'b\"Job Requirements:\\\\nConceptual understanding in Machine Learning models like Nai\\\\xc2\\\\xa8ve Bayes, K-Means, SVM, Apriori, Linear/ Logistic Regression, Neural, Random Forests, Decision Trees, K-NN along with hands-on experience in at least 2 of them\\\\nIntermediate to expert level coding skills in Python/R. (Ability to write functions, clean and efficient data manipulation are mandatory for this role)\\\\nExposure to packages like NumPy, SciPy, Pandas, Matplotlib etc in Python or GGPlot2, dplyr, tidyR in R\\\\nAbility to communicate Model findings to both Technical and Non-Technical stake holders\\\\nHands on experience in SQL/Hive or similar programming language\\\\nMust show past work via GitHub, Kaggle or any other published article\\\\nMaster\\'s degree in Statistics/Mathematics/Computer Science or any other quant specific field.\\\\nApply Now\"'"
      ]
     },
     "execution_count": 79,
     "metadata": {},
     "output_type": "execute_result"
    }
   ],
   "source": [
    "soup.get_text()"
   ]
  },
  {
   "cell_type": "code",
   "execution_count": 62,
   "metadata": {},
   "outputs": [],
   "source": [
    "def extract_description(df, col):\n",
    "    desc = []\n",
    "    for row in range(len(df[col])):\n",
    "        soup = bs4(df[col][row])\n",
    "        desc.append(soup.get_text())\n",
    "    return desc\n",
    "#     print(len(desc))\n",
    "        "
   ]
  },
  {
   "cell_type": "code",
   "execution_count": 63,
   "metadata": {},
   "outputs": [],
   "source": [
    "listings['processed'] = extract_description(listings, 'description')"
   ]
  },
  {
   "cell_type": "code",
   "execution_count": 99,
   "metadata": {},
   "outputs": [
    {
     "data": {
      "text/plain": [
       "0      b\"Job Requirements:\\nConceptual understanding ...\n",
       "1      b'Job Description\\n\\nAs a Data Scientist 1, yo...\n",
       "2      b'As a Data Scientist you will be working on c...\n",
       "3      b'$4,969 - $6,756 a monthContractUnder the gen...\n",
       "4      b'Location: USA \\xe2\\x80\\x93 multiple location...\n",
       "5      b'Create various Business Intelligence Analyti...\n",
       "6      b'As Spotify Premium swells to over 96M subscr...\n",
       "7      b\"Everytown for Gun Safety, the nation's large...\n",
       "8      b\"MS in a quantitative discipline such as Stat...\n",
       "9      b'Slack is hiring experienced data scientists ...\n",
       "10     b'Who We Are\\nBlackThorn Therapeutics is a com...\n",
       "11     b'Part-timeAbout The Opportunity\\nHere at Grub...\n",
       "12     b\"nfosys\\xe2\\x80\\x93 Data & Analytics \\xe2\\x80...\n",
       "13     b'As Spotify Premium swells to over 96M subscr...\n",
       "14     b'Experience with guiding R&D strategy for you...\n",
       "15     b'The Atlantic is seeking a Data Scientist to ...\n",
       "16     b'THE CHALLENGE\\nEventbrite is big, bustling m...\n",
       "17     b'ContractWe are looking to hire for a Data Sc...\n",
       "18     b\"Everytown for Gun Safety, the nation's large...\n",
       "19     b'$70,000 - $100,000 a yearTitle: Data Analyst...\n",
       "20     b'$45,000 a yearWorking under direction of the...\n",
       "21     b'The Challenge:\\nAre you excited at the prosp...\n",
       "22     b'We are seeking a Data Scientist to join our ...\n",
       "23     b'Motiion is a technology and data company for...\n",
       "24     b'The Scientist is responsible for the scienti...\n",
       "25     b\"As a Data Scientist for Ads Measurement in t...\n",
       "26     b'Summary\\nPosted: Mar 6, 2019\\nWeekly Hours: ...\n",
       "27     b'Slack is looking for experienced data scient...\n",
       "28     b\"nfosys\\xe2\\x80\\x93 Data & Analytics \\xe2\\x80...\n",
       "29     b'Part-time, InternshipSUMMARY:\\n\\n\\nSierra Ne...\n",
       "                             ...                        \n",
       "396    b\"ABOUT US\\nLark is the world's largest A.I. h...\n",
       "397    b'Zenreach solves a major problem for brick-an...\n",
       "398    b'Position Description\\nAs the Walmart Voice C...\n",
       "399    b'By trade we are a technology company, but if...\n",
       "400    b'Purpose & Overall Relevance for the Organiza...\n",
       "401    b\"about dscout\\nWe are dscout. At our core, we...\n",
       "402    b\"Junior Data Scientist - Big Data (Entry-Leve...\n",
       "403    b\"About Us\\nInterested in working for a human-...\n",
       "404    b'Air Products, Inc., a Fortune 500 manufactur...\n",
       "405    b\"Data Scientist -\\nDo you want the opportunit...\n",
       "406    b'Job Description:\\nData Scientist\\nInteractiv...\n",
       "407    b'The Data Scientist I mines and analyzes comp...\n",
       "408    b'FinLocker is a leading financial data and an...\n",
       "409    b'With annual sales of $15 billion, Ecolab (EC...\n",
       "410    b'Job Description:\\n\\nThe Enterprise Data Solu...\n",
       "411    b\"Description:\\nChicago - IL, IL150SW, 150 S W...\n",
       "412    b'Nike Supply Chain experts ensure that every ...\n",
       "413    b'The Principal Data Scientist is responsible ...\n",
       "414    b'We are looking for a Senior Data Scientist w...\n",
       "415    b'Temporary, Internship\\nThe Marketing Data Sc...\n",
       "416    b'Los Gatos, California\\nScience and Analytics...\n",
       "417    b'About the Role...\\n\\nLogic2020 is looking to...\n",
       "418    b'ContractThe role is largely operational and ...\n",
       "419    b'Bachelor\\xe2\\x80\\x99s or Master\\xe2\\x80\\x99s...\n",
       "420    b'At Uber, we ignite opportunity by setting th...\n",
       "421    b\"About Us:\\nWant to be part of a fantastic an...\n",
       "422    b'InternshipAt Uber, we ignite opportunity by ...\n",
       "423    b'$200,000 - $350,000 a yearA million people a...\n",
       "424    b\"SENIOR DATA SCIENTIST\\nJOB DESCRIPTION\\n\\nAB...\n",
       "425    b'Cerner Intelligence is a new, innovative org...\n",
       "Name: processed, Length: 426, dtype: object"
      ]
     },
     "execution_count": 99,
     "metadata": {},
     "output_type": "execute_result"
    }
   ],
   "source": [
    "listings.processed"
   ]
  },
  {
   "cell_type": "code",
   "execution_count": 149,
   "metadata": {},
   "outputs": [],
   "source": [
    "# doc = nlp(listings['processed'])\n",
    "tokens = []\n",
    "\n",
    "for doc in tokenizer.pipe(listings['processed']):\n",
    "    doc_tokens = [token.text.lower() for token in doc if (token.is_stop==False) & (token.is_punct==False) & (token.is_space==False)]\n",
    "    tokens.append(doc_tokens)"
   ]
  },
  {
   "cell_type": "code",
   "execution_count": 150,
   "metadata": {},
   "outputs": [],
   "source": [
    "listings['tokens'] = tokens"
   ]
  },
  {
   "cell_type": "code",
   "execution_count": 151,
   "metadata": {},
   "outputs": [
    {
     "data": {
      "text/html": [
       "<div>\n",
       "<style scoped>\n",
       "    .dataframe tbody tr th:only-of-type {\n",
       "        vertical-align: middle;\n",
       "    }\n",
       "\n",
       "    .dataframe tbody tr th {\n",
       "        vertical-align: top;\n",
       "    }\n",
       "\n",
       "    .dataframe thead th {\n",
       "        text-align: right;\n",
       "    }\n",
       "</style>\n",
       "<table border=\"1\" class=\"dataframe\">\n",
       "  <thead>\n",
       "    <tr style=\"text-align: right;\">\n",
       "      <th></th>\n",
       "      <th>description</th>\n",
       "      <th>title</th>\n",
       "      <th>processed</th>\n",
       "      <th>tokens</th>\n",
       "    </tr>\n",
       "  </thead>\n",
       "  <tbody>\n",
       "    <tr>\n",
       "      <th>0</th>\n",
       "      <td>b\"&lt;div&gt;&lt;div&gt;Job Requirements:&lt;/div&gt;&lt;ul&gt;&lt;li&gt;&lt;p&gt;...</td>\n",
       "      <td>Data scientist</td>\n",
       "      <td>b\"Job Requirements:\\nConceptual understanding ...</td>\n",
       "      <td>[b\"job, requirements:\\nconceptual, understandi...</td>\n",
       "    </tr>\n",
       "    <tr>\n",
       "      <th>1</th>\n",
       "      <td>b'&lt;div&gt;Job Description&lt;br/&gt;\\n&lt;br/&gt;\\n&lt;p&gt;As a Da...</td>\n",
       "      <td>Data Scientist I</td>\n",
       "      <td>b'Job Description\\n\\nAs a Data Scientist 1, yo...</td>\n",
       "      <td>[b'job, description\\n\\nas, data, scientist, 1,...</td>\n",
       "    </tr>\n",
       "    <tr>\n",
       "      <th>2</th>\n",
       "      <td>b'&lt;div&gt;&lt;p&gt;As a Data Scientist you will be work...</td>\n",
       "      <td>Data Scientist - Entry Level</td>\n",
       "      <td>b'As a Data Scientist you will be working on c...</td>\n",
       "      <td>[b'as, data, scientist, working, consulting, b...</td>\n",
       "    </tr>\n",
       "    <tr>\n",
       "      <th>3</th>\n",
       "      <td>b'&lt;div class=\"jobsearch-JobMetadataHeader icl-...</td>\n",
       "      <td>Data Scientist</td>\n",
       "      <td>b'$4,969 - $6,756 a monthContractUnder the gen...</td>\n",
       "      <td>[b'$4,969, $6,756, monthcontractunder, general...</td>\n",
       "    </tr>\n",
       "    <tr>\n",
       "      <th>4</th>\n",
       "      <td>b'&lt;ul&gt;&lt;li&gt;Location: USA \\xe2\\x80\\x93 multiple ...</td>\n",
       "      <td>Data Scientist</td>\n",
       "      <td>b'Location: USA \\xe2\\x80\\x93 multiple location...</td>\n",
       "      <td>[b'location:, usa, \\xe2\\x80\\x93, multiple, loc...</td>\n",
       "    </tr>\n",
       "  </tbody>\n",
       "</table>\n",
       "</div>"
      ],
      "text/plain": [
       "                                         description  \\\n",
       "0  b\"<div><div>Job Requirements:</div><ul><li><p>...   \n",
       "1  b'<div>Job Description<br/>\\n<br/>\\n<p>As a Da...   \n",
       "2  b'<div><p>As a Data Scientist you will be work...   \n",
       "3  b'<div class=\"jobsearch-JobMetadataHeader icl-...   \n",
       "4  b'<ul><li>Location: USA \\xe2\\x80\\x93 multiple ...   \n",
       "\n",
       "                          title  \\\n",
       "0               Data scientist    \n",
       "1              Data Scientist I   \n",
       "2  Data Scientist - Entry Level   \n",
       "3                Data Scientist   \n",
       "4                Data Scientist   \n",
       "\n",
       "                                           processed  \\\n",
       "0  b\"Job Requirements:\\nConceptual understanding ...   \n",
       "1  b'Job Description\\n\\nAs a Data Scientist 1, yo...   \n",
       "2  b'As a Data Scientist you will be working on c...   \n",
       "3  b'$4,969 - $6,756 a monthContractUnder the gen...   \n",
       "4  b'Location: USA \\xe2\\x80\\x93 multiple location...   \n",
       "\n",
       "                                              tokens  \n",
       "0  [b\"job, requirements:\\nconceptual, understandi...  \n",
       "1  [b'job, description\\n\\nas, data, scientist, 1,...  \n",
       "2  [b'as, data, scientist, working, consulting, b...  \n",
       "3  [b'$4,969, $6,756, monthcontractunder, general...  \n",
       "4  [b'location:, usa, \\xe2\\x80\\x93, multiple, loc...  "
      ]
     },
     "execution_count": 151,
     "metadata": {},
     "output_type": "execute_result"
    }
   ],
   "source": [
    "listings.head()"
   ]
  },
  {
   "cell_type": "markdown",
   "metadata": {
    "colab_type": "text",
    "id": "-lgCZNL_YycP"
   },
   "source": [
    "## 3) Use Scikit-Learn's CountVectorizer to get word counts for each listing."
   ]
  },
  {
   "cell_type": "code",
   "execution_count": 152,
   "metadata": {},
   "outputs": [],
   "source": [
    "vect = CountVectorizer()"
   ]
  },
  {
   "cell_type": "code",
   "execution_count": 157,
   "metadata": {},
   "outputs": [
    {
     "data": {
      "text/plain": [
       "<426x9992 sparse matrix of type '<class 'numpy.int64'>'\n",
       "\twith 99812 stored elements in Compressed Sparse Row format>"
      ]
     },
     "execution_count": 157,
     "metadata": {},
     "output_type": "execute_result"
    }
   ],
   "source": [
    "vect.fit_transform(listings['tokens'].apply(lambda x: \" \".join(x)))"
   ]
  },
  {
   "cell_type": "code",
   "execution_count": 158,
   "metadata": {},
   "outputs": [
    {
     "name": "stdout",
     "output_type": "stream",
     "text": [
      "  (0, 225)\t1\n",
      "  (0, 496)\t1\n",
      "  (0, 563)\t2\n",
      "  (0, 654)\t1\n",
      "  (0, 668)\t1\n",
      "  (0, 690)\t1\n",
      "  (0, 748)\t1\n",
      "  (0, 907)\t1\n",
      "  (0, 1059)\t1\n",
      "  (0, 1458)\t1\n",
      "  (0, 1514)\t1\n",
      "  (0, 1598)\t1\n",
      "  (0, 1675)\t1\n",
      "  (0, 2056)\t1\n",
      "  (0, 2117)\t1\n",
      "  (0, 2152)\t1\n",
      "  (0, 2466)\t1\n",
      "  (0, 2597)\t1\n",
      "  (0, 2828)\t1\n",
      "  (0, 2936)\t2\n",
      "  (0, 2953)\t1\n",
      "  (0, 3109)\t1\n",
      "  (0, 3136)\t1\n",
      "  (0, 3225)\t1\n",
      "  (0, 3242)\t1\n",
      "  :\t:\n",
      "  (425, 9531)\t1\n",
      "  (425, 9567)\t1\n",
      "  (425, 9587)\t1\n",
      "  (425, 9623)\t1\n",
      "  (425, 9644)\t1\n",
      "  (425, 9692)\t1\n",
      "  (425, 9715)\t2\n",
      "  (425, 9752)\t1\n",
      "  (425, 9756)\t1\n",
      "  (425, 9757)\t1\n",
      "  (425, 9762)\t2\n",
      "  (425, 9773)\t3\n",
      "  (425, 9775)\t1\n",
      "  (425, 9789)\t10\n",
      "  (425, 9791)\t2\n",
      "  (425, 9801)\t6\n",
      "  (425, 9807)\t1\n",
      "  (425, 9810)\t1\n",
      "  (425, 9813)\t1\n",
      "  (425, 9835)\t5\n",
      "  (425, 9848)\t2\n",
      "  (425, 9884)\t3\n",
      "  (425, 9952)\t5\n",
      "  (425, 9965)\t2\n",
      "  (425, 9976)\t3\n"
     ]
    }
   ],
   "source": [
    "print(dtm)"
   ]
  },
  {
   "cell_type": "code",
   "execution_count": 159,
   "metadata": {},
   "outputs": [],
   "source": [
    "sum_words = dtm.sum(axis=0)"
   ]
  },
  {
   "cell_type": "code",
   "execution_count": 160,
   "metadata": {},
   "outputs": [],
   "source": [
    "words_freq = [(word, sum_words[0, idx]) for word, idx in     vect.vocabulary_.items()]\n",
    "words_freq =sorted(words_freq, key = lambda x: x[1], reverse=True)"
   ]
  },
  {
   "cell_type": "code",
   "execution_count": 163,
   "metadata": {},
   "outputs": [
    {
     "name": "stdout",
     "output_type": "stream",
     "text": [
      "[('and', 11737), ('to', 6913), ('the', 5300), ('of', 4611), ('data', 4394), ('in', 3594), ('with', 3059), ('for', 2059), ('or', 1936), ('you', 1505)]\n"
     ]
    }
   ],
   "source": [
    "print(words_freq[:10])"
   ]
  },
  {
   "cell_type": "markdown",
   "metadata": {
    "colab_type": "text",
    "id": "Zo1iH_UeY7_n"
   },
   "source": [
    "## 4) Visualize the most common word counts"
   ]
  },
  {
   "cell_type": "code",
   "execution_count": 166,
   "metadata": {},
   "outputs": [],
   "source": [
    "import squarify\n",
    "from collections import Counter"
   ]
  },
  {
   "cell_type": "code",
   "execution_count": 167,
   "metadata": {
    "colab": {},
    "colab_type": "code",
    "id": "M5LB00uyZKV5"
   },
   "outputs": [],
   "source": [
    "def count(docs):\n",
    "    \n",
    "    word_counts = Counter()\n",
    "    appears_in = Counter()\n",
    "    total_docs = len(docs)\n",
    "    for doc in docs:\n",
    "        word_counts.update(doc)\n",
    "        appears_in.update(set(doc))\n",
    "    \n",
    "    counts = zip(word_counts.keys(), word_counts.values())\n",
    "    wc = pd.DataFrame(counts, columns = ['word', 'count'])\n",
    "    wc['rank'] = wc['count'].rank(method='first', ascending=False)\n",
    "    total = wc['count'].sum()\n",
    "    wc['pct_total'] = wc['count'].apply(lambda x: x / total)\n",
    "    wc = wc.sort_values(by='rank')\n",
    "    wc['cul_pct_total'] = wc['pct_total'].cumsum()\n",
    "    appearances = zip(appears_in.keys(), appears_in.values())\n",
    "    ac = pd.DataFrame(appearances, columns=['word', 'appears_in'])\n",
    "    wc = ac.merge(wc, on='word')\n",
    "\n",
    "    wc['appears_in_pct'] = wc['appears_in'].apply(lambda x: x / total_docs)\n",
    "\n",
    "    return wc.sort_values(by='rank')"
   ]
  },
  {
   "cell_type": "code",
   "execution_count": 171,
   "metadata": {},
   "outputs": [],
   "source": [
    "counts = count(listings['tokens'])"
   ]
  },
  {
   "cell_type": "code",
   "execution_count": 172,
   "metadata": {},
   "outputs": [
    {
     "data": {
      "image/png": "[encoded data removed]",
      "text/plain": [
       "<Figure size 432x288 with 1 Axes>"
      ]
     },
     "metadata": {
      "needs_background": "light"
     },
     "output_type": "display_data"
    }
   ],
   "source": [
    "top20 = counts[counts['rank'] < 20]\n",
    "\n",
    "squarify.plot(sizes=top20['pct_total'], label=top20['word'])\n",
    "plt.axis('off')\n",
    "plt.show()"
   ]
  },
  {
   "cell_type": "markdown",
   "metadata": {
    "colab_type": "text",
    "id": "bwFsTqrVZMYi"
   },
   "source": [
    "## 5) Use Scikit-Learn's tfidfVectorizer to get a TF-IDF feature matrix"
   ]
  },
  {
   "cell_type": "code",
   "execution_count": 179,
   "metadata": {
    "colab": {},
    "colab_type": "code",
    "id": "-gx2gZCbl5Np"
   },
   "outputs": [
    {
     "data": {
      "text/html": [
       "<div>\n",
       "<style scoped>\n",
       "    .dataframe tbody tr th:only-of-type {\n",
       "        vertical-align: middle;\n",
       "    }\n",
       "\n",
       "    .dataframe tbody tr th {\n",
       "        vertical-align: top;\n",
       "    }\n",
       "\n",
       "    .dataframe thead th {\n",
       "        text-align: right;\n",
       "    }\n",
       "</style>\n",
       "<table border=\"1\" class=\"dataframe\">\n",
       "  <thead>\n",
       "    <tr style=\"text-align: right;\">\n",
       "      <th></th>\n",
       "      <th>000</th>\n",
       "      <th>10</th>\n",
       "      <th>100</th>\n",
       "      <th>12</th>\n",
       "      <th>15</th>\n",
       "      <th>20</th>\n",
       "      <th>2019</th>\n",
       "      <th>25</th>\n",
       "      <th>3rd</th>\n",
       "      <th>40</th>\n",
       "      <th>...</th>\n",
       "      <th>years data</th>\n",
       "      <th>years experience</th>\n",
       "      <th>years hands</th>\n",
       "      <th>years industry</th>\n",
       "      <th>years professional</th>\n",
       "      <th>years relevant</th>\n",
       "      <th>years work</th>\n",
       "      <th>years xe2</th>\n",
       "      <th>york</th>\n",
       "      <th>york city</th>\n",
       "    </tr>\n",
       "  </thead>\n",
       "  <tbody>\n",
       "    <tr>\n",
       "      <th>0</th>\n",
       "      <td>0.0</td>\n",
       "      <td>0.0</td>\n",
       "      <td>0.0</td>\n",
       "      <td>0.0</td>\n",
       "      <td>0.0</td>\n",
       "      <td>0.0</td>\n",
       "      <td>0.0</td>\n",
       "      <td>0.0</td>\n",
       "      <td>0.0</td>\n",
       "      <td>0.0</td>\n",
       "      <td>...</td>\n",
       "      <td>0.0</td>\n",
       "      <td>0.0</td>\n",
       "      <td>0.0</td>\n",
       "      <td>0.0</td>\n",
       "      <td>0.0</td>\n",
       "      <td>0.0</td>\n",
       "      <td>0.0</td>\n",
       "      <td>0.0</td>\n",
       "      <td>0.0</td>\n",
       "      <td>0.0</td>\n",
       "    </tr>\n",
       "    <tr>\n",
       "      <th>1</th>\n",
       "      <td>0.0</td>\n",
       "      <td>0.0</td>\n",
       "      <td>0.0</td>\n",
       "      <td>0.0</td>\n",
       "      <td>0.0</td>\n",
       "      <td>0.0</td>\n",
       "      <td>0.0</td>\n",
       "      <td>0.0</td>\n",
       "      <td>0.0</td>\n",
       "      <td>0.0</td>\n",
       "      <td>...</td>\n",
       "      <td>0.0</td>\n",
       "      <td>0.0</td>\n",
       "      <td>0.0</td>\n",
       "      <td>0.0</td>\n",
       "      <td>0.0</td>\n",
       "      <td>0.0</td>\n",
       "      <td>0.0</td>\n",
       "      <td>0.0</td>\n",
       "      <td>0.0</td>\n",
       "      <td>0.0</td>\n",
       "    </tr>\n",
       "    <tr>\n",
       "      <th>2</th>\n",
       "      <td>0.0</td>\n",
       "      <td>0.0</td>\n",
       "      <td>0.0</td>\n",
       "      <td>0.0</td>\n",
       "      <td>0.0</td>\n",
       "      <td>0.0</td>\n",
       "      <td>0.0</td>\n",
       "      <td>0.0</td>\n",
       "      <td>0.0</td>\n",
       "      <td>0.0</td>\n",
       "      <td>...</td>\n",
       "      <td>0.0</td>\n",
       "      <td>0.0</td>\n",
       "      <td>0.0</td>\n",
       "      <td>0.0</td>\n",
       "      <td>0.0</td>\n",
       "      <td>0.0</td>\n",
       "      <td>0.0</td>\n",
       "      <td>0.0</td>\n",
       "      <td>0.0</td>\n",
       "      <td>0.0</td>\n",
       "    </tr>\n",
       "    <tr>\n",
       "      <th>3</th>\n",
       "      <td>0.0</td>\n",
       "      <td>0.0</td>\n",
       "      <td>0.0</td>\n",
       "      <td>0.0</td>\n",
       "      <td>0.0</td>\n",
       "      <td>0.0</td>\n",
       "      <td>0.0</td>\n",
       "      <td>0.0</td>\n",
       "      <td>0.0</td>\n",
       "      <td>0.0</td>\n",
       "      <td>...</td>\n",
       "      <td>0.0</td>\n",
       "      <td>0.0</td>\n",
       "      <td>0.0</td>\n",
       "      <td>0.0</td>\n",
       "      <td>0.0</td>\n",
       "      <td>0.0</td>\n",
       "      <td>0.0</td>\n",
       "      <td>0.0</td>\n",
       "      <td>0.0</td>\n",
       "      <td>0.0</td>\n",
       "    </tr>\n",
       "    <tr>\n",
       "      <th>4</th>\n",
       "      <td>0.0</td>\n",
       "      <td>0.0</td>\n",
       "      <td>0.0</td>\n",
       "      <td>0.0</td>\n",
       "      <td>0.0</td>\n",
       "      <td>0.0</td>\n",
       "      <td>0.0</td>\n",
       "      <td>0.0</td>\n",
       "      <td>0.0</td>\n",
       "      <td>0.0</td>\n",
       "      <td>...</td>\n",
       "      <td>0.0</td>\n",
       "      <td>0.0</td>\n",
       "      <td>0.0</td>\n",
       "      <td>0.0</td>\n",
       "      <td>0.0</td>\n",
       "      <td>0.0</td>\n",
       "      <td>0.0</td>\n",
       "      <td>0.0</td>\n",
       "      <td>0.0</td>\n",
       "      <td>0.0</td>\n",
       "    </tr>\n",
       "  </tbody>\n",
       "</table>\n",
       "<p>5 rows × 2590 columns</p>\n",
       "</div>"
      ],
      "text/plain": [
       "   000   10  100   12   15   20  2019   25  3rd   40  ...  years data  \\\n",
       "0  0.0  0.0  0.0  0.0  0.0  0.0   0.0  0.0  0.0  0.0  ...         0.0   \n",
       "1  0.0  0.0  0.0  0.0  0.0  0.0   0.0  0.0  0.0  0.0  ...         0.0   \n",
       "2  0.0  0.0  0.0  0.0  0.0  0.0   0.0  0.0  0.0  0.0  ...         0.0   \n",
       "3  0.0  0.0  0.0  0.0  0.0  0.0   0.0  0.0  0.0  0.0  ...         0.0   \n",
       "4  0.0  0.0  0.0  0.0  0.0  0.0   0.0  0.0  0.0  0.0  ...         0.0   \n",
       "\n",
       "   years experience  years hands  years industry  years professional  \\\n",
       "0               0.0          0.0             0.0                 0.0   \n",
       "1               0.0          0.0             0.0                 0.0   \n",
       "2               0.0          0.0             0.0                 0.0   \n",
       "3               0.0          0.0             0.0                 0.0   \n",
       "4               0.0          0.0             0.0                 0.0   \n",
       "\n",
       "   years relevant  years work  years xe2  york  york city  \n",
       "0             0.0         0.0        0.0   0.0        0.0  \n",
       "1             0.0         0.0        0.0   0.0        0.0  \n",
       "2             0.0         0.0        0.0   0.0        0.0  \n",
       "3             0.0         0.0        0.0   0.0        0.0  \n",
       "4             0.0         0.0        0.0   0.0        0.0  \n",
       "\n",
       "[5 rows x 2590 columns]"
      ]
     },
     "execution_count": 179,
     "metadata": {},
     "output_type": "execute_result"
    }
   ],
   "source": [
    "from sklearn.feature_extraction.text import TfidfVectorizer\n",
    "\n",
    "# Instantiate vectorizer object\n",
    "tfidf = TfidfVectorizer(stop_words='english', min_df=0.025, max_df=.98, ngram_range=(1,2))\n",
    "\n",
    "# Create a vocabulary and get word counts per document\n",
    "dtm = tfidf.fit_transform(listings['tokens'].apply(lambda x: \" \".join(x)))\n",
    "\n",
    "# Get feature names to use as dataframe column headers\n",
    "dtm = pd.DataFrame(dtm.todense(), columns=tfidf.get_feature_names())\n",
    "dtm.head()"
   ]
  },
  {
   "cell_type": "markdown",
   "metadata": {},
   "source": [
    "## 6) Create a NearestNeighbor Model. Write the description of your ideal datascience job and query your job listings. "
   ]
  },
  {
   "cell_type": "code",
   "execution_count": 180,
   "metadata": {
    "collapsed": false,
    "inputHidden": false,
    "jupyter": {
     "outputs_hidden": false
    },
    "outputHidden": false
   },
   "outputs": [],
   "source": [
    "from sklearn.neighbors import NearestNeighbors"
   ]
  },
  {
   "cell_type": "code",
   "execution_count": 181,
   "metadata": {},
   "outputs": [
    {
     "data": {
      "text/plain": [
       "NearestNeighbors(algorithm='kd_tree', leaf_size=30, metric='minkowski',\n",
       "         metric_params=None, n_jobs=None, n_neighbors=5, p=2, radius=1.0)"
      ]
     },
     "execution_count": 181,
     "metadata": {},
     "output_type": "execute_result"
    }
   ],
   "source": [
    "nn = NearestNeighbors(n_neighbors=5, algorithm='kd_tree')\n",
    "nn.fit(dtm)"
   ]
  },
  {
   "cell_type": "code",
   "execution_count": 185,
   "metadata": {},
   "outputs": [
    {
     "data": {
      "text/plain": [
       "(array([[0.        , 1.25955418, 1.26517326, 1.27291236, 1.27640718]]),\n",
       " array([[  2, 307, 190, 407,  52]]))"
      ]
     },
     "execution_count": 185,
     "metadata": {},
     "output_type": "execute_result"
    }
   ],
   "source": [
    "nn.kneighbors([dtm.iloc[2].values])"
   ]
  },
  {
   "cell_type": "code",
   "execution_count": 186,
   "metadata": {},
   "outputs": [
    {
     "data": {
      "text/plain": [
       "\"b'As a Data Scientist you will be working on consulting side of our business. You will be responsible for analyzing large, complex datasets and identify meaningful patterns that lead to actionable recommendations. You will be performing thorough testing and validation of models, and support various aspects of the business with data analytics.\\\\nAbility to do statistical modeling, build predictive models and leverage machine learning algorithms.\\\\nThis position will combine the typical Data Scientist math and analytical skills, with research, advanced business, communication, and presentation skills.\\\\nPrimary job location is in Sacramento, but work-from-home option is available.\\\\n\\\\nQualifications\\\\nBachelors, MS or PhD in a relevant field (Computer Science, Engineering, Statistics, Physics, Applied Math)\\\\nExperience in R and/or Python is preferred'\""
      ]
     },
     "execution_count": 186,
     "metadata": {},
     "output_type": "execute_result"
    }
   ],
   "source": [
    "listings['processed'][2]"
   ]
  },
  {
   "cell_type": "code",
   "execution_count": 187,
   "metadata": {},
   "outputs": [
    {
     "data": {
      "text/plain": [
       "\"b'Job Description\\\\n\\\\nToomey Technologies has immediate openings for talented and motivated Data Scientists in Northern Virginia.\\\\nOur solutions require integrated models based on large and varied datasets, feeding analytic applications so that we can extract patterns and behaviors obscured within the data to augment the capabilities of human operators. We need data scientists/software engineers of all experience levels to staff positions supporting the defense and intelligence communities. This is a unique position where you will not only analyze the data, but also integrate your algorithms and visualizations into production systems. The Data Scientist will be working on a project to leverage commercial and open source data streams fused with classified intelligence to increase indications and warning (I&W) data and to provide automated resource allocation and response options to include support for object detection. The Data Scientist will work as part of an agile software development team to design and rapidly prototype scalable solutions. The candidate must be self-starting, able to work well within a team environment and motivated to deliver innovative capabilities that directly impact national security. Exceptional analytical skills and communication skills are crucial in communicating with government customers and stakeholders.\\\\nProvide data science support to perform feature engineering on data sources, develop association rule-based models designed to extract signals from data feeds and predict the likelihood of an activity based on patterns.\\\\nParticipate in the research, design and development systems software, software applications and/or tools.\\\\nIdentify new machine learning and advanced analytics methodologies based on available data sets, and implement dynamic models/algorithms.\\\\nExperience manipulating data from disparate data sources, building machine learning and deep learning models.\\\\nAssist in the design, development, testing, and validation of multiple modeling design concepts to include but not limited to statistical, mathematical, and simulation models.\\\\nCollaborate with product and engineering leadership on delivery strategy, roadmaps, and timelines.\\\\nCollaborate with architects, engineers, and analysts to implement enhancements or new applications.\\\\nRapidly deliver capabilities in direct response to customer needs\\\\n\\\\nQualifications\\\\n\\\\nRequired Skills\\\\nMust be a U.S. citizen\\\\nMinimum TS security clearance required; TS/SCI preferred\\\\nBachelor\\\\xe2\\\\x80\\\\x99s Degree in Computer Science, Applied Mathematics, or related field\\\\n5-8 yrs. of related experience in:Data analytics and Machine LearningAnalysis of algorithms, software, and software architecturesNatural language processingPattern analysisRunning multiple models and improving quality of detectionExperience developing and testing modelsWindows & Linux/Unix environmentsExperience with large scale data sets, using databases such as Postgres, MySQLExperience with one or more of the following languages: Python, Java, R, C++\\\\nDesired Skills\\\\nMS or PhD in Computer Science, Engineering, Applied Mathematics, or related field\\\\nExperience conducting model feasibility research and algorithm development for machine learning\\\\nExperience with distributed datasets and experience analyzing both relational and NoSQL data structures.\\\\nExperience working within a software development or big data environment\\\\nContinuous Integration, Testing, and Deployment\\\\nIC/DoD focused data science\\\\nAdditional Information\\\\n\\\\nAll qualified applicants will receive consideration for employment without regard to race, color, religion, sex, national origin, disability, or protected veteran status.'\""
      ]
     },
     "execution_count": 187,
     "metadata": {},
     "output_type": "execute_result"
    }
   ],
   "source": [
    "listings['processed'][307]"
   ]
  },
  {
   "cell_type": "code",
   "execution_count": 195,
   "metadata": {},
   "outputs": [],
   "source": [
    "search = [\"\"\"\n",
    "Hi-Rez Studios is now accepting qualified Machine Learning Engineering Intern applicants for our Summer Internship Program at our studio in Alpharetta, Georgia on our Platforms team!\n",
    "\n",
    "This will be a paid, seasonal employee. The deadline to submit all application materials is Feb 28, 2020. Internship selections will be made and announced by April 1, 2020, with the Intern work program starting mid-May, 2020, ending mid-August, 2020 (actual dates to be determined).\n",
    "\n",
    "Come join the creator of the critically acclaimed SMITE; Paladins; Realm Royale; Tribes: Ascend; and Global Agenda as we embark on exciting new game projects!\n",
    "What our Machine Learning Engineering Interns do:\n",
    "Use and customize state of the art machine learning algorithms to apply to Hi-Rez data in areas such as matchmaking, customer value, game play, in game AI, and customer retention.\n",
    "Assist with producing hypotheses from machine learning results to test in the game.\n",
    "Iterate and refine data components captured by our games.\n",
    "What we are looking for:\n",
    "Must be able to travel effectively to and from studio on a daily basis.\n",
    "Must be currently enrolled in (documented as a \"Junior\" or higher grade level) - or recently graduated of - an accredited college, university, or school of art.\n",
    "At least one professional Letter of Reference from a manager, supervisor, professor or instructor; outlining how they know you, and why you should be considered for this position.\n",
    "Current resume.\n",
    "Cover letter.\n",
    "Authorized to work in the U.S.\n",
    "Good communication skills, and a team player.\n",
    "Even better candidates:\n",
    "Loves games / experience in gaming industry.\n",
    "Degree with focus on machine learning.\n",
    "Have experience in SQL.\n",
    "Have experience using Python, R, or comparable system to analyze large data sets.\"\"\"]"
   ]
  },
  {
   "cell_type": "code",
   "execution_count": 196,
   "metadata": {},
   "outputs": [
    {
     "data": {
      "text/plain": [
       "<1x2590 sparse matrix of type '<class 'numpy.float64'>'\n",
       "\twith 86 stored elements in Compressed Sparse Row format>"
      ]
     },
     "execution_count": 196,
     "metadata": {},
     "output_type": "execute_result"
    }
   ],
   "source": [
    "new = tfidf.transform(search)\n",
    "new"
   ]
  },
  {
   "cell_type": "code",
   "execution_count": 197,
   "metadata": {},
   "outputs": [
    {
     "data": {
      "text/plain": [
       "(array([[1.19784088, 1.2069082 , 1.23104202, 1.23573847, 1.2539735 ]]),\n",
       " array([[121, 290,  53, 201,  30]]))"
      ]
     },
     "execution_count": 197,
     "metadata": {},
     "output_type": "execute_result"
    }
   ],
   "source": [
    "nn.kneighbors(new.todense())"
   ]
  },
  {
   "cell_type": "code",
   "execution_count": 198,
   "metadata": {},
   "outputs": [
    {
     "data": {
      "text/plain": [
       "\"b'Part-timeThe Nittany Artificial Intelligence (AI) Alliance at The Pennsylvania State University (PSU) is looking for a talented and highly motivated undergraduate intern to work on AI-related projects, gaining hands-on experience that enhances their learning at Penn State, while also gaining highly marketable development experience. Selected candidates will be members of a software development team and assist with the development of prototypes leveraging artificial intelligence and the design and configuration of cognitive modules within existing cognitive agents. We are looking for a Data Science intern to join our team beginning Summer 2019. As a Data Science Intern, you will collaborate with the other software development team members to do meaningful work while also growing your expertise. Strong consideration will be given to candidates who can present a successful project in machine learning that demonstrates the ability to create and train end-to-end solutions combining data preparation, advanced analysis, and useful outputs. Responsibilities include working within an agile development environment with other software developers, a scrum master, and product owners to develop and deliver quality solutions. Specifically, the Data Science intern will perform the following: Research state-of-the-art algorithms in machine learning to identify viable approaches to significant unsolved challenges for Nittany AI Alliance projects. Design solution prototypes that connect data sources through the selected algorithms to a concrete use case. Develop code to implement the algorithms, and test their efficacy and efficiency against real-world data. Requirements: Proficiency with a modern programming language appropriate for machine learning prototyping. Python is required, and skill in another language such as JavaScript or R would be beneficial. Knowledge of data structures and data management methods, and the ability to analyze a problem and determine an efficient structure for the task. As development is performed within an agile/scrum environment, knowledge of continuous build integration and development operations is desired. Ability to communicate technical topics effectively to both technical and nontechnical team members and staff. Ability to read, understand, and apply technical papers and articles in research journals. A self-starter comfortable working in a team environment is a must; therefore, the ability to effectively communicate with product owners and team members and the ability to develop clear written technical documentation, are critical. Preferred: Experience with cloud computing and storage services, including Amazon Web Services (AWS), Microsoft Azure, or Google Cloud; specific experience with machine learning and deep learning capabilities on those platforms is preferred. Experience with containerization technologies, particularly Docker and Kubernetes. Experience with machine learning frameworks and libraries, such as TensorFlow, Infer.net, or Caffe. Proficiency in the underlying mathematics of deep learning, particularly linear algebra and multivariate calculus. This is a part-time position working 15-20 hours per week from ASAP after completion of the PSU Spring semester through 8/19/2019. Possibility for internship to extend into Fall semester based on Nittany AI Alliance workload and availability of the candidate.'\""
      ]
     },
     "execution_count": 198,
     "metadata": {},
     "output_type": "execute_result"
    }
   ],
   "source": [
    "listings['processed'][121]"
   ]
  },
  {
   "cell_type": "markdown",
   "metadata": {
    "colab_type": "text",
    "id": "FiDfTWceoRkH"
   },
   "source": [
    "## Stretch Goals\n",
    "\n",
    " - Try different visualizations for words and frequencies - what story do you want to tell with the data?\n",
    " - Scrape Job Listings for the job title \"Data Analyst\". How do these differ from Data Scientist Job Listings\n",
    " - Try and identify requirements for experience specific technologies that are asked for in the job listings. How are those distributed among the job listings?\n",
    " - Use a clustering algorithm to cluster documents by their most important terms. Do the clusters reveal any common themes?\n",
    "  - **Hint:** K-means might not be the best algorithm for this. Do a little bit of research to see what might be good for this. Also, remember that algorithms that depend on Euclidean distance break down with high dimensional data.\n",
    " - Create a labeled dataset - which jobs will you apply for? Train a model to select the jobs you are most likely to apply for. :) "
   ]
  }
 ],
 "metadata": {
  "colab": {
   "collapsed_sections": [],
   "name": "LS_DS_422_BOW_Assignment.ipynb",
   "provenance": [],
   "version": "0.3.2"
  },
  "kernel_info": {
   "name": "python3"
  },
  "kernelspec": {
   "display_name": "U4S1 NLP",
   "language": "python",
   "name": "u4s1"
  },
  "language_info": {
   "codemirror_mode": {
    "name": "ipython",
    "version": 3
   },
   "file_extension": ".py",
   "mimetype": "text/x-python",
   "name": "python",
   "nbconvert_exporter": "python",
   "pygments_lexer": "ipython3",
   "version": "3.7.0"
  },
  "nteract": {
   "version": "0.14.3"
  }
 },
 "nbformat": 4,
 "nbformat_minor": 4
}
