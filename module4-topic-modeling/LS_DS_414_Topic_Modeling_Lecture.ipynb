{
 "cells": [
  {
   "cell_type": "markdown",
   "metadata": {},
   "source": [
    "Lambda School Data Science\n",
    "\n",
    "*Unit 4, Sprint 1, Module 4*\n",
    "\n",
    "---"
   ]
  },
  {
   "cell_type": "markdown",
   "metadata": {},
   "source": [
    "# Topic Modeling (Prepare)"
   ]
  },
  {
   "cell_type": "markdown",
   "metadata": {},
   "source": [
    "# Latent Dirchilet Allocation (LDA) Models (Prepare)\n",
    "<a id=\"#p1\"></a>"
   ]
  },
  {
   "cell_type": "markdown",
   "metadata": {},
   "source": [
    "## Overview\n",
    "LDA is a \"generative probabilistic model\". \n",
    "\n",
    "Let's play with a modoel available [here](https://lettier.com/projects/lda-topic-modeling/)"
   ]
  },
  {
   "cell_type": "markdown",
   "metadata": {},
   "source": [
    "## Follow Along"
   ]
  },
  {
   "cell_type": "markdown",
   "metadata": {},
   "source": [
    "## Challenge "
   ]
  },
  {
   "cell_type": "markdown",
   "metadata": {},
   "source": [
    "# Estimating LDA Models with Gensim (Learn)\n",
    "<a id=\"#p1\"></a>"
   ]
  },
  {
   "cell_type": "markdown",
   "metadata": {
    "toc-hr-collapsed": true
   },
   "source": [
    "## Overview\n",
    "### A Litterary Introduction: *Jane Austen V. Charlotte Bronte*\n",
    "Despite being born nearly forty years apart, modern fans often pit Jane Austen & Charlotte Bronte against one another in a battle for litterary  supremacy. The battle centers around the topics of education for women, courting, and marriage. The authors' similiar backgrounds naturally draw comparisons, but the modern fascination is probably due to novelility of British women publishing novels during the early 19th century. \n",
    "\n",
    "Can we help close a litterary battle for supremacy and simply acknowledge that the authors addressed different topics and deserve to be acknowledged as excellent authors each in their own right?\n",
    "\n",
    "We're going to apply Latent Dirichlet Allocation a machine learning alogrithm for topic modeling to each of the author's novels to compare the distribution of topics in their novels."
   ]
  },
  {
   "cell_type": "code",
   "execution_count": 5,
   "metadata": {},
   "outputs": [],
   "source": [
    "import numpy as np\n",
    "import gensim\n",
    "import os\n",
    "import re\n",
    "\n",
    "from gensim.utils import simple_preprocess\n",
    "from gensim.parsing.preprocessing import STOPWORDS\n",
    "from gensim import corpora\n",
    "\n",
    "from gensim.models.ldamulticore import LdaMulticore\n",
    "from spacy.lang.en import English\n",
    "import pandas as pd"
   ]
  },
  {
   "cell_type": "markdown",
   "metadata": {},
   "source": [
    "### Novel Data\n",
    "I grabbed the novel data pre-split into a bunch of smaller chuncks"
   ]
  },
  {
   "cell_type": "code",
   "execution_count": 6,
   "metadata": {},
   "outputs": [],
   "source": [
    "path = './data/austen-brontë-split'"
   ]
  },
  {
   "cell_type": "code",
   "execution_count": 7,
   "metadata": {},
   "outputs": [],
   "source": [
    "nlp = English()"
   ]
  },
  {
   "cell_type": "code",
   "execution_count": 27,
   "metadata": {},
   "outputs": [],
   "source": [
    "def tokenize(text):\n",
    "    return [token for token in simple_preprocess(text) if token not in STOPWORDS]"
   ]
  },
  {
   "cell_type": "code",
   "execution_count": 36,
   "metadata": {},
   "outputs": [],
   "source": [
    "import os\n",
    "\n",
    "def gather_data(path_to_data): \n",
    "    data = []\n",
    "    \n",
    "    for f in os.listdir(path):\n",
    "        if f[-3:] == 'txt':\n",
    "            with open(os.path.join(path,f)) as t:\n",
    "                text = t.read().strip('\\n')\n",
    "                data.append(tokenize(str(text)))\n",
    "            \n",
    "    return data"
   ]
  },
  {
   "cell_type": "code",
   "execution_count": 37,
   "metadata": {},
   "outputs": [],
   "source": [
    "df['tokens'] = gather_data(path)"
   ]
  },
  {
   "cell_type": "code",
   "execution_count": 38,
   "metadata": {},
   "outputs": [],
   "source": [
    "tokens = gather_data(path)"
   ]
  },
  {
   "cell_type": "code",
   "execution_count": 39,
   "metadata": {},
   "outputs": [
    {
     "data": {
      "text/plain": [
       "['emma',\n",
       " 'jane',\n",
       " 'austen',\n",
       " 'volume',\n",
       " 'chapter',\n",
       " 'emma',\n",
       " 'woodhouse',\n",
       " 'handsome',\n",
       " 'clever',\n",
       " 'rich']"
      ]
     },
     "execution_count": 39,
     "metadata": {},
     "output_type": "execute_result"
    }
   ],
   "source": [
    "tokens[0][0:10]"
   ]
  },
  {
   "cell_type": "code",
   "execution_count": 30,
   "metadata": {},
   "outputs": [
    {
     "data": {
      "text/plain": [
       "'this is a sample string with a  newline character'"
      ]
     },
     "execution_count": 30,
     "metadata": {},
     "output_type": "execute_result"
    }
   ],
   "source": [
    "\"this is a sample string with a \\n newline character\".replace('\\n', '')"
   ]
  },
  {
   "cell_type": "code",
   "execution_count": 31,
   "metadata": {},
   "outputs": [
    {
     "data": {
      "text/plain": [
       "0    [emma, jane, austen, volume, chapter, emma, wo...\n",
       "1    [taylor, wish, pity, mr, weston, thought, agre...\n",
       "2    [behaved, charmingly, body, punctual, body, be...\n",
       "3    [native, highbury, born, respectable, family, ...\n",
       "4    [mention, handsome, letter, mrs, weston, recei...\n",
       "Name: tokens, dtype: object"
      ]
     },
     "execution_count": 31,
     "metadata": {},
     "output_type": "execute_result"
    }
   ],
   "source": [
    "df['tokens'].head()"
   ]
  },
  {
   "cell_type": "markdown",
   "metadata": {
    "toc-hr-collapsed": true
   },
   "source": [
    "## Follow Along"
   ]
  },
  {
   "cell_type": "markdown",
   "metadata": {},
   "source": [
    "### Text Preprocessing\n",
    "**Challenge**: update the function `tokenize` with any technique you have learned so far this week. "
   ]
  },
  {
   "cell_type": "code",
   "execution_count": 40,
   "metadata": {},
   "outputs": [],
   "source": [
    "titles = [t[:-4] for t in os.listdir(path)]"
   ]
  },
  {
   "cell_type": "code",
   "execution_count": 41,
   "metadata": {},
   "outputs": [
    {
     "data": {
      "text/plain": [
       "['Austen_Emma0000',\n",
       " 'Austen_Emma0001',\n",
       " 'Austen_Emma0002',\n",
       " 'Austen_Emma0003',\n",
       " 'Austen_Emma0004']"
      ]
     },
     "execution_count": 41,
     "metadata": {},
     "output_type": "execute_result"
    }
   ],
   "source": [
    "titles[:5]"
   ]
  },
  {
   "cell_type": "code",
   "execution_count": 42,
   "metadata": {},
   "outputs": [],
   "source": [
    "STOPWORDS = set(STOPWORDS).union(set(['said', 'mr', 'mrs']))\n",
    "\n",
    "def tokenize(text):\n",
    "    return [token for token in simple_preprocess(text) if token not in STOPWORDS]"
   ]
  },
  {
   "cell_type": "code",
   "execution_count": 44,
   "metadata": {},
   "outputs": [
    {
     "data": {
      "text/plain": [
       "['hello', 'world', 'test', 'tokenization', 'method']"
      ]
     },
     "execution_count": 44,
     "metadata": {},
     "output_type": "execute_result"
    }
   ],
   "source": [
    "tokenize(\"Hello World! This a test of the tokenization method\")"
   ]
  },
  {
   "cell_type": "code",
   "execution_count": 45,
   "metadata": {},
   "outputs": [
    {
     "data": {
      "text/plain": [
       "813"
      ]
     },
     "execution_count": 45,
     "metadata": {},
     "output_type": "execute_result"
    }
   ],
   "source": [
    "len(tokens)"
   ]
  },
  {
   "cell_type": "markdown",
   "metadata": {},
   "source": [
    "### Author DataFrame\n"
   ]
  },
  {
   "cell_type": "code",
   "execution_count": 46,
   "metadata": {},
   "outputs": [],
   "source": [
    "df = pd.DataFrame(index=titles, data={'tokkens':tokens})"
   ]
  },
  {
   "cell_type": "code",
   "execution_count": 47,
   "metadata": {},
   "outputs": [
    {
     "data": {
      "text/html": [
       "<div>\n",
       "<style scoped>\n",
       "    .dataframe tbody tr th:only-of-type {\n",
       "        vertical-align: middle;\n",
       "    }\n",
       "\n",
       "    .dataframe tbody tr th {\n",
       "        vertical-align: top;\n",
       "    }\n",
       "\n",
       "    .dataframe thead th {\n",
       "        text-align: right;\n",
       "    }\n",
       "</style>\n",
       "<table border=\"1\" class=\"dataframe\">\n",
       "  <thead>\n",
       "    <tr style=\"text-align: right;\">\n",
       "      <th></th>\n",
       "      <th>tokkens</th>\n",
       "    </tr>\n",
       "  </thead>\n",
       "  <tbody>\n",
       "    <tr>\n",
       "      <th>Austen_Emma0000</th>\n",
       "      <td>[emma, jane, austen, volume, chapter, emma, wo...</td>\n",
       "    </tr>\n",
       "    <tr>\n",
       "      <th>Austen_Emma0001</th>\n",
       "      <td>[taylor, wish, pity, mr, weston, thought, agre...</td>\n",
       "    </tr>\n",
       "    <tr>\n",
       "      <th>Austen_Emma0002</th>\n",
       "      <td>[behaved, charmingly, body, punctual, body, be...</td>\n",
       "    </tr>\n",
       "    <tr>\n",
       "      <th>Austen_Emma0003</th>\n",
       "      <td>[native, highbury, born, respectable, family, ...</td>\n",
       "    </tr>\n",
       "    <tr>\n",
       "      <th>Austen_Emma0004</th>\n",
       "      <td>[mention, handsome, letter, mrs, weston, recei...</td>\n",
       "    </tr>\n",
       "  </tbody>\n",
       "</table>\n",
       "</div>"
      ],
      "text/plain": [
       "                                                           tokkens\n",
       "Austen_Emma0000  [emma, jane, austen, volume, chapter, emma, wo...\n",
       "Austen_Emma0001  [taylor, wish, pity, mr, weston, thought, agre...\n",
       "Austen_Emma0002  [behaved, charmingly, body, punctual, body, be...\n",
       "Austen_Emma0003  [native, highbury, born, respectable, family, ...\n",
       "Austen_Emma0004  [mention, handsome, letter, mrs, weston, recei..."
      ]
     },
     "execution_count": 47,
     "metadata": {},
     "output_type": "execute_result"
    }
   ],
   "source": [
    "df.head()"
   ]
  },
  {
   "cell_type": "code",
   "execution_count": 48,
   "metadata": {},
   "outputs": [],
   "source": [
    "df['author'] = df.reset_index()['index'].apply(lambda x: x.split('_')[0]).tolist()\n",
    "df['book'] = df.reset_index()['index'].apply(lambda x: x.split('_')[1][:-4]).tolist()\n",
    "df['section'] = df.reset_index()['index'].apply(lambda x: x[-4:]).tolist()\n",
    "df['section'] = df['section'].astype('int')"
   ]
  },
  {
   "cell_type": "code",
   "execution_count": 49,
   "metadata": {},
   "outputs": [],
   "source": [
    "df['author'] = df['author'].map({'Austen':1, 'CBronte':0})"
   ]
  },
  {
   "cell_type": "code",
   "execution_count": 50,
   "metadata": {},
   "outputs": [
    {
     "data": {
      "text/plain": [
       "0    441\n",
       "1    372\n",
       "Name: author, dtype: int64"
      ]
     },
     "execution_count": 50,
     "metadata": {},
     "output_type": "execute_result"
    }
   ],
   "source": [
    "df.author.value_counts()"
   ]
  },
  {
   "cell_type": "markdown",
   "metadata": {},
   "source": [
    "### Streaming Documents\n",
    "Here we use a new pythonic thingy: the `yield` statement in our fucntion. This allows us to iterate over a bunch of documents without actually reading them into memory. You can see how we use this fucntion later on. "
   ]
  },
  {
   "cell_type": "code",
   "execution_count": 51,
   "metadata": {},
   "outputs": [],
   "source": [
    "def doc_stream(path):\n",
    "    for f in os.listdir(path):\n",
    "        with open(os.path.join(path,f)) as t:\n",
    "            text = t.read().strip('\\n')\n",
    "            tokens = tokenize(str(text))\n",
    "            yield tokens  #Creates a generator object instead of a list"
   ]
  },
  {
   "cell_type": "code",
   "execution_count": 52,
   "metadata": {},
   "outputs": [],
   "source": [
    "streaming_data = doc_stream(path)"
   ]
  },
  {
   "cell_type": "code",
   "execution_count": null,
   "metadata": {},
   "outputs": [],
   "source": [
    "next(streaming_data)  #returns one doc at a time from generator"
   ]
  },
  {
   "cell_type": "code",
   "execution_count": null,
   "metadata": {},
   "outputs": [],
   "source": []
  },
  {
   "cell_type": "markdown",
   "metadata": {},
   "source": [
    "### Gensim LDA Topic Modeling"
   ]
  },
  {
   "cell_type": "code",
   "execution_count": 65,
   "metadata": {},
   "outputs": [],
   "source": [
    "# A Dictionary Representation of all the words in our corpus\n",
    "id2word = corpora.Dictionary(doc_stream(path))"
   ]
  },
  {
   "cell_type": "code",
   "execution_count": 58,
   "metadata": {},
   "outputs": [
    {
     "data": {
      "text/plain": [
       "3987"
      ]
     },
     "execution_count": 58,
     "metadata": {},
     "output_type": "execute_result"
    }
   ],
   "source": [
    "id2word.token2id['england']"
   ]
  },
  {
   "cell_type": "code",
   "execution_count": 59,
   "metadata": {},
   "outputs": [
    {
     "data": {
      "text/plain": [
       "'england'"
      ]
     },
     "execution_count": 59,
     "metadata": {},
     "output_type": "execute_result"
    }
   ],
   "source": [
    "id2word[3987]"
   ]
  },
  {
   "cell_type": "code",
   "execution_count": 60,
   "metadata": {},
   "outputs": [
    {
     "data": {
      "text/plain": [
       "[(2754, 1), (3987, 3), (6602, 1), (6819, 1)]"
      ]
     },
     "execution_count": 60,
     "metadata": {},
     "output_type": "execute_result"
    }
   ],
   "source": [
    "id2word.doc2bow(tokenize(\"This is a sample message Darcy England England England\"))"
   ]
  },
  {
   "cell_type": "code",
   "execution_count": 61,
   "metadata": {},
   "outputs": [
    {
     "data": {
      "text/plain": [
       "56"
      ]
     },
     "execution_count": 61,
     "metadata": {},
     "output_type": "execute_result"
    }
   ],
   "source": [
    "import sys\n",
    "sys.getsizeof(id2word)"
   ]
  },
  {
   "cell_type": "code",
   "execution_count": 66,
   "metadata": {},
   "outputs": [
    {
     "data": {
      "text/plain": [
       "22096"
      ]
     },
     "execution_count": 66,
     "metadata": {},
     "output_type": "execute_result"
    }
   ],
   "source": [
    "len(id2word.keys())"
   ]
  },
  {
   "cell_type": "code",
   "execution_count": 67,
   "metadata": {},
   "outputs": [],
   "source": [
    "# Let's remove extreme values from the dataset\n",
    "id2word.filter_extremes(no_below=5, no_above=0.85)"
   ]
  },
  {
   "cell_type": "code",
   "execution_count": 68,
   "metadata": {},
   "outputs": [
    {
     "data": {
      "text/plain": [
       "8103"
      ]
     },
     "execution_count": 68,
     "metadata": {},
     "output_type": "execute_result"
    }
   ],
   "source": [
    "len(id2word.keys())"
   ]
  },
  {
   "cell_type": "code",
   "execution_count": 69,
   "metadata": {},
   "outputs": [],
   "source": [
    "# a bag of words(bow) representation of our corpus\n",
    "# Note: we haven't actually read any text into memory here\n",
    "corpus = [id2word.doc2bow(text) for text in doc_stream(path)]"
   ]
  },
  {
   "cell_type": "code",
   "execution_count": 70,
   "metadata": {},
   "outputs": [
    {
     "data": {
      "text/plain": [
       "[(0, 1),\n",
       " (1, 1),\n",
       " (2, 1),\n",
       " (3, 1),\n",
       " (4, 1),\n",
       " (5, 1),\n",
       " (6, 4),\n",
       " (7, 1),\n",
       " (8, 1),\n",
       " (9, 1)]"
      ]
     },
     "execution_count": 70,
     "metadata": {},
     "output_type": "execute_result"
    }
   ],
   "source": [
    "corpus[0][:10]"
   ]
  },
  {
   "cell_type": "code",
   "execution_count": 71,
   "metadata": {},
   "outputs": [],
   "source": [
    "lda = LdaMulticore(corpus=corpus,\n",
    "                   id2word=id2word,\n",
    "                   random_state=723812,\n",
    "                   num_topics = 15,\n",
    "                   passes=10,\n",
    "                   workers=4\n",
    "                  )"
   ]
  },
  {
   "cell_type": "code",
   "execution_count": 72,
   "metadata": {},
   "outputs": [
    {
     "data": {
      "text/plain": [
       "[(0,\n",
       "  '0.025*\"elinor\" + 0.021*\"marianne\" + 0.010*\"edward\" + 0.009*\"dashwood\" + 0.008*\"jennings\" + 0.008*\"willoughby\" + 0.008*\"sister\" + 0.007*\"mother\" + 0.007*\"lucy\" + 0.006*\"time\"'),\n",
       " (1,\n",
       "  '0.006*\"little\" + 0.005*\"like\" + 0.004*\"thought\" + 0.004*\"monsieur\" + 0.004*\"madame\" + 0.004*\"know\" + 0.004*\"good\" + 0.004*\"hand\" + 0.003*\"day\" + 0.003*\"time\"'),\n",
       " (2,\n",
       "  '0.005*\"like\" + 0.005*\"night\" + 0.004*\"long\" + 0.004*\"thought\" + 0.004*\"door\" + 0.004*\"little\" + 0.004*\"time\" + 0.004*\"day\" + 0.003*\"house\" + 0.003*\"saw\"'),\n",
       " (3,\n",
       "  '0.009*\"sir\" + 0.005*\"like\" + 0.005*\"jane\" + 0.005*\"know\" + 0.005*\"thought\" + 0.004*\"good\" + 0.004*\"heart\" + 0.004*\"man\" + 0.004*\"life\" + 0.003*\"right\"'),\n",
       " (4,\n",
       "  '0.009*\"miss\" + 0.008*\"little\" + 0.005*\"like\" + 0.005*\"papa\" + 0.004*\"new\" + 0.004*\"thought\" + 0.004*\"day\" + 0.004*\"came\" + 0.004*\"come\" + 0.004*\"think\"'),\n",
       " (5,\n",
       "  '0.008*\"room\" + 0.006*\"dancing\" + 0.006*\"thought\" + 0.005*\"way\" + 0.005*\"dance\" + 0.005*\"like\" + 0.004*\"day\" + 0.004*\"door\" + 0.004*\"time\" + 0.003*\"little\"'),\n",
       " (6,\n",
       "  '0.005*\"jane\" + 0.004*\"heart\" + 0.004*\"old\" + 0.004*\"eye\" + 0.004*\"monsieur\" + 0.004*\"live\" + 0.004*\"lane\" + 0.003*\"like\" + 0.003*\"man\" + 0.003*\"look\"'),\n",
       " (7,\n",
       "  '0.011*\"graham\" + 0.009*\"little\" + 0.007*\"papa\" + 0.006*\"like\" + 0.005*\"bretton\" + 0.005*\"know\" + 0.005*\"door\" + 0.004*\"think\" + 0.004*\"hand\" + 0.004*\"come\"'),\n",
       " (8,\n",
       "  '0.007*\"home\" + 0.005*\"soon\" + 0.005*\"sir\" + 0.005*\"hannah\" + 0.004*\"rochester\" + 0.004*\"like\" + 0.004*\"better\" + 0.004*\"diana\" + 0.004*\"saw\" + 0.003*\"john\"'),\n",
       " (9,\n",
       "  '0.007*\"like\" + 0.007*\"little\" + 0.006*\"rochester\" + 0.006*\"sir\" + 0.005*\"jane\" + 0.004*\"think\" + 0.004*\"good\" + 0.004*\"thought\" + 0.004*\"miss\" + 0.004*\"room\"'),\n",
       " (10,\n",
       "  '0.023*\"emma\" + 0.015*\"harriet\" + 0.014*\"miss\" + 0.012*\"elton\" + 0.010*\"knightley\" + 0.009*\"thing\" + 0.008*\"woodhouse\" + 0.008*\"weston\" + 0.007*\"think\" + 0.007*\"jane\"'),\n",
       " (11,\n",
       "  '0.008*\"elizabeth\" + 0.007*\"miss\" + 0.007*\"know\" + 0.006*\"think\" + 0.005*\"good\" + 0.005*\"little\" + 0.005*\"time\" + 0.005*\"darcy\" + 0.005*\"soon\" + 0.005*\"jane\"'),\n",
       " (12,\n",
       "  '0.009*\"madame\" + 0.006*\"child\" + 0.006*\"good\" + 0.005*\"little\" + 0.004*\"day\" + 0.004*\"reed\" + 0.004*\"dr\" + 0.004*\"brocklehurst\" + 0.004*\"eye\" + 0.004*\"room\"'),\n",
       " (13,\n",
       "  '0.007*\"church\" + 0.005*\"little\" + 0.004*\"time\" + 0.004*\"rome\" + 0.004*\"strange\" + 0.003*\"half\" + 0.003*\"heart\" + 0.003*\"god\" + 0.003*\"great\" + 0.003*\"forward\"'),\n",
       " (14,\n",
       "  '0.020*\"bessie\" + 0.010*\"reed\" + 0.008*\"abbot\" + 0.007*\"miss\" + 0.007*\"like\" + 0.005*\"room\" + 0.005*\"long\" + 0.004*\"thought\" + 0.004*\"school\" + 0.004*\"nursery\"')]"
      ]
     },
     "execution_count": 72,
     "metadata": {},
     "output_type": "execute_result"
    }
   ],
   "source": [
    "lda.print_topics()"
   ]
  },
  {
   "cell_type": "code",
   "execution_count": null,
   "metadata": {},
   "outputs": [],
   "source": []
  },
  {
   "cell_type": "code",
   "execution_count": 73,
   "metadata": {},
   "outputs": [],
   "source": [
    "words = [re.findall(r'\"([^\"]*)\"',t[1]) for t in lda.print_topics()]"
   ]
  },
  {
   "cell_type": "code",
   "execution_count": 74,
   "metadata": {},
   "outputs": [],
   "source": [
    "topics = [' '.join(t[0:5]) for t in words]"
   ]
  },
  {
   "cell_type": "code",
   "execution_count": 77,
   "metadata": {},
   "outputs": [
    {
     "name": "stdout",
     "output_type": "stream",
     "text": [
      "-----Topic 0 -----\n",
      "elinor marianne edward dashwood jennings\n",
      "\n",
      "-----Topic 1 -----\n",
      "little like thought monsieur madame\n",
      "\n",
      "-----Topic 2 -----\n",
      "like night long thought door\n",
      "\n",
      "-----Topic 3 -----\n",
      "sir like jane know thought\n",
      "\n",
      "-----Topic 4 -----\n",
      "miss little like papa new\n",
      "\n",
      "-----Topic 5 -----\n",
      "room dancing thought way dance\n",
      "\n",
      "-----Topic 6 -----\n",
      "jane heart old eye monsieur\n",
      "\n",
      "-----Topic 7 -----\n",
      "graham little papa like bretton\n",
      "\n",
      "-----Topic 8 -----\n",
      "home soon sir hannah rochester\n",
      "\n",
      "-----Topic 9 -----\n",
      "like little rochester sir jane\n",
      "\n",
      "-----Topic 10 -----\n",
      "emma harriet miss elton knightley\n",
      "\n",
      "-----Topic 11 -----\n",
      "elizabeth miss know think good\n",
      "\n",
      "-----Topic 12 -----\n",
      "madame child good little day\n",
      "\n",
      "-----Topic 13 -----\n",
      "church little time rome strange\n",
      "\n",
      "-----Topic 14 -----\n",
      "bessie reed abbot miss like\n",
      "\n"
     ]
    }
   ],
   "source": [
    "for id, t in enumerate(topics): \n",
    "    print(f'-----Topic {id} -----')\n",
    "    print(f\"{t}\\n\")"
   ]
  },
  {
   "cell_type": "markdown",
   "metadata": {},
   "source": [
    "## Challenge \n",
    "\n",
    "You will apply an LDA model to a customer review dataset to practice the fitting and estimation of LDA. "
   ]
  },
  {
   "cell_type": "markdown",
   "metadata": {},
   "source": [
    "# Interpret LDA Results (Learn)\n",
    "<a id=\"#p3\"></a>"
   ]
  },
  {
   "cell_type": "markdown",
   "metadata": {},
   "source": [
    "## Overview"
   ]
  },
  {
   "cell_type": "markdown",
   "metadata": {
    "toc-hr-collapsed": true
   },
   "source": [
    "## Follow Along"
   ]
  },
  {
   "cell_type": "markdown",
   "metadata": {},
   "source": [
    "### Topic Distance Visualization"
   ]
  },
  {
   "cell_type": "code",
   "execution_count": 78,
   "metadata": {},
   "outputs": [],
   "source": [
    "import pyLDAvis.gensim\n",
    "\n",
    "pyLDAvis.enable_notebook()"
   ]
  },
  {
   "cell_type": "code",
   "execution_count": 79,
   "metadata": {},
   "outputs": [
    {
     "name": "stderr",
     "output_type": "stream",
     "text": [
      "/home/hakujou/anaconda3/envs/u4s1/lib/python3.7/site-packages/pyLDAvis/_prepare.py:257: FutureWarning: Sorting because non-concatenation axis is not aligned. A future version\n",
      "of pandas will change to not sort by default.\n",
      "\n",
      "To accept the future behavior, pass 'sort=False'.\n",
      "\n",
      "To retain the current behavior and silence the warning, pass 'sort=True'.\n",
      "\n",
      "  return pd.concat([default_term_info] + list(topic_dfs))\n"
     ]
    },
    {
     "data": {
      "text/html": [
       "\n",
       "<link rel=\"stylesheet\" type=\"text/css\" href=\"https://cdn.rawgit.com/bmabey/pyLDAvis/files/ldavis.v1.0.0.css\">\n",
       "\n",
       "\n",
       "<div id=\"ldavis_el20401401213218478081285557380\"></div>\n",
       "<script type=\"text/javascript\">\n",
       "\n",
       "var ldavis_el20401401213218478081285557380_data = {\"mdsDat\": {\"x\": [-0.1350949431224982, 0.033035681139880424, 0.00346659862620484, -0.16546073984615484, 0.061113375030575914, -0.16662437105062583, 0.015242200507197315, 0.02947557985909905, 0.061153753624676996, 0.0051766923433796755, -0.0020302672745689376, 0.04337880051977958, 0.07390075493075009, 0.08886678841985955, 0.05440009629244458], \"y\": [0.0356888913857309, -0.016662745220604, -0.05129909948322246, 0.00827697924048767, -0.05992485893042552, 0.017998597459670106, -0.10028589557446499, -0.06552363212694687, -0.031203541699020638, -0.03324024933831265, 0.030617401776021073, 0.023180705086319378, 0.09568553431491528, 0.09069491397487756, 0.055996999134974974], \"topics\": [1, 2, 3, 4, 5, 6, 7, 8, 9, 10, 11, 12, 13, 14, 15], \"cluster\": [1, 1, 1, 1, 1, 1, 1, 1, 1, 1, 1, 1, 1, 1, 1], \"Freq\": [25.826868057250977, 22.538848876953125, 14.05494499206543, 11.031927108764648, 9.307952880859375, 8.690086364746094, 3.7605557441711426, 1.433402180671692, 0.8111360669136047, 0.7334532737731934, 0.5658465623855591, 0.4456886053085327, 0.2917255461215973, 0.25458407402038574, 0.2529892325401306]}, \"tinfo\": {\"Category\": [\"Default\", \"Default\", \"Default\", \"Default\", \"Default\", \"Default\", \"Default\", \"Default\", \"Default\", \"Default\", \"Default\", \"Default\", \"Default\", \"Default\", \"Default\", \"Default\", \"Default\", \"Default\", \"Default\", \"Default\", \"Default\", \"Default\", \"Default\", \"Default\", \"Default\", \"Default\", \"Default\", \"Default\", \"Default\", \"Default\", \"Topic1\", \"Topic1\", \"Topic1\", \"Topic1\", \"Topic1\", \"Topic1\", \"Topic1\", \"Topic1\", \"Topic1\", \"Topic1\", \"Topic1\", \"Topic1\", \"Topic1\", \"Topic1\", \"Topic1\", \"Topic1\", \"Topic1\", \"Topic1\", \"Topic1\", \"Topic1\", \"Topic1\", \"Topic1\", \"Topic1\", \"Topic1\", \"Topic1\", \"Topic1\", \"Topic1\", \"Topic1\", \"Topic1\", \"Topic1\", \"Topic1\", \"Topic1\", \"Topic1\", \"Topic1\", \"Topic1\", \"Topic1\", \"Topic1\", \"Topic1\", \"Topic1\", \"Topic1\", \"Topic1\", \"Topic1\", \"Topic1\", \"Topic1\", \"Topic1\", \"Topic1\", \"Topic1\", \"Topic1\", \"Topic1\", \"Topic1\", \"Topic1\", \"Topic1\", \"Topic1\", \"Topic1\", \"Topic1\", \"Topic1\", \"Topic1\", \"Topic1\", \"Topic1\", \"Topic1\", \"Topic1\", \"Topic1\", \"Topic1\", \"Topic1\", \"Topic1\", \"Topic1\", \"Topic1\", \"Topic1\", \"Topic1\", \"Topic2\", \"Topic2\", \"Topic2\", \"Topic2\", \"Topic2\", \"Topic2\", \"Topic2\", \"Topic2\", \"Topic2\", \"Topic2\", \"Topic2\", \"Topic2\", \"Topic2\", \"Topic2\", \"Topic2\", \"Topic2\", \"Topic2\", \"Topic2\", \"Topic2\", \"Topic2\", \"Topic2\", \"Topic2\", \"Topic2\", \"Topic2\", \"Topic2\", \"Topic2\", \"Topic2\", \"Topic2\", \"Topic2\", \"Topic2\", \"Topic2\", \"Topic2\", \"Topic2\", \"Topic2\", \"Topic2\", \"Topic2\", \"Topic2\", \"Topic2\", \"Topic2\", \"Topic2\", \"Topic2\", \"Topic2\", \"Topic2\", \"Topic2\", \"Topic2\", \"Topic2\", \"Topic2\", \"Topic2\", \"Topic2\", \"Topic2\", \"Topic2\", \"Topic2\", \"Topic2\", \"Topic2\", \"Topic2\", \"Topic2\", \"Topic2\", \"Topic2\", \"Topic2\", \"Topic2\", \"Topic2\", \"Topic2\", \"Topic2\", \"Topic2\", \"Topic2\", \"Topic2\", \"Topic2\", \"Topic2\", \"Topic2\", \"Topic2\", \"Topic2\", \"Topic2\", \"Topic2\", \"Topic2\", \"Topic2\", \"Topic2\", \"Topic2\", \"Topic2\", \"Topic2\", \"Topic2\", \"Topic2\", \"Topic2\", \"Topic2\", \"Topic2\", \"Topic3\", \"Topic3\", \"Topic3\", \"Topic3\", \"Topic3\", \"Topic3\", \"Topic3\", \"Topic3\", \"Topic3\", \"Topic3\", \"Topic3\", \"Topic3\", \"Topic3\", \"Topic3\", \"Topic3\", \"Topic3\", \"Topic3\", \"Topic3\", \"Topic3\", \"Topic3\", \"Topic3\", \"Topic3\", \"Topic3\", \"Topic3\", \"Topic3\", \"Topic3\", \"Topic3\", \"Topic3\", \"Topic3\", \"Topic3\", \"Topic3\", \"Topic3\", \"Topic3\", \"Topic3\", \"Topic3\", \"Topic3\", \"Topic3\", \"Topic3\", \"Topic3\", \"Topic3\", \"Topic3\", \"Topic3\", \"Topic3\", \"Topic3\", \"Topic3\", \"Topic3\", \"Topic3\", \"Topic3\", \"Topic3\", \"Topic3\", \"Topic3\", \"Topic3\", \"Topic3\", \"Topic3\", \"Topic3\", \"Topic3\", \"Topic3\", \"Topic3\", \"Topic3\", \"Topic3\", \"Topic3\", \"Topic3\", \"Topic3\", \"Topic3\", \"Topic3\", \"Topic3\", \"Topic3\", \"Topic3\", \"Topic3\", \"Topic3\", \"Topic3\", \"Topic3\", \"Topic3\", \"Topic3\", \"Topic3\", \"Topic3\", \"Topic3\", \"Topic3\", \"Topic3\", \"Topic4\", \"Topic4\", \"Topic4\", \"Topic4\", \"Topic4\", \"Topic4\", \"Topic4\", \"Topic4\", \"Topic4\", \"Topic4\", \"Topic4\", \"Topic4\", \"Topic4\", \"Topic4\", \"Topic4\", \"Topic4\", \"Topic4\", \"Topic4\", \"Topic4\", \"Topic4\", \"Topic4\", \"Topic4\", \"Topic4\", \"Topic4\", \"Topic4\", \"Topic4\", \"Topic4\", \"Topic4\", \"Topic4\", \"Topic4\", \"Topic4\", \"Topic4\", \"Topic4\", \"Topic4\", \"Topic4\", \"Topic4\", \"Topic4\", \"Topic4\", \"Topic4\", \"Topic4\", \"Topic4\", \"Topic4\", \"Topic4\", \"Topic4\", \"Topic4\", \"Topic4\", \"Topic4\", \"Topic4\", \"Topic4\", \"Topic4\", \"Topic4\", \"Topic4\", \"Topic4\", \"Topic4\", \"Topic4\", \"Topic4\", \"Topic4\", \"Topic4\", \"Topic4\", \"Topic4\", \"Topic4\", \"Topic4\", \"Topic5\", \"Topic5\", \"Topic5\", \"Topic5\", \"Topic5\", \"Topic5\", \"Topic5\", \"Topic5\", \"Topic5\", \"Topic5\", \"Topic5\", \"Topic5\", \"Topic5\", \"Topic5\", \"Topic5\", \"Topic5\", \"Topic5\", \"Topic5\", \"Topic5\", \"Topic5\", \"Topic5\", \"Topic5\", \"Topic5\", \"Topic5\", \"Topic5\", \"Topic5\", \"Topic5\", \"Topic5\", \"Topic5\", \"Topic5\", \"Topic5\", \"Topic5\", \"Topic5\", \"Topic5\", \"Topic5\", \"Topic5\", \"Topic5\", \"Topic5\", \"Topic5\", \"Topic5\", \"Topic5\", \"Topic5\", \"Topic5\", \"Topic5\", \"Topic5\", \"Topic5\", \"Topic5\", \"Topic5\", \"Topic5\", \"Topic5\", \"Topic5\", \"Topic5\", \"Topic5\", \"Topic5\", \"Topic5\", \"Topic5\", \"Topic5\", \"Topic5\", \"Topic5\", \"Topic5\", \"Topic5\", \"Topic5\", \"Topic5\", \"Topic5\", \"Topic5\", \"Topic5\", \"Topic5\", \"Topic5\", \"Topic5\", \"Topic5\", \"Topic5\", \"Topic5\", \"Topic5\", \"Topic5\", \"Topic5\", \"Topic5\", \"Topic5\", \"Topic5\", \"Topic5\", \"Topic5\", \"Topic5\", \"Topic5\", \"Topic5\", \"Topic5\", \"Topic5\", \"Topic5\", \"Topic5\", \"Topic5\", \"Topic5\", \"Topic5\", \"Topic5\", \"Topic5\", \"Topic5\", \"Topic5\", \"Topic5\", \"Topic5\", \"Topic5\", \"Topic5\", \"Topic6\", \"Topic6\", \"Topic6\", \"Topic6\", \"Topic6\", \"Topic6\", \"Topic6\", \"Topic6\", \"Topic6\", \"Topic6\", \"Topic6\", \"Topic6\", \"Topic6\", \"Topic6\", \"Topic6\", \"Topic6\", \"Topic6\", \"Topic6\", \"Topic6\", \"Topic6\", \"Topic6\", \"Topic6\", \"Topic6\", \"Topic6\", \"Topic6\", \"Topic6\", \"Topic6\", \"Topic6\", \"Topic6\", \"Topic6\", \"Topic6\", \"Topic6\", \"Topic6\", \"Topic6\", \"Topic6\", \"Topic6\", \"Topic6\", \"Topic6\", \"Topic6\", \"Topic6\", \"Topic6\", \"Topic6\", \"Topic6\", \"Topic6\", \"Topic6\", \"Topic6\", \"Topic6\", \"Topic6\", \"Topic6\", \"Topic6\", \"Topic6\", \"Topic6\", \"Topic6\", \"Topic6\", \"Topic6\", \"Topic6\", \"Topic6\", \"Topic7\", \"Topic7\", \"Topic7\", \"Topic7\", \"Topic7\", \"Topic7\", \"Topic7\", \"Topic7\", \"Topic7\", \"Topic7\", \"Topic7\", \"Topic7\", \"Topic7\", \"Topic7\", \"Topic7\", \"Topic7\", \"Topic7\", \"Topic7\", \"Topic7\", \"Topic7\", \"Topic7\", \"Topic7\", \"Topic7\", \"Topic7\", \"Topic7\", \"Topic7\", \"Topic7\", \"Topic7\", \"Topic7\", \"Topic7\", \"Topic7\", \"Topic7\", \"Topic7\", \"Topic7\", \"Topic7\", \"Topic7\", \"Topic7\", \"Topic7\", \"Topic7\", \"Topic7\", \"Topic7\", \"Topic7\", \"Topic7\", \"Topic7\", \"Topic7\", \"Topic7\", \"Topic7\", \"Topic7\", \"Topic7\", \"Topic7\", \"Topic7\", \"Topic7\", \"Topic7\", \"Topic7\", \"Topic7\", \"Topic7\", \"Topic7\", \"Topic7\", \"Topic7\", \"Topic7\", \"Topic7\", \"Topic7\", \"Topic7\", \"Topic7\", \"Topic7\", \"Topic7\", \"Topic7\", \"Topic7\", \"Topic7\", \"Topic7\", \"Topic7\", \"Topic8\", \"Topic8\", \"Topic8\", \"Topic8\", \"Topic8\", \"Topic8\", \"Topic8\", \"Topic8\", \"Topic8\", \"Topic8\", \"Topic8\", \"Topic8\", \"Topic8\", \"Topic8\", \"Topic8\", \"Topic8\", \"Topic8\", \"Topic8\", \"Topic8\", \"Topic8\", \"Topic8\", \"Topic8\", \"Topic8\", \"Topic8\", \"Topic8\", \"Topic8\", \"Topic8\", \"Topic8\", \"Topic8\", \"Topic8\", \"Topic8\", \"Topic8\", \"Topic8\", \"Topic8\", \"Topic8\", \"Topic8\", \"Topic8\", \"Topic8\", \"Topic8\", \"Topic8\", \"Topic8\", \"Topic8\", \"Topic8\", \"Topic8\", \"Topic8\", \"Topic8\", \"Topic8\", \"Topic8\", \"Topic8\", \"Topic8\", \"Topic8\", \"Topic8\", \"Topic8\", \"Topic8\", \"Topic8\", \"Topic8\", \"Topic8\", \"Topic8\", \"Topic8\", \"Topic8\", \"Topic8\", \"Topic8\", \"Topic8\", \"Topic8\", \"Topic8\", \"Topic8\", \"Topic8\", \"Topic8\", \"Topic8\", \"Topic8\", \"Topic8\", \"Topic8\", \"Topic8\", \"Topic8\", \"Topic8\", \"Topic9\", \"Topic9\", \"Topic9\", \"Topic9\", \"Topic9\", \"Topic9\", \"Topic9\", \"Topic9\", \"Topic9\", \"Topic9\", \"Topic9\", \"Topic9\", \"Topic9\", \"Topic9\", \"Topic9\", \"Topic9\", \"Topic9\", \"Topic9\", \"Topic9\", \"Topic9\", \"Topic9\", \"Topic9\", \"Topic9\", \"Topic9\", \"Topic9\", \"Topic9\", \"Topic9\", \"Topic9\", \"Topic9\", \"Topic9\", \"Topic9\", \"Topic9\", \"Topic9\", \"Topic9\", \"Topic9\", \"Topic9\", \"Topic9\", \"Topic9\", \"Topic9\", \"Topic9\", \"Topic9\", \"Topic9\", \"Topic9\", \"Topic9\", \"Topic9\", \"Topic9\", \"Topic9\", \"Topic9\", \"Topic9\", \"Topic9\", \"Topic9\", \"Topic9\", \"Topic9\", \"Topic9\", \"Topic9\", \"Topic9\", \"Topic9\", \"Topic9\", \"Topic9\", \"Topic9\", \"Topic9\", \"Topic9\", \"Topic9\", \"Topic9\", \"Topic9\", \"Topic10\", \"Topic10\", \"Topic10\", \"Topic10\", \"Topic10\", \"Topic10\", \"Topic10\", \"Topic10\", \"Topic10\", \"Topic10\", \"Topic10\", \"Topic10\", \"Topic10\", \"Topic10\", \"Topic10\", \"Topic10\", \"Topic10\", \"Topic10\", \"Topic10\", \"Topic10\", \"Topic10\", \"Topic10\", \"Topic10\", \"Topic10\", \"Topic10\", \"Topic10\", \"Topic10\", \"Topic10\", \"Topic10\", \"Topic10\", \"Topic10\", \"Topic10\", \"Topic10\", \"Topic10\", \"Topic10\", \"Topic10\", \"Topic10\", \"Topic10\", \"Topic10\", \"Topic10\", \"Topic10\", \"Topic10\", \"Topic10\", \"Topic10\", \"Topic10\", \"Topic10\", \"Topic10\", \"Topic10\", \"Topic10\", \"Topic10\", \"Topic10\", \"Topic10\", \"Topic10\", \"Topic10\", \"Topic10\", \"Topic10\", \"Topic10\", \"Topic10\", \"Topic10\", \"Topic10\", \"Topic10\", \"Topic10\", \"Topic10\", \"Topic10\", \"Topic10\", \"Topic10\", \"Topic10\", \"Topic10\", \"Topic10\", \"Topic10\", \"Topic10\", \"Topic10\", \"Topic10\", \"Topic11\", \"Topic11\", \"Topic11\", \"Topic11\", \"Topic11\", \"Topic11\", \"Topic11\", \"Topic11\", \"Topic11\", \"Topic11\", \"Topic11\", \"Topic11\", \"Topic11\", \"Topic11\", \"Topic11\", \"Topic11\", \"Topic11\", \"Topic11\", \"Topic11\", \"Topic11\", \"Topic11\", \"Topic11\", \"Topic11\", \"Topic11\", \"Topic11\", \"Topic11\", \"Topic11\", \"Topic11\", \"Topic11\", \"Topic11\", \"Topic11\", \"Topic11\", \"Topic11\", \"Topic11\", \"Topic11\", \"Topic11\", \"Topic11\", \"Topic11\", \"Topic11\", \"Topic11\", \"Topic11\", \"Topic11\", \"Topic11\", \"Topic11\", \"Topic11\", \"Topic11\", \"Topic11\", \"Topic11\", \"Topic11\", \"Topic11\", \"Topic11\", \"Topic11\", \"Topic11\", \"Topic11\", \"Topic11\", \"Topic11\", \"Topic11\", \"Topic11\", \"Topic11\", \"Topic11\", \"Topic11\", \"Topic11\", \"Topic11\", \"Topic11\", \"Topic11\", \"Topic11\", \"Topic11\", \"Topic11\", \"Topic11\", \"Topic12\", \"Topic12\", \"Topic12\", \"Topic12\", \"Topic12\", \"Topic12\", \"Topic12\", \"Topic12\", \"Topic12\", \"Topic12\", \"Topic12\", \"Topic12\", \"Topic12\", \"Topic12\", \"Topic12\", \"Topic12\", \"Topic12\", \"Topic12\", \"Topic12\", \"Topic12\", \"Topic12\", \"Topic12\", \"Topic12\", \"Topic12\", \"Topic12\", \"Topic12\", \"Topic12\", \"Topic12\", \"Topic12\", \"Topic12\", \"Topic12\", \"Topic12\", \"Topic12\", \"Topic12\", \"Topic12\", \"Topic12\", \"Topic12\", \"Topic12\", \"Topic12\", \"Topic12\", \"Topic12\", \"Topic12\", \"Topic12\", \"Topic12\", \"Topic12\", \"Topic12\", \"Topic12\", \"Topic12\", \"Topic12\", \"Topic12\", \"Topic12\", \"Topic12\", \"Topic12\", \"Topic12\", \"Topic12\", \"Topic12\", \"Topic12\", \"Topic12\", \"Topic12\", \"Topic12\", \"Topic12\", \"Topic12\", \"Topic12\", \"Topic12\", \"Topic12\", \"Topic12\", \"Topic12\", \"Topic12\", \"Topic12\", \"Topic12\", \"Topic12\", \"Topic12\", \"Topic13\", \"Topic13\", \"Topic13\", \"Topic13\", \"Topic13\", \"Topic13\", \"Topic13\", \"Topic13\", \"Topic13\", \"Topic13\", \"Topic13\", \"Topic13\", \"Topic13\", \"Topic13\", \"Topic13\", \"Topic13\", \"Topic13\", \"Topic13\", \"Topic13\", \"Topic13\", \"Topic13\", \"Topic13\", \"Topic13\", \"Topic13\", \"Topic13\", \"Topic13\", \"Topic13\", \"Topic13\", \"Topic13\", \"Topic13\", \"Topic13\", \"Topic13\", \"Topic13\", \"Topic13\", \"Topic13\", \"Topic13\", \"Topic13\", \"Topic13\", \"Topic13\", \"Topic13\", \"Topic13\", \"Topic13\", \"Topic13\", \"Topic13\", \"Topic13\", \"Topic13\", \"Topic13\", \"Topic13\", \"Topic13\", \"Topic13\", \"Topic13\", \"Topic13\", \"Topic13\", \"Topic13\", \"Topic13\", \"Topic13\", \"Topic13\", \"Topic13\", \"Topic13\", \"Topic13\", \"Topic13\", \"Topic13\", \"Topic13\", \"Topic13\", \"Topic13\", \"Topic13\", \"Topic13\", \"Topic13\", \"Topic13\", \"Topic13\", \"Topic13\", \"Topic13\", \"Topic14\", \"Topic14\", \"Topic14\", \"Topic14\", \"Topic14\", \"Topic14\", \"Topic14\", \"Topic14\", \"Topic14\", \"Topic14\", \"Topic14\", \"Topic14\", \"Topic14\", \"Topic14\", \"Topic14\", \"Topic14\", \"Topic14\", \"Topic14\", \"Topic14\", \"Topic14\", \"Topic14\", \"Topic14\", \"Topic14\", \"Topic14\", \"Topic14\", \"Topic14\", \"Topic14\", \"Topic14\", \"Topic14\", \"Topic14\", \"Topic14\", \"Topic14\", \"Topic14\", \"Topic14\", \"Topic14\", \"Topic14\", \"Topic14\", \"Topic14\", \"Topic14\", \"Topic14\", \"Topic14\", \"Topic14\", \"Topic14\", \"Topic14\", \"Topic14\", \"Topic14\", \"Topic14\", \"Topic14\", \"Topic14\", \"Topic14\", \"Topic14\", \"Topic14\", \"Topic14\", \"Topic14\", \"Topic14\", \"Topic14\", \"Topic14\", \"Topic14\", \"Topic14\", \"Topic14\", \"Topic14\", \"Topic14\", \"Topic14\", \"Topic14\", \"Topic14\", \"Topic14\", \"Topic14\", \"Topic14\", \"Topic14\", \"Topic14\", \"Topic14\", \"Topic14\", \"Topic14\", \"Topic14\", \"Topic14\", \"Topic14\", \"Topic14\", \"Topic14\", \"Topic14\", \"Topic14\", \"Topic14\", \"Topic15\", \"Topic15\", \"Topic15\", \"Topic15\", \"Topic15\", \"Topic15\", \"Topic15\", \"Topic15\", \"Topic15\", \"Topic15\", \"Topic15\", \"Topic15\", \"Topic15\", \"Topic15\", \"Topic15\", \"Topic15\", \"Topic15\", \"Topic15\", \"Topic15\", \"Topic15\", \"Topic15\", \"Topic15\", \"Topic15\", \"Topic15\", \"Topic15\", \"Topic15\", \"Topic15\", \"Topic15\", \"Topic15\", \"Topic15\", \"Topic15\", \"Topic15\", \"Topic15\", \"Topic15\", \"Topic15\", \"Topic15\", \"Topic15\", \"Topic15\", \"Topic15\", \"Topic15\", \"Topic15\", \"Topic15\", \"Topic15\", \"Topic15\", \"Topic15\", \"Topic15\", \"Topic15\", \"Topic15\", \"Topic15\", \"Topic15\", \"Topic15\", \"Topic15\", \"Topic15\", \"Topic15\", \"Topic15\", \"Topic15\", \"Topic15\", \"Topic15\", \"Topic15\", \"Topic15\", \"Topic15\", \"Topic15\", \"Topic15\", \"Topic15\", \"Topic15\", \"Topic15\", \"Topic15\", \"Topic15\", \"Topic15\", \"Topic15\", \"Topic15\", \"Topic15\", \"Topic15\", \"Topic15\"], \"Freq\": [915.0, 1718.0, 694.0, 1323.0, 1542.0, 573.0, 1352.0, 931.0, 1142.0, 561.0, 873.0, 1053.0, 409.0, 588.0, 1313.0, 1429.0, 1313.0, 920.0, 827.0, 935.0, 773.0, 488.0, 697.0, 415.0, 653.0, 686.0, 901.0, 615.0, 449.0, 286.0, 392.7803955078125, 305.0438232421875, 289.00689697265625, 169.01235961914062, 607.8521118164062, 182.98443603515625, 161.08265686035156, 122.58262634277344, 89.67153930664062, 83.09600830078125, 68.96222686767578, 66.11046600341797, 53.83102798461914, 50.10660171508789, 46.28850173950195, 90.68292999267578, 36.9132080078125, 38.727256774902344, 36.84745788574219, 34.030757904052734, 29.324087142944336, 30.125633239746094, 23.65591812133789, 22.68533706665039, 68.41018676757812, 22.59282684326172, 13.283404350280762, 13.286022186279297, 14.169289588928223, 12.323206901550293, 14.055006980895996, 94.83365631103516, 43.81712341308594, 46.479209899902344, 31.245386123657227, 269.13275146484375, 133.59121704101562, 112.18737030029297, 127.0643081665039, 326.84600830078125, 290.7420349121094, 171.7090606689453, 295.6380920410156, 117.8900375366211, 218.2779541015625, 530.7604370117188, 552.0480346679688, 378.6400451660156, 367.56817626953125, 335.2654724121094, 458.4307556152344, 347.825439453125, 432.2174987792969, 340.7093505859375, 260.4062194824219, 407.19342041015625, 254.89352416992188, 222.12704467773438, 180.64376831054688, 414.99505615234375, 252.68260192871094, 294.73016357421875, 207.9117431640625, 223.25534057617188, 240.27638244628906, 221.12594604492188, 226.530029296875, 234.12562561035156, 220.8846893310547, 114.37631225585938, 275.35931396484375, 53.804115295410156, 19.95161247253418, 14.117499351501465, 27.42351722717285, 30.243934631347656, 16.926151275634766, 26.426298141479492, 108.97087097167969, 36.624595642089844, 45.03530502319336, 13.954647064208984, 25.074918746948242, 11.061727523803711, 11.979212760925293, 11.923373222351074, 11.88518238067627, 34.0183219909668, 9.099654197692871, 12.763426780700684, 9.070451736450195, 35.712486267089844, 9.969433784484863, 17.867229461669922, 11.756989479064941, 8.089506149291992, 11.736804962158203, 21.69066619873047, 169.6555938720703, 100.9212646484375, 72.49491119384766, 107.22172546386719, 99.3216552734375, 58.18100357055664, 43.17137145996094, 64.60098266601562, 94.41484069824219, 35.557621002197266, 101.71331787109375, 120.6508560180664, 55.0694465637207, 44.763221740722656, 54.81439208984375, 121.46231079101562, 168.93478393554688, 274.7620544433594, 50.017887115478516, 77.06956481933594, 103.68560791015625, 137.99395751953125, 73.52484893798828, 112.36912536621094, 248.12185668945312, 94.2684326171875, 62.593379974365234, 433.4375, 351.2608642578125, 123.86572265625, 162.3979949951172, 211.2970428466797, 280.88720703125, 188.73809814453125, 244.92709350585938, 262.41473388671875, 264.5174255371094, 165.3253173828125, 184.62303161621094, 244.39547729492188, 200.81312561035156, 162.27464294433594, 164.51837158203125, 152.29319763183594, 181.26580810546875, 162.4199676513672, 162.4770965576172, 145.7593231201172, 163.60955810546875, 141.49073791503906, 135.0142059326172, 136.6302947998047, 136.43312072753906, 137.20785522460938, 137.04550170898438, 14.54358959197998, 10.62247371673584, 18.346328735351562, 11.308050155639648, 25.844533920288086, 7.768693923950195, 5.847024440765381, 5.836874961853027, 22.965932846069336, 5.799842834472656, 24.196374893188477, 4.897068977355957, 4.88795804977417, 12.331437110900879, 73.33045196533203, 4.833678722381592, 4.814258098602295, 4.7941083908081055, 4.808351039886475, 49.72135543823242, 4.7930989265441895, 4.786629676818848, 8.761280059814453, 6.301675796508789, 4.64629602432251, 6.772677898406982, 15.988018035888672, 76.96373748779297, 279.6645202636719, 6.779592037200928, 75.81644439697266, 95.22593688964844, 21.222196578979492, 11.371294021606445, 14.860465049743652, 21.491090774536133, 10.23947811126709, 30.239948272705078, 256.30609130859375, 43.50901412963867, 20.440542221069336, 73.84867858886719, 23.70924186706543, 108.91179656982422, 80.53044891357422, 25.750036239624023, 28.713821411132812, 56.402164459228516, 314.02880859375, 152.63734436035156, 53.0328254699707, 216.82034301757812, 136.83595275878906, 161.72315979003906, 155.7620086669922, 295.7542724609375, 145.09091186523438, 178.61326599121094, 181.3736572265625, 142.8037109375, 91.92994689941406, 139.4329833984375, 186.006591796875, 196.35379028320312, 84.79997253417969, 189.96990966796875, 134.38519287109375, 137.72190856933594, 147.15809631347656, 184.5657501220703, 144.0855712890625, 161.3036346435547, 153.3950958251953, 140.22024536132812, 110.09395599365234, 110.90629577636719, 105.84847259521484, 104.73648071289062, 106.35096740722656, 399.6878967285156, 533.7899780273438, 87.19527435302734, 52.71822738647461, 20.082843780517578, 14.036728858947754, 17.864479064941406, 22.676307678222656, 31.2332706451416, 13.573412895202637, 146.3235321044922, 42.765846252441406, 58.69156265258789, 25.495670318603516, 55.890071868896484, 22.419713973999023, 75.1253890991211, 5.453896522521973, 7.308815002441406, 10.079622268676758, 5.438168525695801, 29.51580810546875, 5.425072193145752, 34.45003128051758, 7.1968207359313965, 9.938789367675781, 13.581439971923828, 786.4716186523438, 19.007225036621094, 12.161303520202637, 276.048828125, 335.5032043457031, 138.82281494140625, 106.04898071289062, 176.50328063964844, 92.2004623413086, 41.644569396972656, 176.3075714111328, 28.051328659057617, 240.83358764648438, 271.8150329589844, 155.82174682617188, 299.0693664550781, 474.0390930175781, 245.42152404785156, 57.86589431762695, 52.67679977416992, 140.25257873535156, 161.3450927734375, 252.70159912109375, 144.49729919433594, 224.63185119628906, 218.64907836914062, 153.09841918945312, 181.8550262451172, 160.51564025878906, 165.94461059570312, 120.20514678955078, 133.26478576660156, 128.6553192138672, 118.97549438476562, 122.48783111572266, 12.553980827331543, 6.056708335876465, 6.00549840927124, 6.868524074554443, 5.945092678070068, 5.0604681968688965, 5.036145210266113, 5.022899150848389, 5.013217449188232, 5.836104393005371, 4.989979267120361, 5.786563873291016, 16.26117706298828, 4.688759803771973, 4.685295104980469, 7.831723690032959, 8.567038536071777, 5.062126159667969, 5.322841167449951, 5.0463643074035645, 57.36182403564453, 6.03113317489624, 6.040072917938232, 7.515544414520264, 7.45100212097168, 5.120283603668213, 7.0786967277526855, 7.4098124504089355, 7.982560157775879, 4.038547992706299, 17.990825653076172, 25.774499893188477, 42.960201263427734, 13.269867897033691, 14.36629867553711, 29.425411224365234, 45.42226028442383, 20.28289031982422, 8.0689115524292, 31.30907440185547, 12.183595657348633, 13.331687927246094, 11.46354866027832, 18.54656410217285, 10.814249992370605, 20.365392684936523, 23.847509384155273, 16.764453887939453, 23.902877807617188, 26.077266693115234, 44.933074951171875, 22.40083122253418, 22.741897583007812, 40.231021881103516, 16.1837158203125, 145.50897216796875, 59.22637176513672, 83.85768127441406, 61.07082748413086, 57.1319465637207, 120.92157745361328, 67.2299575805664, 89.98036193847656, 51.13833999633789, 90.31282806396484, 77.87671661376953, 63.78368377685547, 54.03691482543945, 39.10422134399414, 39.97929000854492, 130.78807067871094, 62.11689758300781, 153.22511291503906, 58.24732971191406, 36.392967224121094, 120.98665618896484, 41.68193817138672, 77.1673583984375, 92.1998519897461, 106.45600891113281, 88.56127166748047, 91.23733520507812, 108.7965316772461, 83.52880859375, 89.06729125976562, 111.90908813476562, 79.116455078125, 78.22572326660156, 71.24884796142578, 66.17398834228516, 69.7999496459961, 81.46892547607422, 67.53916931152344, 65.46359252929688, 66.07077026367188, 66.46855163574219, 65.97915649414062, 66.56317901611328, 229.05052185058594, 561.572509765625, 101.93634796142578, 677.6858520507812, 88.48433685302734, 142.35353088378906, 128.35389709472656, 211.7362823486328, 30.050621032714844, 35.90610885620117, 75.754150390625, 26.860607147216797, 35.4904899597168, 25.863370895385742, 242.99600219726562, 17.15361976623535, 19.032838821411133, 29.537940979003906, 37.03842544555664, 46.4374885559082, 17.893604278564453, 15.94045639038086, 15.709575653076172, 14.750959396362305, 49.44683074951172, 7.986660480499268, 8.86994457244873, 6.992324352264404, 6.101655006408691, 6.100529670715332, 262.7569274902344, 9.532925605773926, 10.364509582519531, 62.56190872192383, 14.825106620788574, 161.73043823242188, 183.25840759277344, 209.20877075195312, 200.8359832763672, 135.90545654296875, 47.67018127441406, 70.19853210449219, 109.90966033935547, 161.8350067138672, 121.2633056640625, 111.76898193359375, 118.95274353027344, 100.00334930419922, 90.08760070800781, 119.13270568847656, 114.88009643554688, 85.15338897705078, 99.58634948730469, 100.25188446044922, 101.22023010253906, 85.90632629394531, 83.63008880615234, 5.495892524719238, 4.605478286743164, 4.366490364074707, 5.524849891662598, 6.120673179626465, 126.62032318115234, 43.046661376953125, 3.1507911682128906, 3.16269850730896, 3.716564655303955, 3.4355216026306152, 3.641226053237915, 3.4096858501434326, 4.304339408874512, 2.7896623611450195, 3.271026372909546, 4.227061748504639, 2.806438446044922, 2.7394399642944336, 80.08595275878906, 3.558076858520508, 2.5405032634735107, 3.059657335281372, 3.521555185317993, 5.592984676361084, 2.5242745876312256, 2.5044050216674805, 9.20779800415039, 3.342994213104248, 2.476640462875366, 9.459771156311035, 15.697013854980469, 22.270774841308594, 5.162700653076172, 64.82097625732422, 17.760984420776367, 18.92026710510254, 15.601702690124512, 19.375577926635742, 37.45029830932617, 6.184168338775635, 58.80228042602539, 22.057872772216797, 46.62458801269531, 23.346521377563477, 12.187111854553223, 110.04818725585938, 35.041175842285156, 50.296260833740234, 10.660574913024902, 38.24078369140625, 71.59375, 22.652013778686523, 34.228031158447266, 64.34520721435547, 48.626861572265625, 31.05983543395996, 39.63542175292969, 47.172767639160156, 31.432825088500977, 38.816871643066406, 51.78084945678711, 42.20746612548828, 48.03715133666992, 40.309715270996094, 36.326900482177734, 33.610130310058594, 34.84255599975586, 36.85270309448242, 32.011417388916016, 36.02985763549805, 3.4564552307128906, 3.4689486026763916, 3.2983202934265137, 2.587324619293213, 2.59829044342041, 6.5526018142700195, 2.409151315689087, 2.622833251953125, 2.1670658588409424, 2.3645026683807373, 1.764846682548523, 2.4581127166748047, 1.7661380767822266, 1.7557421922683716, 2.5933916568756104, 1.7596768140792847, 2.276632070541382, 2.001713991165161, 1.6248823404312134, 2.22695255279541, 2.6398940086364746, 1.7654829025268555, 1.605966329574585, 1.6327948570251465, 1.6537673473358154, 1.7237277030944824, 3.1125879287719727, 1.7569899559020996, 1.7177733182907104, 3.3006153106689453, 1.7692075967788696, 3.4416255950927734, 5.165430068969727, 2.6274993419647217, 2.3184027671813965, 8.292206764221191, 39.88875961303711, 9.858260154724121, 3.230644941329956, 10.7593355178833, 9.535224914550781, 4.012298107147217, 5.956176280975342, 3.4768459796905518, 9.394368171691895, 12.134429931640625, 5.027369976043701, 15.406229019165039, 19.150104522705078, 22.519485473632812, 23.619800567626953, 15.939053535461426, 12.659002304077148, 6.894753456115723, 20.29032325744629, 17.719955444335938, 12.866706848144531, 20.98178482055664, 19.896541595458984, 13.052489280700684, 13.592041015625, 14.695531845092773, 14.177718162536621, 10.545321464538574, 12.904327392578125, 10.579904556274414, 13.062822341918945, 10.813891410827637, 10.595199584960938, 13.868764877319336, 11.218056678771973, 11.112245559692383, 11.453701972961426, 10.522852897644043, 10.166247367858887, 19.437782287597656, 8.322111129760742, 51.733253479003906, 1.7505704164505005, 1.7139192819595337, 1.6547789573669434, 1.607633113861084, 1.8135173320770264, 6.471393585205078, 2.012075185775757, 2.4703171253204346, 1.7124006748199463, 1.481326937675476, 1.69833242893219, 1.652288556098938, 1.7132140398025513, 1.4299696683883667, 1.3497520685195923, 1.7190653085708618, 2.628638982772827, 1.5073987245559692, 1.7096664905548096, 1.717350959777832, 1.4335757493972778, 9.208589553833008, 25.10912322998047, 2.506720542907715, 1.744869351387024, 1.2966742515563965, 1.7148597240447998, 6.286792278289795, 3.9033854007720947, 7.4209885597229, 7.221333980560303, 2.993093490600586, 6.30873966217041, 5.9515180587768555, 2.4302518367767334, 2.163578510284424, 10.073979377746582, 3.472907066345215, 4.585020542144775, 17.59624671936035, 17.75615119934082, 2.551429271697998, 12.52391529083252, 4.222377777099609, 6.299562931060791, 12.091880798339844, 6.507211208343506, 4.159043312072754, 7.086735248565674, 10.942044258117676, 7.655266284942627, 4.243794918060303, 6.860574722290039, 7.909767150878906, 8.239134788513184, 7.730321884155273, 9.02934455871582, 8.015604019165039, 7.024777412414551, 8.657758712768555, 6.962380409240723, 6.628524303436279, 3.5679666996002197, 5.0142822265625, 4.737473964691162, 4.881677627563477, 2.249352216720581, 2.245696544647217, 1.53705632686615, 6.6200361251831055, 3.0841526985168457, 2.223470687866211, 4.20154333114624, 1.8643935918807983, 1.5340300798416138, 4.0273542404174805, 1.5386937856674194, 5.14498233795166, 1.5414378643035889, 1.7635265588760376, 1.5266432762145996, 2.2327005863189697, 1.556610107421875, 2.9821934700012207, 1.4170544147491455, 1.5525320768356323, 1.537708044052124, 2.2837424278259277, 1.4250696897506714, 0.9855402112007141, 0.7945155501365662, 0.7984321117401123, 1.537611722946167, 1.5364127159118652, 1.548351764678955, 2.27714204788208, 3.0362651348114014, 10.944112777709961, 6.851622581481934, 5.531153202056885, 5.675428867340088, 4.283031940460205, 3.3544929027557373, 5.308893203735352, 9.95039176940918, 20.551546096801758, 4.292904376983643, 3.0257296562194824, 17.321125030517578, 6.881323337554932, 11.665802001953125, 5.3398871421813965, 9.129392623901367, 6.180403709411621, 9.399526596069336, 8.529254913330078, 9.132524490356445, 6.3490705490112305, 5.711597919464111, 6.187075614929199, 7.392037391662598, 8.314421653747559, 6.945248603820801, 6.8233113288879395, 6.532833099365234, 6.601569175720215, 6.492499351501465, 6.348649024963379, 6.278196811676025, 6.151102542877197, 6.1371989250183105, 6.365725994110107, 6.011632442474365, 6.169614791870117, 5.875842094421387, 2.0238921642303467, 1.9717437028884888, 2.0494773387908936, 1.3455348014831543, 1.3744691610336304, 1.3784067630767822, 1.381676197052002, 1.7253012657165527, 1.3816131353378296, 1.3738174438476562, 3.390702724456787, 1.3814103603363037, 1.3559244871139526, 0.9965459108352661, 1.3559391498565674, 1.3697035312652588, 2.014538288116455, 1.1631150245666504, 1.3822624683380127, 11.317107200622559, 1.3905324935913086, 4.0547308921813965, 1.1526985168457031, 0.7142505049705505, 1.3795400857925415, 1.3788058757781982, 5.4618353843688965, 0.8885976076126099, 2.5269908905029297, 0.7111336588859558, 1.9191550016403198, 5.6132121086120605, 8.721260070800781, 2.0594282150268555, 3.069608211517334, 13.724752426147461, 2.7325170040130615, 8.857267379760742, 9.85996150970459, 3.5494916439056396, 6.7772722244262695, 2.642925977706909, 5.049374103546143, 5.161340713500977, 3.0232107639312744, 8.277485847473145, 4.637439250946045, 7.357090950012207, 3.405480146408081, 5.38845157623291, 3.556264638900757, 4.7630696296691895, 5.320580005645752, 6.425992012023926, 5.616790771484375, 6.076075077056885, 3.8647332191467285, 5.5179123878479, 3.8166253566741943, 3.946042537689209, 4.833255290985107, 4.35420560836792, 4.711073875427246, 4.354223728179932, 4.078850746154785, 4.046858310699463, 4.186657905578613, 4.050772190093994, 3.968897819519043, 4.883741855621338, 4.875929832458496, 2.1087088584899902, 1.4271857738494873, 1.4222743511199951, 2.113541841506958, 1.4223289489746094, 0.7367362380027771, 0.7358278632164001, 0.7354678511619568, 0.7347733378410339, 0.7362512946128845, 0.7318128943443298, 1.4306108951568604, 0.7368249893188477, 0.7362393736839294, 0.7231102585792542, 0.7307565808296204, 0.7367937564849854, 0.7366904020309448, 0.7263875007629395, 0.734846293926239, 0.7361673712730408, 0.7334500551223755, 0.734664261341095, 0.7363370060920715, 0.7333142757415771, 0.7312638163566589, 0.7361055016517639, 0.7363541722297668, 5.534201622009277, 1.4252525568008423, 3.4845077991485596, 3.4234819412231445, 13.137388229370117, 5.592215061187744, 1.4130362272262573, 1.4258649349212646, 8.919153213500977, 2.7071056365966797, 3.2555387020111084, 3.4265620708465576, 1.4189317226409912, 1.4331024885177612, 1.425585150718689, 5.556290149688721, 1.421706199645996, 2.814157247543335, 2.124403476715088, 1.977325677871704, 2.1232495307922363, 3.216555595397949, 5.4732985496521, 4.224820137023926, 8.317394256591797, 3.452415704727173, 6.258735656738281, 7.277629852294922, 3.5391058921813965, 4.974402904510498, 5.47044038772583, 5.04066801071167, 3.5574004650115967, 2.829397439956665, 3.507190704345703, 4.990139007568359, 4.032447338104248, 3.874758005142212, 3.7012128829956055, 3.5185632705688477, 3.600754976272583, 3.283179521560669, 2.2930052280426025, 1.155882477760315, 1.1960434913635254, 1.199728012084961, 1.1944594383239746, 1.1941699981689453, 3.3465194702148438, 2.362811326980591, 1.1997202634811401, 1.198533296585083, 0.6124895811080933, 0.6166651248931885, 0.6191697120666504, 0.6223167777061462, 0.616953432559967, 0.6206678152084351, 0.6133329272270203, 0.619921863079071, 0.6181109547615051, 0.6190047264099121, 0.6201201677322388, 0.6192828416824341, 0.6172422766685486, 0.610542356967926, 0.608452320098877, 0.6021212935447693, 0.6169508099555969, 0.6104114055633545, 0.6184271574020386, 0.6197739839553833, 1.1938573122024536, 1.1942062377929688, 1.2010329961776733, 6.436204433441162, 1.195725679397583, 2.3384079933166504, 2.340764045715332, 1.1936769485473633, 1.7739216089248657, 0.9717801213264465, 1.1883516311645508, 2.7014682292938232, 1.774444341659546, 1.7928494215011597, 3.2294697761535645, 1.1995395421981812, 2.971644401550293, 1.1865204572677612, 1.196060061454773, 1.7843698263168335, 1.7907090187072754, 4.399565696716309, 2.990306854248047, 2.1362802982330322, 2.9762868881225586, 3.4778361320495605, 2.9620649814605713, 2.552517890930176, 2.496833086013794, 2.4003779888153076, 2.006225109100342, 1.9292666912078857, 1.8195430040359497, 1.7895160913467407, 2.053759813308716, 2.1475303173065186, 1.8130300045013428, 1.8768956661224365, 2.0143208503723145, 2.020871877670288, 2.010944366455078, 1.8445113897323608, 1.2131985425949097, 1.20919668674469, 1.2098709344863892, 0.6199129819869995, 0.6240633726119995, 0.6256335377693176, 0.6233692169189453, 0.6224709153175354, 0.621482789516449, 0.6256524324417114, 0.6237057447433472, 0.6216859221458435, 0.6248999834060669, 0.6237385869026184, 0.617101788520813, 1.2051806449890137, 1.2115286588668823, 0.6251322031021118, 0.6224894523620605, 0.6257340312004089, 0.6320278644561768, 0.622981607913971, 0.6193372011184692, 0.6249465942382812, 0.6266539692878723, 0.6234931945800781, 0.622066080570221, 0.6218758225440979, 0.6253665089607239, 0.6226699948310852, 1.2077913284301758, 2.9677562713623047, 2.3784232139587402, 1.211661696434021, 1.2099902629852295, 1.2120211124420166, 1.2123461961746216, 1.2094801664352417, 1.2136104106903076, 1.8064278364181519, 1.2113335132598877, 1.2117193937301636, 3.0069518089294434, 2.4146904945373535, 1.2080674171447754, 2.3895938396453857, 1.7933368682861328, 3.007702589035034, 1.2171854972839355, 1.2095791101455688, 3.0384275913238525, 1.214036226272583, 3.0459847450256348, 3.648653268814087, 1.8132660388946533, 3.0660927295684814, 1.8120242357254028, 2.461900472640991, 1.8033771514892578, 1.812739610671997, 1.8163822889328003, 2.4478189945220947, 2.4685275554656982, 2.446603775024414, 2.5315494537353516, 2.4592607021331787, 2.61108660697937, 1.8442884683609009, 1.8316468000411987, 1.8130030632019043, 1.822834849357605, 1.844348669052124, 1.8303624391555786, 1.9831483364105225, 1.881879210472107, 1.8828790187835693, 1.875031590461731, 1.8507447242736816, 1.8552790880203247, 1.832740068435669, 1.8281282186508179, 1.7602121829986572, 1.186973214149475, 1.7630287408828735, 0.6154880523681641, 0.6106328964233398, 0.6116620302200317, 1.1857208013534546, 0.6137896180152893, 0.6280569434165955, 0.6132678985595703, 0.6134399771690369, 0.6112207174301147, 0.6132831573486328, 1.187917709350586, 0.6113788485527039, 0.6127340197563171, 0.6118203997612, 0.6106916069984436, 0.6158406138420105, 0.6221678256988525, 0.6118690371513367, 0.6087701916694641, 0.6127086877822876, 0.6127845048904419, 0.6130433082580566, 0.6120469570159912, 0.6139848232269287, 1.188775658607483, 0.6131656169891357, 0.6131204962730408, 3.5695831775665283, 1.1874979734420776, 3.032407760620117, 1.1872785091400146, 2.3629496097564697, 5.324441909790039, 1.1875660419464111, 1.7728439569473267, 1.1886638402938843, 2.4326364994049072, 3.558943510055542, 1.205946683883667, 1.1928516626358032, 2.546689987182617, 3.633453130722046, 1.7726199626922607, 2.3718948364257812, 1.1962566375732422, 3.6960465908050537, 2.348031759262085, 3.0507256984710693, 2.3736307621002197, 1.7882581949234009, 3.0303218364715576, 2.3952345848083496, 3.154465913772583, 2.5737414360046387, 2.4837634563446045, 1.808172345161438, 1.8325835466384888, 1.9264402389526367, 1.7868071794509888, 1.8290725946426392, 1.796683430671692, 1.8518561124801636, 1.9329615831375122, 1.9974422454833984, 1.904922604560852, 2.0161561965942383, 1.875732421875, 1.8920283317565918, 1.862841248512268, 1.8331735134124756, 1.8307294845581055], \"Term\": [\"emma\", \"little\", \"elinor\", \"like\", \"miss\", \"marianne\", \"good\", \"jane\", \"thought\", \"harriet\", \"room\", \"day\", \"madame\", \"sir\", \"time\", \"know\", \"think\", \"soon\", \"come\", \"long\", \"saw\", \"home\", \"looked\", \"elton\", \"heart\", \"way\", \"man\", \"hand\", \"weston\", \"monsieur\", \"darcy\", \"bennet\", \"bingley\", \"collins\", \"elizabeth\", \"wickham\", \"lydia\", \"catherine\", \"gardiner\", \"longbourn\", \"netherfield\", \"lucas\", \"meryton\", \"pemberley\", \"rosings\", \"lizzy\", \"bourgh\", \"hertfordshire\", \"forster\", \"fitzwilliam\", \"phillips\", \"officers\", \"hunsford\", \"derbyshire\", \"kitty\", \"brighton\", \"kent\", \"lucases\", \"churchills\", \"arguments\", \"intending\", \"charlotte\", \"taylor\", \"ladyship\", \"hurst\", \"family\", \"sisters\", \"uncle\", \"aunt\", \"sister\", \"father\", \"brother\", \"dear\", \"marriage\", \"letter\", \"know\", \"miss\", \"soon\", \"jane\", \"great\", \"think\", \"man\", \"good\", \"shall\", \"lady\", \"time\", \"sure\", \"hope\", \"replied\", \"little\", \"young\", \"day\", \"wish\", \"mother\", \"room\", \"away\", \"thing\", \"thought\", \"long\", \"frances\", \"monsieur\", \"henri\", \"paletot\", \"swiss\", \"zoraide\", \"pierre\", \"zelie\", \"sylvie\", \"mdlle\", \"estrade\", \"directress\", \"grec\", \"elle\", \"ambitious\", \"plus\", \"cette\", \"messieurs\", \"ne\", \"mender\", \"bouquet\", \"violets\", \"une\", \"hovering\", \"bon\", \"femme\", \"item\", \"definite\", \"victor\", \"paul\", \"pelet\", \"reuter\", \"vous\", \"est\", \"professor\", \"bien\", \"je\", \"emanuel\", \"les\", \"mademoiselle\", \"hunsden\", \"que\", \"ce\", \"lessons\", \"pupils\", \"english\", \"madame\", \"pas\", \"desk\", \"beck\", \"school\", \"la\", \"st\", \"hand\", \"french\", \"et\", \"little\", \"like\", \"work\", \"eye\", \"heart\", \"thought\", \"eyes\", \"day\", \"good\", \"know\", \"knew\", \"looked\", \"time\", \"long\", \"life\", \"night\", \"face\", \"man\", \"felt\", \"saw\", \"took\", \"think\", \"half\", \"door\", \"look\", \"house\", \"shall\", \"room\", \"briggs\", \"tynedale\", \"lynn\", \"varens\", \"dent\", \"pledge\", \"lighting\", \"seed\", \"sophie\", \"furrowed\", \"eshton\", \"disk\", \"sped\", \"celine\", \"ingram\", \"roman\", \"nightmare\", \"chafed\", \"blond\", \"mason\", \"oriental\", \"necks\", \"lunatic\", \"precocious\", \"reminiscences\", \"dart\", \"janet\", \"thornfield\", \"rochester\", \"tap\", \"eyre\", \"adele\", \"millcote\", \"passengers\", \"missis\", \"poole\", \"blew\", \"curtain\", \"sir\", \"bassompierre\", \"satin\", \"ll\", \"fairy\", \"bretton\", \"hall\", \"gateshead\", \"ve\", \"reed\", \"like\", \"face\", \"bessie\", \"jane\", \"old\", \"eyes\", \"night\", \"little\", \"yes\", \"come\", \"room\", \"john\", \"years\", \"look\", \"thought\", \"think\", \"child\", \"good\", \"looked\", \"saw\", \"long\", \"miss\", \"shall\", \"know\", \"time\", \"day\", \"came\", \"house\", \"lady\", \"heard\", \"man\", \"elton\", \"harriet\", \"martin\", \"campbell\", \"hawkins\", \"nash\", \"vicarage\", \"eltons\", \"abbey\", \"martins\", \"bates\", \"dixon\", \"cole\", \"campbells\", \"goddard\", \"charade\", \"perry\", \"littleness\", \"bragge\", \"selina\", \"boarder\", \"maple\", \"unsuspected\", \"surprize\", \"knightleys\", \"smallridge\", \"suckling\", \"emma\", \"connexion\", \"grandmama\", \"woodhouse\", \"knightley\", \"hartfield\", \"highbury\", \"churchill\", \"smith\", \"donwell\", \"frank\", \"surprized\", \"fairfax\", \"weston\", \"body\", \"thing\", \"miss\", \"jane\", \"extremely\", \"randalls\", \"friend\", \"dear\", \"think\", \"oh\", \"good\", \"little\", \"great\", \"know\", \"thought\", \"time\", \"sure\", \"soon\", \"man\", \"young\", \"like\", \"winding\", \"drenched\", \"eighty\", \"inscription\", \"pervaded\", \"flinging\", \"jacket\", \"unnumbered\", \"scrutinised\", \"load\", \"trampled\", \"achieve\", \"alfred\", \"visionary\", \"treading\", \"orb\", \"grenier\", \"sworn\", \"latticed\", \"venerable\", \"temple\", \"boulevard\", \"extending\", \"malady\", \"nests\", \"paved\", \"slate\", \"porte\", \"royal\", \"cultivated\", \"miller\", \"dormitory\", \"helen\", \"turf\", \"refectory\", \"nun\", \"wall\", \"burns\", \"fragments\", \"brocklehurst\", \"drops\", \"oak\", \"horizon\", \"midnight\", \"signal\", \"prayer\", \"fields\", \"stars\", \"hollow\", \"dim\", \"sun\", \"city\", \"inn\", \"wind\", \"ghost\", \"night\", \"deep\", \"light\", \"high\", \"garden\", \"door\", \"dark\", \"round\", \"sound\", \"madame\", \"stood\", \"white\", \"black\", \"heaven\", \"trees\", \"long\", \"strange\", \"like\", \"rose\", \"sky\", \"thought\", \"clock\", \"far\", \"house\", \"day\", \"looked\", \"saw\", \"time\", \"came\", \"room\", \"little\", \"come\", \"great\", \"life\", \"hour\", \"heard\", \"miss\", \"eyes\", \"went\", \"moment\", \"felt\", \"hand\", \"know\", \"jennings\", \"marianne\", \"middleton\", \"elinor\", \"barton\", \"brandon\", \"ferrars\", \"willoughby\", \"delaford\", \"margaret\", \"palmer\", \"cleveland\", \"dashwoods\", \"devonshire\", \"dashwood\", \"berkeley\", \"middletons\", \"steeles\", \"steele\", \"fanny\", \"allenham\", \"harley\", \"combe\", \"exeter\", \"norland\", \"longstaple\", \"sussex\", \"conduit\", \"enquire\", \"bartlett\", \"edward\", \"palmers\", \"magna\", \"cottage\", \"tomorrow\", \"colonel\", \"lucy\", \"sister\", \"mother\", \"john\", \"engagement\", \"town\", \"lady\", \"time\", \"thing\", \"house\", \"soon\", \"heart\", \"sir\", \"know\", \"think\", \"moment\", \"day\", \"good\", \"miss\", \"saw\", \"room\", \"causeway\", \"auburn\", \"sire\", \"warren\", \"benefactress\", \"graham\", \"polly\", \"elders\", \"retiring\", \"jack\", \"criminal\", \"pit\", \"signified\", \"tramp\", \"rocking\", \"heights\", \"whip\", \"commented\", \"suggestive\", \"papa\", \"eyelids\", \"turk\", \"couldn\", \"influences\", \"naughty\", \"foam\", \"proves\", \"doll\", \"pony\", \"extremities\", \"lingered\", \"gallery\", \"snowe\", \"echoed\", \"bretton\", \"horse\", \"boy\", \"knee\", \"paulina\", \"dr\", \"tales\", \"door\", \"reed\", \"lucy\", \"adele\", \"staircase\", \"little\", \"child\", \"hand\", \"descended\", \"letter\", \"like\", \"hall\", \"asked\", \"know\", \"come\", \"rochester\", \"yes\", \"room\", \"sat\", \"john\", \"think\", \"shall\", \"good\", \"long\", \"came\", \"tell\", \"heard\", \"thought\", \"eyes\", \"time\", \"bondage\", \"perishing\", \"withered\", \"blot\", \"panels\", \"remorse\", \"legitimate\", \"bloody\", \"revolted\", \"fiend\", \"divert\", \"resulting\", \"unclose\", \"shudder\", \"granite\", \"inflicting\", \"avert\", \"wipe\", \"hag\", \"nations\", \"transformed\", \"chink\", \"robes\", \"mysteries\", \"purer\", \"woes\", \"err\", \"tractable\", \"organs\", \"simpleton\", \"sets\", \"breadth\", \"pilot\", \"cultivate\", \"piqued\", \"mason\", \"sir\", \"blood\", \"delusion\", \"water\", \"eyre\", \"faculty\", \"doctor\", \"terrasse\", \"glass\", \"lips\", \"error\", \"right\", \"heart\", \"jane\", \"like\", \"life\", \"rochester\", \"act\", \"thought\", \"man\", \"head\", \"know\", \"good\", \"speak\", \"face\", \"look\", \"eyes\", \"feeling\", \"night\", \"voice\", \"long\", \"old\", \"seen\", \"think\", \"half\", \"come\", \"time\", \"little\", \"day\", \"abbot\", \"lloyd\", \"bessie\", \"paintings\", \"refreshments\", \"punished\", \"settlement\", \"nailed\", \"scatcherd\", \"embers\", \"apothecary\", \"sarah\", \"consecration\", \"malicious\", \"dislikes\", \"vicar\", \"reported\", \"chastisement\", \"presentiment\", \"boards\", \"handling\", \"strings\", \"brightly\", \"crushing\", \"nursery\", \"reed\", \"greek\", \"glare\", \"liberally\", \"pleasantest\", \"burns\", \"missis\", \"gateshead\", \"mama\", \"crib\", \"georgiana\", \"dread\", \"meals\", \"regions\", \"school\", \"plate\", \"cruel\", \"like\", \"miss\", \"sewing\", \"room\", \"gathered\", \"book\", \"long\", \"truth\", \"putting\", \"child\", \"thought\", \"poor\", \"severe\", \"passed\", \"young\", \"saw\", \"felt\", \"good\", \"day\", \"heard\", \"little\", \"night\", \"half\", \"rivet\", \"institution\", \"patty\", \"baked\", \"lend\", \"job\", \"ostensible\", \"apples\", \"lowton\", \"parcels\", \"apple\", \"womanly\", \"bedtime\", \"ford\", \"herd\", \"spectacles\", \"purchases\", \"lisped\", \"tablet\", \"sympathies\", \"chatter\", \"pattern\", \"hears\", \"herald\", \"mission\", \"waiter\", \"coarseness\", \"polish\", \"joyfully\", \"intimating\", \"pet\", \"amy\", \"whim\", \"prolonged\", \"shy\", \"papa\", \"ingram\", \"polly\", \"post\", \"office\", \"shop\", \"paulina\", \"new\", \"miss\", \"aspect\", \"eshton\", \"little\", \"bretton\", \"like\", \"mary\", \"came\", \"dr\", \"thought\", \"come\", \"day\", \"years\", \"returned\", \"want\", \"mother\", \"think\", \"lady\", \"heard\", \"oh\", \"look\", \"half\", \"took\", \"yes\", \"door\", \"tell\", \"know\", \"old\", \"good\", \"room\", \"fathers\", \"dancer\", \"semicircle\", \"contemplated\", \"maintaining\", \"panels\", \"vases\", \"disparity\", \"understands\", \"soliloquy\", \"sold\", \"amazing\", \"lessened\", \"hire\", \"glimpses\", \"privations\", \"threatening\", \"terribly\", \"piled\", \"dancing\", \"matches\", \"leah\", \"recommendations\", \"fifth\", \"grapes\", \"handled\", \"partner\", \"draughts\", \"dances\", \"develop\", \"april\", \"couple\", \"dance\", \"gets\", \"crowd\", \"room\", \"crown\", \"way\", \"thought\", \"ball\", \"door\", \"pictures\", \"frank\", \"minutes\", \"passage\", \"like\", \"churchill\", \"day\", \"crimsworth\", \"weston\", \"clock\", \"word\", \"better\", \"time\", \"emma\", \"little\", \"bed\", \"know\", \"wonder\", \"set\", \"long\", \"harriet\", \"good\", \"great\", \"hope\", \"evening\", \"miss\", \"came\", \"oh\", \"fifine\", \"desiree\", \"consistency\", \"cries\", \"liar\", \"surgeon\", \"augusta\", \"intentionally\", \"dejected\", \"unaccountably\", \"manager\", \"palate\", \"admirably\", \"feigned\", \"bandaged\", \"vices\", \"preoccupied\", \"turk\", \"perils\", \"commonest\", \"adieus\", \"antagonist\", \"personages\", \"conformity\", \"ordinarily\", \"infirm\", \"holland\", \"launched\", \"ca\", \"froid\", \"brocklehurst\", \"robust\", \"doctor\", \"fossette\", \"madame\", \"reed\", \"substitute\", \"promptly\", \"child\", \"thirty\", \"mamma\", \"rue\", \"complain\", \"portress\", \"containing\", \"dr\", \"physician\", \"madam\", \"nursery\", \"illness\", \"bien\", \"age\", \"eye\", \"work\", \"good\", \"beck\", \"day\", \"little\", \"bed\", \"hand\", \"room\", \"looked\", \"english\", \"arm\", \"air\", \"like\", \"mother\", \"john\", \"came\", \"woman\", \"young\", \"new\", \"sermon\", \"fifth\", \"precept\", \"monitor\", \"chapters\", \"protestants\", \"rome\", \"creed\", \"drooping\", \"relatives\", \"clay\", \"dejected\", \"thrusting\", \"patron\", \"performances\", \"exceeded\", \"ciel\", \"heap\", \"fathers\", \"paralysed\", \"summits\", \"romanism\", \"magi\", \"cultivated\", \"fervid\", \"reine\", \"purer\", \"protect\", \"hardships\", \"criminal\", \"holy\", \"spiritual\", \"remainder\", \"church\", \"fold\", \"silas\", \"pere\", \"director\", \"march\", \"september\", \"works\", \"forward\", \"schoolroom\", \"helen\", \"strange\", \"shoes\", \"god\", \"glory\", \"example\", \"bread\", \"feet\", \"little\", \"half\", \"high\", \"heart\", \"time\", \"great\", \"evening\", \"looked\", \"way\", \"strong\", \"power\", \"girls\", \"men\", \"come\", \"good\", \"cold\", \"world\", \"thought\", \"like\", \"miss\", \"hour\", \"slavery\", \"insane\", \"moss\", \"clay\", \"aching\", \"unselfish\", \"dilated\", \"thirdly\", \"embracing\", \"flaming\", \"frequented\", \"sanctioned\", \"crimsoned\", \"philanthropy\", \"brittle\", \"strained\", \"realized\", \"chimneys\", \"ominous\", \"maniac\", \"accursed\", \"comply\", \"captive\", \"abide\", \"frail\", \"opens\", \"serving\", \"beech\", \"vapid\", \"verdure\", \"assigned\", \"lane\", \"maid\", \"abundance\", \"grasp\", \"torture\", \"vandenhuten\", \"region\", \"wicked\", \"fate\", \"void\", \"injured\", \"live\", \"death\", \"individual\", \"hunsden\", \"wood\", \"monsieur\", \"principles\", \"lawn\", \"eye\", \"residence\", \"old\", \"jane\", \"wild\", \"heart\", \"strength\", \"voice\", \"soul\", \"consider\", \"glance\", \"love\", \"look\", \"hand\", \"man\", \"come\", \"like\", \"mean\", \"end\", \"rose\", \"wife\", \"nature\", \"years\", \"know\", \"left\", \"looked\", \"shall\", \"tell\", \"house\", \"oh\", \"gone\", \"driver\", \"carlo\", \"stile\", \"develop\", \"joyfully\", \"intimating\", \"whitcross\", \"overtaken\", \"conducting\", \"meets\", \"imply\", \"population\", \"dubious\", \"unchanged\", \"vases\", \"patted\", \"chilled\", \"coast\", \"cursed\", \"steadfast\", \"leader\", \"fluency\", \"elixir\", \"lantern\", \"bonnets\", \"firelight\", \"shift\", \"glee\", \"pagan\", \"sworn\", \"hannah\", \"rosamond\", \"diana\", \"inform\", \"parlour\", \"home\", \"scattered\", \"charm\", \"merry\", \"mary\", \"rochester\", \"noon\", \"oliver\", \"st\", \"sir\", \"event\", \"added\", \"domestic\", \"soon\", \"return\", \"better\", \"coming\", \"adele\", \"saw\", \"fairfax\", \"like\", \"john\", \"night\", \"master\", \"power\", \"words\", \"glad\", \"feeling\", \"happiness\", \"asked\", \"yes\", \"jane\", \"tell\", \"little\", \"half\", \"come\", \"door\", \"till\", \"morning\"], \"Total\": [915.0, 1718.0, 694.0, 1323.0, 1542.0, 573.0, 1352.0, 931.0, 1142.0, 561.0, 873.0, 1053.0, 409.0, 588.0, 1313.0, 1429.0, 1313.0, 920.0, 827.0, 935.0, 773.0, 488.0, 697.0, 415.0, 653.0, 686.0, 901.0, 615.0, 449.0, 286.0, 395.2493896484375, 307.08721923828125, 290.96142578125, 170.529052734375, 613.535888671875, 184.76255798339844, 162.92466735839844, 124.09957122802734, 90.93414306640625, 84.26988220214844, 70.04145812988281, 67.19084930419922, 54.879127502441406, 51.088531494140625, 47.2832145690918, 92.78534698486328, 37.81442642211914, 39.70237731933594, 37.81794738769531, 34.95481872558594, 30.22564125061035, 31.182558059692383, 24.53744888305664, 23.599014282226562, 71.19715881347656, 23.567750930786133, 14.106559753417969, 14.110739707946777, 15.061930656433105, 13.161090850830078, 15.061308860778809, 108.73823547363281, 48.714263916015625, 53.2101936340332, 35.05059814453125, 374.1819763183594, 181.29791259765625, 149.7247772216797, 177.1436767578125, 578.3283081054688, 504.0478515625, 283.1706237792969, 593.7145385742188, 180.14422607421875, 419.3038024902344, 1429.40625, 1542.1558837890625, 920.1073608398438, 931.3892822265625, 826.5396118164062, 1313.2420654296875, 901.8005981445312, 1352.7998046875, 922.1502075195312, 615.2030639648438, 1313.6881103515625, 617.2501831054688, 504.531494140625, 346.9346618652344, 1718.123291015625, 663.6424560546875, 1053.6239013671875, 518.429443359375, 662.8363037109375, 873.5498657226562, 678.0741577148438, 807.0401000976562, 1142.715576171875, 935.1754150390625, 118.62769317626953, 286.29327392578125, 56.22737503051758, 20.972440719604492, 14.941533088684082, 29.028335571289062, 32.036231994628906, 17.934494018554688, 28.03304100036621, 115.62152862548828, 39.10011672973633, 48.16219711303711, 14.928874969482422, 26.990060806274414, 11.914257049560547, 12.92078685760498, 12.923672676086426, 12.910052299499512, 37.009769439697266, 9.902674674987793, 13.903194427490234, 9.90065860748291, 39.02754211425781, 10.897170066833496, 19.542369842529297, 12.919208526611328, 8.896323204040527, 12.913763999938965, 23.902008056640625, 187.1029052734375, 111.3721694946289, 80.37952423095703, 119.89148712158203, 112.00794219970703, 65.13078308105469, 48.17568588256836, 72.79286193847656, 108.85745239257812, 39.88762664794922, 121.71819305419922, 148.92462158203125, 64.69435119628906, 52.67236328125, 66.135498046875, 158.7635040283203, 231.3115692138672, 409.92083740234375, 61.56187057495117, 104.68177032470703, 165.5214385986328, 246.79869079589844, 106.96105194091797, 195.4085235595703, 615.0693359375, 159.2030792236328, 86.6220703125, 1718.123291015625, 1323.185302734375, 254.85272216796875, 396.2441711425781, 653.99658203125, 1142.715576171875, 636.976806640625, 1053.6239013671875, 1352.7998046875, 1429.40625, 548.4117431640625, 697.5632934570312, 1313.6881103515625, 935.1754150390625, 582.032958984375, 622.992431640625, 497.1808776855469, 901.8005981445312, 667.8906860351562, 773.8629150390625, 494.7320556640625, 1313.2420654296875, 587.6290283203125, 531.8106079101562, 639.5404663085938, 750.2857055664062, 922.1502075195312, 873.5498657226562, 15.42458438873291, 11.534090042114258, 20.04729652404785, 12.488921165466309, 28.561485290527344, 8.611008644104004, 6.6658735275268555, 6.668840408325195, 26.338659286499023, 6.66850471496582, 28.147504806518555, 5.69739294052124, 5.698092937469482, 14.385791778564453, 86.00230407714844, 5.686958312988281, 5.688076019287109, 5.675563335418701, 5.700432300567627, 59.06815719604492, 5.694483757019043, 5.688579082489014, 10.449054718017578, 7.607430458068848, 5.721074104309082, 8.34030532836914, 19.825326919555664, 95.9513931274414, 350.05767822265625, 8.562088012695312, 98.39310455322266, 130.85333251953125, 27.899742126464844, 14.529556274414062, 19.64094352722168, 30.730234146118164, 13.563858032226562, 47.91642379760742, 588.8132934570312, 73.5592041015625, 30.606164932250977, 145.92901611328125, 37.170143127441406, 233.5966796875, 168.2401123046875, 41.38311767578125, 48.75100326538086, 118.99372100830078, 1323.185302734375, 497.1808776855469, 118.99054718017578, 931.3892822265625, 481.87066650390625, 636.976806640625, 622.992431640625, 1718.123291015625, 594.169189453125, 827.3338012695312, 873.5498657226562, 622.6394653320312, 313.3421630859375, 639.5404663085938, 1142.715576171875, 1313.2420654296875, 290.3435974121094, 1352.7998046875, 697.5632934570312, 773.8629150390625, 935.1754150390625, 1542.1558837890625, 922.1502075195312, 1429.40625, 1313.6881103515625, 1053.6239013671875, 686.1185913085938, 750.2857055664062, 615.2030639648438, 621.3623046875, 901.8005981445312, 415.5050354003906, 561.3369750976562, 91.9757308959961, 55.64506149291992, 21.25008773803711, 14.873353004455566, 19.13136100769043, 24.46895408630371, 34.04501724243164, 14.809660911560059, 161.54653930664062, 47.785892486572266, 65.83411407470703, 28.60181427001953, 63.231201171875, 25.49344253540039, 85.75956726074219, 6.2353034019470215, 8.35915470123291, 11.543479919433594, 6.231603622436523, 33.84109115600586, 6.226682662963867, 39.806636810302734, 8.34434986114502, 11.527175903320312, 15.765983581542969, 915.1967163085938, 22.120214462280273, 14.265007972717285, 329.88543701171875, 409.69134521484375, 168.90023803710938, 132.32215881347656, 232.95802307128906, 121.85940551757812, 52.36334991455078, 246.7296600341797, 34.52185821533203, 388.13311767578125, 449.0381164550781, 288.66229248046875, 807.0401000976562, 1542.1558837890625, 931.3892822265625, 104.89447784423828, 92.08561706542969, 442.7465515136719, 593.7145385742188, 1313.2420654296875, 561.515380859375, 1352.7998046875, 1718.123291015625, 826.5396118164062, 1429.40625, 1142.715576171875, 1313.6881103515625, 617.2501831054688, 920.1073608398438, 901.8005981445312, 663.6424560546875, 1323.185302734375, 13.887206077575684, 6.873495101928711, 6.867383003234863, 7.874988555908203, 6.864987850189209, 5.868305206298828, 5.86201810836792, 5.869999885559082, 5.858901500701904, 6.8559675216674805, 5.8650922775268555, 6.8635430335998535, 19.969409942626953, 5.856148719787598, 5.868030071258545, 9.861978530883789, 10.863738059997559, 6.446294784545898, 6.809046745300293, 6.468770980834961, 74.00079345703125, 7.792518615722656, 7.818066596984863, 9.88485336303711, 9.855420112609863, 6.790691375732422, 9.388120651245117, 9.876157760620117, 10.757940292358398, 5.450015068054199, 24.503049850463867, 36.01697540283203, 61.693817138671875, 18.194679260253906, 19.950178146362305, 44.167083740234375, 76.73733520507812, 31.323169708251953, 10.90341567993164, 52.39222717285156, 17.8695068359375, 19.991491317749023, 16.67671012878418, 30.37908363342285, 15.68097972869873, 35.415672302246094, 43.375484466552734, 28.038999557495117, 44.966548919677734, 50.98271560668945, 105.5097885131836, 42.87346267700195, 43.85209655761719, 96.9947509765625, 27.552852630615234, 622.992431640625, 182.908447265625, 306.0397033691406, 192.7460479736328, 175.7544708251953, 531.8106079101562, 226.49346923828125, 356.3105163574219, 157.76754760742188, 409.92083740234375, 325.1577453613281, 236.22183227539062, 182.01829528808594, 106.46699523925781, 110.89434814453125, 935.1754150390625, 251.46725463867188, 1323.185302734375, 230.24407958984375, 96.11894989013672, 1142.715576171875, 131.73056030273438, 464.6241455078125, 750.2857055664062, 1053.6239013671875, 697.5632934570312, 773.8629150390625, 1313.6881103515625, 686.1185913085938, 873.5498657226562, 1718.123291015625, 827.3338012695312, 826.5396118164062, 582.032958984375, 434.02252197265625, 621.3623046875, 1542.1558837890625, 636.976806640625, 491.7344665527344, 580.5827026367188, 667.8906860351562, 615.0693359375, 1429.40625, 233.76364135742188, 573.8017578125, 104.16578674316406, 694.0809936523438, 90.92530822753906, 146.5084686279297, 132.30250549316406, 219.35491943359375, 31.22133445739746, 37.314273834228516, 78.77465057373047, 28.171104431152344, 37.2581787109375, 27.166948318481445, 255.56947326660156, 18.058740615844727, 20.080463409423828, 31.20354652404785, 39.27611541748047, 49.34775924682617, 19.061599731445312, 17.02935218811035, 17.022342681884766, 16.015518188476562, 54.185665130615234, 8.937158584594727, 9.93842887878418, 7.922060012817383, 6.915182590484619, 6.914762020111084, 320.3553466796875, 10.929598808288574, 11.933879852294922, 86.39543151855469, 17.99613380432129, 307.8731689453125, 377.1476135253906, 578.3283081054688, 662.8363037109375, 622.6394653320312, 115.84749603271484, 235.764404296875, 615.2030639648438, 1313.6881103515625, 807.0401000976562, 750.2857055664062, 920.1073608398438, 653.99658203125, 588.8132934570312, 1429.40625, 1313.2420654296875, 580.5827026367188, 1053.6239013671875, 1352.7998046875, 1542.1558837890625, 773.8629150390625, 873.5498657226562, 7.359985828399658, 6.436400413513184, 6.432313919067383, 8.296500205993652, 10.084131240844727, 212.68983459472656, 74.5075912475586, 5.517881870269775, 5.548689842224121, 6.524268627166748, 6.067432403564453, 6.5157012939453125, 6.418344974517822, 8.159625053405762, 5.53056526184082, 6.506555080413818, 8.42841625213623, 5.605778217315674, 5.566125392913818, 162.9610137939453, 7.425616264343262, 5.321330547332764, 6.494328022003174, 7.549561500549316, 11.991365432739258, 5.553002834320068, 5.547760486602783, 20.402530670166016, 7.5045881271362305, 5.593361854553223, 21.518707275390625, 39.50019073486328, 58.101261138916016, 12.093225479125977, 233.5966796875, 60.876708984375, 67.00770568847656, 54.5527229309082, 80.57401275634766, 229.73870849609375, 16.925033569335938, 531.8106079101562, 118.99372100830078, 377.1476135253906, 130.85333251953125, 48.47688674926758, 1718.123291015625, 290.3435974121094, 615.0693359375, 42.77091979980469, 419.3038024902344, 1323.185302734375, 168.2401123046875, 394.26324462890625, 1429.40625, 827.3338012695312, 350.05767822265625, 594.169189453125, 873.5498657226562, 367.4798583984375, 622.6394653320312, 1313.2420654296875, 922.1502075195312, 1352.7998046875, 935.1754150390625, 686.1185913085938, 538.4445190429688, 621.3623046875, 1142.715576171875, 636.976806640625, 1313.6881103515625, 5.283729076385498, 6.256819725036621, 6.320555210113525, 5.282317638397217, 5.683898448944092, 14.669264793395996, 6.325728416442871, 7.342404365539551, 6.4800262451171875, 7.121100902557373, 5.370608329772949, 7.546457767486572, 5.486324787139893, 5.509270668029785, 8.280481338500977, 5.656238079071045, 7.325135707855225, 6.443723201751709, 5.2688117027282715, 7.501217842102051, 8.904088020324707, 6.017296314239502, 5.479442119598389, 5.602213382720947, 5.736957550048828, 6.10154390335083, 11.14474868774414, 6.431369304656982, 6.330348491668701, 12.163765907287598, 6.525283336639404, 13.172828674316406, 23.012903213500977, 10.407157897949219, 9.244893074035645, 59.06815719604492, 588.8132934570312, 88.13341522216797, 15.641030311584473, 111.38108825683594, 98.39310455322266, 23.17306900024414, 46.557456970214844, 18.16229248046875, 118.52466583251953, 192.9103546142578, 36.994873046875, 359.27301025390625, 653.99658203125, 931.3892822265625, 1323.185302734375, 582.032958984375, 350.05767822265625, 85.60623168945312, 1142.715576171875, 901.8005981445312, 407.3454895019531, 1429.40625, 1352.7998046875, 446.44500732421875, 497.1808776855469, 639.5404663085938, 636.976806640625, 281.4996643066406, 622.992431640625, 395.9462890625, 935.1754150390625, 481.87066650390625, 446.7970886230469, 1313.2420654296875, 587.6290283203125, 827.3338012695312, 1313.6881103515625, 1718.123291015625, 1053.6239013671875, 21.83424949645996, 11.133371353149414, 118.99054718017578, 5.2047929763793945, 5.42891788482666, 5.445888519287109, 5.427572250366211, 6.173534870147705, 22.16868019104004, 7.4340691566467285, 9.224295616149902, 6.418506145477295, 5.566967010498047, 6.41710090637207, 6.299139976501465, 6.625741958618164, 5.5829315185546875, 5.473630428314209, 7.067636489868164, 11.039399147033691, 6.359164237976074, 7.283437728881836, 7.540426731109619, 6.335507869720459, 42.62627410888672, 118.99372100830078, 12.091897964477539, 8.463868141174316, 6.363480567932129, 8.508050918579102, 31.323169708251953, 19.64094352722168, 41.38311767578125, 46.57929611206055, 15.988967895507812, 57.31611251831055, 56.448246002197266, 13.47577953338623, 11.27001667022705, 246.79869079589844, 29.637784957885742, 55.44556427001953, 1323.185302734375, 1542.1558837890625, 16.657115936279297, 873.5498657226562, 59.528804779052734, 165.60928344726562, 935.1754150390625, 207.99295043945312, 61.94044494628906, 290.3435974121094, 1142.715576171875, 394.06414794921875, 72.36952209472656, 384.55157470703125, 663.6424560546875, 773.8629150390625, 667.8906860351562, 1352.7998046875, 1053.6239013671875, 621.3623046875, 1718.123291015625, 622.992431640625, 587.6290283203125, 7.832915306091309, 11.090794563293457, 11.668335914611816, 14.697568893432617, 6.796112060546875, 6.973062515258789, 5.166865825653076, 22.985069274902344, 10.864276885986328, 8.021517753601074, 15.774494171142578, 7.136502742767334, 5.946174621582031, 16.15973663330078, 6.197572231292725, 20.77253532409668, 6.3194990158081055, 7.280620098114014, 7.346824645996094, 10.963004112243652, 8.112343788146973, 15.558405876159668, 7.52353572845459, 8.371034622192383, 8.37642765045166, 13.144104957580566, 8.330144882202148, 6.159082889556885, 5.012228488922119, 5.150278568267822, 10.064529418945312, 10.112953186035156, 10.25528621673584, 15.945905685424805, 24.487817764282227, 162.9610137939453, 86.00230407714844, 74.5075912475586, 78.42194366455078, 51.55101013183594, 33.65544891357422, 80.57401275634766, 291.3064270019531, 1542.1558837890625, 60.87217330932617, 28.147504806518555, 1718.123291015625, 233.5966796875, 1323.185302734375, 143.29212951660156, 686.1185913085938, 229.73870849609375, 1142.715576171875, 827.3338012695312, 1053.6239013671875, 313.3421630859375, 236.130615234375, 324.6849670410156, 662.8363037109375, 1313.2420654296875, 615.2030639648438, 621.3623046875, 561.515380859375, 639.5404663085938, 587.6290283203125, 494.7320556640625, 594.169189453125, 531.8106079101562, 538.4445190429688, 1429.40625, 481.87066650390625, 1352.7998046875, 873.5498657226562, 5.395332336425781, 5.8054351806640625, 6.689872741699219, 5.093638896942139, 5.206700801849365, 5.683898448944092, 5.743052005767822, 7.245266914367676, 6.001458644866943, 6.213902950286865, 16.008296966552734, 6.920141220092773, 7.211846351623535, 5.304721832275391, 7.218071937561035, 7.3141608238220215, 10.760123252868652, 6.39638090133667, 7.77982759475708, 63.82186508178711, 7.950098514556885, 24.651548385620117, 7.134522914886475, 4.665365695953369, 9.100237846374512, 9.220818519592285, 37.13418197631836, 6.1119585037231445, 17.728229522705078, 5.040637969970703, 13.616950988769531, 45.690834045410156, 79.52045440673828, 15.57518196105957, 34.96675109863281, 873.5498657226562, 42.0046272277832, 686.7095336914062, 1142.715576171875, 85.02458190917969, 531.8106079101562, 42.3114128112793, 246.7296600341797, 290.3052062988281, 63.06937789916992, 1323.185302734375, 232.95802307128906, 1053.6239013671875, 97.40387725830078, 449.0381164550781, 131.73056030273438, 396.9487609863281, 613.0645751953125, 1313.6881103515625, 915.1967163085938, 1718.123291015625, 218.63833618164062, 1429.40625, 206.36671447753906, 265.8677978515625, 935.1754150390625, 561.3369750976562, 1352.7998046875, 826.5396118164062, 504.531494140625, 483.3564147949219, 1542.1558837890625, 686.1185913085938, 561.515380859375, 10.721368789672852, 16.769359588623047, 7.652832984924316, 6.237712383270264, 7.806008338928223, 13.240304946899414, 9.11745834350586, 5.049905776977539, 5.082235813140869, 5.117564678192139, 5.158120632171631, 5.194643974304199, 5.185111045837402, 10.139184951782227, 5.252598762512207, 5.2831220626831055, 5.2151970863342285, 5.321330547332764, 5.3714375495910645, 5.388602256774902, 5.325138092041016, 5.435612201690674, 5.499163627624512, 5.48745584487915, 5.49771785736084, 5.515069961547852, 5.519735336303711, 5.51029109954834, 5.5552144050598145, 5.5586724281311035, 52.39222717285156, 13.110416412353516, 46.557456970214844, 48.82968521118164, 409.92083740234375, 118.99372100830078, 15.240742683410645, 15.585469245910645, 290.3435974121094, 47.53334045410156, 65.01529693603516, 72.69071197509766, 16.732778549194336, 17.291969299316406, 17.213115692138672, 229.73870849609375, 17.970375061035156, 66.38841247558594, 42.62627410888672, 40.839874267578125, 48.17568588256836, 117.2594223022461, 396.2441711425781, 254.85272216796875, 1352.7998046875, 165.5214385986328, 1053.6239013671875, 1718.123291015625, 218.63833618164062, 615.0693359375, 873.5498657226562, 697.5632934570312, 231.3115692138672, 115.7342758178711, 265.1517333984375, 1323.185302734375, 662.8363037109375, 622.6394653320312, 686.1185913085938, 477.21649169921875, 663.6424560546875, 291.3064270019531, 7.111663341522217, 4.665365695953369, 5.029219627380371, 6.032915115356445, 7.02901554107666, 7.045686721801758, 20.415090560913086, 15.032414436340332, 8.817636489868164, 9.151203155517578, 5.040866374969482, 5.082235813140869, 5.172030448913574, 5.210005760192871, 5.241175174713135, 5.3001580238342285, 5.288692474365234, 5.38671350479126, 5.395332336425781, 5.413542747497559, 5.4429192543029785, 5.448887825012207, 5.449799537658691, 5.450015068054199, 5.454558372497559, 5.461597442626953, 5.736957550048828, 5.9403557777404785, 6.0235915184021, 6.067432403564453, 12.99112606048584, 13.038220405578613, 13.763649940490723, 113.73836517333984, 14.021888732910156, 36.19138717651367, 39.18727111816406, 14.909879684448242, 27.821624755859375, 11.986572265625, 21.96458625793457, 140.73500061035156, 56.41047668457031, 61.693817138671875, 251.46725463867188, 24.970617294311523, 227.6341094970703, 24.891584396362305, 26.38330078125, 73.02178955078125, 89.20784759521484, 1718.123291015625, 587.6290283203125, 192.7460479736328, 653.99658203125, 1313.6881103515625, 826.5396118164062, 483.3564147949219, 697.5632934570312, 686.7095336914062, 242.33547973632812, 247.16122436523438, 164.12661743164062, 173.40711975097656, 827.3338012695312, 1352.7998046875, 282.6329345703125, 411.1592712402344, 1142.715576171875, 1323.185302734375, 1542.1558837890625, 434.02252197265625, 5.90899658203125, 9.003321647644043, 9.558568000793457, 5.040866374969482, 5.135497570037842, 5.2198100090026855, 5.2518696784973145, 5.26763391494751, 5.303377628326416, 5.363092422485352, 5.353938579559326, 5.344610214233398, 5.415008068084717, 5.417825698852539, 5.3997955322265625, 10.744059562683105, 10.943567276000977, 6.038900852203369, 6.10799503326416, 6.175503253936768, 6.247528553009033, 6.282468795776367, 6.265839099884033, 6.357824802398682, 6.3767924308776855, 6.3665080070495605, 6.354546070098877, 6.409962177276611, 6.4535746574401855, 6.429897785186768, 13.01473617553711, 46.98629379272461, 42.65480041503906, 16.963367462158203, 19.325359344482422, 20.609460830688477, 20.865924835205078, 21.34005355834961, 24.59623146057129, 59.94978713989258, 25.951669692993164, 26.549495697021484, 209.7851104736328, 134.1259002685547, 26.488672256469727, 148.92462158203125, 74.5345687866211, 286.29327392578125, 29.725013732910156, 30.540971755981445, 396.2441711425781, 32.588191986083984, 481.87066650390625, 931.3892822265625, 120.10755157470703, 653.99658203125, 120.46121215820312, 395.9462890625, 125.72738647460938, 141.92129516601562, 147.9759979248047, 567.95458984375, 639.5404663085938, 615.0693359375, 901.8005981445312, 827.3338012695312, 1323.185302734375, 237.24435424804688, 241.35464477539062, 230.24407958984375, 277.156982421875, 312.6164855957031, 313.3421630859375, 1429.40625, 534.6260986328125, 697.5632934570312, 922.1502075195312, 538.4445190429688, 750.2857055664062, 561.515380859375, 344.46307373046875, 10.381267547607422, 8.019548416137695, 13.09582233428955, 5.040637969970703, 5.012228488922119, 5.150278568267822, 10.046628952026367, 5.203813076019287, 5.379284858703613, 5.260380744934082, 5.269649028778076, 5.267894268035889, 5.5148844718933105, 10.783071517944336, 5.743052005767822, 5.898565292358398, 6.025393486022949, 6.135011672973633, 6.2119011878967285, 6.283638000488281, 6.192761421203613, 6.174994945526123, 6.318909645080566, 6.340497970581055, 6.358303546905518, 6.39404296875, 6.419734954833984, 12.474857330322266, 6.442500114440918, 6.446294784545898, 38.91353988647461, 15.860225677490234, 73.95206451416016, 18.448896408081055, 78.07792663574219, 488.5644836425781, 24.60206413269043, 58.52558135986328, 25.948511123657227, 143.29212951660156, 350.05767822265625, 30.397422790527344, 30.011550903320312, 195.4085235595703, 588.8132934570312, 100.14397430419922, 227.6195068359375, 34.04087829589844, 920.1073608398438, 274.7575988769531, 613.0645751953125, 302.5262451171875, 130.85333251953125, 773.8629150390625, 388.13311767578125, 1323.185302734375, 622.6394653320312, 622.992431640625, 199.96939086914062, 247.16122436523438, 342.7373046875, 230.27511596679688, 281.4996643066406, 274.1859130859375, 394.26324462890625, 594.169189453125, 931.3892822265625, 538.4445190429688, 1718.123291015625, 587.6290283203125, 827.3338012695312, 531.8106079101562, 518.2391357421875, 513.0781860351562], \"loglift\": [30.0, 29.0, 28.0, 27.0, 26.0, 25.0, 24.0, 23.0, 22.0, 21.0, 20.0, 19.0, 18.0, 17.0, 16.0, 15.0, 14.0, 13.0, 12.0, 11.0, 10.0, 9.0, 8.0, 7.0, 6.0, 5.0, 4.0, 3.0, 2.0, 1.0, 1.347499966621399, 1.347100019454956, 1.347000002861023, 1.3447999954223633, 1.3444000482559204, 1.344099998474121, 1.3423999547958374, 1.3415000438690186, 1.3398000001907349, 1.3396999835968018, 1.3381999731063843, 1.337499976158142, 1.3344999551773071, 1.3343000411987305, 1.3324999809265137, 1.3308000564575195, 1.3295999765396118, 1.3288999795913696, 1.3278000354766846, 1.3270000219345093, 1.3235000371932983, 1.3193000555038452, 1.317199945449829, 1.3142999410629272, 1.3137999773025513, 1.3114999532699585, 1.2935999631881714, 1.2934999465942383, 1.2927000522613525, 1.2879999876022339, 1.284600019454956, 1.2168999910354614, 1.2477999925613403, 1.218500018119812, 1.238800048828125, 1.0241999626159668, 1.0484000444412231, 1.0650999546051025, 1.0214999914169312, 0.7831000089645386, 0.8034999966621399, 0.8535000085830688, 0.656499981880188, 0.9297000169754028, 0.7009000182151794, 0.36309999227523804, 0.3264999985694885, 0.4659000039100647, 0.42399999499320984, 0.4514000117778778, 0.3012999892234802, 0.4011000096797943, 0.21279999613761902, 0.3580999970436096, 0.49399998784065247, 0.18240000307559967, 0.4693000018596649, 0.5333999991416931, 0.7010999917984009, -0.06700000166893005, 0.3880999982357025, 0.07980000227689743, 0.4401000142097473, 0.265500009059906, 0.06300000101327896, 0.23319999873638153, 0.08330000191926956, -0.23160000145435333, -0.0892999991774559, 1.4534000158309937, 1.4509999752044678, 1.4458999633789062, 1.440000057220459, 1.4332000017166138, 1.4330999851226807, 1.4323999881744385, 1.4321000576019287, 1.430899977684021, 1.4306999444961548, 1.4244999885559082, 1.4227999448776245, 1.4223999977111816, 1.4163000583648682, 1.4156999588012695, 1.4142999649047852, 1.4093999862670898, 1.4071999788284302, 1.4055999517440796, 1.405400037765503, 1.4043999910354614, 1.402400016784668, 1.4012000560760498, 1.4010000228881836, 1.4003000259399414, 1.3956999778747559, 1.3948999643325806, 1.3944000005722046, 1.392799973487854, 1.3919999599456787, 1.3913999795913696, 1.3867000341415405, 1.3782000541687012, 1.3696999549865723, 1.3770999908447266, 1.3803000450134277, 1.3704999685287476, 1.347599983215332, 1.375, 1.3104000091552734, 1.2793999910354614, 1.3288999795913696, 1.3272000551223755, 1.3021999597549438, 1.222100019454956, 1.1756999492645264, 1.089900016784668, 1.2822999954223633, 1.1836999654769897, 1.0221999883651733, 0.9085999727249146, 1.1151000261306763, 0.9366000294685364, 0.582099974155426, 0.9659000039100647, 1.1649999618530273, 0.11270000040531158, 0.16369999945163727, 0.7684000134468079, 0.5978999733924866, 0.36010000109672546, 0.08669999986886978, 0.2736000120639801, 0.030899999663233757, -0.1500999927520752, -0.1972000002861023, 0.290800005197525, 0.1606999933719635, -0.19189999997615814, -0.04839999973773956, 0.2126999944448471, 0.15839999914169312, 0.3068000078201294, -0.1145000010728836, 0.07599999755620956, -0.07090000063180923, 0.2678999900817871, -0.5928000211715698, 0.06610000133514404, 0.11900000274181366, -0.05350000038743019, -0.21469999849796295, -0.41530001163482666, -0.36230000853538513, 1.90339994430542, 1.8798999786376953, 1.8734999895095825, 1.8629000186920166, 1.8622000217437744, 1.8593000173568726, 1.8310999870300293, 1.8288999795913696, 1.8251999616622925, 1.82260000705719, 1.8108999729156494, 1.8107999563217163, 1.8087999820709229, 1.8080999851226807, 1.8028000593185425, 1.7996000051498413, 1.7954000234603882, 1.7934000492095947, 1.7920000553131104, 1.7898999452590942, 1.7898999452590942, 1.7896000146865845, 1.7860000133514404, 1.773900032043457, 1.75409996509552, 1.753999948501587, 1.7470999956130981, 1.7417000532150269, 1.7376999855041504, 1.7288000583648682, 1.7015000581741333, 1.6444000005722046, 1.688599944114685, 1.7171000242233276, 1.6833000183105469, 1.604599952697754, 1.680999994277954, 1.5018999576568604, 1.1304999589920044, 1.4371000528335571, 1.558500051498413, 1.2811000347137451, 1.5125999450683594, 1.1991000175476074, 1.2253999710083008, 1.4878000020980835, 1.432800054550171, 1.2156000137329102, 0.5238999724388123, 0.7813000082969666, 1.154099941253662, 0.5045999884605408, 0.7032999992370605, 0.5913000106811523, 0.5759999752044678, 0.20270000398159027, 0.5523999929428101, 0.4291999936103821, 0.3901999890804291, 0.48969998955726624, 0.7358999848365784, 0.4390000104904175, 0.1467999964952469, 0.061900001019239426, 0.7314000129699707, -0.0008999999845400453, 0.31529998779296875, 0.23600000143051147, 0.11299999803304672, -0.1606999933719635, 0.10589999705553055, -0.21950000524520874, -0.18539999425411224, -0.05460000038146973, 0.13249999284744263, 0.05040000006556511, 0.20229999721050262, 0.18170000612735748, -0.17550000548362732, 2.165600061416626, 2.154099941253662, 2.1510000228881836, 2.1503000259399414, 2.147900104522705, 2.1465001106262207, 2.1359000205993652, 2.1282999515533447, 2.1182000637054443, 2.1171998977661133, 2.1054000854492188, 2.093400001525879, 2.0894999504089355, 2.089400053024292, 2.0810000896453857, 2.075900077819824, 2.072000026702881, 2.070499897003174, 2.0701000690460205, 2.0687999725341797, 2.06820011138916, 2.0676000118255615, 2.0666000843048096, 2.0599000453948975, 2.0564000606536865, 2.0560998916625977, 2.0552000999450684, 2.052799940109253, 2.0527000427246094, 2.044800043106079, 2.02620005607605, 2.0046000480651855, 2.0083000659942627, 1.9830000400543213, 1.926900029182434, 1.9255000352859497, 1.9752999544143677, 1.868299961090088, 1.9967999458312988, 1.7271000146865845, 1.7023999691009521, 1.5878000259399414, 1.2116999626159668, 1.0247000455856323, 0.8707000017166138, 1.6095999479293823, 1.645799994468689, 1.054800033569336, 0.9014999866485596, 0.5562999844551086, 0.847000002861023, 0.4088999927043915, 0.1429000049829483, 0.5181999802589417, 0.14259999990463257, 0.24160000681877136, 0.13539999723434448, 0.5683000087738037, 0.27219998836517334, 0.257099986076355, 0.48559999465942383, -0.1754000037908554, 2.273400068283081, 2.24780011177063, 2.2402000427246094, 2.237600088119507, 2.2304000854492188, 2.2262001037597656, 2.222399950027466, 2.2184998989105225, 2.218400001525879, 2.213200092315674, 2.2126998901367188, 2.2035999298095703, 2.1689000129699707, 2.1519999504089355, 2.149199962615967, 2.1438000202178955, 2.1368000507354736, 2.1326000690460205, 2.1280999183654785, 2.125999927520752, 2.1196000576019287, 2.1180999279022217, 2.116300106048584, 2.1003000736236572, 2.094599962234497, 2.0920000076293945, 2.091900110244751, 2.0869998931884766, 2.075900077819824, 2.0745999813079834, 2.0653998851776123, 2.0397000312805176, 2.012399911880493, 2.0587000846862793, 2.0459001064300537, 1.9681999683380127, 1.8499000072479248, 1.9397000074386597, 2.073199987411499, 1.8595000505447388, 1.9912999868392944, 1.969099998474121, 1.999500036239624, 1.8808000087738037, 2.002700090408325, 1.8209999799728394, 1.7761000394821167, 1.8600000143051147, 1.742400050163269, 1.7038999795913696, 1.5206999778747559, 1.725100040435791, 1.7177000045776367, 1.4943000078201294, 1.8422000408172607, 0.9200000166893005, 1.2467000484466553, 1.079699993133545, 1.225000023841858, 1.250599980354309, 0.8931999802589417, 1.1597000360488892, 0.9980999827384949, 1.2476999759674072, 0.8615999817848206, 0.9451000094413757, 1.065000057220459, 1.1598999500274658, 1.3726999759674072, 1.354099988937378, 0.40709999203681946, 0.9760000109672546, 0.2184000015258789, 0.9998999834060669, 1.4031000137329102, 0.12880000472068787, 1.2236000299453735, 0.5789999961853027, 0.2777999937534332, 0.0820000022649765, 0.31040000915527344, 0.23639999330043793, -0.11680000275373459, 0.26840001344680786, 0.09109999984502792, -0.3569999933242798, 0.027000000700354576, 0.016699999570846558, 0.27399998903274536, 0.4934999942779541, 0.18799999356269836, -0.5663999915122986, 0.13030000030994415, 0.3578999936580658, 0.20100000500679016, 0.06689999997615814, 0.14190000295639038, -0.6926000118255615, 2.422600030899048, 2.4214000701904297, 2.4214000701904297, 2.419100046157837, 2.415800094604492, 2.4142000675201416, 2.4126999378204346, 2.407599925994873, 2.4047999382019043, 2.4045000076293945, 2.403899908065796, 2.395400047302246, 2.394399881362915, 2.3938000202178955, 2.3924999237060547, 2.3915998935699463, 2.389400005340576, 2.3880999088287354, 2.3842999935150146, 2.382200002670288, 2.3798000812530518, 2.3768999576568604, 2.3626999855041504, 2.3606998920440674, 2.3515000343322754, 2.3304998874664307, 2.329200029373169, 2.3180999755859375, 2.3178000450134277, 2.317699909210205, 2.244800090789795, 2.306299924850464, 2.302000045776367, 2.1201999187469482, 2.2492001056671143, 1.7992000579833984, 1.7211999893188477, 1.426200032234192, 1.248900055885315, 0.9210000038146973, 1.5549999475479126, 1.2315000295639038, 0.7207000255584717, 0.3490000069141388, 0.5475999712944031, 0.5389999747276306, 0.39719998836517334, 0.5651000142097473, 0.5656999945640564, -0.04179999977350235, 0.006599999964237213, 0.5234000086784363, 0.08399999886751175, -0.15929999947547913, -0.2806999981403351, 0.24480000138282776, 0.09679999947547913, 2.9885001182556152, 2.9458999633789062, 2.893199920654297, 2.874000072479248, 2.7813000679016113, 2.76200008392334, 2.7320001125335693, 2.7202999591827393, 2.7184998989105225, 2.717900037765503, 2.7118000984191895, 2.698699951171875, 2.648099899291992, 2.6410000324249268, 2.5961999893188477, 2.592900037765503, 2.5905001163482666, 2.58870005607605, 2.571700096130371, 2.570199966430664, 2.5448999404907227, 2.5411999225616455, 2.5280001163482666, 2.5179998874664307, 2.517899990081787, 2.4921998977661133, 2.485300064086914, 2.484999895095825, 2.4719998836517334, 2.46589994430542, 2.458699941635132, 2.357800006866455, 2.321700096130371, 2.4293999671936035, 1.9986000061035156, 2.048799991607666, 2.0160000324249268, 2.0288000106811523, 1.8553999662399292, 1.4666999578475952, 2.2737998962402344, 1.0785000324249268, 1.5951999425888062, 1.1900999546051025, 1.5570000410079956, 1.899899959564209, 0.5325000286102295, 1.166100025177002, 0.7767999768257141, 1.8912999629974365, 0.8859000205993652, 0.3637999892234802, 1.2755000591278076, 0.8366000056266785, 0.17990000545978546, 0.4465999901294708, 0.8583999872207642, 0.573199987411499, 0.3619000017642975, 0.8217999935150146, 0.5055000185966492, 0.04740000143647194, 0.1965000033378601, -0.05739999935030937, 0.13650000095367432, 0.34209999442100525, 0.5066999793052673, 0.3995000123977661, -0.15360000729560852, 0.28999999165534973, -0.3156000077724457, 3.82069993019104, 3.6552999019622803, 3.5947000980377197, 3.531399965286255, 3.4623000621795654, 3.439199924468994, 3.2797999382019043, 3.2156999111175537, 3.1498000621795654, 3.1426000595092773, 3.132200002670288, 3.1233999729156494, 3.1117000579833984, 3.101599931716919, 3.084199905395508, 3.077500104904175, 3.0764999389648438, 3.0759999752044678, 3.0687999725341797, 3.0306999683380127, 3.0292999744415283, 3.018899917602539, 3.0178000926971436, 3.0123000144958496, 3.001199960708618, 2.981100082397461, 2.969599962234497, 2.947499990463257, 2.9407999515533447, 2.9407999515533447, 2.940000057220459, 2.902899980545044, 2.7511000633239746, 2.8687000274658203, 2.8619000911712646, 2.2816998958587646, 1.5530999898910522, 2.0546000003814697, 2.6679000854492188, 1.9078999757766724, 1.9111000299453735, 2.491499900817871, 2.1888999938964844, 2.591900110244751, 1.7101000547409058, 1.4788999557495117, 2.2492001056671143, 1.0958000421524048, 0.7142999768257141, 0.5228000283241272, 0.21940000355243683, 0.6474000215530396, 0.9254000186920166, 1.726099967956543, 0.21410000324249268, 0.31540000438690186, 0.7900999784469604, 0.023800000548362732, 0.025699999183416367, 0.7128000259399414, 0.6456999778747559, 0.47189998626708984, 0.4401000142097473, 0.9606999754905701, 0.36809998750686646, 0.6227999925613403, -0.025800000876188278, 0.44830000400543213, 0.5034000277519226, -0.30550000071525574, 0.2865000069141388, -0.06499999761581421, -0.49720001220703125, -0.8503000140190125, -0.39579999446868896, 4.698200225830078, 4.523499965667725, 3.9814999103546143, 3.724900007247925, 3.6614999771118164, 3.623300075531006, 3.5978000164031982, 3.5894999504089355, 3.583199977874756, 3.5076000690460205, 3.496999979019165, 3.4932000637054443, 3.490600109100342, 3.4851999282836914, 3.4762001037597656, 3.461899995803833, 3.452399969100952, 3.4144999980926514, 3.400700092315674, 3.379499912261963, 3.375, 3.3652000427246094, 3.3350000381469727, 3.3285000324249268, 3.2822000980377197, 3.258699893951416, 3.2409000396728516, 3.2353999614715576, 3.2237000465393066, 3.2128000259399414, 3.2086000442504883, 3.198699951171875, 3.095900058746338, 2.9504001140594482, 3.1389000415802, 2.607800006866455, 2.5648000240325928, 3.101599931716919, 3.164099931716919, 1.6159000396728516, 2.6703999042510986, 2.321899890899658, 0.4943999946117401, 0.35030001401901245, 2.9382998943328857, 0.569599986076355, 2.1684000492095947, 1.545300006866455, 0.46630001068115234, 1.3499000072479248, 2.113600015640259, 1.1016000509262085, 0.16590000689029694, 0.8733999729156494, 1.9781999588012695, 0.7882000207901001, 0.384799987077713, 0.2720000147819519, 0.3555000126361847, -0.19499999284744263, -0.0640999972820282, 0.3319999873638153, -0.47600001096725464, 0.320499986410141, 0.329800009727478, 4.128799915313721, 4.121300220489502, 4.013800144195557, 3.812999963760376, 3.809499979019165, 3.782099962234497, 3.7028000354766846, 3.6703999042510986, 3.6559998989105225, 3.6321001052856445, 3.5922000408172607, 3.5729000568389893, 3.56030011177063, 3.525700092315674, 3.521899938583374, 3.5195999145507812, 3.504199981689453, 3.497299909591675, 3.3440001010894775, 3.3238000869750977, 3.2643001079559326, 3.263200044631958, 3.245699882507324, 3.230299949645996, 3.2200000286102295, 3.1649999618530273, 3.1494998931884766, 3.08270001411438, 3.0732998847961426, 3.0510001182556152, 3.036400079727173, 3.0308001041412354, 3.024600028991699, 2.968899965286255, 2.8276000022888184, 2.2144999504089355, 2.3852999210357666, 2.31469988822937, 2.2892000675201416, 2.427299976348877, 2.609299898147583, 2.1953999996185303, 1.5384000539779663, 0.5971999764442444, 2.2632999420166016, 2.6849000453948975, 0.3181000053882599, 1.3904000520706177, 0.18400000035762787, 1.625499963760376, 0.5956000089645386, 1.2996000051498413, 0.11469999700784683, 0.34049999713897705, 0.16699999570846558, 1.0161999464035034, 1.1933000087738037, 0.954800009727478, 0.4189999997615814, -0.14710000157356262, 0.43130001425743103, 0.4036000072956085, 0.46140000224113464, 0.3416999876499176, 0.4097000062465668, 0.5594000220298767, 0.3650999963283539, 0.4555000066757202, 0.4408000111579895, -0.49889999628067017, 0.5311999917030334, -0.47510001063346863, -0.08659999817609787, 4.1940999031066895, 4.094699859619141, 3.9916000366210938, 3.843400001525879, 3.8427000045776367, 3.7578999996185303, 3.7499001026153564, 3.7397000789642334, 3.705899953842163, 3.6654000282287598, 3.622499942779541, 3.5632998943328857, 3.5034000873565674, 3.502500057220459, 3.502500057220459, 3.4993999004364014, 3.4990999698638916, 3.4700000286102295, 3.4467999935150146, 3.4447999000549316, 3.4310998916625977, 3.3696000576019287, 3.351799964904785, 3.2978999614715576, 3.288100004196167, 3.274399995803833, 3.2578001022338867, 3.2462000846862793, 3.2265000343322754, 3.216200113296509, 3.2151999473571777, 3.0778000354766846, 2.964400053024292, 3.151400089263916, 2.74180006980896, 1.0211999416351318, 2.441999912261963, 0.8238999843597412, 0.4219000041484833, 1.9984999895095825, 0.8119000196456909, 2.401400089263916, 1.285599946975708, 1.1448999643325806, 2.136699914932251, 0.10029999911785126, 1.2578999996185303, 0.2102999985218048, 1.8210999965667725, 0.751800000667572, 1.562600016593933, 0.7516999840736389, 0.427700012922287, -0.14560000598430634, 0.0812000036239624, -0.4699999988079071, 1.1390999555587769, -0.3824000060558319, 1.1842999458312988, 0.9642999768257141, -0.09059999883174896, 0.31540000438690186, -0.48539999127388, -0.07150000333786011, 0.35679998993873596, 0.3917999863624573, -0.7343999743461609, 0.042500000447034836, 0.2224999964237213, 4.626999855041504, 4.178100109100342, 4.124300003051758, 3.9384000301361084, 3.710700035095215, 3.578399896621704, 3.5553998947143555, 3.4883999824523926, 3.480799913406372, 3.473400115966797, 3.4644999504089355, 3.4595000743865967, 3.4553000926971436, 3.4549999237060547, 3.449199914932251, 3.4426000118255615, 3.4375, 3.4279000759124756, 3.426800012588501, 3.4233999252319336, 3.4212000370025635, 3.4121999740600586, 3.402400016784668, 3.4007999897003174, 3.400599956512451, 3.3998000621795654, 3.3947999477386475, 3.393699884414673, 3.392199993133545, 3.391900062561035, 3.1654999256134033, 3.194200038909912, 2.8208999633789062, 2.7555999755859375, 1.9728000164031982, 2.355600118637085, 3.035099983215332, 3.021699905395508, 1.930400013923645, 2.547800064086914, 2.4189999103546143, 2.358599901199341, 2.9458000659942627, 2.9228999614715576, 2.9221999645233154, 1.6913000345230103, 2.8763999938964844, 2.2523999214172363, 2.414299964904785, 2.3854000568389893, 2.2913999557495117, 1.817199945449829, 1.1311999559402466, 1.313599944114685, 0.32170000672340393, 1.5433000326156616, 0.2872999906539917, -0.05090000107884407, 1.2898000478744507, 0.5958999991416931, 0.3400999903678894, 0.48330000042915344, 1.2386000156402588, 1.7021000385284424, 1.0878000259399414, -0.16699999570846558, 0.31119999289512634, 0.33379998803138733, 0.19089999794960022, 0.5034000277519226, 0.19670000672340393, 0.9276999831199646, 4.7052001953125, 4.441800117492676, 4.400899887084961, 4.2220001220703125, 4.064799785614014, 4.062099933624268, 4.028800010681152, 3.986799955368042, 3.842400074005127, 3.80430006980896, 3.729300022125244, 3.7279000282287598, 3.7144999504089355, 3.7121999263763428, 3.6975998878479004, 3.6923999786376953, 3.6826999187469482, 3.674999952316284, 3.6705000400543213, 3.668600082397461, 3.6649999618530273, 3.6624999046325684, 3.6589999198913574, 3.648099899291992, 3.6438000202178955, 3.6321001052856445, 3.6071999073028564, 3.5617001056671143, 3.5608999729156494, 3.555799961090088, 3.450000047683716, 3.446700096130371, 3.3982999324798584, 2.9651999473571777, 3.375200033187866, 3.0978000164031982, 3.019200086593628, 3.3120999336242676, 3.0845000743865967, 3.324700117111206, 2.9202001094818115, 1.8839999437332153, 2.3778998851776123, 2.2987000942230225, 1.482100009918213, 2.8013999462127686, 1.4984999895095825, 2.793600082397461, 2.7434000968933105, 2.1254000663757324, 1.9287999868392944, -0.13040000200271606, 0.5564000010490417, 1.3348000049591064, 0.4447000026702881, -0.09709999710321426, 0.20579999685287476, 0.5934000015258789, 0.2045000046491623, 0.18080000579357147, 1.0429999828338623, 0.9842000007629395, 1.3351000547409058, 1.2633999586105347, -0.16140000522136688, -0.6085000038146973, 0.7879999876022339, 0.44780001044273376, -0.5037999749183655, -0.6471999883651733, -0.8051999807357788, 0.37619999051094055, 4.390100002288818, 3.9656999111175537, 3.906399965286255, 3.877500057220459, 3.865600109100342, 3.851799964904785, 3.842099905014038, 3.8376998901367188, 3.8292999267578125, 3.8248000144958496, 3.8234000205993652, 3.821899890899658, 3.813999891281128, 3.8115999698638916, 3.8041999340057373, 3.785599946975708, 3.77239990234375, 3.7053000926971436, 3.68969988822937, 3.6839001178741455, 3.682300090789795, 3.6623001098632812, 3.65910005569458, 3.6535000801086426, 3.6533000469207764, 3.6498000621795654, 3.649399995803833, 3.640399932861328, 3.63919997215271, 3.6386001110076904, 3.5959999561309814, 3.211199998855591, 3.0866000652313232, 3.334199905395508, 3.202500104904175, 3.1398000717163086, 3.127700090408325, 3.1029000282287598, 2.9642999172210693, 2.471100091934204, 2.908799886703491, 2.8863000869750977, 1.7280999422073364, 1.9560999870300293, 2.8856000900268555, 1.840999960899353, 2.2460999488830566, 1.4175000190734863, 2.7778000831604004, 2.744499921798706, 1.1025999784469604, 2.683300018310547, 0.9093999862670898, 0.4309999942779541, 1.7799999713897705, 0.6105999946594238, 1.7763999700546265, 0.8928999900817871, 1.7288000583648682, 1.6129000186920166, 1.573099970817566, 0.5264999866485596, 0.41620001196861267, 0.4462999999523163, 0.09769999980926514, 0.15489999949932098, -0.2547000050544739, 1.1162999868392944, 1.0922000408172607, 1.12909996509552, 0.9491000175476074, 0.840399980545044, 0.8305000066757202, -0.6069999933242798, 0.3240000009536743, 0.05849999934434891, -0.2248000055551529, 0.3001999855041504, -0.029100000858306885, 0.2485000044107437, 0.7346000075340271, 4.204999923706055, 4.0690999031066895, 3.974299907684326, 3.876699924468994, 3.8743999004364014, 3.8489999771118164, 3.8427000045776367, 3.842099905014038, 3.831899881362915, 3.830399990081787, 3.828900098800659, 3.825700044631958, 3.7832000255584717, 3.7737998962402344, 3.739500045776367, 3.7149999141693115, 3.6923000812530518, 3.6723999977111816, 3.668299913406372, 3.667099952697754, 3.6649999618530273, 3.6628000736236572, 3.646199941635132, 3.642899990081787, 3.640500068664551, 3.6333000659942627, 3.6324000358581543, 3.6287999153137207, 3.627500057220459, 3.6268999576568604, 3.5906999111175537, 3.3875999450683594, 2.7855000495910645, 3.2362000942230225, 2.481800079345703, 1.4603999853134155, 2.948699951171875, 2.4827001094818115, 2.8963000774383545, 1.9036999940872192, 1.3909000158309937, 2.752500057220459, 2.754300117492676, 1.639299988746643, 0.891700029373169, 1.9453999996185303, 1.4155999422073364, 2.631200075149536, 0.46239998936653137, 1.2173000574111938, 0.6765000224113464, 1.1318000555038452, 1.6866999864578247, 0.43689998984336853, 0.891700029373169, -0.05939999967813492, 0.4909999966621399, 0.454800009727478, 1.2736999988555908, 1.0752999782562256, 0.79830002784729, 1.1207000017166138, 0.9433000087738037, 0.95169997215271, 0.6187000274658203, 0.2515000104904175, -0.16519999504089355, 0.3352999985218048, -0.7681999802589417, 0.23250000178813934, -0.10100000351667404, 0.3253999948501587, 0.3352000117301941, 0.34389999508857727], \"logprob\": [30.0, 29.0, 28.0, 27.0, 26.0, 25.0, 24.0, 23.0, 22.0, 21.0, 20.0, 19.0, 18.0, 17.0, 16.0, 15.0, 14.0, 13.0, 12.0, 11.0, 10.0, 9.0, 8.0, 7.0, 6.0, 5.0, 4.0, 3.0, 2.0, 1.0, -5.328499794006348, -5.581299781799316, -5.635300159454346, -6.171800136566162, -4.8917999267578125, -6.092299938201904, -6.219799995422363, -6.4928998947143555, -6.805600166320801, -6.881700038909912, -7.06820011138916, -7.110400199890137, -7.315899848937988, -7.387599945068359, -7.466800212860107, -6.794400215148926, -7.69320011138916, -7.645199775695801, -7.694900035858154, -7.774499893188477, -7.923299789428711, -7.896399974822998, -8.138099670410156, -8.180000305175781, -7.076200008392334, -8.184100151062012, -8.715200424194336, -8.71500015258789, -8.650699615478516, -8.790200233459473, -8.65880012512207, -6.749599933624268, -7.521699905395508, -7.462699890136719, -7.859899997711182, -5.706500053405762, -6.406899929046631, -6.581600189208984, -6.456999778747559, -5.512199878692627, -5.629300117492676, -6.155900001525879, -5.612599849700928, -6.5320000648498535, -5.915999889373779, -5.027400016784668, -4.988100051879883, -5.365099906921387, -5.394800186157227, -5.486800193786621, -5.173900127410889, -5.449999809265137, -5.232800006866455, -5.470699787139893, -5.739500045776367, -5.292399883270264, -5.760900020599365, -5.898499965667725, -6.105199813842773, -5.273499965667725, -5.769599914550781, -5.615699768066406, -5.964600086212158, -5.893400192260742, -5.819900035858154, -5.9029998779296875, -5.878900051116943, -5.845900058746338, -5.904099941253662, -6.42609977722168, -5.547500133514404, -7.180200099945068, -8.172200202941895, -8.518099784851074, -7.8541998863220215, -7.75629997253418, -8.336700439453125, -7.891200065612793, -6.4745001792907715, -7.564799785614014, -7.358099937438965, -8.52970027923584, -7.943699836730957, -8.762100219726562, -8.68239974975586, -8.687100410461426, -8.690299987792969, -7.638700008392334, -8.957300186157227, -8.619000434875488, -8.96049976348877, -7.590099811553955, -8.866000175476074, -8.282600402832031, -8.70110034942627, -9.074999809265137, -8.702799797058105, -8.088700294494629, -6.031799793243408, -6.551199913024902, -6.881999969482422, -6.490699768066406, -6.567200183868408, -7.1020002365112305, -7.400400161743164, -6.997300148010254, -6.6178998947143555, -7.594399929046631, -6.543399810791016, -6.372700214385986, -7.1570000648498535, -7.364200115203857, -7.161600112915039, -6.366000175476074, -6.035999774932861, -5.549600124359131, -7.253200054168701, -6.820799827575684, -6.524199962615967, -6.23829984664917, -6.8678998947143555, -6.44379997253418, -5.651599884033203, -6.6194000244140625, -7.028900146484375, -5.093800067901611, -5.303999900817871, -6.346399784088135, -6.075500011444092, -5.812300205230713, -5.527599811553955, -5.92519998550415, -5.664599895477295, -5.595600128173828, -5.587600231170654, -6.057600021362305, -5.947199821472168, -5.666800022125244, -5.8632001876831055, -6.076300144195557, -6.0625, -6.139699935913086, -5.96560001373291, -6.075399875640869, -6.074999809265137, -6.183599948883057, -6.0680999755859375, -6.2133002281188965, -6.260200023651123, -6.248300075531006, -6.24970006942749, -6.244100093841553, -6.245200157165527, -8.01609992980957, -8.330300331115723, -7.783899784088135, -8.267800331115723, -7.441199779510498, -8.643199920654297, -8.927399635314941, -8.929100036621094, -7.559299945831299, -8.935500144958496, -7.5071001052856445, -9.104700088500977, -9.106499671936035, -8.181099891662598, -6.3983001708984375, -9.11769962310791, -9.121700286865234, -9.125900268554688, -9.122900009155273, -6.786900043487549, -9.126099586486816, -9.1274995803833, -8.522899627685547, -8.852499961853027, -9.15719985961914, -8.780400276184082, -7.92140007019043, -6.349999904632568, -5.059700012207031, -8.779399871826172, -6.364999771118164, -6.13700008392334, -7.638199806213379, -8.262200355529785, -7.99459981918335, -7.6255998611450195, -8.366999626159668, -7.28410005569458, -5.146900177001953, -6.920300006866455, -7.67579984664917, -6.391300201416016, -7.527400016784668, -6.002799987792969, -6.304699897766113, -7.444900035858154, -7.335899829864502, -6.660799980163574, -4.94379997253418, -5.665200233459473, -6.722400188446045, -5.314199924468994, -5.774499893188477, -5.607399940490723, -5.644999980926514, -5.003799915313721, -5.71589994430542, -5.5081000328063965, -5.492700099945068, -5.731800079345703, -6.172299861907959, -5.75570011138916, -5.46750020980835, -5.413400173187256, -6.252999782562256, -5.446400165557861, -5.792600154876709, -5.768099784851074, -5.7017998695373535, -5.475299835205078, -5.722899913787842, -5.610000133514404, -5.660299777984619, -5.750100135803223, -5.992000102996826, -5.984600067138672, -6.031300067901611, -6.041800022125244, -6.026500225067139, -4.460400104522705, -4.17110013961792, -5.982999801635742, -6.486100196838379, -7.451200008392334, -7.8094000816345215, -7.568299770355225, -7.329800128936768, -7.0096001625061035, -7.8429999351501465, -5.4653000831604, -6.695400238037109, -6.378799915313721, -7.212600231170654, -6.427700042724609, -7.34119987487793, -6.131899833679199, -8.754799842834473, -8.461999893188477, -8.140600204467773, -8.757699966430664, -7.066199779510498, -8.760100364685059, -6.911600112915039, -8.477499961853027, -8.15470027923584, -7.842400074005127, -3.783600091934204, -7.50629997253418, -7.9527997970581055, -4.83050012588501, -4.635499954223633, -5.517899990081787, -5.787199974060059, -5.2778000831604, -5.92710018157959, -6.72189998626709, -5.278900146484375, -7.117099761962891, -4.9670000076293945, -4.8460001945495605, -5.402400016784668, -4.750400066375732, -4.28980016708374, -4.9481000900268555, -6.39300012588501, -6.4868998527526855, -5.507699966430664, -5.367599964141846, -4.918900012969971, -5.477799892425537, -5.036600112915039, -5.063600063323975, -5.420000076293945, -5.247900009155273, -5.372700214385986, -5.3394999504089355, -5.661900043487549, -5.558800220489502, -5.593999862670898, -5.6722002029418945, -5.643099784851074, -7.751100063323975, -8.479999542236328, -8.488499641418457, -8.35420036315918, -8.498600006103516, -8.659700393676758, -8.66450023651123, -8.667200088500977, -8.669099807739258, -8.51710033416748, -8.673800468444824, -8.52560043334961, -7.492400169372559, -8.736000061035156, -8.736800193786621, -8.222999572753906, -8.133299827575684, -8.65939998626709, -8.609199523925781, -8.662500381469727, -6.231800079345703, -8.484199523925781, -8.482799530029297, -8.264200210571289, -8.27280044555664, -8.64799976348877, -8.32409954071045, -8.278400421142578, -8.203900337219238, -8.885299682617188, -7.391300201416016, -7.031799793243408, -6.520899772644043, -7.695700168609619, -7.616300106048584, -6.8993000984191895, -6.465199947357178, -7.271399974822998, -8.19320011138916, -6.837299823760986, -7.781099796295166, -7.690999984741211, -7.8420000076293945, -7.360899925231934, -7.900300025939941, -7.267300128936768, -7.109499931335449, -7.461900234222412, -7.1072001457214355, -7.020100116729736, -6.47599983215332, -7.172100067138672, -7.1570000648498535, -6.58650016784668, -7.497200012207031, -5.300899982452393, -6.19980001449585, -5.852099895477295, -6.169099807739258, -6.235799789428711, -5.486000061035156, -6.0731000900268555, -5.781599998474121, -6.34660005569458, -5.777900218963623, -5.92609977722168, -6.125699996948242, -6.291500091552734, -6.614999771118164, -6.592800140380859, -5.407599925994873, -6.152200222015381, -5.249300003051758, -6.2164998054504395, -6.686800003051758, -5.485499858856201, -6.55109977722168, -5.935200214385986, -5.757199764251709, -5.613500118255615, -5.797500133514404, -5.7677001953125, -5.591700077056885, -5.855999946594238, -5.791800022125244, -5.563499927520752, -5.910299777984619, -5.921599864959717, -6.014999866485596, -6.088900089263916, -6.035600185394287, -5.88100004196167, -6.06850004196167, -6.099699974060059, -6.0904998779296875, -6.084499835968018, -6.091800212860107, -6.083000183105469, -4.778600215911865, -3.8817999362945557, -5.588099956512451, -3.6937999725341797, -5.729700088500977, -5.254199981689453, -5.357699871063232, -4.8572001457214355, -6.809599876403809, -6.6315999031066895, -5.885000228881836, -6.921800136566162, -6.643199920654297, -6.959700107574463, -4.7195000648498535, -7.370299816131592, -7.266300201416016, -6.8267998695373535, -6.600500106811523, -6.3744001388549805, -7.328100204467773, -7.443600177764893, -7.458199977874756, -7.521200180053711, -6.311600208282471, -8.134699821472168, -8.029800415039062, -8.2677001953125, -8.403900146484375, -8.40410041809082, -4.641300201416016, -7.957699775695801, -7.874100208282471, -6.076300144195557, -7.516200065612793, -5.1265997886657715, -5.0015997886657715, -4.869200229644775, -4.909999847412109, -5.30049991607666, -6.348199844360352, -5.96120023727417, -5.512800216674805, -5.125899791717529, -5.4145002365112305, -5.496099948883057, -5.433800220489502, -5.6072998046875, -5.711699962615967, -5.432300090789795, -5.468599796295166, -5.76800012588501, -5.611499786376953, -5.604800224304199, -5.595200061798096, -5.759200096130371, -5.786099910736084, -7.670899868011475, -7.847599983215332, -7.900899887084961, -7.665599822998047, -7.563199996948242, -4.533699989318848, -5.612599849700928, -8.22719955444336, -8.22350025177002, -8.062100410461426, -8.140700340270996, -8.082599639892578, -8.148300170898438, -7.915299892425537, -8.348999977111816, -8.189800262451172, -7.9334001541137695, -8.343000411987305, -8.36709976196289, -4.991799831390381, -8.10569953918457, -8.442500114440918, -8.256600379943848, -8.116000175476074, -7.65339994430542, -8.44890022277832, -8.45680046081543, -7.154799938201904, -8.168000221252441, -8.468000411987305, -7.127799987792969, -6.621399879455566, -6.271599769592285, -7.733399868011475, -5.2032999992370605, -6.497900009155273, -6.434599876403809, -6.627500057220459, -6.410900115966797, -5.7519001960754395, -7.5528998374938965, -5.3007001876831055, -6.281199932098389, -5.532800197601318, -6.224400043487549, -6.874499797821045, -4.673999786376953, -5.818399906158447, -5.456999778747559, -7.008299827575684, -5.730999946594238, -5.103899955749512, -6.2546000480651855, -5.841800212860107, -5.210599899291992, -5.490699768066406, -5.939000129699707, -5.695199966430664, -5.521100044250488, -5.927000045776367, -5.716000080108643, -5.4278998374938965, -5.632299900054932, -5.502900123596191, -5.678299903869629, -5.782299995422363, -5.860099792480469, -5.823999881744385, -5.76800012588501, -5.90880012512207, -5.790500164031982, -7.170100212097168, -7.166500091552734, -7.2170000076293945, -7.459700107574463, -7.45550012588501, -6.5304999351501465, -7.531099796295166, -7.446100234985352, -7.63700008392334, -7.549799919128418, -7.842299938201904, -7.511000156402588, -7.841599941253662, -7.847499847412109, -7.457399845123291, -7.845200061798096, -7.587699890136719, -7.716400146484375, -7.924900054931641, -7.6097002029418945, -7.439599990844727, -7.841899871826172, -7.936600208282471, -7.920100212097168, -7.907299995422363, -7.865900039672852, -7.274899959564209, -7.846799850463867, -7.86929988861084, -7.216300010681152, -7.839799880981445, -7.1743998527526855, -6.768400192260742, -7.444300174713135, -7.569499969482422, -6.295000076293945, -4.724299907684326, -6.122099876403809, -7.23769998550415, -6.034599781036377, -6.155399799346924, -7.020999908447266, -6.625899791717529, -7.1641998291015625, -6.170300006866455, -5.914299964904785, -6.795499801635742, -5.675600051879883, -5.458099842071533, -5.296000003814697, -5.248300075531006, -5.641600131988525, -5.872000217437744, -6.479599952697754, -5.400199890136719, -5.535699844360352, -5.8557000160217285, -5.366700172424316, -5.4197998046875, -5.841400146484375, -5.800899982452393, -5.722799777984619, -5.758699893951416, -6.054699897766113, -5.852799892425537, -6.051400184631348, -5.84060001373291, -6.0295000076293945, -6.050000190734863, -5.780700206756592, -5.992800235748291, -6.002299785614014, -5.972099781036377, -6.05679988861084, -6.091300010681152, -4.873799800872803, -5.722099781036377, -3.89490008354187, -7.281099796295166, -7.302199840545654, -7.337299823760986, -7.366199970245361, -7.245699882507324, -5.973599910736084, -7.1417999267578125, -6.936600208282471, -7.303100109100342, -7.4481000900268555, -7.311299800872803, -7.338799953460693, -7.302599906921387, -7.48330020904541, -7.541100025177002, -7.299200057983398, -6.874499797821045, -7.430600166320801, -7.304699897766113, -7.30019998550415, -7.480800151824951, -5.6209001541137695, -4.617800235748291, -6.921999931335449, -7.284299850463867, -7.581200122833252, -7.301700115203857, -6.002500057220459, -6.4791998863220215, -5.836699962615967, -5.863999843597412, -6.744699954986572, -5.999100208282471, -6.057300090789795, -6.953000068664551, -7.069200038909912, -5.531000137329102, -6.5960001945495605, -6.31820011138916, -4.973299980163574, -4.964300155639648, -6.904300212860107, -5.313399791717529, -6.400599956512451, -6.000500202178955, -5.348499774932861, -5.968100070953369, -6.4156999588012695, -5.882800102233887, -5.448400020599365, -5.805600166320801, -6.395500183105469, -5.915200233459473, -5.772900104522705, -5.732100009918213, -5.79580020904541, -5.640500068664551, -5.7596001625061035, -5.891600131988525, -5.682499885559082, -5.9004998207092285, -5.9496002197265625, -6.468299865722656, -6.127999782562256, -6.184800148010254, -6.154799938201904, -6.929699897766113, -6.931300163269043, -7.310500144958496, -5.850200176239014, -6.613999843597412, -6.941299915313721, -6.304900169372559, -7.117400169372559, -7.312399864196777, -6.3471999168396, -7.3094000816345215, -6.10230016708374, -7.307600021362305, -7.172999858856201, -7.317299842834473, -6.937099933624268, -7.297800064086914, -6.64769983291626, -7.39169979095459, -7.3003997802734375, -7.309999942779541, -6.9145002365112305, -7.386099815368652, -7.754899978637695, -7.970300197601318, -7.965400218963623, -7.310100078582764, -7.3109002113342285, -7.303100109100342, -6.917399883270264, -6.629700183868408, -5.347499847412109, -5.815800189971924, -6.029900074005127, -6.004199981689453, -6.285699844360352, -6.53000020980835, -6.070899963378906, -5.442699909210205, -4.717400074005127, -6.283400058746338, -6.633200168609619, -4.888400077819824, -5.811500072479248, -5.283699989318848, -6.065100193023682, -5.528800010681152, -5.918900012969971, -5.49970006942749, -5.596799850463867, -5.528500080108643, -5.892000198364258, -5.997799873352051, -5.917900085449219, -5.7399001121521, -5.622300148010254, -5.802299976348877, -5.820000171661377, -5.863500118255615, -5.853000164031982, -5.869699954986572, -5.892099857330322, -5.903200149536133, -5.923699855804443, -5.926000118255615, -5.889400005340576, -5.946599960327148, -5.9207000732421875, -5.9695000648498535, -6.775899887084961, -6.802000045776367, -6.763299942016602, -7.184100151062012, -7.162799835205078, -7.159999847412109, -7.157599925994873, -6.935500144958496, -7.157599925994873, -7.163300037384033, -6.259799957275391, -7.157800197601318, -7.176400184631348, -7.484300136566162, -7.176400184631348, -7.166299819946289, -6.7804999351501465, -7.329800128936768, -7.157199859619141, -5.054599761962891, -7.151199817657471, -6.080999851226807, -7.338799953460693, -7.817399978637695, -7.15910005569458, -7.1596999168396, -5.783100128173828, -7.598999977111816, -6.553899765014648, -7.821800231933594, -6.828999996185303, -5.755799770355225, -5.315100193023682, -6.758500099182129, -6.359300136566162, -4.861700057983398, -6.4756999015808105, -5.299600124359131, -5.192399978637695, -6.214099884033203, -5.567299842834473, -6.508999824523926, -5.861599922180176, -5.839700222015381, -6.374599933624268, -5.367300033569336, -5.946700096130371, -5.485199928283691, -6.255499839782715, -5.796599864959717, -6.212200164794922, -5.920000076293945, -5.809299945831299, -5.620500087738037, -5.755099773406982, -5.676499843597412, -6.129000186920166, -5.772900104522705, -6.141499996185303, -6.1082000732421875, -5.905399799346924, -6.009699821472168, -5.931000232696533, -6.009699821472168, -6.075099945068359, -6.082900047302246, -6.048999786376953, -6.081999778747559, -6.102399826049805, -5.656300067901611, -5.657899856567383, -6.496099948883057, -6.886499881744385, -6.889900207519531, -6.493800163269043, -6.889900207519531, -7.547699928283691, -7.548900127410889, -7.5493998527526855, -7.5503997802734375, -7.548399925231934, -7.5543999671936035, -6.884099960327148, -7.547599792480469, -7.548399925231934, -7.566400051116943, -7.5559000968933105, -7.547599792480469, -7.547800064086914, -7.5619001388549805, -7.550300121307373, -7.548500061035156, -7.552199840545654, -7.55049991607666, -7.5482001304626465, -7.5524001121521, -7.555200099945068, -7.548600196838379, -7.5482001304626465, -5.531199932098389, -6.887800216674805, -5.993899822235107, -6.011499881744385, -4.6666998863220215, -5.5208001136779785, -6.896399974822998, -6.887400150299072, -5.053999900817871, -6.246300220489502, -6.061800003051758, -6.0106000900268555, -6.892300128936768, -6.882299900054932, -6.887599945068359, -5.527200222015381, -6.8902997970581055, -6.207499980926514, -6.488699913024902, -6.560400009155273, -6.489200115203857, -6.07390022277832, -5.542300224304199, -5.801199913024902, -5.123799800872803, -6.0030999183654785, -5.408199787139893, -5.257400035858154, -5.978300094604492, -5.637899875640869, -5.542799949645996, -5.624599933624268, -5.973100185394287, -6.202099800109863, -5.987400054931641, -5.634699821472168, -5.847799777984619, -5.887700080871582, -5.933499813079834, -5.984099864959717, -5.960999965667725, -6.053400039672852, -5.988500118255615, -6.673500061035156, -6.639400005340576, -6.636300086975098, -6.640699863433838, -6.640900135040283, -5.610499858856201, -5.958499908447266, -6.636300086975098, -6.63730001449585, -7.308599948883057, -7.301799774169922, -7.297699928283691, -7.292699813842773, -7.301300048828125, -7.295300006866455, -7.307199954986572, -7.296500205993652, -7.299499988555908, -7.297999858856201, -7.296199798583984, -7.297599792480469, -7.300899982452393, -7.311800003051758, -7.315199851989746, -7.325699806213379, -7.301300048828125, -7.311999797821045, -7.298900127410889, -7.296800136566162, -6.641200065612793, -6.640900135040283, -6.635200023651123, -4.956399917602539, -6.639599800109863, -5.968900203704834, -5.967899799346924, -6.641300201416016, -6.245200157165527, -6.8470001220703125, -6.6458001136779785, -5.8246002197265625, -6.244900226593018, -6.234600067138672, -5.646100044250488, -6.63640022277832, -5.729300022125244, -6.647299766540527, -6.6392998695373535, -6.239299774169922, -6.235799789428711, -5.336900234222412, -5.7230000495910645, -6.059299945831299, -5.727700233459473, -5.572000026702881, -5.732500076293945, -5.88129997253418, -5.903299808502197, -5.942699909210205, -6.122099876403809, -6.161200046539307, -6.219799995422363, -6.236400127410889, -6.098700046539307, -6.054100036621094, -6.223400115966797, -6.188799858093262, -6.118100166320801, -6.114799976348877, -6.119800090789795, -6.206200122833252, -6.488900184631348, -6.492199897766113, -6.491700172424316, -7.160399913787842, -7.15369987487793, -7.151199817657471, -7.154799938201904, -7.156199932098389, -7.157800197601318, -7.151199817657471, -7.154300212860107, -7.15749979019165, -7.152400016784668, -7.154200077056885, -7.164899826049805, -6.49560022354126, -6.490300178527832, -7.1519999504089355, -7.156199932098389, -7.151000022888184, -7.140999794006348, -7.155399799346924, -7.161300182342529, -7.152299880981445, -7.149600028991699, -7.154600143432617, -7.156899929046631, -7.157199859619141, -7.151599884033203, -7.155900001525879, -6.4934000968933105, -5.594399929046631, -5.815800189971924, -6.490200042724609, -6.491600036621094, -6.4899001121521, -6.48960018157959, -6.492000102996826, -6.48859977722168, -6.090799808502197, -6.490499973297119, -6.490200042724609, -5.581299781799316, -5.800600051879883, -6.493199825286865, -5.811100006103516, -6.098100185394287, -5.580999851226807, -6.485599994659424, -6.4918999671936035, -5.570799827575684, -6.4882001876831055, -5.568399906158447, -5.387800216674805, -6.087100028991699, -5.561800003051758, -6.087699890136719, -5.781300067901611, -6.09250020980835, -6.087399959564209, -6.085299968719482, -5.7870001792907715, -5.778600215911865, -5.787499904632568, -5.753399848937988, -5.782299995422363, -5.722400188446045, -6.070099830627441, -6.077000141143799, -6.087200164794922, -6.0817999839782715, -6.070099830627441, -6.077700138092041, -5.997499942779541, -6.049900054931641, -6.0493998527526855, -6.053599834442139, -6.0665998458862305, -6.064199924468994, -6.076399803161621, -6.07889986038208, -6.110499858856201, -6.504499912261963, -6.10890007019043, -7.161200046539307, -7.1691999435424805, -7.167500019073486, -6.5055999755859375, -7.164000034332275, -7.140999794006348, -7.164899826049805, -7.164599895477295, -7.1682000160217285, -7.16480016708374, -6.503699779510498, -7.167900085449219, -7.1656999588012695, -7.167200088500977, -7.169099807739258, -7.160699844360352, -7.1504998207092285, -7.167099952697754, -7.1722002029418945, -7.165800094604492, -7.165599822998047, -7.165200233459473, -7.166900157928467, -7.163700103759766, -6.502999782562256, -7.164999961853027, -7.16510009765625, -5.403500080108643, -6.5040998458862305, -5.566500186920166, -6.504199981689453, -5.815999984741211, -5.003600120544434, -6.504000186920166, -6.103300094604492, -6.5030999183654785, -5.786900043487549, -5.406400203704834, -6.48859977722168, -6.499599933624268, -5.741099834442139, -5.385700225830078, -6.103400230407715, -5.81220006942749, -6.496699810028076, -5.368599891662598, -5.822299957275391, -5.560500144958496, -5.811500072479248, -6.094699859619141, -5.567200183868408, -5.8024001121521, -5.527100086212158, -5.730500221252441, -5.76609992980957, -6.083600044250488, -6.070199966430664, -6.020199775695801, -6.0954999923706055, -6.0721001625061035, -6.090000152587891, -6.059700012207031, -6.016900062561035, -5.984000205993652, -6.031499862670898, -5.974699974060059, -6.046899795532227, -6.038300037384033, -6.053800106048584, -6.069900035858154, -6.071199893951416]}, \"token.table\": {\"Topic\": [1, 4, 3, 9, 1, 3, 4, 14, 1, 2, 4, 5, 10, 14, 2, 3, 8, 14, 5, 1, 3, 9, 14, 1, 2, 3, 4, 5, 6, 8, 10, 11, 15, 1, 2, 3, 4, 5, 6, 7, 8, 9, 10, 11, 14, 15, 3, 5, 7, 8, 11, 15, 1, 12, 1, 3, 11, 12, 1, 2, 3, 4, 5, 6, 7, 8, 10, 12, 13, 1, 2, 3, 4, 5, 6, 7, 8, 9, 10, 12, 13, 15, 2, 5, 6, 1, 11, 2, 3, 10, 1, 2, 5, 12, 1, 6, 9, 1, 2, 3, 4, 9, 10, 13, 1, 2, 3, 4, 8, 9, 10, 11, 1, 2, 3, 6, 11, 1, 1, 2, 3, 4, 5, 6, 7, 8, 9, 12, 14, 1, 2, 3, 4, 5, 6, 7, 8, 9, 10, 11, 12, 14, 15, 1, 2, 3, 5, 6, 7, 8, 9, 10, 12, 2, 3, 5, 6, 14, 5, 7, 1, 4, 12, 1, 2, 3, 4, 5, 7, 9, 12, 15, 1, 3, 8, 1, 2, 3, 4, 5, 6, 7, 8, 9, 10, 11, 12, 13, 14, 15, 2, 3, 4, 5, 7, 9, 10, 11, 1, 2, 3, 4, 5, 6, 8, 11, 3, 7, 8, 12, 6, 1, 6, 2, 3, 5, 7, 10, 1, 4, 7, 10, 2, 3, 5, 7, 8, 9, 10, 12, 13, 1, 2, 3, 4, 5, 6, 7, 8, 9, 10, 11, 12, 2, 8, 10, 11, 2, 3, 5, 14, 1, 5, 7, 9, 1, 6, 3, 5, 7, 9, 1, 2, 3, 4, 5, 6, 7, 8, 9, 10, 11, 12, 14, 15, 2, 3, 5, 12, 1, 1, 2, 3, 4, 5, 7, 8, 9, 10, 11, 3, 5, 3, 1, 2, 3, 4, 5, 7, 8, 13, 3, 5, 8, 1, 7, 8, 4, 2, 5, 9, 11, 1, 2, 3, 4, 5, 6, 7, 10, 11, 14, 2, 15, 5, 8, 3, 5, 15, 1, 2, 3, 4, 5, 6, 7, 9, 10, 12, 13, 15, 5, 7, 2, 1, 1, 2, 3, 4, 5, 6, 7, 8, 14, 4, 1, 6, 2, 3, 4, 5, 7, 8, 9, 10, 13, 2, 3, 5, 7, 8, 2, 3, 5, 7, 8, 10, 3, 2, 9, 1, 1, 2, 14, 3, 5, 7, 9, 10, 12, 13, 1, 2, 3, 4, 5, 6, 7, 8, 11, 2, 5, 9, 13, 2, 12, 1, 2, 3, 4, 5, 6, 7, 8, 9, 10, 11, 12, 13, 1, 4, 1, 4, 2, 5, 10, 14, 2, 15, 1, 5, 7, 2, 3, 5, 9, 3, 7, 2, 3, 2, 4, 7, 13, 2, 4, 1, 3, 6, 1, 2, 3, 4, 5, 6, 7, 9, 10, 15, 2, 3, 5, 8, 9, 1, 3, 7, 10, 1, 2, 3, 4, 5, 6, 7, 9, 10, 12, 15, 2, 3, 11, 15, 5, 7, 11, 14, 5, 7, 8, 9, 12, 1, 2, 3, 4, 5, 6, 7, 13, 1, 4, 11, 1, 2, 5, 7, 13, 1, 2, 3, 5, 6, 2, 13, 14, 6, 1, 2, 3, 4, 5, 6, 7, 9, 11, 13, 15, 1, 2, 3, 5, 10, 1, 5, 7, 15, 1, 2, 3, 4, 5, 6, 7, 8, 9, 10, 12, 13, 14, 15, 1, 4, 1, 1, 2, 3, 4, 6, 7, 10, 1, 6, 1, 2, 3, 4, 5, 6, 7, 8, 9, 10, 11, 12, 13, 14, 15, 1, 2, 3, 4, 5, 6, 7, 8, 9, 10, 11, 12, 13, 15, 5, 7, 1, 2, 12, 1, 2, 3, 4, 11, 12, 1, 2, 14, 1, 2, 5, 15, 6, 1, 2, 5, 12, 1, 4, 2, 5, 9, 1, 2, 3, 4, 5, 6, 7, 8, 14, 1, 3, 7, 12, 1, 2, 3, 4, 5, 6, 10, 12, 1, 3, 11, 1, 2, 3, 4, 6, 7, 9, 3, 7, 1, 2, 3, 4, 6, 11, 2, 3, 9, 13, 2, 3, 7, 9, 5, 6, 12, 1, 7, 13, 2, 3, 6, 14, 2, 3, 5, 7, 11, 14, 1, 2, 3, 5, 6, 7, 11, 1, 2, 3, 4, 5, 7, 11, 1, 2, 3, 4, 5, 6, 7, 8, 9, 11, 1, 2, 8, 9, 2, 3, 5, 8, 5, 13, 2, 3, 5, 8, 15, 2, 3, 5, 7, 10, 11, 1, 2, 3, 4, 5, 6, 11, 3, 11, 1, 8, 11, 1, 2, 3, 4, 7, 11, 1, 1, 2, 3, 4, 5, 6, 7, 8, 9, 10, 11, 12, 14, 15, 3, 12, 1, 3, 6, 1, 6, 1, 2, 3, 4, 5, 6, 7, 8, 9, 10, 11, 12, 13, 15, 1, 2, 3, 4, 5, 6, 7, 8, 9, 10, 11, 12, 1, 2, 3, 4, 5, 6, 7, 8, 11, 12, 13, 14, 1, 2, 3, 4, 5, 6, 7, 8, 9, 10, 13, 2, 2, 3, 12, 13, 6, 2, 4, 8, 3, 10, 1, 1, 2, 3, 5, 7, 2, 5, 12, 1, 2, 3, 5, 7, 10, 1, 2, 11, 15, 6, 1, 2, 3, 4, 5, 15, 2, 3, 7, 14, 2, 3, 5, 7, 9, 2, 3, 8, 13, 2, 5, 3, 1, 3, 7, 9, 1, 4, 11, 1, 7, 8, 1, 4, 2, 3, 6, 7, 8, 10, 12, 2, 3, 7, 9, 1, 2, 3, 6, 15, 1, 4, 1, 2, 3, 4, 5, 6, 7, 8, 9, 10, 11, 12, 14, 15, 2, 5, 2, 3, 4, 5, 6, 7, 8, 9, 10, 12, 1, 3, 8, 11, 1, 2, 3, 4, 5, 6, 7, 8, 9, 5, 3, 5, 7, 15, 1, 2, 5, 7, 13, 1, 2, 5, 6, 2, 4, 5, 15, 2, 3, 7, 10, 1, 2, 3, 4, 5, 6, 7, 11, 13, 5, 3, 7, 1, 2, 3, 4, 6, 12, 13, 2, 3, 5, 7, 15, 1, 3, 4, 5, 2, 3, 1, 4, 11, 1, 4, 2, 3, 5, 9, 10, 13, 2, 3, 9, 1, 2, 3, 14, 1, 3, 4, 6, 10, 11, 1, 2, 3, 4, 5, 6, 7, 10, 11, 13, 14, 1, 2, 4, 6, 1, 2, 3, 4, 5, 7, 8, 10, 12, 13, 14, 6, 1, 2, 3, 5, 8, 1, 2, 3, 4, 5, 6, 8, 3, 10, 2, 3, 5, 7, 9, 2, 5, 2, 3, 5, 7, 8, 9, 12, 1, 2, 3, 4, 5, 6, 7, 8, 9, 10, 11, 12, 13, 14, 15, 1, 2, 3, 4, 5, 6, 7, 15, 1, 2, 4, 5, 7, 8, 13, 1, 3, 5, 13, 6, 1, 5, 1, 2, 3, 4, 6, 11, 3, 5, 7, 1, 2, 3, 4, 5, 6, 7, 8, 9, 10, 11, 12, 14, 15, 2, 7, 8, 1, 2, 3, 4, 5, 6, 7, 8, 9, 10, 11, 12, 13, 14, 15, 3, 5, 7, 8, 9, 12, 15, 1, 2, 3, 4, 5, 6, 7, 8, 9, 10, 11, 12, 13, 14, 15, 2, 3, 5, 7, 8, 1, 3, 4, 5, 7, 8, 11, 15, 2, 3, 4, 5, 7, 9, 10, 15, 1, 2, 3, 4, 5, 6, 9, 10, 12, 1, 6, 1, 2, 3, 4, 5, 6, 7, 8, 9, 10, 11, 13, 14, 15, 1, 2, 3, 4, 5, 6, 7, 8, 9, 14, 1, 2, 3, 4, 5, 6, 7, 8, 9, 10, 11, 12, 13, 14, 3, 11, 13, 1, 2, 3, 4, 5, 6, 7, 8, 9, 10, 14, 15, 1, 2, 3, 5, 6, 7, 8, 9, 13, 15, 2, 3, 6, 12, 1, 2, 3, 4, 5, 6, 7, 8, 9, 10, 11, 12, 13, 14, 15, 2, 1, 6, 5, 13, 2, 3, 4, 5, 7, 9, 3, 7, 8, 9, 2, 5, 12, 1, 2, 11, 13, 3, 5, 15, 1, 1, 3, 5, 14, 5, 2, 3, 10, 15, 3, 7, 2, 3, 4, 5, 13, 1, 4, 10, 1, 1, 2, 3, 4, 5, 6, 7, 8, 11, 13, 2, 3, 5, 7, 8, 12, 13, 2, 5, 3, 5, 14, 2, 8, 14, 1, 2, 3, 4, 5, 7, 11, 12, 13, 1, 2, 3, 5, 7, 8, 9, 10, 11, 12, 13, 14, 3, 5, 14, 1, 2, 3, 4, 5, 6, 7, 8, 12, 13, 15, 2, 6, 12, 3, 1, 2, 3, 5, 7, 11, 1, 2, 3, 4, 5, 6, 7, 8, 9, 12, 13, 14, 1, 3, 5, 9, 10, 1, 2, 3, 5, 6, 7, 8, 9, 11, 12, 13, 1, 2, 3, 7, 9, 12, 1, 2, 3, 4, 7, 10, 11, 2, 3, 5, 7, 1, 2, 3, 4, 5, 6, 7, 10, 12, 13, 1, 2, 3, 4, 5, 6, 7, 8, 9, 10, 11, 12, 15, 1, 2, 3, 4, 5, 6, 7, 8, 9, 10, 11, 14, 3, 5, 9, 1, 2, 3, 4, 5, 6, 7, 8, 9, 11, 12, 2, 3, 7, 11, 15, 2, 5, 11, 2, 4, 5, 8, 13, 1, 2, 3, 4, 5, 6, 7, 8, 9, 11, 13, 14, 1, 4, 10, 1, 2, 3, 4, 5, 6, 7, 8, 9, 10, 14, 1, 2, 3, 4, 5, 6, 7, 8, 9, 10, 11, 12, 13, 14, 15, 2, 3, 4, 5, 7, 8, 10, 4, 11, 2, 5, 7, 8, 1, 2, 7, 11, 1, 2, 3, 7, 9, 14, 1, 2, 3, 4, 5, 6, 7, 8, 9, 10, 11, 13, 15, 2, 3, 5, 7, 9, 2, 5, 3, 8, 10, 1, 2, 3, 4, 5, 6, 7, 8, 9, 10, 11, 12, 13, 14, 15, 1, 2, 3, 4, 5, 6, 7, 8, 9, 10, 11, 12, 15, 1, 2, 3, 4, 5, 6, 7, 8, 9, 10, 11, 12, 13, 14, 15, 2, 11, 3, 5, 8, 9, 1, 2, 3, 15, 1, 2, 3, 4, 5, 6, 7, 8, 10, 14, 15, 1, 2, 11, 13, 6, 1, 3, 4, 7, 11, 1, 4, 10, 4, 1, 2, 3, 4, 5, 6, 7, 8, 10, 11, 12, 13, 1, 2, 13, 1, 2, 3, 4, 5, 6, 7, 8, 9, 10, 11, 12, 13, 15, 1, 4, 10, 1, 2, 3, 4, 5, 6, 7, 8, 9, 10, 11, 12, 13, 14, 1, 2, 3, 4, 5, 6, 7, 8, 9, 13, 14, 1, 2, 7, 2, 5, 7, 9, 11, 13, 2, 5, 5, 10, 2, 7, 10, 1, 1, 2, 3, 4, 5, 6, 7, 8, 9, 11, 13, 14, 1, 4, 5, 7, 11, 2, 3, 5, 12, 2, 3, 5, 6, 8, 10, 12, 2, 3, 5, 13, 1, 2, 3, 4, 5, 6, 7, 8, 9, 10, 11, 12, 13, 14, 15, 1, 2, 3, 4, 5, 6, 7, 8, 9, 10, 11, 13, 14, 15, 2, 5, 7, 1, 2, 3, 4, 5, 6, 7, 1, 2, 3, 4, 5, 6, 7, 8, 9, 10, 11, 13, 14, 15, 1, 2, 3, 4, 5, 6, 7, 8, 10, 11, 12, 14, 15, 2, 2, 3, 5, 7, 11, 14, 1, 1, 3, 1, 2, 3, 4, 5, 6, 7, 8, 9, 12, 1, 6, 15, 1, 2, 3, 5, 7, 14, 3, 5, 12, 2, 4, 6, 8, 2, 5, 7, 1, 3, 5, 6, 15, 3, 5, 7, 8, 10, 1, 2, 4, 6, 7, 14, 1, 3, 5, 6, 8, 10, 1, 2, 5, 14, 5, 1, 3, 5, 10, 1, 1, 11, 12, 2, 3, 10, 15, 2, 5, 7, 5, 1, 2, 3, 4, 5, 7, 8, 9, 10, 11, 12, 14, 15, 3, 5, 8, 15, 2, 3, 5, 7, 9, 1, 6, 2, 3, 7, 10, 1, 2, 3, 4, 5, 6, 7, 8, 9, 10, 11, 12, 15, 1, 10, 15, 1, 1, 4, 2, 3, 4, 5, 7, 9, 10, 1, 2, 3, 4, 5, 6, 7, 8, 9, 10, 11, 12, 13, 15, 1, 4, 11, 4, 1, 2, 3, 4, 5, 6, 7, 8, 9, 10, 11, 12, 13, 14, 1, 2, 3, 5, 6, 7, 8, 9, 1, 2, 3, 4, 5, 6, 7, 8, 10, 11, 15, 1, 3, 6, 1, 2, 3, 4, 5, 7, 14, 3, 5, 15, 5, 7, 2, 3, 12, 1, 2, 3, 4, 5, 7, 14, 2, 10, 15, 3, 7, 11, 15, 1, 2, 3, 4, 5, 6, 7, 8, 9, 10, 11, 12, 13, 14, 2, 7, 8, 2, 7, 9, 10, 2, 7, 1, 3, 4, 6, 11, 2, 3, 4, 5, 9, 1, 2, 3, 4, 5, 6, 7, 8, 10, 15, 2, 3, 5, 12, 14, 1, 7, 9, 1, 2, 3, 4, 5, 6, 7, 8, 9, 10, 13, 14, 15, 1, 2, 3, 4, 5, 6, 7, 8, 9, 10, 11, 12, 13, 15, 3, 1, 2, 3, 4, 5, 6, 7, 8, 9, 10, 11, 12, 13, 14, 15, 2, 3, 6, 7, 12, 1, 2, 3, 4, 5, 6, 7, 8, 9, 10, 11, 15, 2, 10, 1, 2, 3, 4, 5, 6, 7, 8, 9, 10, 11, 12, 13, 14, 15, 4, 1, 2, 3, 4, 5, 6, 7, 8, 10, 12, 13, 14, 15, 1, 7, 1, 2, 3, 5, 6, 7, 8, 9, 10, 11, 13, 15, 2, 3, 9, 5, 1, 2, 3, 4, 5, 6, 7, 8, 9, 10, 11, 12, 13, 14, 15, 1, 6, 1, 2, 3, 4, 5, 6, 7, 8, 9, 10, 11, 12, 13, 14, 15, 1, 2, 3, 4, 5, 6, 7, 8, 9, 10, 11, 12, 13, 14, 15, 1, 2, 3, 4, 5, 6, 7, 8, 9, 10, 11, 12, 13, 14, 5, 10, 1, 1, 1, 2, 3, 4, 5, 6, 7, 8, 10, 3, 8, 1, 3, 10, 1, 3, 4, 5, 6, 7, 12, 1, 2, 3, 5, 6, 7, 8, 9, 10, 12, 13, 2, 3, 7, 12, 2, 13, 1, 6, 1, 2, 3, 4, 6, 14, 2, 11, 3, 5, 6, 1, 5, 9, 1, 3, 6, 7, 9, 10, 12, 1, 2, 3, 5, 6, 7, 12, 1, 2, 3, 4, 5, 6, 7, 8, 9, 10, 11, 12, 13, 14, 15, 1, 3, 10, 12, 3, 8, 14, 1, 4, 1, 2, 3, 5, 6, 7, 9, 11, 13, 6, 1, 2, 4, 6, 12, 1, 2, 3, 4, 5, 6, 7, 8, 9, 14, 15, 1, 4, 4, 1, 2, 3, 5, 6, 7, 8, 10, 15, 3, 8, 1, 2, 3, 4, 5, 7, 8, 9, 11, 12, 14, 15, 1, 3, 5, 11, 2, 3, 5, 1, 2, 6, 9, 13, 15, 1, 2, 3, 4, 5, 6, 7, 8, 10, 11, 12, 14, 1, 5, 15, 1, 2, 3, 4, 5, 6, 7, 8, 9, 10, 11, 13, 2, 1, 2, 3, 5, 6, 7, 10, 15, 1, 2, 1, 6, 6, 1, 2, 3, 5, 8, 15, 3, 5, 7, 11, 15, 1, 2, 5, 13, 1, 2, 3, 4, 5, 6, 7, 8, 9, 10, 11, 12, 13, 15, 1, 2, 3, 4, 5, 6, 7, 8, 9, 10, 11, 12, 13, 2, 5, 10, 3, 9, 1, 2, 3, 4, 5, 6, 7, 8, 9, 11, 12, 14, 15, 2, 5, 13, 2, 3, 5, 6, 7, 13, 14, 1, 2, 3, 4, 5, 6, 7, 8, 9, 10, 11, 12, 13, 15, 2, 5, 6, 7, 14, 15, 1, 2, 3, 4, 5, 6, 7, 8, 9, 10, 11, 12, 15, 2, 8, 5, 9, 11, 4, 2, 5, 8, 1, 2, 3, 4, 5, 6, 7, 8, 9, 10, 11, 14, 15, 3, 5, 7, 12, 2, 3, 3, 2, 3, 5, 1, 1, 2, 3, 4, 5, 6, 7, 8, 9, 10, 11, 12, 13, 15, 1, 2, 3, 4, 5, 6, 7, 8, 9, 10, 11, 12, 15, 3, 1, 2, 3, 5, 6, 7, 8, 9, 15, 1, 6, 2, 3, 5, 7, 8, 9, 1, 2, 3, 4, 5, 7, 9, 12, 3, 5, 7, 11, 14, 1, 2, 3, 4, 5, 6, 7, 10, 12, 1, 1, 2, 3, 4, 5, 6, 7, 8, 9, 10, 11, 12, 13, 14, 15, 1, 2, 3, 4, 5, 6, 7, 8, 9, 10, 11, 12, 14, 15, 1, 2, 3, 15, 2, 5, 9, 10, 14, 1, 4, 5, 14, 2, 5, 1, 2, 12, 2, 5, 8, 10, 3, 1, 10, 1, 15, 2, 5, 15, 1, 2, 9, 11, 2, 5, 11, 12, 2, 1, 6, 1, 6, 7, 8, 11, 1, 2, 3, 4, 5, 7, 8, 9, 10, 12, 2, 3, 5, 13, 1, 2, 6, 10, 1, 2, 3, 4, 5, 6, 7, 8, 15, 1, 2, 3, 4, 11, 2, 3, 7, 9, 1, 2, 3, 4, 5, 6, 7, 8, 11, 15, 1, 2, 3, 4, 5, 6, 7, 8, 9, 10, 11, 12, 13, 14, 3, 5, 1, 13, 2, 7, 8, 12, 15, 1, 2, 3, 4, 10, 12, 4, 10, 2, 3, 5, 7, 9, 10, 13, 2, 3, 4, 5, 7, 9, 10, 5, 7, 2, 3, 5, 8, 1, 2, 3, 5, 8, 13, 1, 3, 13, 2, 5, 10, 12, 2, 3, 8, 1, 4, 1, 2, 12, 5, 3, 5, 7, 10, 2, 3, 5, 14, 1, 2, 3, 4, 5, 8, 12, 1, 2, 3, 5, 7, 9, 10, 11, 2, 5, 3, 5, 7, 9, 11, 3, 5, 7, 8, 11, 1, 3, 8, 3, 5, 7, 1, 2, 3, 6, 7, 9, 11, 1, 4, 5, 9, 3, 2, 1, 2, 10, 11, 3, 7, 10, 2, 3, 7, 3, 7, 8, 11, 1, 2, 3, 4, 5, 6, 7, 8, 9, 12, 13, 15, 2, 9, 15, 2, 3, 5, 2, 3, 12, 1, 2, 3, 4, 5, 6, 7, 8, 10, 1, 2, 3, 4, 5, 6, 7, 8, 9, 10, 11, 12, 13, 14, 15, 2, 3, 5, 10, 12, 13, 15, 2, 5, 13, 3, 2, 7, 9, 12, 3, 9, 11, 1, 2, 3, 4, 6, 11, 14, 4, 8, 11, 2, 3, 5, 10, 14, 2, 3, 4, 5, 7, 9, 10, 2, 3, 8, 12, 14, 3, 5, 7, 12, 13, 2, 13, 1, 2, 3, 7, 5, 7, 9, 2, 3, 5, 7, 10, 13, 3, 6, 10, 3, 8, 11, 13, 1, 2, 3, 4, 5, 6, 7, 8, 9, 15, 2, 3, 5, 7, 9, 1, 4, 11, 2, 3, 5, 14, 1, 4, 11, 1, 2, 3, 5, 7, 9, 12, 14, 2, 5, 1, 3, 6, 9, 2, 3, 5, 7, 11, 14, 3, 5, 7, 9, 2, 5, 13, 3, 8, 9, 13, 14, 1, 2, 5, 9, 13, 3, 1, 2, 5, 6, 7, 8, 1, 2, 3, 4, 5, 6, 7, 8, 10, 2, 9, 1, 2, 3, 4, 5, 6, 14, 2, 4, 8, 3, 5, 7, 1, 2, 3, 4, 5, 6, 7, 8, 9, 10, 11, 12, 13, 14, 15, 1, 2, 3, 4, 5, 6, 7, 8, 9, 10, 12, 13, 2, 5, 1, 2, 5, 8, 1, 2, 3, 4, 5, 6, 7, 8, 9, 10, 12, 13, 14, 15, 4, 5, 10, 3, 8, 2, 3, 5, 12, 1, 2, 3, 5, 7, 8, 11, 14, 15, 3, 7, 3, 2, 13, 2, 3, 5, 13, 1, 2, 3, 4, 5, 6, 7, 8, 9, 10, 11, 12, 15, 2, 3, 15, 1, 2, 3, 4, 5, 6, 7, 8, 9, 10, 11, 13, 14, 1, 1, 2, 3, 4, 5, 6, 7, 8, 9, 10, 11, 13, 14, 15, 2, 5, 8, 2, 3, 5, 7, 8, 12, 13, 1, 2, 14, 1, 2, 9, 1, 2, 3, 4, 5, 6, 7, 8, 9, 10, 11, 12, 15, 1, 2, 3, 4, 5, 9, 10, 11, 1, 2, 3, 4, 5, 6, 7, 8, 9, 10, 11, 12, 13, 14, 15, 2, 5, 9, 13, 1, 2, 3, 4, 5, 6, 7, 10, 15, 1, 2, 3, 4, 5, 6, 7, 8, 9, 10, 11, 12, 13, 1, 2, 3, 5, 7, 9, 11, 13, 5, 3, 1, 2, 3, 4, 5, 6, 7, 8, 9, 10, 11, 12, 1, 4, 3, 7, 11, 1, 2, 4, 13, 1, 2, 13, 1, 2, 5, 14, 1, 2, 3, 4, 5, 6, 7, 8, 9, 11, 12, 13, 15, 1, 2, 8, 1, 2, 9, 1, 2, 3, 4, 5, 6, 7, 9, 13, 2, 3, 7, 9, 10, 12, 1, 2, 3, 4, 5, 6, 7, 8, 10, 11, 12, 14, 1, 3, 4, 15, 1, 2, 4, 5, 7, 10, 11, 12, 13, 1, 2, 3, 4, 5, 6, 10, 2, 3, 8, 1, 2, 3, 4, 6, 7, 10, 1, 3, 5, 7, 1, 7, 2, 3, 5, 8, 13, 1, 3, 4, 8, 1, 2, 3, 4, 5, 6, 7, 8, 10, 12, 15, 3, 7, 1, 2, 3, 4, 5, 6, 7, 10, 1, 2, 3, 4, 5, 6, 7, 8, 9, 12, 15, 2, 3, 4, 5, 6, 7, 8, 11, 5, 7, 13, 1, 2, 7, 14, 1, 4, 1, 4, 5, 6, 10, 11, 2, 3, 5, 7, 10, 1, 2, 4, 6, 7, 8, 11, 2, 11, 1, 2, 3, 4, 5, 6, 7, 8, 9, 10, 11, 12, 14, 15, 3, 7, 11, 15, 1, 2, 3, 4, 5, 6, 7, 8, 9, 11, 12, 14, 1, 2, 3, 4, 5, 6, 7, 8, 9, 10, 11, 12, 1, 2, 3, 4, 5, 6, 7, 8, 9, 10, 11, 12, 15, 2, 3, 4, 5, 10, 11, 3, 2, 5, 7, 13, 1, 2, 3, 4, 5, 7, 8, 11, 13, 15, 1, 2, 3, 5, 6, 7, 11, 12, 2, 3, 4, 5, 1, 2, 3, 6, 15, 1, 6, 1, 6, 3, 5, 7, 15, 1, 2, 3, 4, 5, 6, 7, 8, 9, 10, 15, 2, 5, 8, 9, 14, 1, 2, 3, 4, 5, 6, 7, 8, 9, 10, 13, 14, 1, 2, 3, 4, 5, 6, 7, 8, 9, 10, 11, 12, 14, 15, 3, 5, 8, 9, 1, 2, 3, 4, 5, 6, 7, 8, 9, 11, 12, 13, 14, 1, 2, 4, 12, 1, 4, 3, 7, 5, 13, 2, 3, 4, 5, 6, 7, 8, 1, 2, 3, 4, 5, 6, 7, 8, 9, 10, 11, 14, 15, 3, 7, 8, 12, 1, 4, 11, 1, 4, 6, 2, 5, 15, 2, 5, 2, 7, 8, 10, 2, 3, 10, 2, 3, 5, 7, 9, 3, 7, 1, 4, 1, 2, 3, 4, 5, 6, 7, 8, 9, 10, 13, 14, 15, 1, 2, 3, 5, 6, 7, 8, 9, 10, 12, 13, 2, 3, 5, 8, 2, 4, 11, 1, 2, 3, 4, 5, 6, 7, 8, 9, 10, 11, 14, 1, 2, 3, 4, 5, 6, 7, 8, 9, 10, 11, 12, 14, 15, 1, 3, 14, 1, 2, 3, 4, 5, 6, 7, 8, 12, 14, 3, 5, 7, 8, 11, 15, 1, 2, 3, 4, 5, 6, 7, 8, 9, 10, 11, 12, 13, 14, 15, 2, 4, 5, 7, 8, 11, 3, 8, 13, 1, 2, 3, 4, 5, 6, 7, 8, 9, 10, 11, 12, 13, 15, 1, 2, 3, 4, 5, 6, 7, 8, 9, 10, 11, 12, 13, 14, 15, 2, 3, 6, 1, 2, 3, 4, 5, 6, 7, 8, 9, 10, 11, 12, 13, 15, 2, 3, 6, 13, 14, 1, 2, 3, 4, 5, 6, 9, 10, 12, 1, 5, 7, 8, 3, 7, 10, 5, 2, 3, 7, 8, 14, 5, 1, 2, 3, 4, 5, 6, 7, 9, 11, 12, 1, 2, 3, 4, 5, 6, 7, 8, 9, 12, 13, 2, 5, 9, 14, 2, 7, 12, 3, 3, 11, 12, 1, 2, 6, 8, 15, 1, 2, 3, 4, 5, 6, 8, 9, 5, 7, 8, 1, 3, 11, 2, 3, 5, 1, 2, 9, 14, 4, 2, 8, 14, 2, 5, 14, 3, 2, 3, 11, 15, 1, 2, 3, 5, 7, 5, 13, 1, 4, 5, 14, 1, 3, 4, 9, 4, 1, 3, 8, 12, 2, 7, 2, 5, 1, 2, 3, 4, 5, 6, 7, 8, 9, 10, 11, 12, 14, 15, 1, 2, 3, 5, 7, 14, 2, 3, 5, 7, 9, 2, 5, 10, 2, 3, 4, 5, 7, 8, 9, 12, 1, 2, 3, 4, 5, 6, 7, 8, 10, 14, 3, 7, 1, 2, 3, 4, 5, 6, 7, 8, 10, 1, 2, 3, 4, 5, 6, 7, 8, 9, 10, 11, 12, 13, 14, 15, 1, 2, 3, 4, 5, 6, 7, 8, 9, 10, 11, 12, 13, 15, 1, 4, 10, 11, 1, 2, 3, 10, 1, 5, 7, 2, 5, 15, 1, 2, 3, 4, 5, 6, 7, 8, 9, 10, 11, 1, 2, 5, 7, 9, 11, 14, 1, 1, 2, 3, 4, 5, 6, 7, 8, 11, 14, 1, 2, 3, 4, 5, 6, 7, 8, 9, 11, 14, 15, 1, 6, 1, 2, 3, 4, 5, 6, 8, 9, 10, 13, 15, 5, 2, 5, 7, 8, 1, 2, 3, 4, 5, 6, 7, 8, 9, 10, 11, 12, 13, 14, 15, 2, 8, 2, 3, 8, 13, 1, 2, 3, 4, 5, 6, 7, 8, 9, 10, 11, 12, 1, 2, 10, 1, 2, 3, 4, 5, 6, 7, 9, 10, 11, 12, 1, 2, 3, 4, 5, 6, 7, 10, 14, 1, 4, 10, 11, 1, 2, 3, 4, 5, 6, 7, 8, 9, 10, 11, 12, 13, 14, 15, 1, 2, 3, 4, 5, 6, 7, 8, 9, 10, 11, 12, 15, 1, 2, 3, 4, 5, 6, 7, 8, 9, 10, 11, 12, 13, 1, 2, 3, 5, 6, 13, 1, 2, 3, 4, 5, 6, 7, 8, 9, 10, 11, 12, 13, 14, 15, 1, 2, 3, 4, 5, 6, 7, 8, 10, 12, 14, 1, 2, 3, 4, 5, 6, 7, 8, 9, 10, 11, 14, 15, 1, 2, 3, 4, 5, 6, 7, 8, 9, 10, 11, 12, 14, 2, 2], \"Freq\": [0.05874574929475784, 0.9105591177940369, 0.045799605548381805, 0.8701924681663513, 0.15728649497032166, 0.47185948491096497, 0.15728649497032166, 0.15728649497032166, 0.17685167491436005, 0.2947528064250946, 0.23580223321914673, 0.11790111660957336, 0.05895055830478668, 0.05895055830478668, 0.32012659311294556, 0.32012659311294556, 0.16006329655647278, 0.16006329655647278, 0.8741840720176697, 0.3894461989402771, 0.19472309947013855, 0.19472309947013855, 0.19472309947013855, 0.32707899808883667, 0.3387603759765625, 0.10513253509998322, 0.07008835673332214, 0.023362785577774048, 0.03504417836666107, 0.08176974952220917, 0.011681392788887024, 0.011681392788887024, 0.011681392788887024, 0.4964425265789032, 0.11861900985240936, 0.136192187666893, 0.07468604296445847, 0.02635977976024151, 0.08347263187170029, 0.02635977976024151, 0.004393296781927347, 0.008786593563854694, 0.004393296781927347, 0.004393296781927347, 0.004393296781927347, 0.008786593563854694, 0.7260036468505859, 0.007642143871635199, 0.17576931416988373, 0.04585286229848862, 0.015284287743270397, 0.015284287743270397, 0.7511542439460754, 0.18778856098651886, 0.19285990297794342, 0.38571980595588684, 0.19285990297794342, 0.19285990297794342, 0.3411239683628082, 0.10233718901872635, 0.23025868833065033, 0.10233718901872635, 0.05969669669866562, 0.03411239758133888, 0.06822479516267776, 0.025584297254681587, 0.00852809939533472, 0.025584297254681587, 0.00852809939533472, 0.20365697145462036, 0.27154263854026794, 0.11691419035196304, 0.09428563714027405, 0.1998855471611023, 0.03771425411105156, 0.022628553211688995, 0.011314276605844498, 0.007542850915342569, 0.0037714254576712847, 0.015085701830685139, 0.0037714254576712847, 0.0037714254576712847, 0.1502297818660736, 0.801225483417511, 0.9443069100379944, 0.7225286364555359, 0.14450572431087494, 0.9232636094093323, 0.7910646796226501, 0.19776616990566254, 0.36794382333755493, 0.36794382333755493, 0.18397191166877747, 0.18397191166877747, 0.32522809505462646, 0.32522809505462646, 0.21681872010231018, 0.0633934736251831, 0.1267869472503662, 0.3169673681259155, 0.0633934736251831, 0.0633934736251831, 0.2535738945007324, 0.0633934736251831, 0.08701300621032715, 0.21753251552581787, 0.13051950931549072, 0.13051950931549072, 0.043506503105163574, 0.043506503105163574, 0.304545521736145, 0.043506503105163574, 0.2937515079975128, 0.1468757539987564, 0.2937515079975128, 0.0734378769993782, 0.1468757539987564, 0.9117785096168518, 0.06048337742686272, 0.2851359248161316, 0.3024168908596039, 0.12096675485372543, 0.06912386417388916, 0.01728096604347229, 0.06048337742686272, 0.03456193208694458, 0.008640483021736145, 0.025921447202563286, 0.008640483021736145, 0.17500998079776764, 0.3043651580810547, 0.23841938376426697, 0.05072752758860588, 0.08116404712200165, 0.02790014073252678, 0.08623679727315903, 0.005072752945125103, 0.010145505890250206, 0.005072752945125103, 0.005072752945125103, 0.0025363764725625515, 0.0025363764725625515, 0.005072752945125103, 0.09856720268726349, 0.27927374839782715, 0.13142293691635132, 0.24641801416873932, 0.03285573422908783, 0.08213933557271957, 0.03285573422908783, 0.016427867114543915, 0.06571146845817566, 0.016427867114543915, 0.23050794005393982, 0.23050794005393982, 0.23050794005393982, 0.1536719650030136, 0.0768359825015068, 0.15536634624004364, 0.7768317461013794, 0.5483984351158142, 0.2193593829870224, 0.1096796914935112, 0.7169321775436401, 0.05645135045051575, 0.05645135045051575, 0.1354832500219345, 0.005645134951919317, 0.005645134951919317, 0.011290269903838634, 0.005645134951919317, 0.005645134951919317, 0.1365162432193756, 0.40954872965812683, 0.2730324864387512, 0.32592305541038513, 0.14747649431228638, 0.14895126223564148, 0.11060737073421478, 0.08258683979511261, 0.10913260281085968, 0.0383438877761364, 0.01179811917245388, 0.008848589845001698, 0.00589905958622694, 0.00294952979311347, 0.001474764896556735, 0.001474764896556735, 0.001474764896556735, 0.001474764896556735, 0.0680384635925293, 0.1360769271850586, 0.1360769271850586, 0.1360769271850586, 0.0680384635925293, 0.0680384635925293, 0.3401923179626465, 0.0680384635925293, 0.6703943610191345, 0.09409043937921524, 0.10585173964500427, 0.04704521968960762, 0.02352260984480381, 0.011761304922401905, 0.011761304922401905, 0.04704521968960762, 0.3807638883590698, 0.1903819441795349, 0.1903819441795349, 0.1903819441795349, 0.8677088022232056, 0.01099803764373064, 0.967827320098877, 0.12235042452812195, 0.5981576442718506, 0.20391738414764404, 0.0271889828145504, 0.04078347608447075, 0.06190166622400284, 0.9037643074989319, 0.01857049949467182, 0.006190166808664799, 0.6283174157142639, 0.042290594428777695, 0.26582658290863037, 0.006041513290256262, 0.006041513290256262, 0.006041513290256262, 0.018124541267752647, 0.018124541267752647, 0.006041513290256262, 0.04573763161897659, 0.17837676405906677, 0.26985204219818115, 0.04573763161897659, 0.17380300164222717, 0.10977032035589218, 0.09147526323795319, 0.022868815809488297, 0.022868815809488297, 0.009147526696324348, 0.018295053392648697, 0.018295053392648697, 0.3363507091999054, 0.1681753545999527, 0.3363507091999054, 0.1681753545999527, 0.31201431155204773, 0.31201431155204773, 0.15600715577602386, 0.15600715577602386, 0.09916570782661438, 0.09916570782661438, 0.5949942469596863, 0.09916570782661438, 0.9932031631469727, 0.9413723945617676, 0.4454135298728943, 0.016808057203888893, 0.09244431555271149, 0.4370095133781433, 0.3327544927597046, 0.16148380935192108, 0.1533280611038208, 0.17290185391902924, 0.045672185719013214, 0.06361483037471771, 0.029360691085457802, 0.014680345542728901, 0.0032622991129755974, 0.006524598225951195, 0.008155747316777706, 0.0032622991129755974, 0.0016311495564877987, 0.004893448669463396, 0.892566442489624, 0.020757358521223068, 0.020757358521223068, 0.041514717042446136, 0.9932588338851929, 0.02746976539492607, 0.2527218461036682, 0.2966734766960144, 0.005493953358381987, 0.2966734766960144, 0.08790325373411179, 0.016481859609484673, 0.010987906716763973, 0.005493953358381987, 0.005493953358381987, 0.7372533679008484, 0.22117601335048676, 0.8771264553070068, 0.03403930366039276, 0.3177001476287842, 0.2723144292831421, 0.04538573697209358, 0.14750364422798157, 0.0567321702837944, 0.1134643405675888, 0.011346434243023396, 0.4085855185985565, 0.13619516789913177, 0.4085855185985565, 0.18931084871292114, 0.18931084871292114, 0.5679325461387634, 0.8023616671562195, 0.3623385727405548, 0.2717539072036743, 0.2717539072036743, 0.0905846431851387, 0.23556938767433167, 0.05542809143662453, 0.017321279272437096, 0.5404238700866699, 0.006928511429578066, 0.12124895304441452, 0.010392767377197742, 0.003464255714789033, 0.003464255714789033, 0.003464255714789033, 0.9210755825042725, 0.051170866936445236, 0.18926027417182922, 0.5677807927131653, 0.47182396054267883, 0.3145492970943451, 0.15727464854717255, 0.15095771849155426, 0.3441835939884186, 0.16907264292240143, 0.0543447807431221, 0.09057462960481644, 0.018114926293492317, 0.09057462960481644, 0.036229852586984634, 0.02415323443710804, 0.00603830860927701, 0.00603830860927701, 0.00603830860927701, 0.7699692845344543, 0.12832821905612946, 0.9350368976593018, 0.9784625768661499, 0.1940075308084488, 0.08954194188117981, 0.25370216369628906, 0.11938925087451935, 0.014923656359314919, 0.014923656359314919, 0.2835494875907898, 0.014923656359314919, 0.014923656359314919, 0.837405264377594, 0.013651087880134583, 0.9692272543907166, 0.47930899262428284, 0.1643345057964325, 0.027389084920287132, 0.2328072190284729, 0.027389084920287132, 0.013694542460143566, 0.013694542460143566, 0.013694542460143566, 0.027389084920287132, 0.3795692026615143, 0.15182767808437347, 0.07591383904218674, 0.07591383904218674, 0.2277415245771408, 0.11558383703231812, 0.4666162133216858, 0.08989854156970978, 0.2782573699951172, 0.012842648662626743, 0.02996617928147316, 0.9724735021591187, 0.6630924344062805, 0.2652369737625122, 0.9759098291397095, 0.18519219756126404, 0.5555765628814697, 0.18519219756126404, 0.019086800515651703, 0.5916908383369446, 0.19086800515651703, 0.019086800515651703, 0.038173601031303406, 0.11452080309391022, 0.019086800515651703, 0.6074076294898987, 0.05650303512811661, 0.10594319552183151, 0.049440156668424606, 0.010594319552183151, 0.14125758409500122, 0.007062879391014576, 0.010594319552183151, 0.003531439695507288, 0.09577574580907822, 0.6385049819946289, 0.19155149161815643, 0.031925249844789505, 0.7200441956520081, 0.18001104891300201, 0.24631310999393463, 0.19238656759262085, 0.1603221446275711, 0.1020231768488884, 0.1224278137087822, 0.08453349024057388, 0.05246906355023384, 0.008744844235479832, 0.004372422117739916, 0.01311726588755846, 0.005829895846545696, 0.005829895846545696, 0.001457473961636424, 0.035942092537879944, 0.9524654746055603, 0.06992563605308533, 0.874070405960083, 0.3191910982131958, 0.4787866175174713, 0.1595955491065979, 0.1595955491065979, 0.7481718063354492, 0.1246953010559082, 0.9911395907402039, 0.1358698308467865, 0.6793491244316101, 0.8543379902839661, 0.07594115287065506, 0.018985288217663765, 0.03797057643532753, 0.8341563940048218, 0.06951303035020828, 0.9285286068916321, 0.8809698224067688, 0.42680230736732483, 0.14226743578910828, 0.14226743578910828, 0.14226743578910828, 0.07845154404640198, 0.8629670143127441, 0.8736577033996582, 0.009196396917104721, 0.10116036981344223, 0.2221250832080841, 0.15377891063690186, 0.18795199692249298, 0.11960581690073013, 0.20503854751586914, 0.017086545005440712, 0.017086545005440712, 0.034173090010881424, 0.017086545005440712, 0.034173090010881424, 0.18269410729408264, 0.18269410729408264, 0.18269410729408264, 0.18269410729408264, 0.18269410729408264, 0.12326893955469131, 0.49307575821876526, 0.12326893955469131, 0.24653787910938263, 0.18598653376102448, 0.14810039103031158, 0.292756587266922, 0.05166292563080788, 0.05510712042450905, 0.07577229291200638, 0.12054683268070221, 0.024109365418553352, 0.01033258531242609, 0.030997756868600845, 0.0034441950265318155, 0.1659642606973648, 0.4978927969932556, 0.1659642606973648, 0.1659642606973648, 0.4967791438102722, 0.16559304296970367, 0.16559304296970367, 0.16559304296970367, 0.1661875993013382, 0.1661875993013382, 0.3323751986026764, 0.1661875993013382, 0.1661875993013382, 0.15825794637203217, 0.28134745359420776, 0.25497114658355713, 0.04396054148674011, 0.14067372679710388, 0.017584215849637985, 0.04396054148674011, 0.052752647548913956, 0.21463094651699066, 0.7597935199737549, 0.021463094279170036, 0.9294956922531128, 0.18908265233039856, 0.18908265233039856, 0.3781653046607971, 0.18908265233039856, 0.023324452340602875, 0.3032178580760956, 0.0932978093624115, 0.513137936592102, 0.023324452340602875, 0.5951358079910278, 0.19837859272956848, 0.19837859272956848, 0.9584288597106934, 0.09868628531694412, 0.1897813230752945, 0.21255508065223694, 0.007591253146529198, 0.3188326358795166, 0.09109503775835037, 0.03036501258611679, 0.015182506293058395, 0.03036501258611679, 0.007591253146529198, 0.007591253146529198, 0.12004593014717102, 0.4801837205886841, 0.12004593014717102, 0.12004593014717102, 0.12004593014717102, 0.16299887001514435, 0.16299887001514435, 0.48899662494659424, 0.16299887001514435, 0.180446058511734, 0.24767106771469116, 0.19459868967533112, 0.10968290269374847, 0.10260658711194992, 0.056610528379678726, 0.056610528379678726, 0.014152632094919682, 0.007076316047459841, 0.014152632094919682, 0.0035381580237299204, 0.007076316047459841, 0.0035381580237299204, 0.0035381580237299204, 0.09113816171884537, 0.8961918950080872, 0.9910334944725037, 0.29882434010505676, 0.009744272567331791, 0.05196945369243622, 0.09744272381067276, 0.5261906981468201, 0.006496181711554527, 0.006496181711554527, 0.05874631926417351, 0.9399411082267761, 0.23207077383995056, 0.1426268368959427, 0.21635764837265015, 0.12691371142864227, 0.09548745304346085, 0.0858178436756134, 0.059226397424936295, 0.01329572219401598, 0.007252211682498455, 0.01087831798940897, 0.0012087019858881831, 0.0024174039717763662, 0.0024174039717763662, 0.0024174039717763662, 0.0024174039717763662, 0.41318729519844055, 0.11238694190979004, 0.08594295382499695, 0.14213642477989197, 0.10247045010328293, 0.059498969465494156, 0.042971476912498474, 0.0033054982777684927, 0.009916494600474834, 0.006610996555536985, 0.006610996555536985, 0.0033054982777684927, 0.0033054982777684927, 0.006610996555536985, 0.3567747175693512, 0.535162091255188, 0.5567306280136108, 0.1855768859386444, 0.1855768859386444, 0.4183405637741089, 0.1792888194322586, 0.05976293608546257, 0.1792888194322586, 0.05976293608546257, 0.05976293608546257, 0.47751927375793457, 0.31834620237350464, 0.15917310118675232, 0.1858983188867569, 0.3717966377735138, 0.1858983188867569, 0.1858983188867569, 0.8836085796356201, 0.1822338104248047, 0.3644676208496094, 0.1822338104248047, 0.1822338104248047, 0.09041503816843033, 0.8589428663253784, 0.35926204919815063, 0.35926204919815063, 0.17963102459907532, 0.4932311177253723, 0.13387702405452728, 0.07750774919986725, 0.1550154983997345, 0.021138476207852364, 0.07750774919986725, 0.007046158891171217, 0.014092317782342434, 0.014092317782342434, 0.2613411247730255, 0.2613411247730255, 0.13067056238651276, 0.2613411247730255, 0.17428570985794067, 0.17428570985794067, 0.11619047075510025, 0.2904761731624603, 0.058095235377550125, 0.058095235377550125, 0.058095235377550125, 0.058095235377550125, 0.19632330536842346, 0.3926466107368469, 0.19632330536842346, 0.03472405672073364, 0.13889622688293457, 0.02314937300980091, 0.03472405672073364, 0.7292052507400513, 0.02314937300980091, 0.011574686504900455, 0.46194157004356384, 0.46194157004356384, 0.3939521014690399, 0.08754491060972214, 0.04377245530486107, 0.1532035917043686, 0.19697605073451996, 0.1313173621892929, 0.5987062454223633, 0.06652291119098663, 0.06652291119098663, 0.13304582238197327, 0.18762937188148499, 0.50034499168396, 0.062543123960495, 0.18762937188148499, 0.48094555735588074, 0.16031518578529358, 0.16031518578529358, 0.16481436789035797, 0.4944430887699127, 0.16481436789035797, 0.18467193841934204, 0.18467193841934204, 0.3693438768386841, 0.18467193841934204, 0.32852903008461, 0.45172739028930664, 0.051332660019397736, 0.12319838255643845, 0.03079959563910961, 0.010266532190144062, 0.11439438164234161, 0.37178176641464233, 0.08579578995704651, 0.1429929882287979, 0.08579578995704651, 0.05719719082117081, 0.08579578995704651, 0.23806901276111603, 0.11903450638055801, 0.07142069935798645, 0.35710352659225464, 0.11903450638055801, 0.023806901648640633, 0.07142069935798645, 0.16232137382030487, 0.3607141673564911, 0.09017854183912277, 0.03607141599059105, 0.03607141599059105, 0.10821424424648285, 0.03607141599059105, 0.054107122123241425, 0.09017854183912277, 0.018035707995295525, 0.1578405499458313, 0.3156810998916626, 0.1578405499458313, 0.1578405499458313, 0.38435086607933044, 0.19217543303966522, 0.09608771651983261, 0.28826314210891724, 0.7339429259300232, 0.1834857314825058, 0.16098131239414215, 0.3219626247882843, 0.16098131239414215, 0.16098131239414215, 0.16098131239414215, 0.10434835404157639, 0.6260901093482971, 0.12521801888942719, 0.06260900944471359, 0.020869670435786247, 0.020869670435786247, 0.5030152201652527, 0.0754522830247879, 0.13832919299602509, 0.05030152201652527, 0.012575380504131317, 0.11317842453718185, 0.11317842453718185, 0.5167571306228638, 0.3445047438144684, 0.789700984954834, 0.05640721321105957, 0.1692216396331787, 0.548401415348053, 0.03133722394704819, 0.09401167184114456, 0.12534889578819275, 0.015668611973524094, 0.17235472798347473, 0.9943089485168457, 0.013245414942502975, 0.3178899586200714, 0.19426608085632324, 0.030905967578291893, 0.29581427574157715, 0.004415138158947229, 0.07947248965501785, 0.02207569219172001, 0.004415138158947229, 0.008830276317894459, 0.013245414942502975, 0.004415138158947229, 0.004415138158947229, 0.004415138158947229, 0.8392978310585022, 0.1198996901512146, 0.03912830352783203, 0.003912830259650946, 0.9508177638053894, 0.026839744299650192, 0.9393910765647888, 0.27998605370521545, 0.23253078758716583, 0.1328747421503067, 0.09206321090459824, 0.10060515999794006, 0.09491052478551865, 0.025625841692090034, 0.009491052478551865, 0.007592841982841492, 0.008541947230696678, 0.006643736734986305, 0.005694631487131119, 0.001898210495710373, 0.0009491052478551865, 0.49855607748031616, 0.026948977261781693, 0.030317600816488266, 0.2711741030216217, 0.025264667347073555, 0.11284884810447693, 0.01684311032295227, 0.006737244315445423, 0.0016843110788613558, 0.0016843110788613558, 0.0033686221577227116, 0.0033686221577227116, 0.1342022716999054, 0.2385818064212799, 0.1714806705713272, 0.052189771085977554, 0.23112612962722778, 0.05964545160531998, 0.03727840632200241, 0.02982272580265999, 0.007455681450664997, 0.007455681450664997, 0.007455681450664997, 0.014911362901329994, 0.07107380777597427, 0.31163132190704346, 0.10934431850910187, 0.06560659408569336, 0.3225657343864441, 0.010934432037174702, 0.04920494556427002, 0.03280329704284668, 0.005467216018587351, 0.010934432037174702, 0.005467216018587351, 0.9292410612106323, 0.1967637985944748, 0.3935275971889496, 0.1967637985944748, 0.1967637985944748, 0.9608814120292664, 0.5114752650260925, 0.25573763251304626, 0.1918032169342041, 0.9103168249130249, 0.07002437114715576, 0.9746170043945312, 0.023380370810627937, 0.23380371928215027, 0.1636625975370407, 0.28056445717811584, 0.25718408823013306, 0.5366930961608887, 0.11926513910293579, 0.2981628477573395, 0.019105523824691772, 0.7355626225471497, 0.05731657147407532, 0.1337386667728424, 0.02865828573703766, 0.009552761912345886, 0.19838759303092957, 0.39677518606185913, 0.19838759303092957, 0.19838759303092957, 0.957045316696167, 0.06761136651039124, 0.4597572684288025, 0.3651013672351837, 0.013522272929549217, 0.05408909171819687, 0.0405668169260025, 0.1904083788394928, 0.1904083788394928, 0.3808167576789856, 0.1904083788394928, 0.17653042078018188, 0.13730143010616302, 0.5099767446517944, 0.15691591799259186, 0.019614489749073982, 0.7377658486366272, 0.06706961989402771, 0.06706961989402771, 0.06706961989402771, 0.9343427419662476, 0.041526343673467636, 0.8775943517684937, 0.3175036609172821, 0.15875183045864105, 0.15875183045864105, 0.3175036609172821, 0.13802114129066467, 0.5520845651626587, 0.27604228258132935, 0.3723973035812378, 0.1861986517906189, 0.3723973035812378, 0.08370671421289444, 0.899847149848938, 0.27922487258911133, 0.21478836238384247, 0.19330953061580658, 0.042957670986652374, 0.12887302041053772, 0.042957670986652374, 0.06443651020526886, 0.14704057574272156, 0.24506764113903046, 0.44112175703048706, 0.14704057574272156, 0.5287759900093079, 0.17625866830348969, 0.058752890676259995, 0.14688222110271454, 0.029376445338129997, 0.19097326695919037, 0.8020877242088318, 0.10906138271093369, 0.2538497745990753, 0.1429080218076706, 0.05829142779111862, 0.22752460837364197, 0.045128848403692245, 0.11094175279140472, 0.015042949467897415, 0.005641106050461531, 0.011282212100923061, 0.013162580318748951, 0.001880368683487177, 0.001880368683487177, 0.003760737366974354, 0.24988217651844025, 0.7218818068504333, 0.4352771043777466, 0.24810795485973358, 0.004352771211415529, 0.06529156863689423, 0.0130583131685853, 0.16105252504348755, 0.0130583131685853, 0.004352771211415529, 0.0261166263371706, 0.0261166263371706, 0.4908410310745239, 0.1636136770248413, 0.1636136770248413, 0.1636136770248413, 0.12400739639997482, 0.14172273874282837, 0.14172273874282837, 0.14172273874282837, 0.17715342342853546, 0.10629205405712128, 0.03543068468570709, 0.017715342342853546, 0.10629205405712128, 0.8729183673858643, 0.3853093981742859, 0.2889820635318756, 0.09632734954357147, 0.19265469908714294, 0.11340907216072083, 0.3402272164821625, 0.22681814432144165, 0.22681814432144165, 0.11340907216072083, 0.055961254984140396, 0.1678837537765503, 0.6715350151062012, 0.055961254984140396, 0.3626549243927002, 0.1813274621963501, 0.1813274621963501, 0.1813274621963501, 0.2480727732181549, 0.16538184881210327, 0.4134546220302582, 0.08269092440605164, 0.018729202449321747, 0.00624306732788682, 0.12486134469509125, 0.00312153366394341, 0.00624306732788682, 0.8209633827209473, 0.015607668086886406, 0.00312153366394341, 0.00312153366394341, 0.8736952543258667, 0.36245793104171753, 0.5436868667602539, 0.015848293900489807, 0.0014407540438696742, 0.0014407540438696742, 0.0014407540438696742, 0.9768312573432922, 0.0014407540438696742, 0.0014407540438696742, 0.15825514495372772, 0.15825514495372772, 0.31651028990745544, 0.15825514495372772, 0.15825514495372772, 0.9909770488739014, 0.0016298964619636536, 0.0016298964619636536, 0.0016298964619636536, 0.9262669086456299, 0.037050675600767136, 0.03128722682595253, 0.9626838564872742, 0.0024067095946520567, 0.040868114680051804, 0.93996661901474, 0.8635146021842957, 0.01837265118956566, 0.06430427730083466, 0.027558976784348488, 0.00918632559478283, 0.00918632559478283, 0.4035474956035614, 0.13451583683490753, 0.26903167366981506, 0.37711817026138306, 0.18855908513069153, 0.18855908513069153, 0.18855908513069153, 0.1300266832113266, 0.0010926612885668874, 0.8588317632675171, 0.0010926612885668874, 0.0010926612885668874, 0.006555967498570681, 0.29831621050834656, 0.15744465589523315, 0.09943873435258865, 0.11186857521533966, 0.10358200967311859, 0.1615879386663437, 0.033146243542432785, 0.016573121771216393, 0.008286560885608196, 0.004143280442804098, 0.008286560885608196, 0.4402339458465576, 0.008632037788629532, 0.12948057055473328, 0.4143378436565399, 0.012969519942998886, 0.7306162714958191, 0.10375615954399109, 0.017292693257331848, 0.08214028924703598, 0.017292693257331848, 0.012969519942998886, 0.004323173314332962, 0.017292693257331848, 0.004323173314332962, 0.004323173314332962, 0.8676560521125793, 0.26918506622314453, 0.1794567108154297, 0.1794567108154297, 0.08972835540771484, 0.26918506622314453, 0.270307719707489, 0.21624618768692017, 0.02703077346086502, 0.16218464076519012, 0.10812309384346008, 0.05406154692173004, 0.1351538598537445, 0.852651059627533, 0.10658138245344162, 0.8838658928871155, 0.07142350822687149, 0.008927938528358936, 0.008927938528358936, 0.017855877056717873, 0.9462887644767761, 0.025575371459126472, 0.727297306060791, 0.150077223777771, 0.02308880351483822, 0.04617760702967644, 0.01154440175741911, 0.01154440175741911, 0.01154440175741911, 0.2710215449333191, 0.2544706165790558, 0.10551220178604126, 0.1117188036441803, 0.07241033762693405, 0.07241033762693405, 0.05792826786637306, 0.02068866789340973, 0.006206599995493889, 0.004137733485549688, 0.008275466971099377, 0.002068866742774844, 0.006206599995493889, 0.002068866742774844, 0.002068866742774844, 0.4094105660915375, 0.08987060934305191, 0.09985623508691788, 0.12981310486793518, 0.03994249179959297, 0.1897268444299698, 0.019971245899796486, 0.019971245899796486, 0.4169304072856903, 0.22741657495498657, 0.11370828747749329, 0.07580552995204926, 0.03790276497602463, 0.03790276497602463, 0.03790276497602463, 0.3773472309112549, 0.18867361545562744, 0.18867361545562744, 0.18867361545562744, 0.936591625213623, 0.127908855676651, 0.7674531936645508, 0.32413527369499207, 0.04766695201396942, 0.009533390402793884, 0.5529366135597229, 0.04766695201396942, 0.009533390402793884, 0.1787833571434021, 0.1787833571434021, 0.3575667142868042, 0.04795023053884506, 0.40883880853652954, 0.1766587495803833, 0.07066349685192108, 0.12870851159095764, 0.037855446338653564, 0.06309241056442261, 0.02271326817572117, 0.012618482112884521, 0.0050473930314183235, 0.0025236965157091618, 0.012618482112884521, 0.007571089081466198, 0.0025236965157091618, 0.269337922334671, 0.538675844669342, 0.1346689611673355, 0.11931360512971878, 0.29671409726142883, 0.25432637333869934, 0.06279663741588593, 0.10675428062677383, 0.06279663741588593, 0.05023730918765068, 0.021978821605443954, 0.00784957967698574, 0.0047097476199269295, 0.0047097476199269295, 0.0031398318242281675, 0.0031398318242281675, 0.0015699159121140838, 0.0015699159121140838, 0.7724118232727051, 0.03048994205892086, 0.05081656947731972, 0.10163313895463943, 0.010163313709199429, 0.010163313709199429, 0.010163313709199429, 0.08648763597011566, 0.30572375655174255, 0.3077350854873657, 0.04626083001494408, 0.12068042904138565, 0.030170107260346413, 0.04626083001494408, 0.0281587652862072, 0.008045361377298832, 0.006034021265804768, 0.004022680688649416, 0.006034021265804768, 0.002011340344324708, 0.002011340344324708, 0.002011340344324708, 0.6473031044006348, 0.0431535430252552, 0.0863070860505104, 0.0431535430252552, 0.1726141721010208, 0.04379940778017044, 0.24733781814575195, 0.6209210157394409, 0.015458613634109497, 0.05152871459722519, 0.0025764356832951307, 0.0077293068170547485, 0.0051528713665902615, 0.13451656699180603, 0.6456795334815979, 0.08070994168519974, 0.026903312653303146, 0.026903312653303146, 0.026903312653303146, 0.05380662530660629, 0.026903312653303146, 0.718901515007019, 0.04810493439435959, 0.07750239968299866, 0.05077743157744408, 0.018707474693655968, 0.07482989877462387, 0.002672496484592557, 0.002672496484592557, 0.002672496484592557, 0.040528688579797745, 0.9321598410606384, 0.23029367625713348, 0.20877090096473694, 0.12913663685321808, 0.10115703195333481, 0.16572535037994385, 0.10330931097269058, 0.025827327743172646, 0.010761386714875698, 0.010761386714875698, 0.006456831935793161, 0.0021522773895412683, 0.004304554779082537, 0.0021522773895412683, 0.0021522773895412683, 0.1167643815279007, 0.25020939111709595, 0.1501256376504898, 0.06672250479459763, 0.2335287630558014, 0.06672250479459763, 0.03336125239729881, 0.016680626198649406, 0.016680626198649406, 0.03336125239729881, 0.5773261189460754, 0.04364664852619171, 0.12697206437587738, 0.17061872780323029, 0.009919692762196064, 0.003967877011746168, 0.031743016093969345, 0.01388757023960352, 0.003967877011746168, 0.007935754023492336, 0.003967877011746168, 0.003967877011746168, 0.001983938505873084, 0.001983938505873084, 0.37069079279899597, 0.37069079279899597, 0.18534539639949799, 0.26643016934394836, 0.26998254656791687, 0.09236245602369308, 0.12078167498111725, 0.09236245602369308, 0.060390837490558624, 0.03907642140984535, 0.03907642140984535, 0.003552402136847377, 0.003552402136847377, 0.003552402136847377, 0.007104804273694754, 0.022419551387429237, 0.36992260813713074, 0.22419552505016327, 0.1569368690252304, 0.022419551387429237, 0.13451731204986572, 0.011209775693714619, 0.022419551387429237, 0.022419551387429237, 0.011209775693714619, 0.3945090174674988, 0.1972545087337494, 0.1972545087337494, 0.0986272543668747, 0.27699142694473267, 0.2425546646118164, 0.1212773323059082, 0.10331031680107117, 0.09881856292486191, 0.10929932445287704, 0.014972509816288948, 0.004491752944886684, 0.011978007853031158, 0.004491752944886684, 0.0029945019632577896, 0.0014972509816288948, 0.0029945019632577896, 0.0014972509816288948, 0.0014972509816288948, 0.928849458694458, 0.01511687133461237, 0.9674797654151917, 0.7333316206932068, 0.1833329051733017, 0.23054496943950653, 0.023054497316479683, 0.023054497316479683, 0.5533079504966736, 0.09221798926591873, 0.046108994632959366, 0.2808554470539093, 0.14042772352695465, 0.2808554470539093, 0.14042772352695465, 0.37308669090270996, 0.09327167272567749, 0.46635836362838745, 0.21434547007083893, 0.21434547007083893, 0.21434547007083893, 0.21434547007083893, 0.3127911388874054, 0.6255822777748108, 0.1563955694437027, 0.9726842045783997, 0.18645958602428436, 0.18645958602428436, 0.3729191720485687, 0.18645958602428436, 0.8520347476005554, 0.647773802280426, 0.1619434505701065, 0.1619434505701065, 0.1619434505701065, 0.3601655066013336, 0.5402482151985168, 0.28526827692985535, 0.28526827692985535, 0.07131706923246384, 0.2139512002468109, 0.07131706923246384, 0.061882197856903076, 0.6188219785690308, 0.2475287914276123, 0.9783714413642883, 0.34106653928756714, 0.12789995968341827, 0.1563221663236618, 0.16342772543430328, 0.0781610831618309, 0.0781610831618309, 0.021316658705472946, 0.014211106114089489, 0.0071055530570447445, 0.021316658705472946, 0.5529423356056213, 0.020479345694184303, 0.28671082854270935, 0.04095869138836861, 0.020479345694184303, 0.06143803521990776, 0.020479345694184303, 0.18342876434326172, 0.7337150573730469, 0.31363731622695923, 0.47045594453811646, 0.15681865811347961, 0.960989773273468, 0.016859469935297966, 0.008429734967648983, 0.21481001377105713, 0.01621207594871521, 0.012159056961536407, 0.7133313417434692, 0.008106037974357605, 0.0040530189871788025, 0.020265094935894012, 0.0040530189871788025, 0.0040530189871788025, 0.012562571093440056, 0.5904408693313599, 0.2135637104511261, 0.10050056874752045, 0.02512514218688011, 0.006281285546720028, 0.006281285546720028, 0.02512514218688011, 0.006281285546720028, 0.006281285546720028, 0.006281285546720028, 0.006281285546720028, 0.3735567629337311, 0.18677838146686554, 0.18677838146686554, 0.41107040643692017, 0.09486240148544312, 0.06550022959709167, 0.31620800495147705, 0.013551771640777588, 0.076793372631073, 0.009034514427185059, 0.006775885820388794, 0.004517257213592529, 0.0022586286067962646, 0.0022586286067962646, 0.5396972298622131, 0.17989906668663025, 0.17989906668663025, 0.8997519612312317, 0.1012653335928917, 0.05063266679644585, 0.2025306671857834, 0.2025306671857834, 0.4050613343715668, 0.025316333398222923, 0.09672584384679794, 0.42104193568229675, 0.017069267109036446, 0.03413853421807289, 0.3243160843849182, 0.03413853421807289, 0.02844877913594246, 0.011379511095583439, 0.0056897555477917194, 0.011379511095583439, 0.0056897555477917194, 0.0056897555477917194, 0.989727258682251, 0.6282755136489868, 0.14498665928840637, 0.16915109753608704, 0.024164443835616112, 0.033597178757190704, 0.23518025875091553, 0.16798590123653412, 0.2855760455131531, 0.016798589378595352, 0.10079154372215271, 0.016798589378595352, 0.06719435751438141, 0.016798589378595352, 0.016798589378595352, 0.016798589378595352, 0.29660072922706604, 0.017447100952267647, 0.5234130024909973, 0.034894201904535294, 0.10468260198831558, 0.017447100952267647, 0.12840941548347473, 0.12840941548347473, 0.25681883096694946, 0.1926141232252121, 0.06420470774173737, 0.06420470774173737, 0.12840941548347473, 0.0725877657532692, 0.217763289809227, 0.5807021260261536, 0.1088816449046135, 0.37166428565979004, 0.24980713427066803, 0.048742856830358505, 0.048742856830358505, 0.20106427371501923, 0.030464284121990204, 0.018278570845723152, 0.006092857103794813, 0.006092857103794813, 0.012185714207589626, 0.3126694858074188, 0.13027894496917725, 0.1693626344203949, 0.12159368395805359, 0.04776894673705101, 0.1389642059803009, 0.04342631623148918, 0.004342631436884403, 0.008685262873768806, 0.004342631436884403, 0.008685262873768806, 0.004342631436884403, 0.008685262873768806, 0.060820672661066055, 0.4595339894294739, 0.17570416629314423, 0.06757852435112, 0.12839920818805695, 0.027031410485506058, 0.0067578526213765144, 0.0067578526213765144, 0.013515705242753029, 0.020273558795452118, 0.0067578526213765144, 0.013515705242753029, 0.2362985759973526, 0.4725971519947052, 0.2362985759973526, 0.03374825045466423, 0.4134160578250885, 0.19405242800712585, 0.008437062613666058, 0.16874124109745026, 0.008437062613666058, 0.05905943736433983, 0.0759335607290268, 0.008437062613666058, 0.008437062613666058, 0.008437062613666058, 0.32064494490623474, 0.400806188583374, 0.08016123622655869, 0.08016123622655869, 0.08016123622655869, 0.5541645884513855, 0.13854114711284637, 0.13854114711284637, 0.24104532599449158, 0.080348439514637, 0.522264838218689, 0.080348439514637, 0.0401742197573185, 0.030751103535294533, 0.3821922838687897, 0.21525771915912628, 0.03514411672949791, 0.21525771915912628, 0.030751103535294533, 0.030751103535294533, 0.026358088478446007, 0.004393014591187239, 0.004393014591187239, 0.013179044239223003, 0.004393014591187239, 0.07907488197088242, 0.8856387138366699, 0.015814976766705513, 0.3280467689037323, 0.17128105461597443, 0.13934729993343353, 0.14515343308448792, 0.10741354525089264, 0.049352169036865234, 0.02322455123066902, 0.01161227561533451, 0.008709206245839596, 0.01161227561533451, 0.005806137807667255, 0.31933772563934326, 0.19367241859436035, 0.14044946432113647, 0.16632172465324402, 0.031785931438207626, 0.07392076402902603, 0.03548196703195572, 0.014784153550863266, 0.006652869284152985, 0.004435245878994465, 0.0036960383877158165, 0.005913661327213049, 0.0014784153318032622, 0.0007392076659016311, 0.0007392076659016311, 0.04231514036655426, 0.25389084219932556, 0.004701682366430759, 0.056420184671878815, 0.5971136093139648, 0.028210092335939407, 0.009403364732861519, 0.8412193059921265, 0.07010161131620407, 0.2415318489074707, 0.12076592445373535, 0.2415318489074707, 0.36229777336120605, 0.10988723486661911, 0.5494362115859985, 0.10988723486661911, 0.10988723486661911, 0.05174548178911209, 0.25872740149497986, 0.36221835017204285, 0.15523643791675568, 0.05174548178911209, 0.05174548178911209, 0.4053042232990265, 0.12098633497953415, 0.0592833049595356, 0.18510909378528595, 0.09436934441328049, 0.09073974937200546, 0.020567677915096283, 0.0036295901518315077, 0.0048394533805549145, 0.0024197266902774572, 0.0048394533805549145, 0.0036295901518315077, 0.0012098633451387286, 0.93777996301651, 0.41350001096725464, 0.16540001332759857, 0.08270000666379929, 0.24810001254081726, 0.09204934537410736, 0.8284441232681274, 0.37959223985671997, 0.37959223985671997, 0.18979611992835999, 0.251859575510025, 0.23994730412960052, 0.15315784513950348, 0.1259297877550125, 0.1038069874048233, 0.04084209352731705, 0.027228062972426414, 0.018719293177127838, 0.011912276968359947, 0.010210523381829262, 0.005105261690914631, 0.001701753935776651, 0.005105261690914631, 0.001701753935776651, 0.003403507871553302, 0.09510216861963272, 0.09510216861963272, 0.4814547300338745, 0.005943885538727045, 0.12482160329818726, 0.005943885538727045, 0.13670937716960907, 0.01188777107745409, 0.005943885538727045, 0.017831657081842422, 0.02377554215490818, 0.005943885538727045, 0.005943885538727045, 0.09267248213291168, 0.40320658683776855, 0.16258329153060913, 0.058529987931251526, 0.10730497539043427, 0.04714915528893471, 0.08129164576530457, 0.014632496982812881, 0.008129164576530457, 0.003251665970310569, 0.003251665970310569, 0.008129164576530457, 0.0016258329851552844, 0.003251665970310569, 0.0016258329851552844, 0.7591516971588135, 0.10845024138689041, 0.31450673937797546, 0.15725336968898773, 0.15725336968898773, 0.31450673937797546, 0.05139599367976189, 0.4882619380950928, 0.3340739607810974, 0.10279198735952377, 0.4996609687805176, 0.06929604709148407, 0.025530122220516205, 0.13859209418296814, 0.05106024444103241, 0.16412222385406494, 0.007294320967048407, 0.03282444179058075, 0.0036471604835242033, 0.0036471604835242033, 0.007294320967048407, 0.4980417490005493, 0.1660139113664627, 0.1660139113664627, 0.1660139113664627, 0.9395542144775391, 0.028503378853201866, 0.005344383418560028, 0.9513002634048462, 0.0035629223566502333, 0.0071258447133004665, 0.15985767543315887, 0.822970986366272, 0.011841309256851673, 0.9411725997924805, 0.14729511737823486, 0.2651312053203583, 0.21357791125774384, 0.056463126093149185, 0.13502052426338196, 0.06382787972688675, 0.07119263708591461, 0.031913939863443375, 0.004909837152808905, 0.007364755496382713, 0.004909837152808905, 0.0024549185764044523, 0.18564194440841675, 0.5569258332252502, 0.18564194440841675, 0.24462378025054932, 0.15932732820510864, 0.16898353397846222, 0.13840556144714355, 0.11265569180250168, 0.0756402462720871, 0.05632784590125084, 0.009656202048063278, 0.011265569366514683, 0.011265569366514683, 0.006437467876821756, 0.003218733938410878, 0.001609366969205439, 0.001609366969205439, 0.26583245396614075, 0.3987486958503723, 0.13291622698307037, 0.14220257103443146, 0.3226316571235657, 0.1253829151391983, 0.07798206061124802, 0.09633077681064606, 0.15290600061416626, 0.029052140191197395, 0.029052140191197395, 0.006116239819675684, 0.001529059954918921, 0.004587179981172085, 0.001529059954918921, 0.004587179981172085, 0.004587179981172085, 0.1314961463212967, 0.2817774713039398, 0.06574807316064835, 0.03757032752037048, 0.366310715675354, 0.046962909400463104, 0.028177745640277863, 0.01878516376018524, 0.00939258188009262, 0.00939258188009262, 0.00939258188009262, 0.1536911576986313, 0.1536911576986313, 0.46107348799705505, 0.16209079325199127, 0.696990430355072, 0.016209078952670097, 0.06483631581068039, 0.016209078952670097, 0.032418157905340195, 0.9603862762451172, 0.017784930765628815, 0.7167572975158691, 0.23891909420490265, 0.32270699739456177, 0.32270699739456177, 0.32270699739456177, 0.9823089241981506, 0.14008069038391113, 0.18677425384521484, 0.176397904753685, 0.05706991255283356, 0.3164786100387573, 0.01556452177464962, 0.06225808709859848, 0.010376347228884697, 0.010376347228884697, 0.0051881736144423485, 0.010376347228884697, 0.0051881736144423485, 0.18893283605575562, 0.8010752201080322, 0.5655338764190674, 0.18851129710674286, 0.18851129710674286, 0.1811681091785431, 0.1811681091785431, 0.3623362183570862, 0.1811681091785431, 0.28910380601882935, 0.0667162612080574, 0.5337300896644592, 0.022238753736019135, 0.022238753736019135, 0.022238753736019135, 0.022238753736019135, 0.4618537425994873, 0.23092687129974365, 0.1539512425661087, 0.07697562128305435, 0.3233964145183563, 0.16169820725917816, 0.14941732585430145, 0.14532370865345, 0.049123506993055344, 0.08391932398080826, 0.047076690942049026, 0.002046812791377306, 0.002046812791377306, 0.010234063491225243, 0.002046812791377306, 0.004093625582754612, 0.002046812791377306, 0.002046812791377306, 0.010234063491225243, 0.4400121867656708, 0.09711980074644089, 0.0693712905049324, 0.1664910912513733, 0.0753173977136612, 0.09711980074644089, 0.01982036791741848, 0.011892220936715603, 0.0039640734903514385, 0.0039640734903514385, 0.007928146980702877, 0.0019820367451757193, 0.0019820367451757193, 0.0019820367451757193, 0.11992773413658142, 0.6596025228500366, 0.17989160120487213, 0.14783979952335358, 0.01642664335668087, 0.3121062219142914, 0.13141314685344696, 0.03285328671336174, 0.06570657342672348, 0.29567959904670715, 0.17280209064483643, 0.2580511271953583, 0.14054569602012634, 0.13824167847633362, 0.15206584334373474, 0.05990472435951233, 0.020736251026391983, 0.020736251026391983, 0.011520139873027802, 0.009216111153364182, 0.004608055576682091, 0.004608055576682091, 0.0023040277883410454, 0.0023040277883410454, 0.28522467613220215, 0.18126428127288818, 0.1479436457157135, 0.050647374242544174, 0.12261995673179626, 0.149276465177536, 0.03998476639389992, 0.006664128042757511, 0.005331302527338266, 0.003998477011919022, 0.002665651263669133, 0.002665651263669133, 0.0013328256318345666, 0.917669415473938, 0.8124915957450867, 0.047003645449876785, 0.026859225705266, 0.08057767897844315, 0.013429612852633, 0.013429612852633, 0.9780967831611633, 0.8844357132911682, 0.08559054881334305, 0.36728811264038086, 0.17140111327171326, 0.0489717461168766, 0.0489717461168766, 0.0489717461168766, 0.17140111327171326, 0.0244858730584383, 0.0244858730584383, 0.0489717461168766, 0.0489717461168766, 0.5692978501319885, 0.18976595997810364, 0.18976595997810364, 0.1887599378824234, 0.30201590061187744, 0.22651192545890808, 0.11325596272945404, 0.07550397515296936, 0.03775198757648468, 0.18132136762142181, 0.5439640879631042, 0.18132136762142181, 0.17679595947265625, 0.17679595947265625, 0.17679595947265625, 0.3535919189453125, 0.2649160623550415, 0.2649160623550415, 0.529832124710083, 0.48783406615257263, 0.10840757191181183, 0.10840757191181183, 0.16261135041713715, 0.054203785955905914, 0.8488144874572754, 0.011627595871686935, 0.011627595871686935, 0.02325519174337387, 0.08139316737651825, 0.4143204987049103, 0.15066199004650116, 0.07533099502325058, 0.2636584937572479, 0.03766549751162529, 0.03766549751162529, 0.22803926467895508, 0.13682356476783752, 0.5244902968406677, 0.045607853680849075, 0.022803926840424538, 0.022803926840424538, 0.11107011884450912, 0.11107011884450912, 0.5553506016731262, 0.11107011884450912, 0.8888902068138123, 0.09016486257314682, 0.18032972514629364, 0.27049461007118225, 0.4508243203163147, 0.9295340776443481, 0.5940704941749573, 0.1980234980583191, 0.1980234980583191, 0.38832852244377136, 0.19416426122188568, 0.19416426122188568, 0.19416426122188568, 0.8992478847503662, 0.30654776096343994, 0.6130955219268799, 0.8529486060142517, 0.395108699798584, 0.012883978895843029, 0.23298528790473938, 0.2630479037761688, 0.045093927532434464, 0.011810313910245895, 0.0246942937374115, 0.0032209947239607573, 0.0021473297383636236, 0.0021473297383636236, 0.0021473297383636236, 0.004294659476727247, 0.0021473297383636236, 0.807048499584198, 0.10088106244802475, 0.050440531224012375, 0.050440531224012375, 0.8929446935653687, 0.02747522108256817, 0.013737610541284084, 0.04121283069252968, 0.013737610541284084, 0.012833476066589355, 0.979621946811676, 0.2868180274963379, 0.14340901374816895, 0.14340901374816895, 0.2868180274963379, 0.15900051593780518, 0.18951576948165894, 0.22966742515563965, 0.05460624024271965, 0.05300017446279526, 0.2184249609708786, 0.06263656914234161, 0.008030329830944538, 0.008030329830944538, 0.003212131792679429, 0.003212131792679429, 0.006424263585358858, 0.004818197805434465, 0.5985361337661743, 0.1995120495557785, 0.1995120495557785, 0.9215570688247681, 0.9550942778587341, 0.028091007843613625, 0.2749633491039276, 0.3116251528263092, 0.0183308906853199, 0.0549926720559597, 0.2932942509651184, 0.0366617813706398, 0.0183308906853199, 0.20604956150054932, 0.30086883902549744, 0.1513461321592331, 0.10393650829792023, 0.10028961300849915, 0.06929100304841995, 0.03829239681363106, 0.005470342468470335, 0.0072937896475195885, 0.005470342468470335, 0.005470342468470335, 0.0018234474118798971, 0.0018234474118798971, 0.0018234474118798971, 0.1684194654226303, 0.8201295733451843, 0.007322585675865412, 0.8388910293579102, 0.3714829087257385, 0.18539166450500488, 0.11263418197631836, 0.12732559442520142, 0.04687260836362839, 0.08325134962797165, 0.04477383568882942, 0.014691414311528206, 0.00209877360612154, 0.00419754721224308, 0.00419754721224308, 0.0006995911826379597, 0.0006995911826379597, 0.0013991823652759194, 0.06544438004493713, 0.6918405890464783, 0.1121903732419014, 0.0560951866209507, 0.02804759331047535, 0.009349197149276733, 0.02804759331047535, 0.009349197149276733, 0.4226246774196625, 0.0926523357629776, 0.17230083048343658, 0.0568917840719223, 0.03901150822639465, 0.1788027435541153, 0.013003836385905743, 0.008127397857606411, 0.01137835718691349, 0.0032509590964764357, 0.0016254795482382178, 0.8644959926605225, 0.07517356425523758, 0.03758678212761879, 0.31924203038215637, 0.10641401261091232, 0.06384840607643127, 0.19154521822929382, 0.0851312056183815, 0.14897961914539337, 0.06384840607643127, 0.4731489419937134, 0.3154326379299164, 0.1577163189649582, 0.7343171834945679, 0.1468634307384491, 0.5444358587265015, 0.1814786195755005, 0.1814786195755005, 0.26194319128990173, 0.06548579782247543, 0.2292003035545349, 0.06548579782247543, 0.29468610882759094, 0.03274289891123772, 0.03274289891123772, 0.6459153890609741, 0.16147884726524353, 0.16147884726524353, 0.6084810495376587, 0.16226162016391754, 0.16226162016391754, 0.040565405040979385, 0.23006732761859894, 0.19826941192150116, 0.16460101306438446, 0.07481864094734192, 0.11783936619758606, 0.13280309736728668, 0.04302072152495384, 0.013093262910842896, 0.005611398257315159, 0.005611398257315159, 0.005611398257315159, 0.0018704661633819342, 0.0018704661633819342, 0.0037409323267638683, 0.3161691129207611, 0.3161691129207611, 0.3161691129207611, 0.2942858934402466, 0.1471429467201233, 0.1471429467201233, 0.2942858934402466, 0.9025354981422424, 0.0501408614218235, 0.1386607438325882, 0.1386607438325882, 0.1386607438325882, 0.2773214876651764, 0.1386607438325882, 0.8316259980201721, 0.015120472759008408, 0.015120472759008408, 0.10584331303834915, 0.015120472759008408, 0.5199094414710999, 0.0691622644662857, 0.07870188355445862, 0.10493584722280502, 0.011924528516829014, 0.10016603767871857, 0.09062641113996506, 0.014309434220194817, 0.007154717110097408, 0.0023849057033658028, 0.12810644507408142, 0.12810644507408142, 0.38431933522224426, 0.12810644507408142, 0.12810644507408142, 0.4714401066303253, 0.15714670717716217, 0.15714670717716217, 0.20617389678955078, 0.27833476662635803, 0.16837534308433533, 0.08246956020593643, 0.12198621779680252, 0.053261589258909225, 0.03779854625463486, 0.027489852160215378, 0.00859057903289795, 0.005154347512871027, 0.0034362315200269222, 0.0017181157600134611, 0.0017181157600134611, 0.08495629578828812, 0.3071496784687042, 0.1437721997499466, 0.02940794825553894, 0.27447420358657837, 0.02287284843623638, 0.075153648853302, 0.026140399277210236, 0.009802649728953838, 0.009802649728953838, 0.0032675499096512794, 0.0032675499096512794, 0.0032675499096512794, 0.0032675499096512794, 0.9001070857048035, 0.14963890612125397, 0.2652689814567566, 0.237306147813797, 0.09220174700021744, 0.11563006043434143, 0.029474329203367233, 0.05441414564847946, 0.01813804917037487, 0.013603536412119865, 0.009069024585187435, 0.006046016234904528, 0.0037787603214383125, 0.001511504058726132, 0.002267256146296859, 0.002267256146296859, 0.09294238686561584, 0.32529833912849426, 0.04647119343280792, 0.4182407259941101, 0.04647119343280792, 0.06738881766796112, 0.4458029270172119, 0.20216643810272217, 0.02591877430677414, 0.07257256656885147, 0.04147003963589668, 0.062205057591199875, 0.062205057591199875, 0.005183754954487085, 0.005183754954487085, 0.005183754954487085, 0.005183754954487085, 0.6867547035217285, 0.274701863527298, 0.24154262244701385, 0.25201916694641113, 0.17228099703788757, 0.1274646520614624, 0.06518740206956863, 0.04423430934548378, 0.06402334570884705, 0.006402334664016962, 0.005238273646682501, 0.009894517250359058, 0.0034921823535114527, 0.00407421262934804, 0.002328121569007635, 0.0005820303922519088, 0.0011640607845038176, 0.8018856048583984, 0.21927200257778168, 0.24787269532680511, 0.20497165620326996, 0.04766782373189926, 0.05720138922333717, 0.09056887030601501, 0.05243460834026337, 0.03813426196575165, 0.014300347305834293, 0.009533565491437912, 0.004766782745718956, 0.014300347305834293, 0.004766782745718956, 0.9807583093643188, 0.010777563787996769, 0.013705293647944927, 0.19187411665916443, 0.5070958733558655, 0.08223176002502441, 0.006852646823972464, 0.13705293834209442, 0.020557940006256104, 0.006852646823972464, 0.013705293647944927, 0.020557940006256104, 0.006852646823972464, 0.006852646823972464, 0.08982004970312119, 0.08982004970312119, 0.7185603976249695, 0.8751500248908997, 0.23631930351257324, 0.21493293344974518, 0.1571897566318512, 0.09303067624568939, 0.14008067548274994, 0.07057499140501022, 0.042772725224494934, 0.013901134952902794, 0.012831817381083965, 0.005346590653061867, 0.005346590653061867, 0.0032079543452709913, 0.0021386363077908754, 0.0010693181538954377, 0.0010693181538954377, 0.9849307537078857, 0.8951390981674194, 0.1813802421092987, 0.21421630680561066, 0.2173435539007187, 0.1250898241996765, 0.08443562686443329, 0.07974475622177124, 0.04065418988466263, 0.023454340174794197, 0.006254490930587053, 0.010945359244942665, 0.006254490930587053, 0.0031272454652935266, 0.0031272454652935266, 0.0031272454652935266, 0.0015636227326467633, 0.17059384286403656, 0.265208899974823, 0.1920972615480423, 0.09604863077402115, 0.1275869905948639, 0.06164315342903137, 0.04300684854388237, 0.0114684933796525, 0.00573424668982625, 0.007167808245867491, 0.004300685133785009, 0.007167808245867491, 0.002867123344913125, 0.002867123344913125, 0.0014335616724565625, 0.35390153527259827, 0.17430971562862396, 0.16726689040660858, 0.11268506199121475, 0.07923168689012527, 0.06338535249233246, 0.015846338123083115, 0.014085632748901844, 0.007042816374450922, 0.0017607040936127305, 0.0017607040936127305, 0.003521408187225461, 0.0017607040936127305, 0.003521408187225461, 0.6443134546279907, 0.27613434195518494, 0.9822766184806824, 0.9212840795516968, 0.013257408514618874, 0.20681557059288025, 0.11401371657848358, 0.002651481656357646, 0.018560372292995453, 0.48522114753723145, 0.12461964040994644, 0.026514817029237747, 0.005302963312715292, 0.8613219261169434, 0.09570243954658508, 0.988186776638031, 0.8978766798973083, 0.04988203942775726, 0.5422633290290833, 0.24100591242313385, 0.07531435042619705, 0.03012573905289173, 0.03012573905289173, 0.03012573905289173, 0.04518860951066017, 0.0024394954089075327, 0.6708612442016602, 0.0439109168946743, 0.2195545881986618, 0.0024394954089075327, 0.007318485993891954, 0.007318485993891954, 0.0024394954089075327, 0.007318485993891954, 0.031713441014289856, 0.0024394954089075327, 0.8380012512207031, 0.13145117461681366, 0.016431396827101707, 0.008215698413550854, 0.7339719533920288, 0.1834929883480072, 0.08379504829645157, 0.8379504680633545, 0.07033205777406693, 0.14066411554813385, 0.18755215406417847, 0.2813282310962677, 0.21099618077278137, 0.04688803851604462, 0.5761805772781372, 0.1920602023601532, 0.10116487741470337, 0.809319019317627, 0.10116487741470337, 0.31166723370552063, 0.31166723370552063, 0.31166723370552063, 0.08587506413459778, 0.36496901512145996, 0.2790939509868622, 0.04293753206729889, 0.15028135478496552, 0.04293753206729889, 0.021468766033649445, 0.2153339385986328, 0.04614298790693283, 0.39990589022636414, 0.04614298790693283, 0.061523981392383575, 0.16919095814228058, 0.04614298790693283, 0.38589462637901306, 0.20070955157279968, 0.11754261702299118, 0.14304713904857635, 0.03437567129731178, 0.05322684347629547, 0.032157886773347855, 0.0199600663036108, 0.0011088926112279296, 0.002217785222455859, 0.003326677717268467, 0.002217785222455859, 0.0011088926112279296, 0.003326677717268467, 0.0011088926112279296, 0.38773810863494873, 0.19386905431747437, 0.19386905431747437, 0.19386905431747437, 0.6477205157279968, 0.1619301289319992, 0.1619301289319992, 0.11819949746131897, 0.8864962458610535, 0.10782979428768158, 0.32348936796188354, 0.1797163188457489, 0.10782979428768158, 0.10782979428768158, 0.03594326227903366, 0.03594326227903366, 0.03594326227903366, 0.07188652455806732, 0.9647782444953918, 0.013942097313702106, 0.0017427621642127633, 0.0017427621642127633, 0.9794323444366455, 0.0017427621642127633, 0.6550307273864746, 0.038857754319906235, 0.08881772309541702, 0.055511076003313065, 0.01665332354605198, 0.11102215200662613, 0.005551107693463564, 0.011102215386927128, 0.005551107693463564, 0.005551107693463564, 0.005551107693463564, 0.03261730074882507, 0.9459016919136047, 0.9453288912773132, 0.3280012607574463, 0.0977025032043457, 0.36289501190185547, 0.06978750228881836, 0.006978750228881836, 0.03489375114440918, 0.03489375114440918, 0.03489375114440918, 0.013957500457763672, 0.8464797735214233, 0.1354367583990097, 0.1850283145904541, 0.2250344455242157, 0.320048987865448, 0.03000459261238575, 0.1300199031829834, 0.0600091852247715, 0.015002296306192875, 0.01000153087079525, 0.01000153087079525, 0.005000765435397625, 0.005000765435397625, 0.01000153087079525, 0.5031384229660034, 0.12578460574150085, 0.12578460574150085, 0.12578460574150085, 0.9427310228347778, 0.008648908697068691, 0.034595634788274765, 0.14841441810131073, 0.4452432692050934, 0.07420720905065536, 0.14841441810131073, 0.07420720905065536, 0.07420720905065536, 0.33299002051353455, 0.14752721786499023, 0.14331215620040894, 0.16860254108905792, 0.02529038116335869, 0.09273139387369156, 0.054795823991298676, 0.012645190581679344, 0.004215063527226448, 0.012645190581679344, 0.004215063527226448, 0.008430127054452896, 0.5703009366989136, 0.1901003122329712, 0.1901003122329712, 0.39214077591896057, 0.11533551663160324, 0.15570294857025146, 0.07496808469295502, 0.12110229581594467, 0.05766775831580162, 0.03460065647959709, 0.023067103698849678, 0.011533551849424839, 0.0057667759247124195, 0.0057667759247124195, 0.011533551849424839, 0.9088453650474548, 0.23122714459896088, 0.15415142476558685, 0.2697649896144867, 0.03853785619139671, 0.11561357229948044, 0.03853785619139671, 0.07707571238279343, 0.03853785619139671, 0.983980655670166, 0.9295082688331604, 0.009600081481039524, 0.9792082905769348, 0.946193277835846, 0.032917384058237076, 0.2633390724658966, 0.032917384058237076, 0.6254303455352783, 0.032917384058237076, 0.032917384058237076, 0.7526951432228088, 0.03584262356162071, 0.10752787441015244, 0.03584262356162071, 0.03584262356162071, 0.040811244398355484, 0.16324497759342194, 0.7346024513244629, 0.040811244398355484, 0.24457019567489624, 0.18601113557815552, 0.16189858317375183, 0.11022882163524628, 0.07578231394290924, 0.11022882163524628, 0.07233766466379166, 0.006889301352202892, 0.003444650676101446, 0.006889301352202892, 0.017223253846168518, 0.003444650676101446, 0.003444650676101446, 0.003444650676101446, 0.3579404652118683, 0.04150034487247467, 0.1199619323015213, 0.3073619306087494, 0.05252387374639511, 0.06549273431301117, 0.018804842606186867, 0.006484428886324167, 0.011671971529722214, 0.013617300428450108, 0.002593771554529667, 0.0012968857772648335, 0.0012968857772648335, 0.5969131588935852, 0.11938263475894928, 0.23876526951789856, 0.7637107372283936, 0.20365619659423828, 0.1877424120903015, 0.20152167975902557, 0.11195648461580276, 0.16707353293895721, 0.11367889493703842, 0.14640463888645172, 0.0327257439494133, 0.01722407527267933, 0.006889630109071732, 0.005167222581803799, 0.003444815054535866, 0.001722407527267933, 0.001722407527267933, 0.16575734317302704, 0.4972720444202423, 0.16575734317302704, 0.9605534672737122, 0.010478764772415161, 0.0034929218236356974, 0.0034929218236356974, 0.0034929218236356974, 0.0034929218236356974, 0.010478764772415161, 0.2826080024242401, 0.15397264063358307, 0.1481255739927292, 0.1403294950723648, 0.10329809784889221, 0.12473732233047485, 0.023388247936964035, 0.003898041322827339, 0.003898041322827339, 0.005847061984241009, 0.003898041322827339, 0.0019490206614136696, 0.0019490206614136696, 0.003898041322827339, 0.10461818426847458, 0.5230908989906311, 0.10461818426847458, 0.10461818426847458, 0.10461818426847458, 0.10461818426847458, 0.3364329934120178, 0.09655475616455078, 0.12220212072134018, 0.06034672632813454, 0.016595348715782166, 0.3032422959804535, 0.027156027033925056, 0.012069344520568848, 0.004526004195213318, 0.010560676455497742, 0.003017336130142212, 0.006034672260284424, 0.001508668065071106, 0.5355026125907898, 0.35700175166130066, 0.4859452545642853, 0.3239634931087494, 0.1619817465543747, 0.9412806630134583, 0.3999350666999817, 0.2666233777999878, 0.2666233777999878, 0.1663379967212677, 0.3806581199169159, 0.12795230746269226, 0.08636780828237534, 0.10236184298992157, 0.06717496365308762, 0.01919284649193287, 0.02878926880657673, 0.006397615186870098, 0.006397615186870098, 0.003198807593435049, 0.006397615186870098, 0.003198807593435049, 0.16678667068481445, 0.2501800060272217, 0.5003600120544434, 0.08339333534240723, 0.9186763763427734, 0.05403978377580643, 0.8789541125297546, 0.10146700590848923, 0.10146700590848923, 0.710269033908844, 0.9851308465003967, 0.1338796466588974, 0.20253586769104004, 0.2196999192237854, 0.08925309777259827, 0.13731245696544647, 0.0858202800154686, 0.027462489902973175, 0.027462489902973175, 0.013731244951486588, 0.03432811424136162, 0.01029843371361494, 0.01029843371361494, 0.003432811237871647, 0.003432811237871647, 0.08667842298746109, 0.2648507356643677, 0.25040432810783386, 0.04815467819571495, 0.23435276746749878, 0.04173405468463898, 0.027287650853395462, 0.02086702734231949, 0.011236091144382954, 0.00481546763330698, 0.00481546763330698, 0.0032103119883686304, 0.0032103119883686304, 0.8790318369865417, 0.06579504907131195, 0.46056535840034485, 0.19738516211509705, 0.032897524535655975, 0.06579504907131195, 0.06579504907131195, 0.032897524535655975, 0.032897524535655975, 0.032897524535655975, 0.055365197360515594, 0.9042981863021851, 0.11320647597312927, 0.0679238885641098, 0.6565975546836853, 0.04528259113430977, 0.0679238885641098, 0.022641295567154884, 0.02345971018075943, 0.11729854345321655, 0.2345970869064331, 0.07037913054227829, 0.18767768144607544, 0.11729854345321655, 0.21113738417625427, 0.04691942036151886, 0.15006384253501892, 0.6502766609191895, 0.050021279603242874, 0.050021279603242874, 0.050021279603242874, 0.38796523213386536, 0.19398261606693268, 0.019398262724280357, 0.13578782975673676, 0.09699130803346634, 0.05819478631019592, 0.019398262724280357, 0.07759305089712143, 0.019398262724280357, 0.9620763063430786, 0.3454936444759369, 0.10329191386699677, 0.13890981674194336, 0.256448894739151, 0.042741481214761734, 0.04986506327986717, 0.023151636123657227, 0.012466265819966793, 0.001780895167030394, 0.012466265819966793, 0.007123580668121576, 0.001780895167030394, 0.001780895167030394, 0.003561790334060788, 0.001780895167030394, 0.11206326633691788, 0.21790079772472382, 0.28430864214897156, 0.12866522371768951, 0.13489097356796265, 0.04565540328621864, 0.02282770164310932, 0.02282770164310932, 0.0020752456039190292, 0.012451473623514175, 0.0020752456039190292, 0.0041504912078380585, 0.006225736811757088, 0.0020752456039190292, 0.033320505172014236, 0.7663716077804565, 0.13328202068805695, 0.033320505172014236, 0.32743969559669495, 0.16371984779834747, 0.16371984779834747, 0.16371984779834747, 0.16371984779834747, 0.31414395570755005, 0.15707197785377502, 0.31414395570755005, 0.15707197785377502, 0.10139953345060349, 0.8111962676048279, 0.18189366161823273, 0.5456809401512146, 0.18189366161823273, 0.31593838334083557, 0.15796919167041779, 0.31593838334083557, 0.15796919167041779, 0.8780426979064941, 0.5806227922439575, 0.3870818614959717, 0.7686671018600464, 0.1921667754650116, 0.15521924197673798, 0.6208769679069519, 0.15521924197673798, 0.19213059544563293, 0.19213059544563293, 0.38426119089126587, 0.19213059544563293, 0.3850119411945343, 0.19250597059726715, 0.19250597059726715, 0.19250597059726715, 0.9536324739456177, 0.02538887783885002, 0.9647773504257202, 0.09149466454982758, 0.9149466753005981, 0.17593558132648468, 0.5278067588806152, 0.17593558132648468, 0.159547358751297, 0.018409311771392822, 0.17795667052268982, 0.061364371329545975, 0.0061364369466900826, 0.4909149706363678, 0.0061364369466900826, 0.0061364369466900826, 0.06750080734491348, 0.0061364369466900826, 0.1847219169139862, 0.1847219169139862, 0.3694438338279724, 0.1847219169139862, 0.2493293732404709, 0.2493293732404709, 0.12466468662023544, 0.2493293732404709, 0.23053890466690063, 0.256154328584671, 0.10246174037456512, 0.10246174037456512, 0.07684630155563354, 0.11526945233345032, 0.06403858214616776, 0.02561543509364128, 0.02561543509364128, 0.5116579532623291, 0.10771746933460236, 0.16157619655132294, 0.05385873466730118, 0.13464683294296265, 0.8121910691261292, 0.11370674520730972, 0.032487642019987106, 0.032487642019987106, 0.07927777618169785, 0.23783332109451294, 0.07927777618169785, 0.14270000159740448, 0.25368887186050415, 0.07927777618169785, 0.06342221796512604, 0.01585555449128151, 0.04756666719913483, 0.01585555449128151, 0.26264357566833496, 0.2340388298034668, 0.1300215721130371, 0.08061337471008301, 0.12222027778625488, 0.09361553192138672, 0.02340388298034668, 0.0078012943267822266, 0.018203020095825195, 0.013002157211303711, 0.005200862884521484, 0.0078012943267822266, 0.002600431442260742, 0.002600431442260742, 0.7570775151252747, 0.13765046000480652, 0.7677534818649292, 0.1919383704662323, 0.3390654921531677, 0.16953274607658386, 0.16953274607658386, 0.16953274607658386, 0.16953274607658386, 0.06427393853664398, 0.2570957541465759, 0.3213696777820587, 0.12854787707328796, 0.19282181560993195, 0.06427393853664398, 0.5142121315002441, 0.4285101294517517, 0.9085909128189087, 0.021378610283136368, 0.042757220566272736, 0.005344652570784092, 0.005344652570784092, 0.005344652570784092, 0.005344652570784092, 0.11169854551553726, 0.3723284900188446, 0.012410949915647507, 0.1861642450094223, 0.23580804467201233, 0.012410949915647507, 0.062054745852947235, 0.7363020777702332, 0.1472604125738144, 0.9068692922592163, 0.017957808449864388, 0.05387342348694801, 0.008978904224932194, 0.9786932468414307, 0.7655547261238098, 0.07655546814203262, 0.051036980003118515, 0.025518490001559258, 0.051036980003118515, 0.5723907351493835, 0.19079691171646118, 0.19079691171646118, 0.37233981490135193, 0.18616990745067596, 0.18616990745067596, 0.18616990745067596, 0.15982560813426971, 0.15982560813426971, 0.47947680950164795, 0.10494455695152283, 0.874538004398346, 0.18184582889080048, 0.545537531375885, 0.18184582889080048, 0.874000072479248, 0.4967942237854004, 0.09935884177684784, 0.09935884177684784, 0.19871768355369568, 0.369151771068573, 0.1845758855342865, 0.1845758855342865, 0.1845758855342865, 0.9594503045082092, 0.3895300030708313, 0.22258856892585754, 0.055647142231464386, 0.11129428446292877, 0.11129428446292877, 0.055647142231464386, 0.07090285420417786, 0.3545142710208893, 0.16543999314308167, 0.11817142367362976, 0.16543999314308167, 0.023634284734725952, 0.023634284734725952, 0.07090285420417786, 0.9364396929740906, 0.031214656308293343, 0.25707510113716125, 0.12853755056858063, 0.12853755056858063, 0.25707510113716125, 0.12853755056858063, 0.5214465856552124, 0.0434538833796978, 0.1738155335187912, 0.2172694206237793, 0.0434538833796978, 0.21633565425872803, 0.43267130851745605, 0.21633565425872803, 0.15347541868686676, 0.3069508373737335, 0.613901674747467, 0.06748142838478088, 0.506110668182373, 0.1687035709619522, 0.06748142838478088, 0.03374071419239044, 0.10122214257717133, 0.03374071419239044, 0.35260719060897827, 0.23507146537303925, 0.11753573268651962, 0.23507146537303925, 0.9290432929992676, 0.9287360310554504, 0.16236183047294617, 0.4870854914188385, 0.16236183047294617, 0.16236183047294617, 0.33553627133369446, 0.5771223902702332, 0.08052870631217957, 0.26650363206863403, 0.26650363206863403, 0.39975544810295105, 0.6833661198616028, 0.1301649659872055, 0.09762372821569443, 0.032541241496801376, 0.31466957926750183, 0.177636057138443, 0.10404397547245026, 0.2207762449979782, 0.012688289396464825, 0.11673226207494736, 0.015225947834551334, 0.007612973917275667, 0.02030126377940178, 0.0025376579724252224, 0.0025376579724252224, 0.0025376579724252224, 0.5694875121116638, 0.18982917070388794, 0.18982917070388794, 0.1012539491057396, 0.1012539491057396, 0.708777666091919, 0.7517940998077393, 0.057830311357975006, 0.057830311357975006, 0.24227912724018097, 0.15301840007305145, 0.15301840007305145, 0.025503065437078476, 0.12751533091068268, 0.14026686549186707, 0.06375766545534134, 0.012751532718539238, 0.07650920003652573, 0.3681807219982147, 0.25894027948379517, 0.08496478199958801, 0.06473506987094879, 0.06878101825714111, 0.09710261225700378, 0.0040459418669342995, 0.016183767467737198, 0.0040459418669342995, 0.0040459418669342995, 0.0040459418669342995, 0.0040459418669342995, 0.008091883733868599, 0.0040459418669342995, 0.008091883733868599, 0.2258886992931366, 0.08470825850963593, 0.5647217631340027, 0.028236087411642075, 0.028236087411642075, 0.028236087411642075, 0.028236087411642075, 0.397676020860672, 0.198838010430336, 0.198838010430336, 0.7887025475502014, 0.19174730777740479, 0.38349461555480957, 0.19174730777740479, 0.19174730777740479, 0.5659600496292114, 0.2829800248146057, 0.14149001240730286, 0.20185020565986633, 0.33641698956489563, 0.10092510282993317, 0.1345667988061905, 0.1345667988061905, 0.03364169970154762, 0.03364169970154762, 0.5468843579292297, 0.13672108948230743, 0.13672108948230743, 0.890515923500061, 0.015353723429143429, 0.04606116935610771, 0.015353723429143429, 0.015353723429143429, 0.4389841556549072, 0.06271202117204666, 0.06271202117204666, 0.06271202117204666, 0.06271202117204666, 0.06271202117204666, 0.12542404234409332, 0.44913628697395325, 0.3208116292953491, 0.06416232883930206, 0.06416232883930206, 0.06416232883930206, 0.16834008693695068, 0.16834008693695068, 0.33668017387390137, 0.16834008693695068, 0.16834008693695068, 0.7096540331840515, 0.14193080365657806, 0.18025290966033936, 0.18025290966033936, 0.18025290966033936, 0.5407587289810181, 0.3672495186328888, 0.1836247593164444, 0.3672495186328888, 0.7621399164199829, 0.037792060524225235, 0.15746691823005676, 0.018896030262112617, 0.00629867659881711, 0.00629867659881711, 0.1582403928041458, 0.47472116351127625, 0.3164807856082916, 0.3486168384552002, 0.3486168384552002, 0.1743084192276001, 0.1743084192276001, 0.16144539415836334, 0.3228907883167267, 0.17758993804454803, 0.11301177740097046, 0.03228908032178879, 0.06457816064357758, 0.03228908032178879, 0.03228908032178879, 0.06457816064357758, 0.016144540160894394, 0.8501514792442322, 0.06182920187711716, 0.01545730046927929, 0.03091460093855858, 0.01545730046927929, 0.4017999768257141, 0.5755513310432434, 0.010859459638595581, 0.36551153659820557, 0.2741336524486542, 0.18275576829910278, 0.09137788414955139, 0.5606541633605957, 0.14016354084014893, 0.14016354084014893, 0.008403805084526539, 0.008403805084526539, 0.4706130623817444, 0.050422828644514084, 0.1848836988210678, 0.2100951224565506, 0.050422828644514084, 0.008403805084526539, 0.25062432885169983, 0.7017481327056885, 0.1841987669467926, 0.1841987669467926, 0.1841987669467926, 0.3683975338935852, 0.37488189339637756, 0.09372047334909439, 0.23430119454860687, 0.18744094669818878, 0.046860236674547195, 0.046860236674547195, 0.17746202647686005, 0.4436550736427307, 0.08873101323843002, 0.17746202647686005, 0.5492898225784302, 0.18309661746025085, 0.18309661746025085, 0.5463762283325195, 0.10927525162696838, 0.10927525162696838, 0.10927525162696838, 0.10927525162696838, 0.21796543896198273, 0.43593087792396545, 0.14531029760837555, 0.07265514880418777, 0.07265514880418777, 0.8739617466926575, 0.0681697428226471, 0.2726789712905884, 0.0681697428226471, 0.0681697428226471, 0.0681697428226471, 0.47718819975852966, 0.521712064743042, 0.07205967605113983, 0.051882967352867126, 0.11241310089826584, 0.017294323071837425, 0.1960023194551468, 0.023059096187353134, 0.0028823870234191418, 0.0028823870234191418, 0.5373520851135254, 0.1791173666715622, 0.21480172872543335, 0.06137192249298096, 0.36823153495788574, 0.09205788373947144, 0.03068596124649048, 0.1534298062324524, 0.03068596124649048, 0.397537499666214, 0.13251249492168427, 0.26502498984336853, 0.18022271990776062, 0.18022271990776062, 0.5406681895256042, 0.2693282961845398, 0.16014115512371063, 0.1383037269115448, 0.16742029786109924, 0.0691518634557724, 0.11282672733068466, 0.04003528878092766, 0.0036395718343555927, 0.0072791436687111855, 0.0072791436687111855, 0.0036395718343555927, 0.0072791436687111855, 0.0036395718343555927, 0.0036395718343555927, 0.0072791436687111855, 0.34303048253059387, 0.11434349417686462, 0.1270483285188675, 0.08893383294343948, 0.10163865983486176, 0.14822305738925934, 0.03387955576181412, 0.00846988894045353, 0.004234944470226765, 0.02540966495871544, 0.004234944470226765, 0.004234944470226765, 0.8957505226135254, 0.07464587688446045, 0.1543203592300415, 0.308640718460083, 0.1543203592300415, 0.308640718460083, 0.3061738610267639, 0.23937228322029114, 0.12803633511066437, 0.13916993141174316, 0.058451369404792786, 0.03340078517794609, 0.030617384240031242, 0.04175097867846489, 0.005566797219216824, 0.002783398609608412, 0.002783398609608412, 0.002783398609608412, 0.002783398609608412, 0.002783398609608412, 0.2553327679634094, 0.1276663839817047, 0.5106655359268188, 0.5475009679794312, 0.3650006651878357, 0.38137614727020264, 0.38137614727020264, 0.07627522945404053, 0.07627522945404053, 0.00285667204298079, 0.008570016361773014, 0.7998681664466858, 0.042850080877542496, 0.08855683356523514, 0.0371367372572422, 0.00571334408596158, 0.00285667204298079, 0.01142668817192316, 0.36162668466567993, 0.5424400568008423, 0.8792046308517456, 0.7340947389602661, 0.18352368474006653, 0.4408503472805023, 0.2449168711900711, 0.0979667454957962, 0.1469501256942749, 0.2747410535812378, 0.15683133900165558, 0.2072005420923233, 0.0538034550845623, 0.10188313573598862, 0.09615936130285263, 0.0538034550845623, 0.010302789509296417, 0.014881806448101997, 0.0068685258738696575, 0.016026560217142105, 0.0057237716391682625, 0.0011447543511167169, 0.5044064521789551, 0.3783048391342163, 0.06305080652236938, 0.043432168662548065, 0.3213980495929718, 0.20847441256046295, 0.030402518808841705, 0.2519065737724304, 0.043432168662548065, 0.03908895328640938, 0.02605930157005787, 0.004343216773122549, 0.017372867092490196, 0.004343216773122549, 0.004343216773122549, 0.008686433546245098, 0.972861111164093, 0.09542238712310791, 0.26942792534828186, 0.16839244961738586, 0.07016351819038391, 0.2525886595249176, 0.05613081529736519, 0.053324274718761444, 0.011226163245737553, 0.011226163245737553, 0.002806540811434388, 0.002806540811434388, 0.002806540811434388, 0.002806540811434388, 0.002806540811434388, 0.0929545983672142, 0.7436367869377136, 0.0929545983672142, 0.564033567905426, 0.013756915926933289, 0.28889521956443787, 0.027513831853866577, 0.041270747780799866, 0.041270747780799866, 0.013756915926933289, 0.3742087781429291, 0.3742087781429291, 0.18710438907146454, 0.3115989863872528, 0.3115989863872528, 0.3115989863872528, 0.16327425837516785, 0.27756622433662415, 0.16327425837516785, 0.057145990431308746, 0.12245569378137589, 0.08163712918758392, 0.08435836434364319, 0.013606187887489796, 0.016327425837516785, 0.0027212374843657017, 0.008163712918758392, 0.0027212374843657017, 0.0027212374843657017, 0.03267315775156021, 0.03267315775156021, 0.6534631252288818, 0.03267315775156021, 0.16336578130722046, 0.03267315775156021, 0.03267315775156021, 0.03267315775156021, 0.21580049395561218, 0.20933939516544342, 0.17832615971565247, 0.09303973615169525, 0.11759188771247864, 0.11113079637289047, 0.029721025377511978, 0.010337748564779758, 0.010337748564779758, 0.006461092736572027, 0.005168874282389879, 0.0038766555953770876, 0.0012922185705974698, 0.0012922185705974698, 0.0038766555953770876, 0.04510868340730667, 0.5864129066467285, 0.2706521153450012, 0.04510868340730667, 0.0812939926981926, 0.3251759707927704, 0.0812939926981926, 0.1219409853219986, 0.1219409853219986, 0.0406469963490963, 0.1219409853219986, 0.0406469963490963, 0.0406469963490963, 0.020259426906704903, 0.5591601729393005, 0.13371221721172333, 0.05267450958490372, 0.07698582112789154, 0.016207542270421982, 0.07698582112789154, 0.008103771135210991, 0.040518853813409805, 0.012155655771493912, 0.0040518855676054955, 0.0040518855676054955, 0.0040518855676054955, 0.01772720366716385, 0.49636170268058777, 0.1418176293373108, 0.1772720366716385, 0.0709088146686554, 0.01772720366716385, 0.01772720366716385, 0.0354544073343277, 0.853402316570282, 0.8997066617012024, 0.270816445350647, 0.2014337182044983, 0.1298128366470337, 0.11190762370824814, 0.12533654272556305, 0.07609718292951584, 0.04252489656209946, 0.024619676172733307, 0.0022381525486707687, 0.008952610194683075, 0.0044763050973415375, 0.0022381525486707687, 0.0866289883852005, 0.8662899136543274, 0.4484390318393707, 0.1494796723127365, 0.298959344625473, 0.5005601048469543, 0.16685336828231812, 0.16685336828231812, 0.08342668414115906, 0.2812281548976898, 0.2812281548976898, 0.2812281548976898, 0.3147352933883667, 0.15736764669418335, 0.47210296988487244, 0.15736764669418335, 0.2520049512386322, 0.21063099801540375, 0.17301832139492035, 0.13540564477443695, 0.06394155323505402, 0.07898662239313126, 0.03385141119360924, 0.01128380373120308, 0.007522535510361195, 0.01504507102072239, 0.0037612677551805973, 0.0037612677551805973, 0.0037612677551805973, 0.153250053524971, 0.45975014567375183, 0.306500107049942, 0.3684888780117035, 0.18424443900585175, 0.3684888780117035, 0.24872349202632904, 0.2625414729118347, 0.12436174601316452, 0.19345159828662872, 0.04145391657948494, 0.04145391657948494, 0.01381797157227993, 0.05527188628911972, 0.01381797157227993, 0.4802752137184143, 0.18010321259498596, 0.06003440171480179, 0.18010321259498596, 0.06003440171480179, 0.06003440171480179, 0.36978790163993835, 0.14856581389904022, 0.1561567783355713, 0.12796179950237274, 0.0628964751958847, 0.06506532430648804, 0.045545727014541626, 0.010844220407307148, 0.004337687976658344, 0.002168843988329172, 0.003253265982493758, 0.002168843988329172, 0.31153935194015503, 0.15576967597007751, 0.31153935194015503, 0.15576967597007751, 0.16018827259540558, 0.16018827259540558, 0.08009413629770279, 0.32037654519081116, 0.08009413629770279, 0.040047068148851395, 0.040047068148851395, 0.040047068148851395, 0.040047068148851395, 0.2674158215522766, 0.2674158215522766, 0.029712870717048645, 0.11885148286819458, 0.05942574143409729, 0.14856435358524323, 0.08913861215114594, 0.1815122365951538, 0.3630244731903076, 0.3630244731903076, 0.1225098967552185, 0.2858564257621765, 0.163346529006958, 0.0408366322517395, 0.163346529006958, 0.1225098967552185, 0.1225098967552185, 0.12754304707050323, 0.06377152353525162, 0.7014867663383484, 0.06377152353525162, 0.31160682439804077, 0.46741020679473877, 0.7736647129058838, 0.08289264887571335, 0.0552617684006691, 0.02763088420033455, 0.0552617684006691, 0.3288455307483673, 0.16442276537418365, 0.16442276537418365, 0.24663414061069489, 0.23436971008777618, 0.006793324835598469, 0.434772789478302, 0.04585494473576546, 0.011888318695127964, 0.15284980833530426, 0.03226829320192337, 0.06793324649333954, 0.0016983312088996172, 0.0016983312088996172, 0.006793324835598469, 0.1554650515317917, 0.6218602061271667, 0.565422773361206, 0.017291216179728508, 0.02939506806433201, 0.015562094748020172, 0.003458243329077959, 0.36138641834259033, 0.003458243329077959, 0.0017291216645389795, 0.7391149401664734, 0.03861048445105553, 0.07170518487691879, 0.016547350212931633, 0.005515783093869686, 0.0992840975522995, 0.016547350212931633, 0.005515783093869686, 0.005515783093869686, 0.005515783093869686, 0.005515783093869686, 0.2288830727338791, 0.2288830727338791, 0.010403775610029697, 0.3745359182357788, 0.020807551220059395, 0.07282643020153046, 0.04161510244011879, 0.010403775610029697, 0.7456231117248535, 0.10651759058237076, 0.10651759058237076, 0.16923347115516663, 0.33846694231033325, 0.16923347115516663, 0.16923347115516663, 0.08675152063369751, 0.8675151467323303, 0.04923706874251366, 0.7549684047698975, 0.057443246245384216, 0.10668031871318817, 0.008206178434193134, 0.008206178434193134, 0.27538129687309265, 0.258169949054718, 0.05163399130105972, 0.3786492645740509, 0.03442266210913658, 0.18740281462669373, 0.12493521720170975, 0.12493521720170975, 0.2498704344034195, 0.062467608600854874, 0.062467608600854874, 0.18740281462669373, 0.6437178254127502, 0.16092945635318756, 0.41190844774246216, 0.11303028464317322, 0.09564100950956345, 0.14454835653305054, 0.05760197341442108, 0.1293327361345291, 0.022823423147201538, 0.003260489087551832, 0.005434148479253054, 0.003260489087551832, 0.004347318783402443, 0.0021736593917012215, 0.0010868296958506107, 0.004347318783402443, 0.873241126537323, 0.037967003881931305, 0.037967003881931305, 0.037967003881931305, 0.03181486576795578, 0.39768582582473755, 0.1431668996810913, 0.023861149325966835, 0.1670280545949936, 0.1511206179857254, 0.023861149325966835, 0.023861149325966835, 0.007953716441988945, 0.007953716441988945, 0.007953716441988945, 0.01590743288397789, 0.07606127113103867, 0.3232603967189789, 0.06972283124923706, 0.05704595148563385, 0.3232603967189789, 0.025353755801916122, 0.04436907544732094, 0.03803063556551933, 0.012676877900958061, 0.012676877900958061, 0.006338438950479031, 0.006338438950479031, 0.27774977684020996, 0.2217518389225006, 0.11423579603433609, 0.15007448196411133, 0.04703826829791069, 0.09183661639690399, 0.05151810497045517, 0.02911892719566822, 0.0044798352755606174, 0.0044798352755606174, 0.0022399176377803087, 0.0044798352755606174, 0.0022399176377803087, 0.24070245027542114, 0.14442147314548492, 0.14442147314548492, 0.14442147314548492, 0.24070245027542114, 0.04814048856496811, 0.8774865865707397, 0.6902782320976257, 0.1533951610326767, 0.07669758051633835, 0.07669758051633835, 0.061409808695316315, 0.5731582045555115, 0.14328955113887787, 0.005117483902722597, 0.1637594848871231, 0.025587420910596848, 0.005117483902722597, 0.005117483902722597, 0.005117483902722597, 0.015352452173829079, 0.10314193367958069, 0.14439871907234192, 0.1237703263759613, 0.2681690454483032, 0.041256774216890335, 0.2475406527519226, 0.020628387108445168, 0.020628387108445168, 0.2853168845176697, 0.07132922112941742, 0.03566461056470871, 0.6062983870506287, 0.15914347767829895, 0.15914347767829895, 0.47743043303489685, 0.15914347767829895, 0.15914347767829895, 0.02546076662838459, 0.9420483708381653, 0.03204764053225517, 0.9614291787147522, 0.4581613838672638, 0.07636023312807083, 0.3054409325122833, 0.15272046625614166, 0.06765946745872498, 0.27678874135017395, 0.2583361566066742, 0.03690516576170921, 0.23988357186317444, 0.015377151779830456, 0.08303661644458771, 0.01230172161012888, 0.00307543040253222, 0.00307543040253222, 0.00307543040253222, 0.18614937365055084, 0.4653734564781189, 0.09307468682527542, 0.09307468682527542, 0.09307468682527542, 0.09146320074796677, 0.18292640149593353, 0.25450628995895386, 0.04771992936730385, 0.246552973985672, 0.059649914503097534, 0.055673252791166306, 0.023859964683651924, 0.011929982341825962, 0.007953321561217308, 0.011929982341825962, 0.003976660780608654, 0.14112426340579987, 0.3237556517124176, 0.15772712230682373, 0.06641142070293427, 0.16602854430675507, 0.02490428276360035, 0.041507136076688766, 0.016602855175733566, 0.008301427587866783, 0.008301427587866783, 0.008301427587866783, 0.008301427587866783, 0.016602855175733566, 0.008301427587866783, 0.41189339756965637, 0.13729780912399292, 0.13729780912399292, 0.27459561824798584, 0.21045204997062683, 0.30123528838157654, 0.1320483535528183, 0.08665672689676285, 0.09903626143932343, 0.07840370386838913, 0.037138599902391434, 0.020632553845643997, 0.008253022097051144, 0.008253022097051144, 0.008253022097051144, 0.008253022097051144, 0.004126511048525572, 0.13122719526290894, 0.7217496037483215, 0.06561359763145447, 0.06561359763145447, 0.06342769414186478, 0.8879877328872681, 0.3593163788318634, 0.5389745831489563, 0.7348997592926025, 0.18372493982315063, 0.3127671778202057, 0.11373352259397507, 0.047388967126607895, 0.42650070786476135, 0.028433380648493767, 0.047388967126607895, 0.028433380648493767, 0.41312259435653687, 0.10044549405574799, 0.09396514296531677, 0.19441063702106476, 0.029161594808101654, 0.12312673777341843, 0.01620088703930378, 0.009720531292259693, 0.004860265646129847, 0.00810044351965189, 0.0016200885875150561, 0.0016200885875150561, 0.0016200885875150561, 0.37763479351997375, 0.37763479351997375, 0.07552696019411087, 0.15105392038822174, 0.10048575699329376, 0.8541289567947388, 0.02512143924832344, 0.14483577013015747, 0.8110803365707397, 0.9055757522583008, 0.9369854927062988, 0.7756393551826477, 0.1551278680562973, 0.9274770021438599, 0.03567219153046608, 0.5472952723503113, 0.09121587127447128, 0.09121587127447128, 0.18243174254894257, 0.5444529056549072, 0.1361132264137268, 0.2722264528274536, 0.17725223302841187, 0.17725223302841187, 0.11816815286874771, 0.35450446605682373, 0.11816815286874771, 0.8175575733184814, 0.11679393798112869, 0.9032261967658997, 0.08211147040128708, 0.26000821590423584, 0.19500616192817688, 0.18757735192775726, 0.0835740715265274, 0.05571604520082474, 0.11700370162725449, 0.06314485520124435, 0.014857612550258636, 0.0018572015687823296, 0.011143209412693977, 0.003714403137564659, 0.003714403137564659, 0.003714403137564659, 0.013513368554413319, 0.027026737108826637, 0.04054010659456253, 0.7702620029449463, 0.013513368554413319, 0.027026737108826637, 0.013513368554413319, 0.054053474217653275, 0.013513368554413319, 0.013513368554413319, 0.013513368554413319, 0.11011825501918793, 0.330354779958725, 0.330354779958725, 0.1651773899793625, 0.3126768171787262, 0.3126768171787262, 0.1563384085893631, 0.2812747359275818, 0.061954788863658905, 0.08921489864587784, 0.3704896569252014, 0.013630053959786892, 0.14993059635162354, 0.017347341403365135, 0.004956383258104324, 0.002478191629052162, 0.002478191629052162, 0.0037172874435782433, 0.001239095814526081, 0.34875521063804626, 0.12488177418708801, 0.14924895763397217, 0.19265298545360565, 0.029697494581341743, 0.08756953477859497, 0.03959666192531586, 0.01066063903272152, 0.003045896999537945, 0.00609179399907589, 0.0022844227496534586, 0.0022844227496534586, 0.0007614742498844862, 0.0007614742498844862, 0.3796771168708801, 0.3796771168708801, 0.18983855843544006, 0.16830292344093323, 0.08415146172046661, 0.25245437026023865, 0.08415146172046661, 0.021037865430116653, 0.25245437026023865, 0.021037865430116653, 0.04207573086023331, 0.06311359256505966, 0.021037865430116653, 0.8024896383285522, 0.052109718322753906, 0.08337555080652237, 0.020843887701630592, 0.020843887701630592, 0.010421943850815296, 0.2047753632068634, 0.24590545892715454, 0.16277016699314117, 0.14089244604110718, 0.10588811337947845, 0.05775715410709381, 0.03237901255488396, 0.01750216819345951, 0.009626192040741444, 0.007875975221395493, 0.008751084096729755, 0.001750216819345951, 0.001750216819345951, 0.0008751084096729755, 0.0008751084096729755, 0.27880722284317017, 0.09293574094772339, 0.18587148189544678, 0.09293574094772339, 0.09293574094772339, 0.18587148189544678, 0.38669532537460327, 0.19334766268730164, 0.19334766268730164, 0.33189311623573303, 0.1370023936033249, 0.1620873361825943, 0.11770627647638321, 0.07525483518838882, 0.09455094486474991, 0.052099499851465225, 0.0019296110840514302, 0.007718444336205721, 0.007718444336205721, 0.0038592221681028605, 0.0038592221681028605, 0.0019296110840514302, 0.0038592221681028605, 0.30981478095054626, 0.18573662638664246, 0.11646600067615509, 0.12636180222034454, 0.08297251164913177, 0.1233169436454773, 0.02740376442670822, 0.008373372256755829, 0.003806078340858221, 0.003806078340858221, 0.004567293915897608, 0.002283646957948804, 0.002283646957948804, 0.0007612156914547086, 0.0007612156914547086, 0.05556749179959297, 0.05556749179959297, 0.8335123658180237, 0.17383146286010742, 0.29510924220085144, 0.18191665410995483, 0.0525536984205246, 0.11925647407770157, 0.07680925726890564, 0.05861758813261986, 0.00808518473058939, 0.010106480680406094, 0.012127776630222797, 0.0020212961826473475, 0.004042592365294695, 0.0020212961826473475, 0.0020212961826473475, 0.43669265508651733, 0.19408562779426575, 0.2426070272922516, 0.04852140694856644, 0.04852140694856644, 0.4411183297634125, 0.08483044803142548, 0.08907196670770645, 0.008483044803142548, 0.06362283229827881, 0.29690656065940857, 0.004241522401571274, 0.008483044803142548, 0.004241522401571274, 0.15548788011074066, 0.3109757602214813, 0.15548788011074066, 0.3109757602214813, 0.24510930478572845, 0.4902186095714569, 0.12255465239286423, 0.8525015115737915, 0.33692389726638794, 0.11230796575546265, 0.11230796575546265, 0.33692389726638794, 0.11230796575546265, 0.8520746827125549, 0.04508795961737633, 0.2975805401802063, 0.11722869426012039, 0.01803518459200859, 0.3607036769390106, 0.027052776888012886, 0.08115833252668381, 0.027052776888012886, 0.009017592296004295, 0.009017592296004295, 0.24520061910152435, 0.2980870306491852, 0.08654139190912247, 0.13461995124816895, 0.06250211596488953, 0.07692568749189377, 0.043270695954561234, 0.014423565939068794, 0.033654987812042236, 0.0048078554682433605, 0.0048078554682433605, 0.10992224514484406, 0.7144945859909058, 0.10992224514484406, 0.05496112257242203, 0.18792292475700378, 0.563768744468689, 0.18792292475700378, 0.9536946415901184, 0.5862163305282593, 0.19540543854236603, 0.19540543854236603, 0.1854759156703949, 0.3709518313407898, 0.1854759156703949, 0.09273795783519745, 0.09273795783519745, 0.748039186000824, 0.013357842341065407, 0.16029411554336548, 0.013357842341065407, 0.013357842341065407, 0.026715684682130814, 0.006678921170532703, 0.013357842341065407, 0.36454275250434875, 0.18227137625217438, 0.36454275250434875, 0.499878466129303, 0.16662615537643433, 0.16662615537643433, 0.9224255084991455, 0.05124586075544357, 0.8517887592315674, 0.19157785177230835, 0.3831557035446167, 0.19157785177230835, 0.19157785177230835, 0.8029958009719849, 0.8147254586219788, 0.09585005044937134, 0.04792502522468567, 0.6198115348815918, 0.15495288372039795, 0.15495288372039795, 0.8807806372642517, 0.34824690222740173, 0.17412345111370087, 0.17412345111370087, 0.17412345111370087, 0.020512398332357407, 0.22563637793064117, 0.5948595404624939, 0.06153719499707222, 0.08204959332942963, 0.7729443311691284, 0.15458886325359344, 0.15552346408367157, 0.15552346408367157, 0.6220938563346863, 0.15552346408367157, 0.15092650055885315, 0.15092650055885315, 0.45277947187423706, 0.3018530011177063, 0.9408635497093201, 0.18928201496601105, 0.3785640299320221, 0.18928201496601105, 0.18928201496601105, 0.92042475938797, 0.04183748736977577, 0.9090304374694824, 0.8538034558296204, 0.10102380067110062, 0.3182249665260315, 0.17679165303707123, 0.09597261250019073, 0.10102380067110062, 0.11112618446350098, 0.04040952026844025, 0.027781546115875244, 0.010102380067110062, 0.0025255950167775154, 0.0025255950167775154, 0.005051190033555031, 0.005051190033555031, 0.0025255950167775154, 0.0770663321018219, 0.42386484146118164, 0.03853316605091095, 0.34679850935935974, 0.03853316605091095, 0.03853316605091095, 0.8924736976623535, 0.05838613212108612, 0.016681751236319542, 0.008340875618159771, 0.025022627785801888, 0.07607973366975784, 0.68471759557724, 0.15215946733951569, 0.16940906643867493, 0.11728319525718689, 0.01303146593272686, 0.5864160060882568, 0.05212586373090744, 0.03909439966082573, 0.01303146593272686, 0.01303146593272686, 0.3634292185306549, 0.1478356122970581, 0.1478356122970581, 0.15707533061504364, 0.040038809180259705, 0.05235844478011131, 0.049278534948825836, 0.018479451537132263, 0.018479451537132263, 0.0030799084343016148, 0.24106550216674805, 0.7231965065002441, 0.07182548195123672, 0.18854188919067383, 0.2244546264410019, 0.026934554800391197, 0.25138917565345764, 0.03591274097561836, 0.08978185057640076, 0.09876003116369247, 0.00897818524390459, 0.2883315086364746, 0.18057125806808472, 0.14562197029590607, 0.15435929596424103, 0.08737318962812424, 0.055336352437734604, 0.04368659481406212, 0.008737318217754364, 0.008737318217754364, 0.007281098980456591, 0.01310597825795412, 0.0014562198193743825, 0.002912439638748765, 0.0014562198193743825, 0.0014562198193743825, 0.1992945522069931, 0.2420005202293396, 0.19116008281707764, 0.05694130063056946, 0.132185161113739, 0.07931109517812729, 0.058974917978048325, 0.008134471252560616, 0.010168089531362057, 0.006100853439420462, 0.006100853439420462, 0.006100853439420462, 0.004067235626280308, 0.002033617813140154, 0.3763600289821625, 0.6057392358779907, 0.0022269824985414743, 0.011134912259876728, 0.0975106880068779, 0.4875534474849701, 0.1950213760137558, 0.1950213760137558, 0.11864624917507172, 0.23729249835014343, 0.47458499670028687, 0.5972152352333069, 0.1990717500448227, 0.09953587502241135, 0.01693323627114296, 0.34289801120758057, 0.22013206779956818, 0.029633162543177605, 0.27093178033828735, 0.01693323627114296, 0.071966253221035, 0.01693323627114296, 0.00423330906778574, 0.00846661813557148, 0.00423330906778574, 0.16262653470039368, 0.16262653470039368, 0.28459644317626953, 0.2032831758260727, 0.08131326735019684, 0.04065663367509842, 0.04065663367509842, 0.9904603958129883, 0.41853538155555725, 0.15875479578971863, 0.16597092151641846, 0.10463384538888931, 0.010824190452694893, 0.08659352362155914, 0.01804031804203987, 0.010824190452694893, 0.010824190452694893, 0.007216127123683691, 0.10823632776737213, 0.2414502650499344, 0.2664278745651245, 0.008325871080160141, 0.24977613985538483, 0.024977613240480423, 0.041629355400800705, 0.024977613240480423, 0.008325871080160141, 0.008325871080160141, 0.016651742160320282, 0.008325871080160141, 0.02279410883784294, 0.9664702415466309, 0.04123934358358383, 0.11340820044279099, 0.29898524284362793, 0.030929509550333023, 0.4123934507369995, 0.030929509550333023, 0.010309835895895958, 0.030929509550333023, 0.020619671791791916, 0.010309835895895958, 0.010309835895895958, 0.9361134171485901, 0.15518978238105774, 0.15518978238105774, 0.15518978238105774, 0.3103795647621155, 0.40121176838874817, 0.15817002952098846, 0.12152087688446045, 0.14273880422115326, 0.036649152636528015, 0.06365378946065903, 0.04243586212396622, 0.015431222505867481, 0.005786708556115627, 0.0038578056264668703, 0.0019289028132334352, 0.0019289028132334352, 0.0019289028132334352, 0.0019289028132334352, 0.0019289028132334352, 0.31642788648605347, 0.4746418595314026, 0.1638929396867752, 0.3277858793735504, 0.3277858793735504, 0.1638929396867752, 0.2472672313451767, 0.15925686061382294, 0.15297040343284607, 0.2200259268283844, 0.06705552339553833, 0.09010585397481918, 0.02933678962290287, 0.014668394811451435, 0.004190970212221146, 0.004190970212221146, 0.002095485106110573, 0.008381940424442291, 0.28024932742118835, 0.42037397623062134, 0.28024932742118835, 0.3004360496997833, 0.11145208030939102, 0.12598930299282074, 0.1792924851179123, 0.0872233659029007, 0.10660634189844131, 0.04845742881298065, 0.009691485203802586, 0.004845742601901293, 0.01938297040760517, 0.004845742601901293, 0.02683318592607975, 0.2414986789226532, 0.2683318555355072, 0.013416592963039875, 0.3085816502571106, 0.02683318592607975, 0.0804995596408844, 0.013416592963039875, 0.02683318592607975, 0.14550505578517914, 0.8366540670394897, 0.006062710657715797, 0.009094065986573696, 0.2494024634361267, 0.2393255978822708, 0.143595352768898, 0.17886438965797424, 0.0579419881105423, 0.0680188536643982, 0.010076867416501045, 0.015115301124751568, 0.010076867416501045, 0.007557650562375784, 0.01259608380496502, 0.0025192168541252613, 0.0025192168541252613, 0.0025192168541252613, 0.0025192168541252613, 0.16630813479423523, 0.33261626958847046, 0.1750611960887909, 0.10795439779758453, 0.0904482826590538, 0.05251835659146309, 0.03501223772764206, 0.014588432386517525, 0.008753059431910515, 0.01167074590921402, 0.002917686477303505, 0.002917686477303505, 0.00583537295460701, 0.129486545920372, 0.4865555167198181, 0.10201970487833023, 0.06278135627508163, 0.10986737906932831, 0.03139067813754082, 0.023543009534478188, 0.003923834767192602, 0.003923834767192602, 0.01569533906877041, 0.011771504767239094, 0.01569533906877041, 0.003923834767192602, 0.09105566143989563, 0.5008061528205872, 0.09105566143989563, 0.13658349215984344, 0.13658349215984344, 0.045527830719947815, 0.342932790517807, 0.1605217307806015, 0.11431093513965607, 0.09971804916858673, 0.0753965750336647, 0.15322528779506683, 0.019457180052995682, 0.009728590026497841, 0.0024321475066244602, 0.007296442519873381, 0.0048642950132489204, 0.0024321475066244602, 0.0048642950132489204, 0.0024321475066244602, 0.0024321475066244602, 0.31275713443756104, 0.10850758105516434, 0.29360875487327576, 0.08616778254508972, 0.06701938807964325, 0.05744519084692001, 0.03191399574279785, 0.015956997871398926, 0.01914839632809162, 0.0031913993880152702, 0.0063827987760305405, 0.2709665894508362, 0.1683022379875183, 0.24403823912143707, 0.1228606253862381, 0.028611378744244576, 0.05890578031539917, 0.06732089072465897, 0.011781156063079834, 0.00841511134058237, 0.01009813416749239, 0.005049067083746195, 0.0016830223612487316, 0.0033660447224974632, 0.38122937083244324, 0.125067338347435, 0.13109469413757324, 0.17931342124938965, 0.04219139367341995, 0.08890329301357269, 0.013561519794166088, 0.01205468364059925, 0.01205468364059925, 0.004520506598055363, 0.0030136709101498127, 0.006027341820299625, 0.0015068354550749063, 0.9478940367698669, 0.9301256537437439], \"Term\": [\"abbey\", \"abbey\", \"abbot\", \"abbot\", \"abide\", \"abide\", \"abide\", \"abide\", \"abundance\", \"abundance\", \"abundance\", \"abundance\", \"abundance\", \"abundance\", \"accursed\", \"accursed\", \"accursed\", \"accursed\", \"achieve\", \"aching\", \"aching\", \"aching\", \"aching\", \"act\", \"act\", \"act\", \"act\", \"act\", \"act\", \"act\", \"act\", \"act\", \"act\", \"added\", \"added\", \"added\", \"added\", \"added\", \"added\", \"added\", \"added\", \"added\", \"added\", \"added\", \"added\", \"added\", \"adele\", \"adele\", \"adele\", \"adele\", \"adele\", \"adele\", \"adieus\", \"adieus\", \"admirably\", \"admirably\", \"admirably\", \"admirably\", \"age\", \"age\", \"age\", \"age\", \"age\", \"age\", \"age\", \"age\", \"age\", \"age\", \"age\", \"air\", \"air\", \"air\", \"air\", \"air\", \"air\", \"air\", \"air\", \"air\", \"air\", \"air\", \"air\", \"air\", \"alfred\", \"alfred\", \"allenham\", \"amazing\", \"amazing\", \"ambitious\", \"amy\", \"amy\", \"antagonist\", \"antagonist\", \"antagonist\", \"antagonist\", \"apothecary\", \"apothecary\", \"apothecary\", \"apple\", \"apple\", \"apple\", \"apple\", \"apple\", \"apple\", \"apple\", \"apples\", \"apples\", \"apples\", \"apples\", \"apples\", \"apples\", \"apples\", \"apples\", \"april\", \"april\", \"april\", \"april\", \"april\", \"arguments\", \"arm\", \"arm\", \"arm\", \"arm\", \"arm\", \"arm\", \"arm\", \"arm\", \"arm\", \"arm\", \"arm\", \"asked\", \"asked\", \"asked\", \"asked\", \"asked\", \"asked\", \"asked\", \"asked\", \"asked\", \"asked\", \"asked\", \"asked\", \"asked\", \"asked\", \"aspect\", \"aspect\", \"aspect\", \"aspect\", \"aspect\", \"aspect\", \"aspect\", \"aspect\", \"aspect\", \"aspect\", \"assigned\", \"assigned\", \"assigned\", \"assigned\", \"assigned\", \"auburn\", \"auburn\", \"augusta\", \"augusta\", \"augusta\", \"aunt\", \"aunt\", \"aunt\", \"aunt\", \"aunt\", \"aunt\", \"aunt\", \"aunt\", \"aunt\", \"avert\", \"avert\", \"avert\", \"away\", \"away\", \"away\", \"away\", \"away\", \"away\", \"away\", \"away\", \"away\", \"away\", \"away\", \"away\", \"away\", \"away\", \"away\", \"baked\", \"baked\", \"baked\", \"baked\", \"baked\", \"baked\", \"baked\", \"baked\", \"ball\", \"ball\", \"ball\", \"ball\", \"ball\", \"ball\", \"ball\", \"ball\", \"bandaged\", \"bandaged\", \"bandaged\", \"bandaged\", \"bartlett\", \"barton\", \"barton\", \"bassompierre\", \"bassompierre\", \"bassompierre\", \"bassompierre\", \"bassompierre\", \"bates\", \"bates\", \"bates\", \"bates\", \"beck\", \"beck\", \"beck\", \"beck\", \"beck\", \"beck\", \"beck\", \"beck\", \"beck\", \"bed\", \"bed\", \"bed\", \"bed\", \"bed\", \"bed\", \"bed\", \"bed\", \"bed\", \"bed\", \"bed\", \"bed\", \"bedtime\", \"bedtime\", \"bedtime\", \"bedtime\", \"beech\", \"beech\", \"beech\", \"beech\", \"benefactress\", \"benefactress\", \"benefactress\", \"benefactress\", \"bennet\", \"berkeley\", \"bessie\", \"bessie\", \"bessie\", \"bessie\", \"better\", \"better\", \"better\", \"better\", \"better\", \"better\", \"better\", \"better\", \"better\", \"better\", \"better\", \"better\", \"better\", \"better\", \"bien\", \"bien\", \"bien\", \"bien\", \"bingley\", \"black\", \"black\", \"black\", \"black\", \"black\", \"black\", \"black\", \"black\", \"black\", \"black\", \"blew\", \"blew\", \"blond\", \"blood\", \"blood\", \"blood\", \"blood\", \"blood\", \"blood\", \"blood\", \"blood\", \"bloody\", \"bloody\", \"bloody\", \"blot\", \"blot\", \"blot\", \"boarder\", \"boards\", \"boards\", \"boards\", \"boards\", \"body\", \"body\", \"body\", \"body\", \"body\", \"body\", \"body\", \"body\", \"body\", \"body\", \"bon\", \"bon\", \"bondage\", \"bondage\", \"bonnets\", \"bonnets\", \"bonnets\", \"book\", \"book\", \"book\", \"book\", \"book\", \"book\", \"book\", \"book\", \"book\", \"book\", \"book\", \"book\", \"boulevard\", \"boulevard\", \"bouquet\", \"bourgh\", \"boy\", \"boy\", \"boy\", \"boy\", \"boy\", \"boy\", \"boy\", \"boy\", \"boy\", \"bragge\", \"brandon\", \"brandon\", \"bread\", \"bread\", \"bread\", \"bread\", \"bread\", \"bread\", \"bread\", \"bread\", \"bread\", \"breadth\", \"breadth\", \"breadth\", \"breadth\", \"breadth\", \"bretton\", \"bretton\", \"bretton\", \"bretton\", \"bretton\", \"bretton\", \"briggs\", \"brightly\", \"brightly\", \"brighton\", \"brittle\", \"brittle\", \"brittle\", \"brocklehurst\", \"brocklehurst\", \"brocklehurst\", \"brocklehurst\", \"brocklehurst\", \"brocklehurst\", \"brocklehurst\", \"brother\", \"brother\", \"brother\", \"brother\", \"brother\", \"brother\", \"brother\", \"brother\", \"brother\", \"burns\", \"burns\", \"burns\", \"burns\", \"ca\", \"ca\", \"came\", \"came\", \"came\", \"came\", \"came\", \"came\", \"came\", \"came\", \"came\", \"came\", \"came\", \"came\", \"came\", \"campbell\", \"campbell\", \"campbells\", \"campbells\", \"captive\", \"captive\", \"captive\", \"captive\", \"carlo\", \"carlo\", \"catherine\", \"causeway\", \"causeway\", \"ce\", \"ce\", \"ce\", \"ce\", \"celine\", \"celine\", \"cette\", \"chafed\", \"chapters\", \"chapters\", \"chapters\", \"chapters\", \"charade\", \"charade\", \"charlotte\", \"charlotte\", \"charlotte\", \"charm\", \"charm\", \"charm\", \"charm\", \"charm\", \"charm\", \"charm\", \"charm\", \"charm\", \"charm\", \"chastisement\", \"chastisement\", \"chastisement\", \"chastisement\", \"chastisement\", \"chatter\", \"chatter\", \"chatter\", \"chatter\", \"child\", \"child\", \"child\", \"child\", \"child\", \"child\", \"child\", \"child\", \"child\", \"child\", \"child\", \"chilled\", \"chilled\", \"chilled\", \"chilled\", \"chimneys\", \"chimneys\", \"chimneys\", \"chimneys\", \"chink\", \"chink\", \"chink\", \"chink\", \"chink\", \"church\", \"church\", \"church\", \"church\", \"church\", \"church\", \"church\", \"church\", \"churchill\", \"churchill\", \"churchill\", \"churchills\", \"ciel\", \"ciel\", \"ciel\", \"ciel\", \"city\", \"city\", \"city\", \"city\", \"city\", \"clay\", \"clay\", \"clay\", \"cleveland\", \"clock\", \"clock\", \"clock\", \"clock\", \"clock\", \"clock\", \"clock\", \"clock\", \"clock\", \"clock\", \"clock\", \"coarseness\", \"coarseness\", \"coarseness\", \"coarseness\", \"coarseness\", \"coast\", \"coast\", \"coast\", \"coast\", \"cold\", \"cold\", \"cold\", \"cold\", \"cold\", \"cold\", \"cold\", \"cold\", \"cold\", \"cold\", \"cold\", \"cold\", \"cold\", \"cold\", \"cole\", \"cole\", \"collins\", \"colonel\", \"colonel\", \"colonel\", \"colonel\", \"colonel\", \"colonel\", \"colonel\", \"combe\", \"combe\", \"come\", \"come\", \"come\", \"come\", \"come\", \"come\", \"come\", \"come\", \"come\", \"come\", \"come\", \"come\", \"come\", \"come\", \"come\", \"coming\", \"coming\", \"coming\", \"coming\", \"coming\", \"coming\", \"coming\", \"coming\", \"coming\", \"coming\", \"coming\", \"coming\", \"coming\", \"coming\", \"commented\", \"commented\", \"commonest\", \"commonest\", \"commonest\", \"complain\", \"complain\", \"complain\", \"complain\", \"complain\", \"complain\", \"comply\", \"comply\", \"comply\", \"conducting\", \"conducting\", \"conducting\", \"conducting\", \"conduit\", \"conformity\", \"conformity\", \"conformity\", \"conformity\", \"connexion\", \"connexion\", \"consecration\", \"consecration\", \"consecration\", \"consider\", \"consider\", \"consider\", \"consider\", \"consider\", \"consider\", \"consider\", \"consider\", \"consider\", \"consistency\", \"consistency\", \"consistency\", \"consistency\", \"containing\", \"containing\", \"containing\", \"containing\", \"containing\", \"containing\", \"containing\", \"containing\", \"contemplated\", \"contemplated\", \"contemplated\", \"cottage\", \"cottage\", \"cottage\", \"cottage\", \"cottage\", \"cottage\", \"cottage\", \"couldn\", \"couldn\", \"couple\", \"couple\", \"couple\", \"couple\", \"couple\", \"couple\", \"creed\", \"creed\", \"creed\", \"creed\", \"crib\", \"crib\", \"crib\", \"crib\", \"cries\", \"cries\", \"cries\", \"criminal\", \"criminal\", \"criminal\", \"crimsoned\", \"crimsoned\", \"crimsoned\", \"crimsoned\", \"crimsworth\", \"crimsworth\", \"crimsworth\", \"crimsworth\", \"crimsworth\", \"crimsworth\", \"crowd\", \"crowd\", \"crowd\", \"crowd\", \"crowd\", \"crowd\", \"crowd\", \"crown\", \"crown\", \"crown\", \"crown\", \"crown\", \"crown\", \"crown\", \"cruel\", \"cruel\", \"cruel\", \"cruel\", \"cruel\", \"cruel\", \"cruel\", \"cruel\", \"cruel\", \"cruel\", \"crushing\", \"crushing\", \"crushing\", \"crushing\", \"cultivate\", \"cultivate\", \"cultivate\", \"cultivate\", \"cultivated\", \"cultivated\", \"cursed\", \"cursed\", \"cursed\", \"cursed\", \"cursed\", \"curtain\", \"curtain\", \"curtain\", \"curtain\", \"curtain\", \"curtain\", \"dance\", \"dance\", \"dance\", \"dance\", \"dance\", \"dance\", \"dance\", \"dancer\", \"dancer\", \"dances\", \"dances\", \"dances\", \"dancing\", \"dancing\", \"dancing\", \"dancing\", \"dancing\", \"dancing\", \"darcy\", \"dark\", \"dark\", \"dark\", \"dark\", \"dark\", \"dark\", \"dark\", \"dark\", \"dark\", \"dark\", \"dark\", \"dark\", \"dark\", \"dark\", \"dart\", \"dart\", \"dashwood\", \"dashwood\", \"dashwood\", \"dashwoods\", \"dashwoods\", \"day\", \"day\", \"day\", \"day\", \"day\", \"day\", \"day\", \"day\", \"day\", \"day\", \"day\", \"day\", \"day\", \"day\", \"dear\", \"dear\", \"dear\", \"dear\", \"dear\", \"dear\", \"dear\", \"dear\", \"dear\", \"dear\", \"dear\", \"dear\", \"death\", \"death\", \"death\", \"death\", \"death\", \"death\", \"death\", \"death\", \"death\", \"death\", \"death\", \"death\", \"deep\", \"deep\", \"deep\", \"deep\", \"deep\", \"deep\", \"deep\", \"deep\", \"deep\", \"deep\", \"deep\", \"definite\", \"dejected\", \"dejected\", \"dejected\", \"dejected\", \"delaford\", \"delusion\", \"delusion\", \"delusion\", \"dent\", \"dent\", \"derbyshire\", \"descended\", \"descended\", \"descended\", \"descended\", \"descended\", \"desiree\", \"desiree\", \"desiree\", \"desk\", \"desk\", \"desk\", \"desk\", \"desk\", \"desk\", \"develop\", \"develop\", \"develop\", \"develop\", \"devonshire\", \"diana\", \"diana\", \"diana\", \"diana\", \"diana\", \"diana\", \"dilated\", \"dilated\", \"dilated\", \"dilated\", \"dim\", \"dim\", \"dim\", \"dim\", \"dim\", \"director\", \"director\", \"director\", \"director\", \"directress\", \"directress\", \"disk\", \"dislikes\", \"dislikes\", \"dislikes\", \"dislikes\", \"disparity\", \"disparity\", \"disparity\", \"divert\", \"divert\", \"divert\", \"dixon\", \"dixon\", \"doctor\", \"doctor\", \"doctor\", \"doctor\", \"doctor\", \"doctor\", \"doctor\", \"doll\", \"doll\", \"doll\", \"doll\", \"domestic\", \"domestic\", \"domestic\", \"domestic\", \"domestic\", \"donwell\", \"donwell\", \"door\", \"door\", \"door\", \"door\", \"door\", \"door\", \"door\", \"door\", \"door\", \"door\", \"door\", \"door\", \"door\", \"door\", \"dormitory\", \"dormitory\", \"dr\", \"dr\", \"dr\", \"dr\", \"dr\", \"dr\", \"dr\", \"dr\", \"dr\", \"dr\", \"draughts\", \"draughts\", \"draughts\", \"draughts\", \"dread\", \"dread\", \"dread\", \"dread\", \"dread\", \"dread\", \"dread\", \"dread\", \"dread\", \"drenched\", \"driver\", \"driver\", \"driver\", \"driver\", \"drooping\", \"drooping\", \"drooping\", \"drooping\", \"drooping\", \"drops\", \"drops\", \"drops\", \"drops\", \"dubious\", \"dubious\", \"dubious\", \"dubious\", \"echoed\", \"echoed\", \"echoed\", \"echoed\", \"edward\", \"edward\", \"edward\", \"edward\", \"edward\", \"edward\", \"edward\", \"edward\", \"edward\", \"eighty\", \"elders\", \"elders\", \"elinor\", \"elinor\", \"elinor\", \"elinor\", \"elinor\", \"elinor\", \"elinor\", \"elixir\", \"elixir\", \"elixir\", \"elixir\", \"elixir\", \"elizabeth\", \"elizabeth\", \"elizabeth\", \"elizabeth\", \"elle\", \"elle\", \"elton\", \"elton\", \"elton\", \"eltons\", \"eltons\", \"emanuel\", \"emanuel\", \"emanuel\", \"emanuel\", \"emanuel\", \"emanuel\", \"embers\", \"embers\", \"embers\", \"embracing\", \"embracing\", \"embracing\", \"embracing\", \"emma\", \"emma\", \"emma\", \"emma\", \"emma\", \"emma\", \"end\", \"end\", \"end\", \"end\", \"end\", \"end\", \"end\", \"end\", \"end\", \"end\", \"end\", \"engagement\", \"engagement\", \"engagement\", \"engagement\", \"english\", \"english\", \"english\", \"english\", \"english\", \"english\", \"english\", \"english\", \"english\", \"english\", \"english\", \"enquire\", \"err\", \"err\", \"err\", \"err\", \"err\", \"error\", \"error\", \"error\", \"error\", \"error\", \"error\", \"error\", \"eshton\", \"eshton\", \"est\", \"est\", \"est\", \"est\", \"est\", \"estrade\", \"estrade\", \"et\", \"et\", \"et\", \"et\", \"et\", \"et\", \"et\", \"evening\", \"evening\", \"evening\", \"evening\", \"evening\", \"evening\", \"evening\", \"evening\", \"evening\", \"evening\", \"evening\", \"evening\", \"evening\", \"evening\", \"evening\", \"event\", \"event\", \"event\", \"event\", \"event\", \"event\", \"event\", \"event\", \"example\", \"example\", \"example\", \"example\", \"example\", \"example\", \"example\", \"exceeded\", \"exceeded\", \"exceeded\", \"exceeded\", \"exeter\", \"extending\", \"extending\", \"extremely\", \"extremely\", \"extremely\", \"extremely\", \"extremely\", \"extremely\", \"extremities\", \"extremities\", \"extremities\", \"eye\", \"eye\", \"eye\", \"eye\", \"eye\", \"eye\", \"eye\", \"eye\", \"eye\", \"eye\", \"eye\", \"eye\", \"eye\", \"eye\", \"eyelids\", \"eyelids\", \"eyelids\", \"eyes\", \"eyes\", \"eyes\", \"eyes\", \"eyes\", \"eyes\", \"eyes\", \"eyes\", \"eyes\", \"eyes\", \"eyes\", \"eyes\", \"eyes\", \"eyes\", \"eyes\", \"eyre\", \"eyre\", \"eyre\", \"eyre\", \"eyre\", \"eyre\", \"eyre\", \"face\", \"face\", \"face\", \"face\", \"face\", \"face\", \"face\", \"face\", \"face\", \"face\", \"face\", \"face\", \"face\", \"face\", \"face\", \"faculty\", \"faculty\", \"faculty\", \"faculty\", \"faculty\", \"fairfax\", \"fairfax\", \"fairfax\", \"fairfax\", \"fairfax\", \"fairfax\", \"fairfax\", \"fairfax\", \"fairy\", \"fairy\", \"fairy\", \"fairy\", \"fairy\", \"fairy\", \"fairy\", \"fairy\", \"family\", \"family\", \"family\", \"family\", \"family\", \"family\", \"family\", \"family\", \"family\", \"fanny\", \"fanny\", \"far\", \"far\", \"far\", \"far\", \"far\", \"far\", \"far\", \"far\", \"far\", \"far\", \"far\", \"far\", \"far\", \"far\", \"fate\", \"fate\", \"fate\", \"fate\", \"fate\", \"fate\", \"fate\", \"fate\", \"fate\", \"fate\", \"father\", \"father\", \"father\", \"father\", \"father\", \"father\", \"father\", \"father\", \"father\", \"father\", \"father\", \"father\", \"father\", \"father\", \"fathers\", \"fathers\", \"fathers\", \"feeling\", \"feeling\", \"feeling\", \"feeling\", \"feeling\", \"feeling\", \"feeling\", \"feeling\", \"feeling\", \"feeling\", \"feeling\", \"feeling\", \"feet\", \"feet\", \"feet\", \"feet\", \"feet\", \"feet\", \"feet\", \"feet\", \"feet\", \"feet\", \"feigned\", \"feigned\", \"feigned\", \"feigned\", \"felt\", \"felt\", \"felt\", \"felt\", \"felt\", \"felt\", \"felt\", \"felt\", \"felt\", \"felt\", \"felt\", \"felt\", \"felt\", \"felt\", \"felt\", \"femme\", \"ferrars\", \"ferrars\", \"fervid\", \"fervid\", \"fields\", \"fields\", \"fields\", \"fields\", \"fields\", \"fields\", \"fiend\", \"fiend\", \"fiend\", \"fiend\", \"fifine\", \"fifine\", \"fifine\", \"fifth\", \"fifth\", \"fifth\", \"fifth\", \"firelight\", \"firelight\", \"firelight\", \"fitzwilliam\", \"flaming\", \"flaming\", \"flaming\", \"flaming\", \"flinging\", \"fluency\", \"fluency\", \"fluency\", \"fluency\", \"foam\", \"foam\", \"fold\", \"fold\", \"fold\", \"fold\", \"fold\", \"ford\", \"ford\", \"ford\", \"forster\", \"forward\", \"forward\", \"forward\", \"forward\", \"forward\", \"forward\", \"forward\", \"forward\", \"forward\", \"forward\", \"fossette\", \"fossette\", \"fossette\", \"fossette\", \"fossette\", \"fossette\", \"fossette\", \"fragments\", \"fragments\", \"frail\", \"frail\", \"frail\", \"frances\", \"frances\", \"frances\", \"frank\", \"frank\", \"frank\", \"frank\", \"frank\", \"frank\", \"frank\", \"frank\", \"frank\", \"french\", \"french\", \"french\", \"french\", \"french\", \"french\", \"french\", \"french\", \"french\", \"french\", \"french\", \"french\", \"frequented\", \"frequented\", \"frequented\", \"friend\", \"friend\", \"friend\", \"friend\", \"friend\", \"friend\", \"friend\", \"friend\", \"friend\", \"friend\", \"friend\", \"froid\", \"froid\", \"froid\", \"furrowed\", \"gallery\", \"gallery\", \"gallery\", \"gallery\", \"gallery\", \"gallery\", \"garden\", \"garden\", \"garden\", \"garden\", \"garden\", \"garden\", \"garden\", \"garden\", \"garden\", \"garden\", \"garden\", \"garden\", \"gardiner\", \"gateshead\", \"gateshead\", \"gateshead\", \"gateshead\", \"gathered\", \"gathered\", \"gathered\", \"gathered\", \"gathered\", \"gathered\", \"gathered\", \"gathered\", \"gathered\", \"gathered\", \"gathered\", \"georgiana\", \"georgiana\", \"georgiana\", \"georgiana\", \"georgiana\", \"georgiana\", \"gets\", \"gets\", \"gets\", \"gets\", \"gets\", \"gets\", \"gets\", \"ghost\", \"ghost\", \"ghost\", \"ghost\", \"girls\", \"girls\", \"girls\", \"girls\", \"girls\", \"girls\", \"girls\", \"girls\", \"girls\", \"girls\", \"glad\", \"glad\", \"glad\", \"glad\", \"glad\", \"glad\", \"glad\", \"glad\", \"glad\", \"glad\", \"glad\", \"glad\", \"glad\", \"glance\", \"glance\", \"glance\", \"glance\", \"glance\", \"glance\", \"glance\", \"glance\", \"glance\", \"glance\", \"glance\", \"glance\", \"glare\", \"glare\", \"glare\", \"glass\", \"glass\", \"glass\", \"glass\", \"glass\", \"glass\", \"glass\", \"glass\", \"glass\", \"glass\", \"glass\", \"glee\", \"glee\", \"glee\", \"glee\", \"glee\", \"glimpses\", \"glimpses\", \"glimpses\", \"glory\", \"glory\", \"glory\", \"glory\", \"glory\", \"god\", \"god\", \"god\", \"god\", \"god\", \"god\", \"god\", \"god\", \"god\", \"god\", \"god\", \"god\", \"goddard\", \"goddard\", \"goddard\", \"gone\", \"gone\", \"gone\", \"gone\", \"gone\", \"gone\", \"gone\", \"gone\", \"gone\", \"gone\", \"gone\", \"good\", \"good\", \"good\", \"good\", \"good\", \"good\", \"good\", \"good\", \"good\", \"good\", \"good\", \"good\", \"good\", \"good\", \"good\", \"graham\", \"graham\", \"graham\", \"graham\", \"graham\", \"graham\", \"graham\", \"grandmama\", \"grandmama\", \"granite\", \"granite\", \"granite\", \"granite\", \"grapes\", \"grapes\", \"grapes\", \"grapes\", \"grasp\", \"grasp\", \"grasp\", \"grasp\", \"grasp\", \"grasp\", \"great\", \"great\", \"great\", \"great\", \"great\", \"great\", \"great\", \"great\", \"great\", \"great\", \"great\", \"great\", \"great\", \"grec\", \"greek\", \"greek\", \"greek\", \"greek\", \"grenier\", \"grenier\", \"hag\", \"hag\", \"hag\", \"half\", \"half\", \"half\", \"half\", \"half\", \"half\", \"half\", \"half\", \"half\", \"half\", \"half\", \"half\", \"half\", \"half\", \"half\", \"hall\", \"hall\", \"hall\", \"hall\", \"hall\", \"hall\", \"hall\", \"hall\", \"hall\", \"hall\", \"hall\", \"hall\", \"hall\", \"hand\", \"hand\", \"hand\", \"hand\", \"hand\", \"hand\", \"hand\", \"hand\", \"hand\", \"hand\", \"hand\", \"hand\", \"hand\", \"hand\", \"hand\", \"handled\", \"handled\", \"handling\", \"handling\", \"handling\", \"handling\", \"hannah\", \"hannah\", \"hannah\", \"hannah\", \"happiness\", \"happiness\", \"happiness\", \"happiness\", \"happiness\", \"happiness\", \"happiness\", \"happiness\", \"happiness\", \"happiness\", \"happiness\", \"hardships\", \"hardships\", \"hardships\", \"hardships\", \"harley\", \"harriet\", \"harriet\", \"harriet\", \"harriet\", \"harriet\", \"hartfield\", \"hartfield\", \"hartfield\", \"hawkins\", \"head\", \"head\", \"head\", \"head\", \"head\", \"head\", \"head\", \"head\", \"head\", \"head\", \"head\", \"head\", \"heap\", \"heap\", \"heap\", \"heard\", \"heard\", \"heard\", \"heard\", \"heard\", \"heard\", \"heard\", \"heard\", \"heard\", \"heard\", \"heard\", \"heard\", \"heard\", \"heard\", \"hears\", \"hears\", \"hears\", \"heart\", \"heart\", \"heart\", \"heart\", \"heart\", \"heart\", \"heart\", \"heart\", \"heart\", \"heart\", \"heart\", \"heart\", \"heart\", \"heart\", \"heaven\", \"heaven\", \"heaven\", \"heaven\", \"heaven\", \"heaven\", \"heaven\", \"heaven\", \"heaven\", \"heaven\", \"heaven\", \"heights\", \"heights\", \"heights\", \"helen\", \"helen\", \"helen\", \"helen\", \"helen\", \"helen\", \"henri\", \"henri\", \"herald\", \"herald\", \"herd\", \"herd\", \"herd\", \"hertfordshire\", \"high\", \"high\", \"high\", \"high\", \"high\", \"high\", \"high\", \"high\", \"high\", \"high\", \"high\", \"high\", \"highbury\", \"highbury\", \"hire\", \"hire\", \"hire\", \"holland\", \"holland\", \"holland\", \"holland\", \"hollow\", \"hollow\", \"hollow\", \"hollow\", \"hollow\", \"hollow\", \"hollow\", \"holy\", \"holy\", \"holy\", \"holy\", \"home\", \"home\", \"home\", \"home\", \"home\", \"home\", \"home\", \"home\", \"home\", \"home\", \"home\", \"home\", \"home\", \"home\", \"home\", \"hope\", \"hope\", \"hope\", \"hope\", \"hope\", \"hope\", \"hope\", \"hope\", \"hope\", \"hope\", \"hope\", \"hope\", \"hope\", \"hope\", \"horizon\", \"horizon\", \"horizon\", \"horse\", \"horse\", \"horse\", \"horse\", \"horse\", \"horse\", \"horse\", \"hour\", \"hour\", \"hour\", \"hour\", \"hour\", \"hour\", \"hour\", \"hour\", \"hour\", \"hour\", \"hour\", \"hour\", \"hour\", \"hour\", \"house\", \"house\", \"house\", \"house\", \"house\", \"house\", \"house\", \"house\", \"house\", \"house\", \"house\", \"house\", \"house\", \"hovering\", \"hunsden\", \"hunsden\", \"hunsden\", \"hunsden\", \"hunsden\", \"hunsden\", \"hunsford\", \"hurst\", \"hurst\", \"illness\", \"illness\", \"illness\", \"illness\", \"illness\", \"illness\", \"illness\", \"illness\", \"illness\", \"illness\", \"imply\", \"imply\", \"imply\", \"individual\", \"individual\", \"individual\", \"individual\", \"individual\", \"individual\", \"infirm\", \"infirm\", \"infirm\", \"inflicting\", \"inflicting\", \"inflicting\", \"inflicting\", \"influences\", \"influences\", \"influences\", \"inform\", \"inform\", \"inform\", \"inform\", \"inform\", \"ingram\", \"ingram\", \"ingram\", \"ingram\", \"ingram\", \"injured\", \"injured\", \"injured\", \"injured\", \"injured\", \"injured\", \"inn\", \"inn\", \"inn\", \"inn\", \"inn\", \"inn\", \"insane\", \"insane\", \"insane\", \"insane\", \"inscription\", \"institution\", \"institution\", \"institution\", \"institution\", \"intending\", \"intentionally\", \"intentionally\", \"intentionally\", \"intimating\", \"intimating\", \"intimating\", \"intimating\", \"item\", \"jack\", \"jack\", \"jacket\", \"jane\", \"jane\", \"jane\", \"jane\", \"jane\", \"jane\", \"jane\", \"jane\", \"jane\", \"jane\", \"jane\", \"jane\", \"jane\", \"janet\", \"janet\", \"janet\", \"janet\", \"je\", \"je\", \"je\", \"je\", \"je\", \"jennings\", \"jennings\", \"job\", \"job\", \"job\", \"job\", \"john\", \"john\", \"john\", \"john\", \"john\", \"john\", \"john\", \"john\", \"john\", \"john\", \"john\", \"john\", \"john\", \"joyfully\", \"joyfully\", \"joyfully\", \"kent\", \"kitty\", \"kitty\", \"knee\", \"knee\", \"knee\", \"knee\", \"knee\", \"knee\", \"knee\", \"knew\", \"knew\", \"knew\", \"knew\", \"knew\", \"knew\", \"knew\", \"knew\", \"knew\", \"knew\", \"knew\", \"knew\", \"knew\", \"knew\", \"knightley\", \"knightley\", \"knightley\", \"knightleys\", \"know\", \"know\", \"know\", \"know\", \"know\", \"know\", \"know\", \"know\", \"know\", \"know\", \"know\", \"know\", \"know\", \"know\", \"la\", \"la\", \"la\", \"la\", \"la\", \"la\", \"la\", \"la\", \"lady\", \"lady\", \"lady\", \"lady\", \"lady\", \"lady\", \"lady\", \"lady\", \"lady\", \"lady\", \"lady\", \"ladyship\", \"ladyship\", \"ladyship\", \"lane\", \"lane\", \"lane\", \"lane\", \"lane\", \"lane\", \"lane\", \"lantern\", \"lantern\", \"lantern\", \"latticed\", \"latticed\", \"launched\", \"launched\", \"launched\", \"lawn\", \"lawn\", \"lawn\", \"lawn\", \"lawn\", \"lawn\", \"lawn\", \"leader\", \"leader\", \"leader\", \"leah\", \"leah\", \"leah\", \"leah\", \"left\", \"left\", \"left\", \"left\", \"left\", \"left\", \"left\", \"left\", \"left\", \"left\", \"left\", \"left\", \"left\", \"left\", \"legitimate\", \"legitimate\", \"legitimate\", \"lend\", \"lend\", \"lend\", \"lend\", \"les\", \"les\", \"lessened\", \"lessened\", \"lessened\", \"lessened\", \"lessened\", \"lessons\", \"lessons\", \"lessons\", \"lessons\", \"lessons\", \"letter\", \"letter\", \"letter\", \"letter\", \"letter\", \"letter\", \"letter\", \"letter\", \"letter\", \"letter\", \"liar\", \"liar\", \"liar\", \"liar\", \"liar\", \"liberally\", \"liberally\", \"liberally\", \"life\", \"life\", \"life\", \"life\", \"life\", \"life\", \"life\", \"life\", \"life\", \"life\", \"life\", \"life\", \"life\", \"light\", \"light\", \"light\", \"light\", \"light\", \"light\", \"light\", \"light\", \"light\", \"light\", \"light\", \"light\", \"light\", \"light\", \"lighting\", \"like\", \"like\", \"like\", \"like\", \"like\", \"like\", \"like\", \"like\", \"like\", \"like\", \"like\", \"like\", \"like\", \"like\", \"like\", \"lingered\", \"lingered\", \"lingered\", \"lingered\", \"lingered\", \"lips\", \"lips\", \"lips\", \"lips\", \"lips\", \"lips\", \"lips\", \"lips\", \"lips\", \"lips\", \"lips\", \"lips\", \"lisped\", \"lisped\", \"little\", \"little\", \"little\", \"little\", \"little\", \"little\", \"little\", \"little\", \"little\", \"little\", \"little\", \"little\", \"little\", \"little\", \"little\", \"littleness\", \"live\", \"live\", \"live\", \"live\", \"live\", \"live\", \"live\", \"live\", \"live\", \"live\", \"live\", \"live\", \"live\", \"lizzy\", \"lizzy\", \"ll\", \"ll\", \"ll\", \"ll\", \"ll\", \"ll\", \"ll\", \"ll\", \"ll\", \"ll\", \"ll\", \"ll\", \"lloyd\", \"lloyd\", \"lloyd\", \"load\", \"long\", \"long\", \"long\", \"long\", \"long\", \"long\", \"long\", \"long\", \"long\", \"long\", \"long\", \"long\", \"long\", \"long\", \"long\", \"longbourn\", \"longstaple\", \"look\", \"look\", \"look\", \"look\", \"look\", \"look\", \"look\", \"look\", \"look\", \"look\", \"look\", \"look\", \"look\", \"look\", \"look\", \"looked\", \"looked\", \"looked\", \"looked\", \"looked\", \"looked\", \"looked\", \"looked\", \"looked\", \"looked\", \"looked\", \"looked\", \"looked\", \"looked\", \"looked\", \"love\", \"love\", \"love\", \"love\", \"love\", \"love\", \"love\", \"love\", \"love\", \"love\", \"love\", \"love\", \"love\", \"love\", \"lowton\", \"lowton\", \"lucas\", \"lucases\", \"lucy\", \"lucy\", \"lucy\", \"lucy\", \"lucy\", \"lucy\", \"lucy\", \"lucy\", \"lucy\", \"lunatic\", \"lunatic\", \"lydia\", \"lynn\", \"lynn\", \"madam\", \"madam\", \"madam\", \"madam\", \"madam\", \"madam\", \"madam\", \"madame\", \"madame\", \"madame\", \"madame\", \"madame\", \"madame\", \"madame\", \"madame\", \"madame\", \"madame\", \"madame\", \"mademoiselle\", \"mademoiselle\", \"mademoiselle\", \"mademoiselle\", \"magi\", \"magi\", \"magna\", \"magna\", \"maid\", \"maid\", \"maid\", \"maid\", \"maid\", \"maid\", \"maintaining\", \"maintaining\", \"malady\", \"malady\", \"malady\", \"malicious\", \"malicious\", \"malicious\", \"mama\", \"mama\", \"mama\", \"mama\", \"mama\", \"mama\", \"mama\", \"mamma\", \"mamma\", \"mamma\", \"mamma\", \"mamma\", \"mamma\", \"mamma\", \"man\", \"man\", \"man\", \"man\", \"man\", \"man\", \"man\", \"man\", \"man\", \"man\", \"man\", \"man\", \"man\", \"man\", \"man\", \"manager\", \"manager\", \"manager\", \"manager\", \"maniac\", \"maniac\", \"maniac\", \"maple\", \"maple\", \"march\", \"march\", \"march\", \"march\", \"march\", \"march\", \"march\", \"march\", \"march\", \"margaret\", \"marianne\", \"marianne\", \"marianne\", \"marianne\", \"marianne\", \"marriage\", \"marriage\", \"marriage\", \"marriage\", \"marriage\", \"marriage\", \"marriage\", \"marriage\", \"marriage\", \"marriage\", \"marriage\", \"martin\", \"martin\", \"martins\", \"mary\", \"mary\", \"mary\", \"mary\", \"mary\", \"mary\", \"mary\", \"mary\", \"mary\", \"mason\", \"mason\", \"master\", \"master\", \"master\", \"master\", \"master\", \"master\", \"master\", \"master\", \"master\", \"master\", \"master\", \"master\", \"matches\", \"matches\", \"matches\", \"matches\", \"mdlle\", \"mdlle\", \"mdlle\", \"meals\", \"meals\", \"meals\", \"meals\", \"meals\", \"meals\", \"mean\", \"mean\", \"mean\", \"mean\", \"mean\", \"mean\", \"mean\", \"mean\", \"mean\", \"mean\", \"mean\", \"mean\", \"meets\", \"meets\", \"meets\", \"men\", \"men\", \"men\", \"men\", \"men\", \"men\", \"men\", \"men\", \"men\", \"men\", \"men\", \"men\", \"mender\", \"merry\", \"merry\", \"merry\", \"merry\", \"merry\", \"merry\", \"merry\", \"merry\", \"meryton\", \"messieurs\", \"middleton\", \"middleton\", \"middletons\", \"midnight\", \"midnight\", \"midnight\", \"midnight\", \"midnight\", \"midnight\", \"millcote\", \"millcote\", \"millcote\", \"millcote\", \"millcote\", \"miller\", \"miller\", \"miller\", \"miller\", \"minutes\", \"minutes\", \"minutes\", \"minutes\", \"minutes\", \"minutes\", \"minutes\", \"minutes\", \"minutes\", \"minutes\", \"minutes\", \"minutes\", \"minutes\", \"minutes\", \"miss\", \"miss\", \"miss\", \"miss\", \"miss\", \"miss\", \"miss\", \"miss\", \"miss\", \"miss\", \"miss\", \"miss\", \"miss\", \"mission\", \"mission\", \"mission\", \"missis\", \"missis\", \"moment\", \"moment\", \"moment\", \"moment\", \"moment\", \"moment\", \"moment\", \"moment\", \"moment\", \"moment\", \"moment\", \"moment\", \"moment\", \"monitor\", \"monitor\", \"monitor\", \"monsieur\", \"monsieur\", \"monsieur\", \"monsieur\", \"monsieur\", \"monsieur\", \"monsieur\", \"morning\", \"morning\", \"morning\", \"morning\", \"morning\", \"morning\", \"morning\", \"morning\", \"morning\", \"morning\", \"morning\", \"morning\", \"morning\", \"morning\", \"moss\", \"moss\", \"moss\", \"moss\", \"moss\", \"moss\", \"mother\", \"mother\", \"mother\", \"mother\", \"mother\", \"mother\", \"mother\", \"mother\", \"mother\", \"mother\", \"mother\", \"mother\", \"mother\", \"mysteries\", \"mysteries\", \"nailed\", \"nailed\", \"nailed\", \"nash\", \"nations\", \"nations\", \"nations\", \"nature\", \"nature\", \"nature\", \"nature\", \"nature\", \"nature\", \"nature\", \"nature\", \"nature\", \"nature\", \"nature\", \"nature\", \"nature\", \"naughty\", \"naughty\", \"naughty\", \"naughty\", \"ne\", \"ne\", \"necks\", \"nests\", \"nests\", \"nests\", \"netherfield\", \"new\", \"new\", \"new\", \"new\", \"new\", \"new\", \"new\", \"new\", \"new\", \"new\", \"new\", \"new\", \"new\", \"new\", \"night\", \"night\", \"night\", \"night\", \"night\", \"night\", \"night\", \"night\", \"night\", \"night\", \"night\", \"night\", \"night\", \"nightmare\", \"noon\", \"noon\", \"noon\", \"noon\", \"noon\", \"noon\", \"noon\", \"noon\", \"noon\", \"norland\", \"norland\", \"nun\", \"nun\", \"nun\", \"nun\", \"nun\", \"nun\", \"nursery\", \"nursery\", \"nursery\", \"nursery\", \"nursery\", \"nursery\", \"nursery\", \"nursery\", \"oak\", \"oak\", \"oak\", \"oak\", \"oak\", \"office\", \"office\", \"office\", \"office\", \"office\", \"office\", \"office\", \"office\", \"office\", \"officers\", \"oh\", \"oh\", \"oh\", \"oh\", \"oh\", \"oh\", \"oh\", \"oh\", \"oh\", \"oh\", \"oh\", \"oh\", \"oh\", \"oh\", \"oh\", \"old\", \"old\", \"old\", \"old\", \"old\", \"old\", \"old\", \"old\", \"old\", \"old\", \"old\", \"old\", \"old\", \"old\", \"oliver\", \"oliver\", \"oliver\", \"oliver\", \"ominous\", \"ominous\", \"ominous\", \"ominous\", \"ominous\", \"opens\", \"opens\", \"opens\", \"opens\", \"orb\", \"orb\", \"ordinarily\", \"ordinarily\", \"ordinarily\", \"organs\", \"organs\", \"organs\", \"organs\", \"oriental\", \"ostensible\", \"ostensible\", \"overtaken\", \"overtaken\", \"pagan\", \"pagan\", \"pagan\", \"paintings\", \"paintings\", \"paintings\", \"paintings\", \"palate\", \"palate\", \"palate\", \"palate\", \"paletot\", \"palmer\", \"palmer\", \"palmers\", \"palmers\", \"panels\", \"panels\", \"panels\", \"papa\", \"papa\", \"papa\", \"papa\", \"papa\", \"papa\", \"papa\", \"papa\", \"papa\", \"papa\", \"paralysed\", \"paralysed\", \"paralysed\", \"paralysed\", \"parcels\", \"parcels\", \"parcels\", \"parcels\", \"parlour\", \"parlour\", \"parlour\", \"parlour\", \"parlour\", \"parlour\", \"parlour\", \"parlour\", \"parlour\", \"partner\", \"partner\", \"partner\", \"partner\", \"partner\", \"pas\", \"pas\", \"pas\", \"pas\", \"passage\", \"passage\", \"passage\", \"passage\", \"passage\", \"passage\", \"passage\", \"passage\", \"passage\", \"passage\", \"passed\", \"passed\", \"passed\", \"passed\", \"passed\", \"passed\", \"passed\", \"passed\", \"passed\", \"passed\", \"passed\", \"passed\", \"passed\", \"passed\", \"passengers\", \"passengers\", \"patron\", \"patron\", \"patted\", \"patted\", \"patted\", \"patted\", \"patted\", \"pattern\", \"pattern\", \"pattern\", \"pattern\", \"pattern\", \"pattern\", \"patty\", \"patty\", \"paul\", \"paul\", \"paul\", \"paul\", \"paul\", \"paul\", \"paul\", \"paulina\", \"paulina\", \"paulina\", \"paulina\", \"paulina\", \"paulina\", \"paulina\", \"paved\", \"paved\", \"pelet\", \"pelet\", \"pelet\", \"pelet\", \"pemberley\", \"pere\", \"pere\", \"pere\", \"pere\", \"pere\", \"performances\", \"performances\", \"performances\", \"perils\", \"perils\", \"perils\", \"perils\", \"perishing\", \"perishing\", \"perishing\", \"perry\", \"perry\", \"personages\", \"personages\", \"personages\", \"pervaded\", \"pet\", \"pet\", \"pet\", \"pet\", \"philanthropy\", \"philanthropy\", \"philanthropy\", \"philanthropy\", \"phillips\", \"physician\", \"physician\", \"physician\", \"physician\", \"physician\", \"physician\", \"pictures\", \"pictures\", \"pictures\", \"pictures\", \"pictures\", \"pictures\", \"pictures\", \"pictures\", \"pierre\", \"pierre\", \"piled\", \"piled\", \"piled\", \"piled\", \"piled\", \"pilot\", \"pilot\", \"pilot\", \"pilot\", \"pilot\", \"piqued\", \"piqued\", \"piqued\", \"pit\", \"pit\", \"pit\", \"plate\", \"plate\", \"plate\", \"plate\", \"plate\", \"plate\", \"plate\", \"pleasantest\", \"pleasantest\", \"pleasantest\", \"pleasantest\", \"pledge\", \"plus\", \"polish\", \"polish\", \"polish\", \"polish\", \"polly\", \"polly\", \"polly\", \"pony\", \"pony\", \"pony\", \"poole\", \"poole\", \"poole\", \"poole\", \"poor\", \"poor\", \"poor\", \"poor\", \"poor\", \"poor\", \"poor\", \"poor\", \"poor\", \"poor\", \"poor\", \"poor\", \"population\", \"population\", \"population\", \"porte\", \"porte\", \"porte\", \"portress\", \"portress\", \"portress\", \"post\", \"post\", \"post\", \"post\", \"post\", \"post\", \"post\", \"post\", \"post\", \"power\", \"power\", \"power\", \"power\", \"power\", \"power\", \"power\", \"power\", \"power\", \"power\", \"power\", \"power\", \"power\", \"power\", \"power\", \"prayer\", \"prayer\", \"prayer\", \"prayer\", \"prayer\", \"prayer\", \"prayer\", \"precept\", \"precept\", \"precept\", \"precocious\", \"preoccupied\", \"preoccupied\", \"preoccupied\", \"preoccupied\", \"presentiment\", \"presentiment\", \"presentiment\", \"principles\", \"principles\", \"principles\", \"principles\", \"principles\", \"principles\", \"principles\", \"privations\", \"privations\", \"privations\", \"professor\", \"professor\", \"professor\", \"professor\", \"professor\", \"prolonged\", \"prolonged\", \"prolonged\", \"prolonged\", \"prolonged\", \"prolonged\", \"prolonged\", \"promptly\", \"promptly\", \"promptly\", \"promptly\", \"promptly\", \"protect\", \"protect\", \"protect\", \"protect\", \"protect\", \"protestants\", \"protestants\", \"proves\", \"proves\", \"proves\", \"proves\", \"punished\", \"punished\", \"punished\", \"pupils\", \"pupils\", \"pupils\", \"pupils\", \"pupils\", \"pupils\", \"purchases\", \"purchases\", \"purchases\", \"purer\", \"purer\", \"purer\", \"purer\", \"putting\", \"putting\", \"putting\", \"putting\", \"putting\", \"putting\", \"putting\", \"putting\", \"putting\", \"putting\", \"que\", \"que\", \"que\", \"que\", \"que\", \"randalls\", \"randalls\", \"randalls\", \"realized\", \"realized\", \"realized\", \"realized\", \"recommendations\", \"recommendations\", \"recommendations\", \"reed\", \"reed\", \"reed\", \"reed\", \"reed\", \"reed\", \"reed\", \"reed\", \"refectory\", \"refectory\", \"refreshments\", \"refreshments\", \"refreshments\", \"refreshments\", \"region\", \"region\", \"region\", \"region\", \"region\", \"region\", \"regions\", \"regions\", \"regions\", \"regions\", \"reine\", \"reine\", \"reine\", \"relatives\", \"relatives\", \"relatives\", \"relatives\", \"relatives\", \"remainder\", \"remainder\", \"remainder\", \"remainder\", \"remainder\", \"reminiscences\", \"remorse\", \"remorse\", \"remorse\", \"remorse\", \"remorse\", \"remorse\", \"replied\", \"replied\", \"replied\", \"replied\", \"replied\", \"replied\", \"replied\", \"replied\", \"replied\", \"reported\", \"reported\", \"residence\", \"residence\", \"residence\", \"residence\", \"residence\", \"residence\", \"residence\", \"resulting\", \"resulting\", \"resulting\", \"retiring\", \"retiring\", \"retiring\", \"return\", \"return\", \"return\", \"return\", \"return\", \"return\", \"return\", \"return\", \"return\", \"return\", \"return\", \"return\", \"return\", \"return\", \"return\", \"returned\", \"returned\", \"returned\", \"returned\", \"returned\", \"returned\", \"returned\", \"returned\", \"returned\", \"returned\", \"returned\", \"returned\", \"reuter\", \"reuter\", \"revolted\", \"revolted\", \"revolted\", \"revolted\", \"right\", \"right\", \"right\", \"right\", \"right\", \"right\", \"right\", \"right\", \"right\", \"right\", \"right\", \"right\", \"right\", \"right\", \"rivet\", \"rivet\", \"rivet\", \"robes\", \"robes\", \"robust\", \"robust\", \"robust\", \"robust\", \"rochester\", \"rochester\", \"rochester\", \"rochester\", \"rochester\", \"rochester\", \"rochester\", \"rochester\", \"rochester\", \"rocking\", \"rocking\", \"roman\", \"romanism\", \"romanism\", \"rome\", \"rome\", \"rome\", \"rome\", \"room\", \"room\", \"room\", \"room\", \"room\", \"room\", \"room\", \"room\", \"room\", \"room\", \"room\", \"room\", \"room\", \"rosamond\", \"rosamond\", \"rosamond\", \"rose\", \"rose\", \"rose\", \"rose\", \"rose\", \"rose\", \"rose\", \"rose\", \"rose\", \"rose\", \"rose\", \"rose\", \"rose\", \"rosings\", \"round\", \"round\", \"round\", \"round\", \"round\", \"round\", \"round\", \"round\", \"round\", \"round\", \"round\", \"round\", \"round\", \"round\", \"royal\", \"royal\", \"royal\", \"rue\", \"rue\", \"rue\", \"rue\", \"rue\", \"rue\", \"rue\", \"sanctioned\", \"sanctioned\", \"sanctioned\", \"sarah\", \"sarah\", \"sarah\", \"sat\", \"sat\", \"sat\", \"sat\", \"sat\", \"sat\", \"sat\", \"sat\", \"sat\", \"sat\", \"sat\", \"sat\", \"sat\", \"satin\", \"satin\", \"satin\", \"satin\", \"satin\", \"satin\", \"satin\", \"satin\", \"saw\", \"saw\", \"saw\", \"saw\", \"saw\", \"saw\", \"saw\", \"saw\", \"saw\", \"saw\", \"saw\", \"saw\", \"saw\", \"saw\", \"saw\", \"scatcherd\", \"scatcherd\", \"scatcherd\", \"scatcherd\", \"scattered\", \"scattered\", \"scattered\", \"scattered\", \"scattered\", \"scattered\", \"scattered\", \"scattered\", \"scattered\", \"school\", \"school\", \"school\", \"school\", \"school\", \"school\", \"school\", \"school\", \"school\", \"school\", \"school\", \"school\", \"school\", \"schoolroom\", \"schoolroom\", \"schoolroom\", \"schoolroom\", \"schoolroom\", \"schoolroom\", \"schoolroom\", \"schoolroom\", \"scrutinised\", \"seed\", \"seen\", \"seen\", \"seen\", \"seen\", \"seen\", \"seen\", \"seen\", \"seen\", \"seen\", \"seen\", \"seen\", \"seen\", \"selina\", \"selina\", \"semicircle\", \"semicircle\", \"semicircle\", \"september\", \"september\", \"september\", \"september\", \"sermon\", \"sermon\", \"sermon\", \"serving\", \"serving\", \"serving\", \"serving\", \"set\", \"set\", \"set\", \"set\", \"set\", \"set\", \"set\", \"set\", \"set\", \"set\", \"set\", \"set\", \"set\", \"sets\", \"sets\", \"sets\", \"settlement\", \"settlement\", \"settlement\", \"severe\", \"severe\", \"severe\", \"severe\", \"severe\", \"severe\", \"severe\", \"severe\", \"severe\", \"sewing\", \"sewing\", \"sewing\", \"sewing\", \"sewing\", \"sewing\", \"shall\", \"shall\", \"shall\", \"shall\", \"shall\", \"shall\", \"shall\", \"shall\", \"shall\", \"shall\", \"shall\", \"shall\", \"shift\", \"shift\", \"shift\", \"shift\", \"shoes\", \"shoes\", \"shoes\", \"shoes\", \"shoes\", \"shoes\", \"shoes\", \"shoes\", \"shoes\", \"shop\", \"shop\", \"shop\", \"shop\", \"shop\", \"shop\", \"shop\", \"shudder\", \"shudder\", \"shudder\", \"shy\", \"shy\", \"shy\", \"shy\", \"shy\", \"shy\", \"shy\", \"signal\", \"signal\", \"signal\", \"signal\", \"signified\", \"signified\", \"silas\", \"silas\", \"silas\", \"silas\", \"silas\", \"simpleton\", \"simpleton\", \"simpleton\", \"simpleton\", \"sir\", \"sir\", \"sir\", \"sir\", \"sir\", \"sir\", \"sir\", \"sir\", \"sir\", \"sir\", \"sir\", \"sire\", \"sire\", \"sister\", \"sister\", \"sister\", \"sister\", \"sister\", \"sister\", \"sister\", \"sister\", \"sisters\", \"sisters\", \"sisters\", \"sisters\", \"sisters\", \"sisters\", \"sisters\", \"sisters\", \"sisters\", \"sisters\", \"sisters\", \"sky\", \"sky\", \"sky\", \"sky\", \"sky\", \"sky\", \"sky\", \"sky\", \"slate\", \"slate\", \"slate\", \"slavery\", \"slavery\", \"slavery\", \"slavery\", \"smallridge\", \"smallridge\", \"smith\", \"smith\", \"smith\", \"smith\", \"smith\", \"smith\", \"snowe\", \"snowe\", \"snowe\", \"snowe\", \"snowe\", \"sold\", \"sold\", \"sold\", \"sold\", \"sold\", \"sold\", \"sold\", \"soliloquy\", \"soliloquy\", \"soon\", \"soon\", \"soon\", \"soon\", \"soon\", \"soon\", \"soon\", \"soon\", \"soon\", \"soon\", \"soon\", \"soon\", \"soon\", \"soon\", \"sophie\", \"sophie\", \"sophie\", \"sophie\", \"soul\", \"soul\", \"soul\", \"soul\", \"soul\", \"soul\", \"soul\", \"soul\", \"soul\", \"soul\", \"soul\", \"soul\", \"sound\", \"sound\", \"sound\", \"sound\", \"sound\", \"sound\", \"sound\", \"sound\", \"sound\", \"sound\", \"sound\", \"sound\", \"speak\", \"speak\", \"speak\", \"speak\", \"speak\", \"speak\", \"speak\", \"speak\", \"speak\", \"speak\", \"speak\", \"speak\", \"speak\", \"spectacles\", \"spectacles\", \"spectacles\", \"spectacles\", \"spectacles\", \"spectacles\", \"sped\", \"spiritual\", \"spiritual\", \"spiritual\", \"spiritual\", \"st\", \"st\", \"st\", \"st\", \"st\", \"st\", \"st\", \"st\", \"st\", \"st\", \"staircase\", \"staircase\", \"staircase\", \"staircase\", \"staircase\", \"staircase\", \"staircase\", \"staircase\", \"stars\", \"stars\", \"stars\", \"stars\", \"steadfast\", \"steadfast\", \"steadfast\", \"steadfast\", \"steadfast\", \"steele\", \"steele\", \"steeles\", \"steeles\", \"stile\", \"stile\", \"stile\", \"stile\", \"stood\", \"stood\", \"stood\", \"stood\", \"stood\", \"stood\", \"stood\", \"stood\", \"stood\", \"stood\", \"stood\", \"strained\", \"strained\", \"strained\", \"strained\", \"strained\", \"strange\", \"strange\", \"strange\", \"strange\", \"strange\", \"strange\", \"strange\", \"strange\", \"strange\", \"strange\", \"strange\", \"strange\", \"strength\", \"strength\", \"strength\", \"strength\", \"strength\", \"strength\", \"strength\", \"strength\", \"strength\", \"strength\", \"strength\", \"strength\", \"strength\", \"strength\", \"strings\", \"strings\", \"strings\", \"strings\", \"strong\", \"strong\", \"strong\", \"strong\", \"strong\", \"strong\", \"strong\", \"strong\", \"strong\", \"strong\", \"strong\", \"strong\", \"strong\", \"substitute\", \"substitute\", \"substitute\", \"substitute\", \"suckling\", \"suckling\", \"suggestive\", \"suggestive\", \"summits\", \"summits\", \"sun\", \"sun\", \"sun\", \"sun\", \"sun\", \"sun\", \"sun\", \"sure\", \"sure\", \"sure\", \"sure\", \"sure\", \"sure\", \"sure\", \"sure\", \"sure\", \"sure\", \"sure\", \"sure\", \"sure\", \"surgeon\", \"surgeon\", \"surgeon\", \"surgeon\", \"surprize\", \"surprize\", \"surprize\", \"surprized\", \"surprized\", \"sussex\", \"swiss\", \"sworn\", \"sworn\", \"sylvie\", \"sylvie\", \"sympathies\", \"sympathies\", \"sympathies\", \"sympathies\", \"tablet\", \"tablet\", \"tablet\", \"tales\", \"tales\", \"tales\", \"tales\", \"tales\", \"tap\", \"tap\", \"taylor\", \"taylor\", \"tell\", \"tell\", \"tell\", \"tell\", \"tell\", \"tell\", \"tell\", \"tell\", \"tell\", \"tell\", \"tell\", \"tell\", \"tell\", \"temple\", \"temple\", \"temple\", \"temple\", \"temple\", \"temple\", \"temple\", \"temple\", \"temple\", \"temple\", \"temple\", \"terrasse\", \"terrasse\", \"terrasse\", \"terrasse\", \"terribly\", \"terribly\", \"terribly\", \"thing\", \"thing\", \"thing\", \"thing\", \"thing\", \"thing\", \"thing\", \"thing\", \"thing\", \"thing\", \"thing\", \"thing\", \"think\", \"think\", \"think\", \"think\", \"think\", \"think\", \"think\", \"think\", \"think\", \"think\", \"think\", \"think\", \"think\", \"think\", \"thirdly\", \"thirdly\", \"thirdly\", \"thirty\", \"thirty\", \"thirty\", \"thirty\", \"thirty\", \"thirty\", \"thirty\", \"thirty\", \"thirty\", \"thirty\", \"thornfield\", \"thornfield\", \"thornfield\", \"thornfield\", \"thornfield\", \"thornfield\", \"thought\", \"thought\", \"thought\", \"thought\", \"thought\", \"thought\", \"thought\", \"thought\", \"thought\", \"thought\", \"thought\", \"thought\", \"thought\", \"thought\", \"thought\", \"threatening\", \"threatening\", \"threatening\", \"threatening\", \"threatening\", \"threatening\", \"thrusting\", \"thrusting\", \"thrusting\", \"till\", \"till\", \"till\", \"till\", \"till\", \"till\", \"till\", \"till\", \"till\", \"till\", \"till\", \"till\", \"till\", \"till\", \"time\", \"time\", \"time\", \"time\", \"time\", \"time\", \"time\", \"time\", \"time\", \"time\", \"time\", \"time\", \"time\", \"time\", \"time\", \"tomorrow\", \"tomorrow\", \"tomorrow\", \"took\", \"took\", \"took\", \"took\", \"took\", \"took\", \"took\", \"took\", \"took\", \"took\", \"took\", \"took\", \"took\", \"took\", \"torture\", \"torture\", \"torture\", \"torture\", \"torture\", \"town\", \"town\", \"town\", \"town\", \"town\", \"town\", \"town\", \"town\", \"town\", \"tractable\", \"tractable\", \"tractable\", \"tractable\", \"tramp\", \"tramp\", \"tramp\", \"trampled\", \"transformed\", \"transformed\", \"transformed\", \"transformed\", \"transformed\", \"treading\", \"trees\", \"trees\", \"trees\", \"trees\", \"trees\", \"trees\", \"trees\", \"trees\", \"trees\", \"trees\", \"truth\", \"truth\", \"truth\", \"truth\", \"truth\", \"truth\", \"truth\", \"truth\", \"truth\", \"truth\", \"truth\", \"turf\", \"turf\", \"turf\", \"turf\", \"turk\", \"turk\", \"turk\", \"tynedale\", \"unaccountably\", \"unaccountably\", \"unaccountably\", \"unchanged\", \"unchanged\", \"unchanged\", \"unchanged\", \"unchanged\", \"uncle\", \"uncle\", \"uncle\", \"uncle\", \"uncle\", \"uncle\", \"uncle\", \"uncle\", \"unclose\", \"unclose\", \"unclose\", \"understands\", \"understands\", \"understands\", \"une\", \"une\", \"unnumbered\", \"unselfish\", \"unselfish\", \"unselfish\", \"unselfish\", \"unsuspected\", \"vandenhuten\", \"vandenhuten\", \"vandenhuten\", \"vapid\", \"vapid\", \"vapid\", \"varens\", \"vases\", \"vases\", \"vases\", \"vases\", \"ve\", \"ve\", \"ve\", \"ve\", \"ve\", \"venerable\", \"venerable\", \"verdure\", \"verdure\", \"verdure\", \"verdure\", \"vicar\", \"vicar\", \"vicar\", \"vicar\", \"vicarage\", \"vices\", \"vices\", \"vices\", \"vices\", \"victor\", \"victor\", \"violets\", \"visionary\", \"voice\", \"voice\", \"voice\", \"voice\", \"voice\", \"voice\", \"voice\", \"voice\", \"voice\", \"voice\", \"voice\", \"voice\", \"voice\", \"voice\", \"void\", \"void\", \"void\", \"void\", \"void\", \"void\", \"vous\", \"vous\", \"vous\", \"vous\", \"vous\", \"waiter\", \"waiter\", \"waiter\", \"wall\", \"wall\", \"wall\", \"wall\", \"wall\", \"wall\", \"wall\", \"wall\", \"want\", \"want\", \"want\", \"want\", \"want\", \"want\", \"want\", \"want\", \"want\", \"want\", \"warren\", \"warren\", \"water\", \"water\", \"water\", \"water\", \"water\", \"water\", \"water\", \"water\", \"water\", \"way\", \"way\", \"way\", \"way\", \"way\", \"way\", \"way\", \"way\", \"way\", \"way\", \"way\", \"way\", \"way\", \"way\", \"way\", \"went\", \"went\", \"went\", \"went\", \"went\", \"went\", \"went\", \"went\", \"went\", \"went\", \"went\", \"went\", \"went\", \"went\", \"weston\", \"weston\", \"weston\", \"weston\", \"whim\", \"whim\", \"whim\", \"whim\", \"whip\", \"whip\", \"whip\", \"whitcross\", \"whitcross\", \"whitcross\", \"white\", \"white\", \"white\", \"white\", \"white\", \"white\", \"white\", \"white\", \"white\", \"white\", \"white\", \"wicked\", \"wicked\", \"wicked\", \"wicked\", \"wicked\", \"wicked\", \"wicked\", \"wickham\", \"wife\", \"wife\", \"wife\", \"wife\", \"wife\", \"wife\", \"wife\", \"wife\", \"wife\", \"wife\", \"wild\", \"wild\", \"wild\", \"wild\", \"wild\", \"wild\", \"wild\", \"wild\", \"wild\", \"wild\", \"wild\", \"wild\", \"willoughby\", \"willoughby\", \"wind\", \"wind\", \"wind\", \"wind\", \"wind\", \"wind\", \"wind\", \"wind\", \"wind\", \"wind\", \"wind\", \"winding\", \"wipe\", \"wipe\", \"wipe\", \"wipe\", \"wish\", \"wish\", \"wish\", \"wish\", \"wish\", \"wish\", \"wish\", \"wish\", \"wish\", \"wish\", \"wish\", \"wish\", \"wish\", \"wish\", \"wish\", \"withered\", \"withered\", \"woes\", \"woes\", \"woes\", \"woes\", \"woman\", \"woman\", \"woman\", \"woman\", \"woman\", \"woman\", \"woman\", \"woman\", \"woman\", \"woman\", \"woman\", \"woman\", \"womanly\", \"womanly\", \"womanly\", \"wonder\", \"wonder\", \"wonder\", \"wonder\", \"wonder\", \"wonder\", \"wonder\", \"wonder\", \"wonder\", \"wonder\", \"wonder\", \"wood\", \"wood\", \"wood\", \"wood\", \"wood\", \"wood\", \"wood\", \"wood\", \"wood\", \"woodhouse\", \"woodhouse\", \"woodhouse\", \"woodhouse\", \"word\", \"word\", \"word\", \"word\", \"word\", \"word\", \"word\", \"word\", \"word\", \"word\", \"word\", \"word\", \"word\", \"word\", \"word\", \"words\", \"words\", \"words\", \"words\", \"words\", \"words\", \"words\", \"words\", \"words\", \"words\", \"words\", \"words\", \"words\", \"work\", \"work\", \"work\", \"work\", \"work\", \"work\", \"work\", \"work\", \"work\", \"work\", \"work\", \"work\", \"work\", \"works\", \"works\", \"works\", \"works\", \"works\", \"works\", \"world\", \"world\", \"world\", \"world\", \"world\", \"world\", \"world\", \"world\", \"world\", \"world\", \"world\", \"world\", \"world\", \"world\", \"world\", \"years\", \"years\", \"years\", \"years\", \"years\", \"years\", \"years\", \"years\", \"years\", \"years\", \"years\", \"yes\", \"yes\", \"yes\", \"yes\", \"yes\", \"yes\", \"yes\", \"yes\", \"yes\", \"yes\", \"yes\", \"yes\", \"yes\", \"young\", \"young\", \"young\", \"young\", \"young\", \"young\", \"young\", \"young\", \"young\", \"young\", \"young\", \"young\", \"young\", \"zelie\", \"zoraide\"]}, \"R\": 30, \"lambda.step\": 0.01, \"plot.opts\": {\"xlab\": \"PC1\", \"ylab\": \"PC2\"}, \"topic.order\": [12, 2, 10, 11, 3, 1, 8, 4, 15, 5, 6, 13, 14, 7, 9]};\n",
       "\n",
       "function LDAvis_load_lib(url, callback){\n",
       "  var s = document.createElement('script');\n",
       "  s.src = url;\n",
       "  s.async = true;\n",
       "  s.onreadystatechange = s.onload = callback;\n",
       "  s.onerror = function(){console.warn(\"failed to load library \" + url);};\n",
       "  document.getElementsByTagName(\"head\")[0].appendChild(s);\n",
       "}\n",
       "\n",
       "if(typeof(LDAvis) !== \"undefined\"){\n",
       "   // already loaded: just create the visualization\n",
       "   !function(LDAvis){\n",
       "       new LDAvis(\"#\" + \"ldavis_el20401401213218478081285557380\", ldavis_el20401401213218478081285557380_data);\n",
       "   }(LDAvis);\n",
       "}else if(typeof define === \"function\" && define.amd){\n",
       "   // require.js is available: use it to load d3/LDAvis\n",
       "   require.config({paths: {d3: \"https://cdnjs.cloudflare.com/ajax/libs/d3/3.5.5/d3.min\"}});\n",
       "   require([\"d3\"], function(d3){\n",
       "      window.d3 = d3;\n",
       "      LDAvis_load_lib(\"https://cdn.rawgit.com/bmabey/pyLDAvis/files/ldavis.v1.0.0.js\", function(){\n",
       "        new LDAvis(\"#\" + \"ldavis_el20401401213218478081285557380\", ldavis_el20401401213218478081285557380_data);\n",
       "      });\n",
       "    });\n",
       "}else{\n",
       "    // require.js not available: dynamically load d3 & LDAvis\n",
       "    LDAvis_load_lib(\"https://cdnjs.cloudflare.com/ajax/libs/d3/3.5.5/d3.min.js\", function(){\n",
       "         LDAvis_load_lib(\"https://cdn.rawgit.com/bmabey/pyLDAvis/files/ldavis.v1.0.0.js\", function(){\n",
       "                 new LDAvis(\"#\" + \"ldavis_el20401401213218478081285557380\", ldavis_el20401401213218478081285557380_data);\n",
       "            })\n",
       "         });\n",
       "}\n",
       "</script>"
      ],
      "text/plain": [
       "PreparedData(topic_coordinates=              x         y  topics  cluster       Freq\n",
       "topic                                                \n",
       "11    -0.135095  0.035689       1        1  25.826868\n",
       "1      0.033036 -0.016663       2        1  22.538849\n",
       "9      0.003467 -0.051299       3        1  14.054945\n",
       "10    -0.165461  0.008277       4        1  11.031927\n",
       "2      0.061113 -0.059925       5        1   9.307953\n",
       "0     -0.166624  0.017999       6        1   8.690086\n",
       "7      0.015242 -0.100286       7        1   3.760556\n",
       "3      0.029476 -0.065524       8        1   1.433402\n",
       "14     0.061154 -0.031204       9        1   0.811136\n",
       "4      0.005177 -0.033240      10        1   0.733453\n",
       "5     -0.002030  0.030617      11        1   0.565847\n",
       "12     0.043379  0.023181      12        1   0.445689\n",
       "13     0.073901  0.095686      13        1   0.291726\n",
       "6      0.088867  0.090695      14        1   0.254584\n",
       "8      0.054400  0.055997      15        1   0.252989, topic_info=     Category         Freq       Term        Total  loglift  logprob\n",
       "86    Default   915.000000       emma   915.000000  30.0000  30.0000\n",
       "159   Default  1718.000000     little  1718.000000  29.0000  29.0000\n",
       "5852  Default   694.000000     elinor   694.000000  28.0000  28.0000\n",
       "403   Default  1323.000000       like  1323.000000  27.0000  27.0000\n",
       "183   Default  1542.000000       miss  1542.000000  26.0000  26.0000\n",
       "5857  Default   573.000000   marianne   573.000000  25.0000  25.0000\n",
       "372   Default  1352.000000       good  1352.000000  24.0000  24.0000\n",
       "148   Default   931.000000       jane   931.000000  23.0000  23.0000\n",
       "280   Default  1142.000000    thought  1142.000000  22.0000  22.0000\n",
       "1012  Default   561.000000    harriet   561.000000  21.0000  21.0000\n",
       "902   Default   873.000000       room   873.000000  20.0000  20.0000\n",
       "63    Default  1053.000000        day  1053.000000  19.0000  19.0000\n",
       "4922  Default   409.000000     madame   409.000000  18.0000  18.0000\n",
       "450   Default   588.000000        sir   588.000000  17.0000  17.0000\n",
       "284   Default  1313.000000       time  1313.000000  16.0000  16.0000\n",
       "399   Default  1429.000000       know  1429.000000  15.0000  15.0000\n",
       "279   Default  1313.000000      think  1313.000000  14.0000  14.0000\n",
       "260   Default   920.000000       soon   920.000000  13.0000  13.0000\n",
       "337   Default   827.000000       come   827.000000  12.0000  12.0000\n",
       "163   Default   935.000000       long   935.000000  11.0000  11.0000\n",
       "753   Default   773.000000        saw   773.000000  10.0000  10.0000\n",
       "133   Default   488.000000       home   488.000000   9.0000   9.0000\n",
       "164   Default   697.000000     looked   697.000000   8.0000   8.0000\n",
       "513   Default   415.000000      elton   415.000000   7.0000   7.0000\n",
       "129   Default   653.000000      heart   653.000000   6.0000   6.0000\n",
       "298   Default   686.000000        way   686.000000   5.0000   5.0000\n",
       "168   Default   901.000000        man   901.000000   4.0000   4.0000\n",
       "1445  Default   615.000000       hand   615.000000   3.0000   3.0000\n",
       "301   Default   449.000000     weston   449.000000   2.0000   2.0000\n",
       "7113  Default   286.000000   monsieur   286.000000   1.0000   1.0000\n",
       "...       ...          ...        ...          ...      ...      ...\n",
       "450   Topic15     3.633453        sir   588.813293   0.8917  -5.3857\n",
       "91    Topic15     1.772620      event   100.143974   1.9454  -6.1034\n",
       "1407  Topic15     2.371895      added   227.619507   1.4156  -5.8122\n",
       "82    Topic15     1.196257   domestic    34.040878   2.6312  -6.4967\n",
       "260   Topic15     3.696047       soon   920.107361   0.4624  -5.3686\n",
       "750   Topic15     2.348032     return   274.757599   1.2173  -5.8223\n",
       "325   Topic15     3.050726     better   613.064575   0.6765  -5.5605\n",
       "340   Topic15     2.373631     coming   302.526245   1.1318  -5.8115\n",
       "7002  Topic15     1.788258      adele   130.853333   1.6867  -6.0947\n",
       "753   Topic15     3.030322        saw   773.862915   0.4369  -5.5672\n",
       "2450  Topic15     2.395235    fairfax   388.133118   0.8917  -5.8024\n",
       "403   Topic15     3.154466       like  1323.185303  -0.0594  -5.5271\n",
       "1538  Topic15     2.573741       john   622.639465   0.4910  -5.7305\n",
       "419   Topic15     2.483763      night   622.992432   0.4548  -5.7661\n",
       "2081  Topic15     1.808172     master   199.969391   1.2737  -6.0836\n",
       "217   Topic15     1.832584      power   247.161224   1.0753  -6.0702\n",
       "1658  Topic15     1.926440      words   342.737305   0.7983  -6.0202\n",
       "370   Topic15     1.786807       glad   230.275116   1.1207  -6.0955\n",
       "365   Topic15     1.829073    feeling   281.499664   0.9433  -6.0721\n",
       "122   Topic15     1.796683  happiness   274.185913   0.9517  -6.0900\n",
       "1244  Topic15     1.851856      asked   394.263245   0.6187  -6.0597\n",
       "1313  Topic15     1.932962        yes   594.169189   0.2515  -6.0169\n",
       "148   Topic15     1.997442       jane   931.389282  -0.1652  -5.9840\n",
       "463   Topic15     1.904923       tell   538.444519   0.3353  -6.0315\n",
       "159   Topic15     2.016156     little  1718.123291  -0.7682  -5.9747\n",
       "119   Topic15     1.875732       half   587.629028   0.2325  -6.0469\n",
       "337   Topic15     1.892028       come   827.333801  -0.1010  -6.0383\n",
       "355   Topic15     1.862841       door   531.810608   0.3254  -6.0538\n",
       "283   Topic15     1.833174       till   518.239136   0.3352  -6.0699\n",
       "185   Topic15     1.830729    morning   513.078186   0.3439  -6.0712\n",
       "\n",
       "[1131 rows x 6 columns], token_table=      Topic      Freq       Term\n",
       "term                            \n",
       "792       1  0.058746      abbey\n",
       "792       4  0.910559      abbey\n",
       "6348      3  0.045800      abbot\n",
       "6348      9  0.870192      abbot\n",
       "2062      1  0.157286      abide\n",
       "2062      3  0.471859      abide\n",
       "2062      4  0.157286      abide\n",
       "2062     14  0.157286      abide\n",
       "3055      1  0.176852  abundance\n",
       "3055      2  0.294753  abundance\n",
       "3055      4  0.235802  abundance\n",
       "3055      5  0.117901  abundance\n",
       "3055     10  0.058951  abundance\n",
       "3055     14  0.058951  abundance\n",
       "7316      2  0.320127   accursed\n",
       "7316      3  0.320127   accursed\n",
       "7316      8  0.160063   accursed\n",
       "7316     14  0.160063   accursed\n",
       "6412      5  0.874184    achieve\n",
       "6102      1  0.389446     aching\n",
       "6102      3  0.194723     aching\n",
       "6102      9  0.194723     aching\n",
       "6102     14  0.194723     aching\n",
       "2063      1  0.327079        act\n",
       "2063      2  0.338760        act\n",
       "2063      3  0.105133        act\n",
       "2063      4  0.070088        act\n",
       "2063      5  0.023363        act\n",
       "2063      6  0.035044        act\n",
       "2063      8  0.081770        act\n",
       "...     ...       ...        ...\n",
       "308      12  0.003191      years\n",
       "308      14  0.006383      years\n",
       "1313      1  0.270967        yes\n",
       "1313      2  0.168302        yes\n",
       "1313      3  0.244038        yes\n",
       "1313      4  0.122861        yes\n",
       "1313      5  0.028611        yes\n",
       "1313      6  0.058906        yes\n",
       "1313      7  0.067321        yes\n",
       "1313      8  0.011781        yes\n",
       "1313      9  0.008415        yes\n",
       "1313     10  0.010098        yes\n",
       "1313     11  0.005049        yes\n",
       "1313     14  0.001683        yes\n",
       "1313     15  0.003366        yes\n",
       "611       1  0.381229      young\n",
       "611       2  0.125067      young\n",
       "611       3  0.131095      young\n",
       "611       4  0.179313      young\n",
       "611       5  0.042191      young\n",
       "611       6  0.088903      young\n",
       "611       7  0.013562      young\n",
       "611       8  0.012055      young\n",
       "611       9  0.012055      young\n",
       "611      10  0.004521      young\n",
       "611      11  0.003014      young\n",
       "611      12  0.006027      young\n",
       "611      14  0.001507      young\n",
       "8085      2  0.947894      zelie\n",
       "7899      2  0.930126    zoraide\n",
       "\n",
       "[4365 rows x 3 columns], R=30, lambda_step=0.01, plot_opts={'xlab': 'PC1', 'ylab': 'PC2'}, topic_order=[12, 2, 10, 11, 3, 1, 8, 4, 15, 5, 6, 13, 14, 7, 9])"
      ]
     },
     "execution_count": 79,
     "metadata": {},
     "output_type": "execute_result"
    }
   ],
   "source": [
    "pyLDAvis.gensim.prepare(lda, corpus, id2word)"
   ]
  },
  {
   "cell_type": "markdown",
   "metadata": {},
   "source": [
    "### Overall Model / Documents"
   ]
  },
  {
   "cell_type": "code",
   "execution_count": 80,
   "metadata": {},
   "outputs": [
    {
     "data": {
      "text/plain": [
       "[(10, 0.20714095), (11, 0.79085284)]"
      ]
     },
     "execution_count": 80,
     "metadata": {},
     "output_type": "execute_result"
    }
   ],
   "source": [
    "lda[corpus[0]]"
   ]
  },
  {
   "cell_type": "code",
   "execution_count": 81,
   "metadata": {},
   "outputs": [],
   "source": [
    "distro = [lda[d] for d in corpus]"
   ]
  },
  {
   "cell_type": "code",
   "execution_count": 82,
   "metadata": {},
   "outputs": [
    {
     "data": {
      "text/plain": [
       "[(10, 0.20714444), (11, 0.7908494)]"
      ]
     },
     "execution_count": 82,
     "metadata": {},
     "output_type": "execute_result"
    }
   ],
   "source": [
    "distro[0]"
   ]
  },
  {
   "cell_type": "code",
   "execution_count": 83,
   "metadata": {},
   "outputs": [],
   "source": [
    "distro = [lda[d] for d in corpus]\n",
    "\n",
    "def update(doc):\n",
    "        d_dist = {k:0 for k in range(0,15)}\n",
    "        for t in doc:\n",
    "            d_dist[t[0]] = t[1]\n",
    "        return d_dist\n",
    "    \n",
    "new_distro = [update(d) for d in distro]"
   ]
  },
  {
   "cell_type": "code",
   "execution_count": 84,
   "metadata": {},
   "outputs": [],
   "source": [
    "df = pd.DataFrame.from_records(new_distro, index=titles)\n",
    "df.columns = topics\n",
    "df['author'] = df.reset_index()['index'].apply(lambda x: x.split('_')[0]).tolist()"
   ]
  },
  {
   "cell_type": "code",
   "execution_count": 85,
   "metadata": {},
   "outputs": [
    {
     "data": {
      "text/html": [
       "<div>\n",
       "<style scoped>\n",
       "    .dataframe tbody tr th:only-of-type {\n",
       "        vertical-align: middle;\n",
       "    }\n",
       "\n",
       "    .dataframe tbody tr th {\n",
       "        vertical-align: top;\n",
       "    }\n",
       "\n",
       "    .dataframe thead th {\n",
       "        text-align: right;\n",
       "    }\n",
       "</style>\n",
       "<table border=\"1\" class=\"dataframe\">\n",
       "  <thead>\n",
       "    <tr style=\"text-align: right;\">\n",
       "      <th></th>\n",
       "      <th>elinor marianne edward dashwood jennings</th>\n",
       "      <th>little like thought monsieur madame</th>\n",
       "      <th>like night long thought door</th>\n",
       "      <th>sir like jane know thought</th>\n",
       "      <th>miss little like papa new</th>\n",
       "      <th>room dancing thought way dance</th>\n",
       "      <th>jane heart old eye monsieur</th>\n",
       "      <th>graham little papa like bretton</th>\n",
       "      <th>home soon sir hannah rochester</th>\n",
       "      <th>like little rochester sir jane</th>\n",
       "      <th>emma harriet miss elton knightley</th>\n",
       "      <th>elizabeth miss know think good</th>\n",
       "      <th>madame child good little day</th>\n",
       "      <th>church little time rome strange</th>\n",
       "      <th>bessie reed abbot miss like</th>\n",
       "      <th>author</th>\n",
       "    </tr>\n",
       "  </thead>\n",
       "  <tbody>\n",
       "    <tr>\n",
       "      <th>Austen_Emma0000</th>\n",
       "      <td>0.0</td>\n",
       "      <td>0.0</td>\n",
       "      <td>0.0</td>\n",
       "      <td>0.0</td>\n",
       "      <td>0.0</td>\n",
       "      <td>0.0</td>\n",
       "      <td>0.0</td>\n",
       "      <td>0.0</td>\n",
       "      <td>0.0</td>\n",
       "      <td>0.0</td>\n",
       "      <td>0.207139</td>\n",
       "      <td>0.790855</td>\n",
       "      <td>0.0</td>\n",
       "      <td>0.0</td>\n",
       "      <td>0.0</td>\n",
       "      <td>Austen</td>\n",
       "    </tr>\n",
       "    <tr>\n",
       "      <th>Austen_Emma0001</th>\n",
       "      <td>0.0</td>\n",
       "      <td>0.0</td>\n",
       "      <td>0.0</td>\n",
       "      <td>0.0</td>\n",
       "      <td>0.0</td>\n",
       "      <td>0.0</td>\n",
       "      <td>0.0</td>\n",
       "      <td>0.0</td>\n",
       "      <td>0.0</td>\n",
       "      <td>0.0</td>\n",
       "      <td>0.498186</td>\n",
       "      <td>0.499372</td>\n",
       "      <td>0.0</td>\n",
       "      <td>0.0</td>\n",
       "      <td>0.0</td>\n",
       "      <td>Austen</td>\n",
       "    </tr>\n",
       "    <tr>\n",
       "      <th>Austen_Emma0002</th>\n",
       "      <td>0.0</td>\n",
       "      <td>0.0</td>\n",
       "      <td>0.0</td>\n",
       "      <td>0.0</td>\n",
       "      <td>0.0</td>\n",
       "      <td>0.0</td>\n",
       "      <td>0.0</td>\n",
       "      <td>0.0</td>\n",
       "      <td>0.0</td>\n",
       "      <td>0.0</td>\n",
       "      <td>0.445016</td>\n",
       "      <td>0.552721</td>\n",
       "      <td>0.0</td>\n",
       "      <td>0.0</td>\n",
       "      <td>0.0</td>\n",
       "      <td>Austen</td>\n",
       "    </tr>\n",
       "    <tr>\n",
       "      <th>Austen_Emma0003</th>\n",
       "      <td>0.0</td>\n",
       "      <td>0.0</td>\n",
       "      <td>0.0</td>\n",
       "      <td>0.0</td>\n",
       "      <td>0.0</td>\n",
       "      <td>0.0</td>\n",
       "      <td>0.0</td>\n",
       "      <td>0.0</td>\n",
       "      <td>0.0</td>\n",
       "      <td>0.0</td>\n",
       "      <td>0.221486</td>\n",
       "      <td>0.776384</td>\n",
       "      <td>0.0</td>\n",
       "      <td>0.0</td>\n",
       "      <td>0.0</td>\n",
       "      <td>Austen</td>\n",
       "    </tr>\n",
       "    <tr>\n",
       "      <th>Austen_Emma0004</th>\n",
       "      <td>0.0</td>\n",
       "      <td>0.0</td>\n",
       "      <td>0.0</td>\n",
       "      <td>0.0</td>\n",
       "      <td>0.0</td>\n",
       "      <td>0.0</td>\n",
       "      <td>0.0</td>\n",
       "      <td>0.0</td>\n",
       "      <td>0.0</td>\n",
       "      <td>0.0</td>\n",
       "      <td>0.417723</td>\n",
       "      <td>0.580275</td>\n",
       "      <td>0.0</td>\n",
       "      <td>0.0</td>\n",
       "      <td>0.0</td>\n",
       "      <td>Austen</td>\n",
       "    </tr>\n",
       "  </tbody>\n",
       "</table>\n",
       "</div>"
      ],
      "text/plain": [
       "                 elinor marianne edward dashwood jennings  \\\n",
       "Austen_Emma0000                                       0.0   \n",
       "Austen_Emma0001                                       0.0   \n",
       "Austen_Emma0002                                       0.0   \n",
       "Austen_Emma0003                                       0.0   \n",
       "Austen_Emma0004                                       0.0   \n",
       "\n",
       "                 little like thought monsieur madame  \\\n",
       "Austen_Emma0000                                  0.0   \n",
       "Austen_Emma0001                                  0.0   \n",
       "Austen_Emma0002                                  0.0   \n",
       "Austen_Emma0003                                  0.0   \n",
       "Austen_Emma0004                                  0.0   \n",
       "\n",
       "                 like night long thought door  sir like jane know thought  \\\n",
       "Austen_Emma0000                           0.0                         0.0   \n",
       "Austen_Emma0001                           0.0                         0.0   \n",
       "Austen_Emma0002                           0.0                         0.0   \n",
       "Austen_Emma0003                           0.0                         0.0   \n",
       "Austen_Emma0004                           0.0                         0.0   \n",
       "\n",
       "                 miss little like papa new  room dancing thought way dance  \\\n",
       "Austen_Emma0000                        0.0                             0.0   \n",
       "Austen_Emma0001                        0.0                             0.0   \n",
       "Austen_Emma0002                        0.0                             0.0   \n",
       "Austen_Emma0003                        0.0                             0.0   \n",
       "Austen_Emma0004                        0.0                             0.0   \n",
       "\n",
       "                 jane heart old eye monsieur  graham little papa like bretton  \\\n",
       "Austen_Emma0000                          0.0                              0.0   \n",
       "Austen_Emma0001                          0.0                              0.0   \n",
       "Austen_Emma0002                          0.0                              0.0   \n",
       "Austen_Emma0003                          0.0                              0.0   \n",
       "Austen_Emma0004                          0.0                              0.0   \n",
       "\n",
       "                 home soon sir hannah rochester  \\\n",
       "Austen_Emma0000                             0.0   \n",
       "Austen_Emma0001                             0.0   \n",
       "Austen_Emma0002                             0.0   \n",
       "Austen_Emma0003                             0.0   \n",
       "Austen_Emma0004                             0.0   \n",
       "\n",
       "                 like little rochester sir jane  \\\n",
       "Austen_Emma0000                             0.0   \n",
       "Austen_Emma0001                             0.0   \n",
       "Austen_Emma0002                             0.0   \n",
       "Austen_Emma0003                             0.0   \n",
       "Austen_Emma0004                             0.0   \n",
       "\n",
       "                 emma harriet miss elton knightley  \\\n",
       "Austen_Emma0000                           0.207139   \n",
       "Austen_Emma0001                           0.498186   \n",
       "Austen_Emma0002                           0.445016   \n",
       "Austen_Emma0003                           0.221486   \n",
       "Austen_Emma0004                           0.417723   \n",
       "\n",
       "                 elizabeth miss know think good  madame child good little day  \\\n",
       "Austen_Emma0000                        0.790855                           0.0   \n",
       "Austen_Emma0001                        0.499372                           0.0   \n",
       "Austen_Emma0002                        0.552721                           0.0   \n",
       "Austen_Emma0003                        0.776384                           0.0   \n",
       "Austen_Emma0004                        0.580275                           0.0   \n",
       "\n",
       "                 church little time rome strange  bessie reed abbot miss like  \\\n",
       "Austen_Emma0000                              0.0                          0.0   \n",
       "Austen_Emma0001                              0.0                          0.0   \n",
       "Austen_Emma0002                              0.0                          0.0   \n",
       "Austen_Emma0003                              0.0                          0.0   \n",
       "Austen_Emma0004                              0.0                          0.0   \n",
       "\n",
       "                 author  \n",
       "Austen_Emma0000  Austen  \n",
       "Austen_Emma0001  Austen  \n",
       "Austen_Emma0002  Austen  \n",
       "Austen_Emma0003  Austen  \n",
       "Austen_Emma0004  Austen  "
      ]
     },
     "execution_count": 85,
     "metadata": {},
     "output_type": "execute_result"
    }
   ],
   "source": [
    "df.head()"
   ]
  },
  {
   "cell_type": "code",
   "execution_count": 86,
   "metadata": {},
   "outputs": [
    {
     "data": {
      "text/html": [
       "<div>\n",
       "<style scoped>\n",
       "    .dataframe tbody tr th:only-of-type {\n",
       "        vertical-align: middle;\n",
       "    }\n",
       "\n",
       "    .dataframe tbody tr th {\n",
       "        vertical-align: top;\n",
       "    }\n",
       "\n",
       "    .dataframe thead th {\n",
       "        text-align: right;\n",
       "    }\n",
       "</style>\n",
       "<table border=\"1\" class=\"dataframe\">\n",
       "  <thead>\n",
       "    <tr style=\"text-align: right;\">\n",
       "      <th></th>\n",
       "      <th>elinor marianne edward dashwood jennings</th>\n",
       "      <th>little like thought monsieur madame</th>\n",
       "      <th>like night long thought door</th>\n",
       "      <th>sir like jane know thought</th>\n",
       "      <th>miss little like papa new</th>\n",
       "      <th>room dancing thought way dance</th>\n",
       "      <th>jane heart old eye monsieur</th>\n",
       "      <th>graham little papa like bretton</th>\n",
       "      <th>home soon sir hannah rochester</th>\n",
       "      <th>like little rochester sir jane</th>\n",
       "      <th>emma harriet miss elton knightley</th>\n",
       "      <th>elizabeth miss know think good</th>\n",
       "      <th>madame child good little day</th>\n",
       "      <th>church little time rome strange</th>\n",
       "      <th>bessie reed abbot miss like</th>\n",
       "    </tr>\n",
       "    <tr>\n",
       "      <th>author</th>\n",
       "      <th></th>\n",
       "      <th></th>\n",
       "      <th></th>\n",
       "      <th></th>\n",
       "      <th></th>\n",
       "      <th></th>\n",
       "      <th></th>\n",
       "      <th></th>\n",
       "      <th></th>\n",
       "      <th></th>\n",
       "      <th></th>\n",
       "      <th></th>\n",
       "      <th></th>\n",
       "      <th></th>\n",
       "      <th></th>\n",
       "    </tr>\n",
       "  </thead>\n",
       "  <tbody>\n",
       "    <tr>\n",
       "      <th>Austen</th>\n",
       "      <td>0.187235</td>\n",
       "      <td>0.001266</td>\n",
       "      <td>0.005236</td>\n",
       "      <td>0.000000</td>\n",
       "      <td>0.002225</td>\n",
       "      <td>0.004235</td>\n",
       "      <td>0.000000</td>\n",
       "      <td>0.000482</td>\n",
       "      <td>0.000000</td>\n",
       "      <td>0.005217</td>\n",
       "      <td>0.238317</td>\n",
       "      <td>0.552241</td>\n",
       "      <td>0.000805</td>\n",
       "      <td>0.000311</td>\n",
       "      <td>0.00000</td>\n",
       "    </tr>\n",
       "    <tr>\n",
       "      <th>CBronte</th>\n",
       "      <td>0.000938</td>\n",
       "      <td>0.392817</td>\n",
       "      <td>0.159624</td>\n",
       "      <td>0.027227</td>\n",
       "      <td>0.011356</td>\n",
       "      <td>0.006428</td>\n",
       "      <td>0.004524</td>\n",
       "      <td>0.067195</td>\n",
       "      <td>0.004524</td>\n",
       "      <td>0.257829</td>\n",
       "      <td>0.002796</td>\n",
       "      <td>0.036097</td>\n",
       "      <td>0.006787</td>\n",
       "      <td>0.004647</td>\n",
       "      <td>0.01457</td>\n",
       "    </tr>\n",
       "  </tbody>\n",
       "</table>\n",
       "</div>"
      ],
      "text/plain": [
       "         elinor marianne edward dashwood jennings  \\\n",
       "author                                              \n",
       "Austen                                   0.187235   \n",
       "CBronte                                  0.000938   \n",
       "\n",
       "         little like thought monsieur madame  like night long thought door  \\\n",
       "author                                                                       \n",
       "Austen                              0.001266                      0.005236   \n",
       "CBronte                             0.392817                      0.159624   \n",
       "\n",
       "         sir like jane know thought  miss little like papa new  \\\n",
       "author                                                           \n",
       "Austen                     0.000000                   0.002225   \n",
       "CBronte                    0.027227                   0.011356   \n",
       "\n",
       "         room dancing thought way dance  jane heart old eye monsieur  \\\n",
       "author                                                                 \n",
       "Austen                         0.004235                     0.000000   \n",
       "CBronte                        0.006428                     0.004524   \n",
       "\n",
       "         graham little papa like bretton  home soon sir hannah rochester  \\\n",
       "author                                                                     \n",
       "Austen                          0.000482                        0.000000   \n",
       "CBronte                         0.067195                        0.004524   \n",
       "\n",
       "         like little rochester sir jane  emma harriet miss elton knightley  \\\n",
       "author                                                                       \n",
       "Austen                         0.005217                           0.238317   \n",
       "CBronte                        0.257829                           0.002796   \n",
       "\n",
       "         elizabeth miss know think good  madame child good little day  \\\n",
       "author                                                                  \n",
       "Austen                         0.552241                      0.000805   \n",
       "CBronte                        0.036097                      0.006787   \n",
       "\n",
       "         church little time rome strange  bessie reed abbot miss like  \n",
       "author                                                                 \n",
       "Austen                          0.000311                      0.00000  \n",
       "CBronte                         0.004647                      0.01457  "
      ]
     },
     "execution_count": 86,
     "metadata": {},
     "output_type": "execute_result"
    }
   ],
   "source": [
    "df.groupby('author').mean()"
   ]
  },
  {
   "cell_type": "markdown",
   "metadata": {},
   "source": [
    "## Challenge\n",
    "### *Can we see if one of the authors focus more on men than women?*\n",
    "\n",
    "*  Use Spacy for text prepocessing\n",
    "*  Extract the Named Entities from the documents using Spacy (command is fairly straight forward)\n",
    "*  Create unique list of names from the authors (you'll find that there are different types of named entities not all people)\n",
    "*  Label the names with genders (can you this by hand or you use the US census name lists)\n",
    "*  Customize your processing to replace the proper name with your gender from the previous step's lookup table\n",
    "*  Then follow the rest of the LDA flow\n"
   ]
  },
  {
   "cell_type": "markdown",
   "metadata": {},
   "source": [
    "# Selecting the Number of Topics (Learn)\n",
    "<a id=\"#p4\"></a>"
   ]
  },
  {
   "cell_type": "markdown",
   "metadata": {},
   "source": [
    "## Overview"
   ]
  },
  {
   "cell_type": "markdown",
   "metadata": {},
   "source": [
    "## Follow Along"
   ]
  },
  {
   "cell_type": "code",
   "execution_count": 87,
   "metadata": {},
   "outputs": [],
   "source": [
    "from gensim.models.coherencemodel import CoherenceModel\n",
    "\n",
    "def compute_coherence_values(dictionary, corpus, path, limit, start=2, step=3, passes=5):\n",
    "    \"\"\"\n",
    "    Compute c_v coherence for various number of topics\n",
    "\n",
    "    Parameters:\n",
    "    ----------\n",
    "    dictionary : Gensim dictionary\n",
    "    corpus : Gensim corpus\n",
    "    path : path to input texts\n",
    "    limit : Max num of topics\n",
    "    passes: the number of times the entire lda model & coherence values are calculated\n",
    "\n",
    "    Returns:\n",
    "    -------\n",
    "    coherence_values : Coherence values corresponding to the LDA model with respective number of topics\n",
    "    \"\"\"\n",
    "    \n",
    "    coherence_values = []\n",
    "    \n",
    "    tokens = list(doc_stream(path))\n",
    "    \n",
    "    for iter_ in range(passes):\n",
    "        for num_topics in range(start, limit, step):\n",
    "            stream = doc_stream(path)\n",
    "            model = LdaMulticore(corpus=corpus, num_topics=num_topics, id2word=dictionary, workers=4)\n",
    "            coherencemodel = CoherenceModel(model=model,dictionary=dictionary,corpus=corpus, coherence='u_mass')\n",
    "            coherence_values.append({'pass': iter_, \n",
    "                                     'num_topics': num_topics, \n",
    "                                     'coherence_score': coherencemodel.get_coherence()\n",
    "                                    })\n",
    "\n",
    "    return coherence_values"
   ]
  },
  {
   "cell_type": "code",
   "execution_count": 89,
   "metadata": {},
   "outputs": [],
   "source": [
    "import warnings\n",
    "warnings.filterwarnings('ignore')"
   ]
  },
  {
   "cell_type": "code",
   "execution_count": 90,
   "metadata": {},
   "outputs": [],
   "source": [
    "# Can take a long time to run.\n",
    "coherence_values = compute_coherence_values(dictionary=id2word, \n",
    "                                                        corpus=corpus, \n",
    "                                                        path=path, \n",
    "                                                        start=2, \n",
    "                                                        limit=40, \n",
    "                                                        step=6,\n",
    "                                                        passes=40)"
   ]
  },
  {
   "cell_type": "code",
   "execution_count": 91,
   "metadata": {},
   "outputs": [],
   "source": [
    "topic_coherence = pd.DataFrame.from_records(coherence_values)"
   ]
  },
  {
   "cell_type": "code",
   "execution_count": null,
   "metadata": {},
   "outputs": [],
   "source": []
  },
  {
   "cell_type": "code",
   "execution_count": 92,
   "metadata": {},
   "outputs": [
    {
     "data": {
      "text/html": [
       "<div>\n",
       "<style scoped>\n",
       "    .dataframe tbody tr th:only-of-type {\n",
       "        vertical-align: middle;\n",
       "    }\n",
       "\n",
       "    .dataframe tbody tr th {\n",
       "        vertical-align: top;\n",
       "    }\n",
       "\n",
       "    .dataframe thead th {\n",
       "        text-align: right;\n",
       "    }\n",
       "</style>\n",
       "<table border=\"1\" class=\"dataframe\">\n",
       "  <thead>\n",
       "    <tr style=\"text-align: right;\">\n",
       "      <th></th>\n",
       "      <th>coherence_score</th>\n",
       "      <th>num_topics</th>\n",
       "      <th>pass</th>\n",
       "    </tr>\n",
       "  </thead>\n",
       "  <tbody>\n",
       "    <tr>\n",
       "      <th>0</th>\n",
       "      <td>-0.847473</td>\n",
       "      <td>2</td>\n",
       "      <td>0</td>\n",
       "    </tr>\n",
       "    <tr>\n",
       "      <th>1</th>\n",
       "      <td>-0.713858</td>\n",
       "      <td>8</td>\n",
       "      <td>0</td>\n",
       "    </tr>\n",
       "    <tr>\n",
       "      <th>2</th>\n",
       "      <td>-0.681230</td>\n",
       "      <td>14</td>\n",
       "      <td>0</td>\n",
       "    </tr>\n",
       "    <tr>\n",
       "      <th>3</th>\n",
       "      <td>-0.806721</td>\n",
       "      <td>20</td>\n",
       "      <td>0</td>\n",
       "    </tr>\n",
       "    <tr>\n",
       "      <th>4</th>\n",
       "      <td>-0.808363</td>\n",
       "      <td>26</td>\n",
       "      <td>0</td>\n",
       "    </tr>\n",
       "  </tbody>\n",
       "</table>\n",
       "</div>"
      ],
      "text/plain": [
       "   coherence_score  num_topics  pass\n",
       "0        -0.847473           2     0\n",
       "1        -0.713858           8     0\n",
       "2        -0.681230          14     0\n",
       "3        -0.806721          20     0\n",
       "4        -0.808363          26     0"
      ]
     },
     "execution_count": 92,
     "metadata": {},
     "output_type": "execute_result"
    }
   ],
   "source": [
    "topic_coherence.head()"
   ]
  },
  {
   "cell_type": "code",
   "execution_count": 93,
   "metadata": {},
   "outputs": [
    {
     "data": {
      "image/png": "[encoded data removed]",
      "text/plain": [
       "<Figure size 432x288 with 1 Axes>"
      ]
     },
     "metadata": {
      "needs_background": "light"
     },
     "output_type": "display_data"
    }
   ],
   "source": [
    "import seaborn as sns\n",
    "\n",
    "ax = sns.lineplot(x=\"num_topics\", y=\"coherence_score\", data=topic_coherence)"
   ]
  },
  {
   "cell_type": "code",
   "execution_count": 94,
   "metadata": {},
   "outputs": [
    {
     "ename": "NameError",
     "evalue": "name 'x' is not defined",
     "output_type": "error",
     "traceback": [
      "\u001b[0;31m---------------------------------------------------------------------------\u001b[0m",
      "\u001b[0;31mNameError\u001b[0m                                 Traceback (most recent call last)",
      "\u001b[0;32m<ipython-input-94-374779cc73b5>\u001b[0m in \u001b[0;36m<module>\u001b[0;34m\u001b[0m\n\u001b[1;32m      1\u001b[0m \u001b[0;31m# Print the coherence scores\u001b[0m\u001b[0;34m\u001b[0m\u001b[0;34m\u001b[0m\u001b[0m\n\u001b[0;32m----> 2\u001b[0;31m \u001b[0;32mfor\u001b[0m \u001b[0mm\u001b[0m\u001b[0;34m,\u001b[0m \u001b[0mcv\u001b[0m \u001b[0;32min\u001b[0m \u001b[0mzip\u001b[0m\u001b[0;34m(\u001b[0m\u001b[0mx\u001b[0m\u001b[0;34m,\u001b[0m \u001b[0mcoherence_values\u001b[0m\u001b[0;34m)\u001b[0m\u001b[0;34m:\u001b[0m\u001b[0;34m\u001b[0m\u001b[0m\n\u001b[0m\u001b[1;32m      3\u001b[0m     \u001b[0mprint\u001b[0m\u001b[0;34m(\u001b[0m\u001b[0;34m\"Num Topics =\"\u001b[0m\u001b[0;34m,\u001b[0m \u001b[0mm\u001b[0m\u001b[0;34m,\u001b[0m \u001b[0;34m\" has Coherence Value of\"\u001b[0m\u001b[0;34m,\u001b[0m \u001b[0mround\u001b[0m\u001b[0;34m(\u001b[0m\u001b[0mcv\u001b[0m\u001b[0;34m,\u001b[0m \u001b[0;36m4\u001b[0m\u001b[0;34m)\u001b[0m\u001b[0;34m)\u001b[0m\u001b[0;34m\u001b[0m\u001b[0m\n",
      "\u001b[0;31mNameError\u001b[0m: name 'x' is not defined"
     ]
    }
   ],
   "source": [
    "# Print the coherence scores\n",
    "for m, cv in zip(x, coherence_values):\n",
    "    print(\"Num Topics =\", m, \" has Coherence Value of\", round(cv, 4))"
   ]
  },
  {
   "cell_type": "code",
   "execution_count": 95,
   "metadata": {},
   "outputs": [
    {
     "data": {
      "text/plain": [
       "[(0, 0.016666684),\n",
       " (1, 0.016666694),\n",
       " (2, 0.016666694),\n",
       " (3, 0.016666736),\n",
       " (4, 0.5166665),\n",
       " (5, 0.016666668),\n",
       " (6, 0.26666668),\n",
       " (7, 0.016666673),\n",
       " (8, 0.016666668),\n",
       " (9, 0.01666668),\n",
       " (10, 0.016666675),\n",
       " (11, 0.016666682),\n",
       " (12, 0.016666668),\n",
       " (13, 0.016666668),\n",
       " (14, 0.016666668)]"
      ]
     },
     "execution_count": 95,
     "metadata": {},
     "output_type": "execute_result"
    }
   ],
   "source": [
    "lda[id2word.doc2bow(tokenize(\"This is a sample document to score with a topic distribution.\"))]"
   ]
  },
  {
   "cell_type": "markdown",
   "metadata": {},
   "source": [
    "## Challenge\n",
    "### *Can we see if one of the authors focus more on men than women?*\n",
    "\n",
    "*  Use Spacy for text prepocessing\n",
    "*  Extract the Named Entities from the documents using Spacy (command is fairly straight forward)\n",
    "*  Create unique list of names from the authors (you'll find that there are different types of named entities not all people)\n",
    "*  Label the names with genders (can you this by hand or you use the US census name lists)\n",
    "*  Customize your processing to replace the proper name with your gender from the previous step's lookup table\n",
    "*  Then follow the rest of the LDA flow"
   ]
  },
  {
   "cell_type": "code",
   "execution_count": 78,
   "metadata": {},
   "outputs": [
    {
     "name": "stderr",
     "output_type": "stream",
     "text": [
      "/Users/jonathansokoll/anaconda3/envs/U4-S1-NLP/lib/python3.7/site-packages/thinc/neural/train.py:7: DeprecationWarning: Using or importing the ABCs from 'collections' instead of from 'collections.abc' is deprecated, and in 3.8 it will stop working\n",
      "  from .optimizers import Adam, linear_decay\n",
      "/Users/jonathansokoll/anaconda3/envs/U4-S1-NLP/lib/python3.7/site-packages/thinc/check.py:4: DeprecationWarning: Using or importing the ABCs from 'collections' instead of from 'collections.abc' is deprecated, and in 3.8 it will stop working\n",
      "  from collections import Sequence, Sized, Iterable, Callable\n",
      "/Users/jonathansokoll/anaconda3/envs/U4-S1-NLP/lib/python3.7/site-packages/thinc/check.py:4: DeprecationWarning: Using or importing the ABCs from 'collections' instead of from 'collections.abc' is deprecated, and in 3.8 it will stop working\n",
      "  from collections import Sequence, Sized, Iterable, Callable\n"
     ]
    }
   ],
   "source": [
    "import spacy\n",
    "\n",
    "nlp = spacy.load('en_core_web_lg')"
   ]
  },
  {
   "cell_type": "code",
   "execution_count": 79,
   "metadata": {},
   "outputs": [],
   "source": [
    "test = \"Ned asked me a question about England today.\""
   ]
  },
  {
   "cell_type": "code",
   "execution_count": 80,
   "metadata": {},
   "outputs": [
    {
     "name": "stdout",
     "output_type": "stream",
     "text": [
      "Ned Ned PROPN\n",
      "asked ask VERB\n",
      "me -PRON- PRON\n",
      "a a DET\n",
      "question question NOUN\n",
      "about about ADP\n",
      "England England PROPN\n",
      "today today NOUN\n",
      ". . PUNCT\n"
     ]
    }
   ],
   "source": [
    "doc = nlp(test)\n",
    "\n",
    "for token in doc:\n",
    "    print(token.text, token.lemma_, token.pos_)"
   ]
  },
  {
   "cell_type": "code",
   "execution_count": 81,
   "metadata": {},
   "outputs": [
    {
     "name": "stdout",
     "output_type": "stream",
     "text": [
      "Ned PERSON\n",
      "England GPE\n",
      "today DATE\n"
     ]
    }
   ],
   "source": [
    "for ent in doc.ents:\n",
    "    print(ent.text, ent.label_)"
   ]
  },
  {
   "cell_type": "code",
   "execution_count": 82,
   "metadata": {},
   "outputs": [],
   "source": [
    "def doc_stream(path):\n",
    "    for f in os.listdir(path):\n",
    "        with open(os.path.join(path,f)) as t:\n",
    "            text = t.read().strip('\\n')\n",
    "            yield text\n",
    "\n",
    "def get_people(docstream):\n",
    "    \n",
    "    ppl = []\n",
    "    \n",
    "    for d in docstream:\n",
    "        \n",
    "        doc = nlp(d)\n",
    "        \n",
    "        for ent in doc.ents:\n",
    "            \n",
    "            if ent.label_ == \"PERSON\":\n",
    "                ppl.append(ent.lemma_)\n",
    "                \n",
    "    return set(ppl)"
   ]
  },
  {
   "cell_type": "code",
   "execution_count": 129,
   "metadata": {},
   "outputs": [],
   "source": [
    "people = get_people(doc_stream(path))"
   ]
  },
  {
   "cell_type": "code",
   "execution_count": 126,
   "metadata": {},
   "outputs": [],
   "source": [
    "doc = nlp(next(doc_stream(path)))"
   ]
  },
  {
   "cell_type": "code",
   "execution_count": 128,
   "metadata": {},
   "outputs": [
    {
     "data": {
      "text/plain": [
       "'yesterday'"
      ]
     },
     "execution_count": 128,
     "metadata": {},
     "output_type": "execute_result"
    }
   ],
   "source": [
    "doc.ents[0].lemma_"
   ]
  },
  {
   "cell_type": "markdown",
   "metadata": {},
   "source": [
    "# Sources\n",
    "\n",
    "### *References*\n",
    "* [Andrew Ng et al paper on LDA](https://ai.stanford.edu/~ang/papers/jair03-lda.pdf)\n",
    "* On [Coherence](https://pdfs.semanticscholar.org/1521/8d9c029cbb903ae7c729b2c644c24994c201.pdf)\n",
    "\n",
    "### *Resources*\n",
    "\n",
    "* [Gensim](https://radimrehurek.com/gensim/): Python package for topic modeling, nlp, word vectorization, and few other things. Well maintained and well documented.\n",
    "* [Topic Modeling with Gensim](http://www.machinelearningplus.com/nlp/topic-modeling-gensim-python/#11createthedictionaryandcorpusneededfortopicmodeling): A kind of cookbook for LDA with gensim. Excellent overview, but the you need to be aware of missing import statements and assumed prior knowledge.\n",
    "* [Chinese Restuarant Process](https://en.wikipedia.org/wiki/Chinese_restaurant_process): That really obscure stats thing I mentioned... \n",
    "* [PyLDAvis](https://github.com/bmabey/pyLDAvis): Library for visualizing the topic model and performing some exploratory work. Works well. Has a direct parrell implementation in R as well. \n",
    "* [Rare Technologies](https://rare-technologies.com/): The people that made & maintain gensim and a few other libraries.\n",
    "* [Jane Austen v. Charlotte Bronte](https://www.literaryladiesguide.com/literary-musings/jane-austen-charlotte-bronte-different-alike/)"
   ]
  }
 ],
 "metadata": {
  "kernelspec": {
   "display_name": "U4S1 NLP",
   "language": "python",
   "name": "u4s1"
  },
  "language_info": {
   "codemirror_mode": {
    "name": "ipython",
    "version": 3
   },
   "file_extension": ".py",
   "mimetype": "text/x-python",
   "name": "python",
   "nbconvert_exporter": "python",
   "pygments_lexer": "ipython3",
   "version": "3.7.0"
  }
 },
 "nbformat": 4,
 "nbformat_minor": 4
}
