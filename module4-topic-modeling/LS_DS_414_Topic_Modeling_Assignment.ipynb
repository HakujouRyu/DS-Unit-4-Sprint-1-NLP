{
 "cells": [
  {
   "cell_type": "markdown",
   "metadata": {},
   "source": [
    "<img align=\"left\" src=\"https://lever-client-logos.s3.amazonaws.com/864372b1-534c-480e-acd5-9711f850815c-1524247202159.png\" width=200>\n",
    "<br></br>\n",
    "<br></br>\n",
    "\n",
    "# Topic Modeling\n",
    "## *Data Science Unit 4 Sprint 1 Assignment 4*\n",
    "\n",
    "Analyze a corpus of Amazon reviews from Unit 4 Sprint 1 Module 1's lecture using topic modeling: \n",
    "\n",
    "- Fit a Gensim LDA topic model on Amazon Reviews\n",
    "- Select appropriate number of topics\n",
    "- Create some dope visualization of the topics\n",
    "- Write a few bullets on your findings in markdown at the end\n",
    "- **Note**: You don't *have* to use generators for this assignment"
   ]
  },
  {
   "cell_type": "markdown",
   "metadata": {},
   "source": [
    "### import and create df"
   ]
  },
  {
   "cell_type": "code",
   "execution_count": 2,
   "metadata": {},
   "outputs": [],
   "source": [
    "path = \"./data/Datafiniti_Amazon_Consumer_Reviews_of_Amazon_Products_May19.csv\""
   ]
  },
  {
   "cell_type": "code",
   "execution_count": 3,
   "metadata": {},
   "outputs": [],
   "source": [
    "import numpy as np\n",
    "import gensim\n",
    "import os\n",
    "import re\n",
    "\n",
    "from gensim.utils import simple_preprocess\n",
    "from gensim.utils import lemmatize\n",
    "from gensim.parsing.preprocessing import STOPWORDS\n",
    "from gensim import corpora\n",
    "\n",
    "from gensim.models.ldamulticore import LdaMulticore\n",
    "from spacy.lang.en import English\n",
    "import pandas as pd"
   ]
  },
  {
   "cell_type": "code",
   "execution_count": 43,
   "metadata": {},
   "outputs": [],
   "source": [
    "import pyLDAvis.gensim\n",
    "\n",
    "pyLDAvis.enable_notebook()"
   ]
  },
  {
   "cell_type": "code",
   "execution_count": 38,
   "metadata": {},
   "outputs": [],
   "source": [
    "import warnings\n",
    "warnings.filterwarnings('ignore')\n",
    "#To silence sum(generator)"
   ]
  },
  {
   "cell_type": "code",
   "execution_count": 4,
   "metadata": {},
   "outputs": [],
   "source": [
    "df = pd.read_csv(path)"
   ]
  },
  {
   "cell_type": "markdown",
   "metadata": {},
   "source": [
    "### explore"
   ]
  },
  {
   "cell_type": "code",
   "execution_count": 5,
   "metadata": {},
   "outputs": [],
   "source": [
    "df['brand'] = df['brand'].apply(str.lower)"
   ]
  },
  {
   "cell_type": "code",
   "execution_count": 6,
   "metadata": {},
   "outputs": [
    {
     "data": {
      "text/plain": [
       "amazon          16153\n",
       "amazonbasics    12179\n",
       "Name: brand, dtype: int64"
      ]
     },
     "execution_count": 6,
     "metadata": {},
     "output_type": "execute_result"
    }
   ],
   "source": [
    "df['brand'].value_counts()"
   ]
  },
  {
   "cell_type": "code",
   "execution_count": 7,
   "metadata": {},
   "outputs": [
    {
     "data": {
      "text/html": [
       "<div>\n",
       "<style scoped>\n",
       "    .dataframe tbody tr th:only-of-type {\n",
       "        vertical-align: middle;\n",
       "    }\n",
       "\n",
       "    .dataframe tbody tr th {\n",
       "        vertical-align: top;\n",
       "    }\n",
       "\n",
       "    .dataframe thead th {\n",
       "        text-align: right;\n",
       "    }\n",
       "</style>\n",
       "<table border=\"1\" class=\"dataframe\">\n",
       "  <thead>\n",
       "    <tr style=\"text-align: right;\">\n",
       "      <th></th>\n",
       "      <th>id</th>\n",
       "      <th>dateAdded</th>\n",
       "      <th>dateUpdated</th>\n",
       "      <th>name</th>\n",
       "      <th>asins</th>\n",
       "      <th>brand</th>\n",
       "      <th>categories</th>\n",
       "      <th>primaryCategories</th>\n",
       "      <th>imageURLs</th>\n",
       "      <th>keys</th>\n",
       "      <th>...</th>\n",
       "      <th>reviews.didPurchase</th>\n",
       "      <th>reviews.doRecommend</th>\n",
       "      <th>reviews.id</th>\n",
       "      <th>reviews.numHelpful</th>\n",
       "      <th>reviews.rating</th>\n",
       "      <th>reviews.sourceURLs</th>\n",
       "      <th>reviews.text</th>\n",
       "      <th>reviews.title</th>\n",
       "      <th>reviews.username</th>\n",
       "      <th>sourceURLs</th>\n",
       "    </tr>\n",
       "  </thead>\n",
       "  <tbody>\n",
       "    <tr>\n",
       "      <th>0</th>\n",
       "      <td>AVpgNzjwLJeJML43Kpxn</td>\n",
       "      <td>2015-10-30T08:59:32Z</td>\n",
       "      <td>2019-04-25T09:08:16Z</td>\n",
       "      <td>AmazonBasics AAA Performance Alkaline Batterie...</td>\n",
       "      <td>B00QWO9P0O,B00LH3DMUO</td>\n",
       "      <td>amazonbasics</td>\n",
       "      <td>AA,AAA,Health,Electronics,Health &amp; Household,C...</td>\n",
       "      <td>Health &amp; Beauty</td>\n",
       "      <td>https://images-na.ssl-images-amazon.com/images...</td>\n",
       "      <td>amazonbasics/hl002619,amazonbasicsaaaperforman...</td>\n",
       "      <td>...</td>\n",
       "      <td>NaN</td>\n",
       "      <td>NaN</td>\n",
       "      <td>NaN</td>\n",
       "      <td>NaN</td>\n",
       "      <td>3</td>\n",
       "      <td>https://www.amazon.com/product-reviews/B00QWO9...</td>\n",
       "      <td>I order 3 of them and one of the item is bad q...</td>\n",
       "      <td>... 3 of them and one of the item is bad quali...</td>\n",
       "      <td>Byger yang</td>\n",
       "      <td>https://www.barcodable.com/upc/841710106442,ht...</td>\n",
       "    </tr>\n",
       "  </tbody>\n",
       "</table>\n",
       "<p>1 rows × 24 columns</p>\n",
       "</div>"
      ],
      "text/plain": [
       "                     id             dateAdded           dateUpdated  \\\n",
       "0  AVpgNzjwLJeJML43Kpxn  2015-10-30T08:59:32Z  2019-04-25T09:08:16Z   \n",
       "\n",
       "                                                name                  asins  \\\n",
       "0  AmazonBasics AAA Performance Alkaline Batterie...  B00QWO9P0O,B00LH3DMUO   \n",
       "\n",
       "          brand                                         categories  \\\n",
       "0  amazonbasics  AA,AAA,Health,Electronics,Health & Household,C...   \n",
       "\n",
       "  primaryCategories                                          imageURLs  \\\n",
       "0   Health & Beauty  https://images-na.ssl-images-amazon.com/images...   \n",
       "\n",
       "                                                keys  ... reviews.didPurchase  \\\n",
       "0  amazonbasics/hl002619,amazonbasicsaaaperforman...  ...                 NaN   \n",
       "\n",
       "  reviews.doRecommend reviews.id reviews.numHelpful reviews.rating  \\\n",
       "0                 NaN        NaN                NaN              3   \n",
       "\n",
       "                                  reviews.sourceURLs  \\\n",
       "0  https://www.amazon.com/product-reviews/B00QWO9...   \n",
       "\n",
       "                                        reviews.text  \\\n",
       "0  I order 3 of them and one of the item is bad q...   \n",
       "\n",
       "                                       reviews.title  reviews.username  \\\n",
       "0  ... 3 of them and one of the item is bad quali...        Byger yang   \n",
       "\n",
       "                                          sourceURLs  \n",
       "0  https://www.barcodable.com/upc/841710106442,ht...  \n",
       "\n",
       "[1 rows x 24 columns]"
      ]
     },
     "execution_count": 7,
     "metadata": {},
     "output_type": "execute_result"
    }
   ],
   "source": [
    "df.head(1)"
   ]
  },
  {
   "cell_type": "code",
   "execution_count": 8,
   "metadata": {},
   "outputs": [
    {
     "data": {
      "text/plain": [
       "Index(['id', 'dateAdded', 'dateUpdated', 'name', 'asins', 'brand',\n",
       "       'categories', 'primaryCategories', 'imageURLs', 'keys', 'manufacturer',\n",
       "       'manufacturerNumber', 'reviews.date', 'reviews.dateSeen',\n",
       "       'reviews.didPurchase', 'reviews.doRecommend', 'reviews.id',\n",
       "       'reviews.numHelpful', 'reviews.rating', 'reviews.sourceURLs',\n",
       "       'reviews.text', 'reviews.title', 'reviews.username', 'sourceURLs'],\n",
       "      dtype='object')"
      ]
     },
     "execution_count": 8,
     "metadata": {},
     "output_type": "execute_result"
    }
   ],
   "source": [
    "df.columns"
   ]
  },
  {
   "cell_type": "markdown",
   "metadata": {},
   "source": [
    "### Tokenize"
   ]
  },
  {
   "cell_type": "code",
   "execution_count": 9,
   "metadata": {},
   "outputs": [],
   "source": [
    "def tokenize(text):\n",
    "    return [token for token in simple_preprocess(text) if token not in STOPWORDS]"
   ]
  },
  {
   "cell_type": "code",
   "execution_count": 10,
   "metadata": {},
   "outputs": [],
   "source": [
    "df['tokens'] = df['reviews.text'].apply(tokenize)"
   ]
  },
  {
   "cell_type": "code",
   "execution_count": 11,
   "metadata": {},
   "outputs": [
    {
     "data": {
      "text/plain": [
       "'I order 3 of them and one of the item is bad quality. Is missing backup spring so I have to put a pcs of aluminum to make the battery work.'"
      ]
     },
     "execution_count": 11,
     "metadata": {},
     "output_type": "execute_result"
    }
   ],
   "source": [
    "df['reviews.text'][0]"
   ]
  },
  {
   "cell_type": "code",
   "execution_count": 12,
   "metadata": {},
   "outputs": [
    {
     "data": {
      "text/plain": [
       "['order',\n",
       " 'item',\n",
       " 'bad',\n",
       " 'quality',\n",
       " 'missing',\n",
       " 'backup',\n",
       " 'spring',\n",
       " 'pcs',\n",
       " 'aluminum',\n",
       " 'battery',\n",
       " 'work']"
      ]
     },
     "execution_count": 12,
     "metadata": {},
     "output_type": "execute_result"
    }
   ],
   "source": [
    "df['tokens'][0]"
   ]
  },
  {
   "cell_type": "markdown",
   "metadata": {},
   "source": [
    "### Create Dictionary"
   ]
  },
  {
   "cell_type": "code",
   "execution_count": 15,
   "metadata": {},
   "outputs": [],
   "source": [
    "id2word = corpora.Dictionary(df['tokens'])"
   ]
  },
  {
   "cell_type": "code",
   "execution_count": 17,
   "metadata": {},
   "outputs": [
    {
     "data": {
      "text/plain": [
       "9622"
      ]
     },
     "execution_count": 17,
     "metadata": {},
     "output_type": "execute_result"
    }
   ],
   "source": [
    "len(id2word.keys())"
   ]
  },
  {
   "cell_type": "code",
   "execution_count": 18,
   "metadata": {},
   "outputs": [],
   "source": [
    "id2word.filter_extremes(no_below=5, no_above=0.85)"
   ]
  },
  {
   "cell_type": "code",
   "execution_count": 19,
   "metadata": {},
   "outputs": [
    {
     "data": {
      "text/plain": [
       "3582"
      ]
     },
     "execution_count": 19,
     "metadata": {},
     "output_type": "execute_result"
    }
   ],
   "source": [
    "len(id2word.keys())"
   ]
  },
  {
   "cell_type": "markdown",
   "metadata": {},
   "source": [
    "### Create corpus"
   ]
  },
  {
   "cell_type": "code",
   "execution_count": 20,
   "metadata": {},
   "outputs": [],
   "source": [
    "corpus = [id2word.doc2bow(text) for text in df['tokens']]"
   ]
  },
  {
   "cell_type": "code",
   "execution_count": 24,
   "metadata": {},
   "outputs": [
    {
     "data": {
      "text/plain": [
       "28332"
      ]
     },
     "execution_count": 24,
     "metadata": {},
     "output_type": "execute_result"
    }
   ],
   "source": [
    "len(corpus) #Check length"
   ]
  },
  {
   "cell_type": "code",
   "execution_count": 25,
   "metadata": {},
   "outputs": [
    {
     "data": {
      "text/plain": [
       "(28332, 25)"
      ]
     },
     "execution_count": 25,
     "metadata": {},
     "output_type": "execute_result"
    }
   ],
   "source": [
    "df.shape  #Correct length"
   ]
  },
  {
   "cell_type": "markdown",
   "metadata": {},
   "source": [
    "### Fit LDA"
   ]
  },
  {
   "cell_type": "code",
   "execution_count": 39,
   "metadata": {},
   "outputs": [],
   "source": [
    "lda = LdaMulticore(corpus=corpus,\n",
    "                   id2word=id2word,\n",
    "                   random_state=723812,\n",
    "                   num_topics = 8,\n",
    "                   passes=10,\n",
    "                   workers=4\n",
    "                  )"
   ]
  },
  {
   "cell_type": "code",
   "execution_count": 40,
   "metadata": {},
   "outputs": [],
   "source": [
    "words = [re.findall(r'\"([^\"]*)\"',t[1]) for t in lda.print_topics()]"
   ]
  },
  {
   "cell_type": "code",
   "execution_count": 41,
   "metadata": {},
   "outputs": [],
   "source": [
    "topics = [' '.join(t[0:5]) for t in words]"
   ]
  },
  {
   "cell_type": "code",
   "execution_count": 42,
   "metadata": {},
   "outputs": [
    {
     "name": "stdout",
     "output_type": "stream",
     "text": [
      "-----Topic 0 -----\n",
      "great tablet easy use recommend\n",
      "\n",
      "-----Topic 1 -----\n",
      "tablet use apps amazon games\n",
      "\n",
      "-----Topic 2 -----\n",
      "kindle love read screen books\n",
      "\n",
      "-----Topic 3 -----\n",
      "good great price product batteries\n",
      "\n",
      "-----Topic 4 -----\n",
      "amazon device tablet price better\n",
      "\n",
      "-----Topic 5 -----\n",
      "loves old year tablet bought\n",
      "\n",
      "-----Topic 6 -----\n",
      "batteries long work amazon battery\n",
      "\n",
      "-----Topic 7 -----\n",
      "gift bought christmas best buy\n",
      "\n"
     ]
    }
   ],
   "source": [
    "for id, t in enumerate(topics): \n",
    "    print(f'-----Topic {id} -----')\n",
    "    print(f\"{t}\\n\")"
   ]
  },
  {
   "cell_type": "markdown",
   "metadata": {},
   "source": [
    "### Check coherence"
   ]
  },
  {
   "cell_type": "code",
   "execution_count": 48,
   "metadata": {},
   "outputs": [],
   "source": [
    "from gensim.models.coherencemodel import CoherenceModel"
   ]
  },
  {
   "cell_type": "code",
   "execution_count": 54,
   "metadata": {},
   "outputs": [],
   "source": [
    "cm = CoherenceModel(model=lda, corpus=corpus, coherence='u_mass')"
   ]
  },
  {
   "cell_type": "code",
   "execution_count": 55,
   "metadata": {},
   "outputs": [],
   "source": [
    "coherence = cm.get_coherence()  # get coherence value"
   ]
  },
  {
   "cell_type": "code",
   "execution_count": 56,
   "metadata": {},
   "outputs": [
    {
     "data": {
      "text/plain": [
       "-2.953735019317448"
      ]
     },
     "execution_count": 56,
     "metadata": {},
     "output_type": "execute_result"
    }
   ],
   "source": [
    "coherence"
   ]
  },
  {
   "cell_type": "markdown",
   "metadata": {},
   "source": [
    "#### Refit function from lecture"
   ]
  },
  {
   "cell_type": "code",
   "execution_count": 57,
   "metadata": {},
   "outputs": [],
   "source": [
    "def compute_coherence_values(dictionary, corpus, limit, start=2, step=3, passes=5):\n",
    "    \"\"\"\n",
    "    Compute c_v coherence for various number of topics\n",
    "\n",
    "    Parameters:\n",
    "    ----------\n",
    "    dictionary : Gensim dictionary\n",
    "    corpus : Gensim corpus\n",
    "    path : path to input texts\n",
    "    limit : Max num of topics\n",
    "    passes: the number of times the entire lda model & coherence values are calculated\n",
    "\n",
    "    Returns:\n",
    "    -------\n",
    "    coherence_values : Coherence values corresponding to the LDA model with respective number of topics\n",
    "    \"\"\"\n",
    "    \n",
    "    coherence_values = []\n",
    "    \n",
    "    for iter_ in range(passes):\n",
    "        for num_topics in range(start, limit, step):\n",
    "            model = LdaMulticore(corpus=corpus, num_topics=num_topics, id2word=dictionary, workers=4)\n",
    "            coherencemodel = CoherenceModel(model=model,dictionary=dictionary,corpus=corpus, coherence='u_mass')\n",
    "            coherence_values.append({'pass': iter_, \n",
    "                                     'num_topics': num_topics, \n",
    "                                     'coherence_score': coherencemodel.get_coherence()\n",
    "                                    })\n",
    "\n",
    "    return coherence_values"
   ]
  },
  {
   "cell_type": "code",
   "execution_count": 59,
   "metadata": {},
   "outputs": [],
   "source": [
    "coherence_values = compute_coherence_values(dictionary=id2word, \n",
    "                                                        corpus=corpus, \n",
    "                                                        start=2, \n",
    "                                                        limit=20, \n",
    "                                                        step=5,\n",
    "                                                        passes=10)"
   ]
  },
  {
   "cell_type": "code",
   "execution_count": 60,
   "metadata": {},
   "outputs": [],
   "source": [
    "topic_coherence = pd.DataFrame.from_records(coherence_values)"
   ]
  },
  {
   "cell_type": "code",
   "execution_count": 61,
   "metadata": {},
   "outputs": [
    {
     "data": {
      "text/html": [
       "<div>\n",
       "<style scoped>\n",
       "    .dataframe tbody tr th:only-of-type {\n",
       "        vertical-align: middle;\n",
       "    }\n",
       "\n",
       "    .dataframe tbody tr th {\n",
       "        vertical-align: top;\n",
       "    }\n",
       "\n",
       "    .dataframe thead th {\n",
       "        text-align: right;\n",
       "    }\n",
       "</style>\n",
       "<table border=\"1\" class=\"dataframe\">\n",
       "  <thead>\n",
       "    <tr style=\"text-align: right;\">\n",
       "      <th></th>\n",
       "      <th>coherence_score</th>\n",
       "      <th>num_topics</th>\n",
       "      <th>pass</th>\n",
       "    </tr>\n",
       "  </thead>\n",
       "  <tbody>\n",
       "    <tr>\n",
       "      <th>0</th>\n",
       "      <td>-2.591045</td>\n",
       "      <td>2</td>\n",
       "      <td>0</td>\n",
       "    </tr>\n",
       "    <tr>\n",
       "      <th>1</th>\n",
       "      <td>-2.610810</td>\n",
       "      <td>7</td>\n",
       "      <td>0</td>\n",
       "    </tr>\n",
       "    <tr>\n",
       "      <th>2</th>\n",
       "      <td>-2.750213</td>\n",
       "      <td>12</td>\n",
       "      <td>0</td>\n",
       "    </tr>\n",
       "    <tr>\n",
       "      <th>3</th>\n",
       "      <td>-2.732078</td>\n",
       "      <td>17</td>\n",
       "      <td>0</td>\n",
       "    </tr>\n",
       "    <tr>\n",
       "      <th>4</th>\n",
       "      <td>-2.591361</td>\n",
       "      <td>2</td>\n",
       "      <td>1</td>\n",
       "    </tr>\n",
       "  </tbody>\n",
       "</table>\n",
       "</div>"
      ],
      "text/plain": [
       "   coherence_score  num_topics  pass\n",
       "0        -2.591045           2     0\n",
       "1        -2.610810           7     0\n",
       "2        -2.750213          12     0\n",
       "3        -2.732078          17     0\n",
       "4        -2.591361           2     1"
      ]
     },
     "execution_count": 61,
     "metadata": {},
     "output_type": "execute_result"
    }
   ],
   "source": [
    "topic_coherence.head()"
   ]
  },
  {
   "cell_type": "code",
   "execution_count": null,
   "metadata": {},
   "outputs": [],
   "source": []
  },
  {
   "cell_type": "markdown",
   "metadata": {},
   "source": [
    "### Visuals"
   ]
  },
  {
   "cell_type": "code",
   "execution_count": 45,
   "metadata": {},
   "outputs": [
    {
     "data": {
      "text/html": [
       "\n",
       "<link rel=\"stylesheet\" type=\"text/css\" href=\"https://cdn.rawgit.com/bmabey/pyLDAvis/files/ldavis.v1.0.0.css\">\n",
       "\n",
       "\n",
       "<div id=\"ldavis_el68591401248597932248611333105\"></div>\n",
       "<script type=\"text/javascript\">\n",
       "\n",
       "var ldavis_el68591401248597932248611333105_data = {\"mdsDat\": {\"x\": [0.1904177746444743, -0.12211682556898218, -0.18625286593183266, -0.08934806735357091, 0.2954927755684602, 0.013933050040945015, -0.052644104984067276, -0.049481736415426664], \"y\": [-0.11181785692054398, 0.08094723525551492, 0.03954617410999361, -0.030353581603836024, 0.11451624570581963, -0.03196070004695914, 0.18184382098852878, -0.242721337488518], \"topics\": [1, 2, 3, 4, 5, 6, 7, 8], \"cluster\": [1, 1, 1, 1, 1, 1, 1, 1], \"Freq\": [22.2340087890625, 14.922306060791016, 14.249552726745605, 12.138127326965332, 10.419210433959961, 9.57748031616211, 9.210543632507324, 7.248768329620361]}, \"tinfo\": {\"Category\": [\"Default\", \"Default\", \"Default\", \"Default\", \"Default\", \"Default\", \"Default\", \"Default\", \"Default\", \"Default\", \"Default\", \"Default\", \"Default\", \"Default\", \"Default\", \"Default\", \"Default\", \"Default\", \"Default\", \"Default\", \"Default\", \"Default\", \"Default\", \"Default\", \"Default\", \"Default\", \"Default\", \"Default\", \"Default\", \"Default\", \"Topic1\", \"Topic1\", \"Topic1\", \"Topic1\", \"Topic1\", \"Topic1\", \"Topic1\", \"Topic1\", \"Topic1\", \"Topic1\", \"Topic1\", \"Topic1\", \"Topic1\", \"Topic1\", \"Topic1\", \"Topic1\", \"Topic1\", \"Topic1\", \"Topic1\", \"Topic1\", \"Topic1\", \"Topic1\", \"Topic1\", \"Topic1\", \"Topic1\", \"Topic1\", \"Topic1\", \"Topic1\", \"Topic1\", \"Topic1\", \"Topic1\", \"Topic1\", \"Topic1\", \"Topic1\", \"Topic1\", \"Topic1\", \"Topic1\", \"Topic1\", \"Topic1\", \"Topic1\", \"Topic1\", \"Topic1\", \"Topic1\", \"Topic1\", \"Topic1\", \"Topic1\", \"Topic1\", \"Topic1\", \"Topic1\", \"Topic1\", \"Topic1\", \"Topic1\", \"Topic1\", \"Topic1\", \"Topic1\", \"Topic1\", \"Topic1\", \"Topic1\", \"Topic1\", \"Topic1\", \"Topic1\", \"Topic1\", \"Topic1\", \"Topic1\", \"Topic1\", \"Topic1\", \"Topic1\", \"Topic1\", \"Topic2\", \"Topic2\", \"Topic2\", \"Topic2\", \"Topic2\", \"Topic2\", \"Topic2\", \"Topic2\", \"Topic2\", \"Topic2\", \"Topic2\", \"Topic2\", \"Topic2\", \"Topic2\", \"Topic2\", \"Topic2\", \"Topic2\", \"Topic2\", \"Topic2\", \"Topic2\", \"Topic2\", \"Topic2\", \"Topic2\", \"Topic2\", \"Topic2\", \"Topic2\", \"Topic2\", \"Topic2\", \"Topic2\", \"Topic2\", \"Topic2\", \"Topic2\", \"Topic2\", \"Topic2\", \"Topic2\", \"Topic2\", \"Topic2\", \"Topic2\", \"Topic2\", \"Topic2\", \"Topic2\", \"Topic2\", \"Topic2\", \"Topic2\", \"Topic2\", \"Topic2\", \"Topic2\", \"Topic2\", \"Topic2\", \"Topic2\", \"Topic2\", \"Topic2\", \"Topic2\", \"Topic2\", \"Topic2\", \"Topic2\", \"Topic2\", \"Topic2\", \"Topic2\", \"Topic2\", \"Topic2\", \"Topic2\", \"Topic2\", \"Topic2\", \"Topic2\", \"Topic2\", \"Topic2\", \"Topic2\", \"Topic2\", \"Topic3\", \"Topic3\", \"Topic3\", \"Topic3\", \"Topic3\", \"Topic3\", \"Topic3\", \"Topic3\", \"Topic3\", \"Topic3\", \"Topic3\", \"Topic3\", \"Topic3\", \"Topic3\", \"Topic3\", \"Topic3\", \"Topic3\", \"Topic3\", \"Topic3\", \"Topic3\", \"Topic3\", \"Topic3\", \"Topic3\", \"Topic3\", \"Topic3\", \"Topic3\", \"Topic3\", \"Topic3\", \"Topic3\", \"Topic3\", \"Topic3\", \"Topic3\", \"Topic3\", \"Topic3\", \"Topic3\", \"Topic3\", \"Topic3\", \"Topic3\", \"Topic3\", \"Topic3\", \"Topic3\", \"Topic3\", \"Topic3\", \"Topic3\", \"Topic3\", \"Topic3\", \"Topic3\", \"Topic3\", \"Topic3\", \"Topic3\", \"Topic3\", \"Topic3\", \"Topic3\", \"Topic3\", \"Topic3\", \"Topic3\", \"Topic3\", \"Topic3\", \"Topic3\", \"Topic3\", \"Topic3\", \"Topic3\", \"Topic3\", \"Topic3\", \"Topic3\", \"Topic3\", \"Topic3\", \"Topic4\", \"Topic4\", \"Topic4\", \"Topic4\", \"Topic4\", \"Topic4\", \"Topic4\", \"Topic4\", \"Topic4\", \"Topic4\", \"Topic4\", \"Topic4\", \"Topic4\", \"Topic4\", \"Topic4\", \"Topic4\", \"Topic4\", \"Topic4\", \"Topic4\", \"Topic4\", \"Topic4\", \"Topic4\", \"Topic4\", \"Topic4\", \"Topic4\", \"Topic4\", \"Topic4\", \"Topic4\", \"Topic4\", \"Topic4\", \"Topic4\", \"Topic4\", \"Topic4\", \"Topic4\", \"Topic4\", \"Topic4\", \"Topic4\", \"Topic4\", \"Topic4\", \"Topic4\", \"Topic4\", \"Topic4\", \"Topic4\", \"Topic4\", \"Topic4\", \"Topic4\", \"Topic4\", \"Topic4\", \"Topic4\", \"Topic4\", \"Topic4\", \"Topic4\", \"Topic4\", \"Topic4\", \"Topic4\", \"Topic4\", \"Topic4\", \"Topic4\", \"Topic4\", \"Topic4\", \"Topic4\", \"Topic4\", \"Topic4\", \"Topic4\", \"Topic4\", \"Topic4\", \"Topic4\", \"Topic4\", \"Topic4\", \"Topic4\", \"Topic4\", \"Topic4\", \"Topic4\", \"Topic5\", \"Topic5\", \"Topic5\", \"Topic5\", \"Topic5\", \"Topic5\", \"Topic5\", \"Topic5\", \"Topic5\", \"Topic5\", \"Topic5\", \"Topic5\", \"Topic5\", \"Topic5\", \"Topic5\", \"Topic5\", \"Topic5\", \"Topic5\", \"Topic5\", \"Topic5\", \"Topic5\", \"Topic5\", \"Topic5\", \"Topic5\", \"Topic5\", \"Topic5\", \"Topic5\", \"Topic5\", \"Topic5\", \"Topic5\", \"Topic5\", \"Topic5\", \"Topic5\", \"Topic5\", \"Topic5\", \"Topic5\", \"Topic5\", \"Topic5\", \"Topic5\", \"Topic5\", \"Topic5\", \"Topic5\", \"Topic5\", \"Topic5\", \"Topic5\", \"Topic5\", \"Topic5\", \"Topic5\", \"Topic5\", \"Topic5\", \"Topic5\", \"Topic5\", \"Topic5\", \"Topic5\", \"Topic5\", \"Topic5\", \"Topic5\", \"Topic5\", \"Topic5\", \"Topic5\", \"Topic5\", \"Topic5\", \"Topic5\", \"Topic5\", \"Topic5\", \"Topic5\", \"Topic5\", \"Topic5\", \"Topic5\", \"Topic5\", \"Topic5\", \"Topic5\", \"Topic6\", \"Topic6\", \"Topic6\", \"Topic6\", \"Topic6\", \"Topic6\", \"Topic6\", \"Topic6\", \"Topic6\", \"Topic6\", \"Topic6\", \"Topic6\", \"Topic6\", \"Topic6\", \"Topic6\", \"Topic6\", \"Topic6\", \"Topic6\", \"Topic6\", \"Topic6\", \"Topic6\", \"Topic6\", \"Topic6\", \"Topic6\", \"Topic6\", \"Topic6\", \"Topic6\", \"Topic6\", \"Topic6\", \"Topic6\", \"Topic6\", \"Topic6\", \"Topic6\", \"Topic6\", \"Topic6\", \"Topic6\", \"Topic6\", \"Topic6\", \"Topic6\", \"Topic6\", \"Topic6\", \"Topic6\", \"Topic6\", \"Topic6\", \"Topic6\", \"Topic6\", \"Topic6\", \"Topic6\", \"Topic6\", \"Topic6\", \"Topic6\", \"Topic6\", \"Topic6\", \"Topic6\", \"Topic6\", \"Topic6\", \"Topic6\", \"Topic6\", \"Topic6\", \"Topic6\", \"Topic6\", \"Topic6\", \"Topic6\", \"Topic6\", \"Topic6\", \"Topic6\", \"Topic6\", \"Topic6\", \"Topic6\", \"Topic6\", \"Topic6\", \"Topic6\", \"Topic6\", \"Topic6\", \"Topic7\", \"Topic7\", \"Topic7\", \"Topic7\", \"Topic7\", \"Topic7\", \"Topic7\", \"Topic7\", \"Topic7\", \"Topic7\", \"Topic7\", \"Topic7\", \"Topic7\", \"Topic7\", \"Topic7\", \"Topic7\", \"Topic7\", \"Topic7\", \"Topic7\", \"Topic7\", \"Topic7\", \"Topic7\", \"Topic7\", \"Topic7\", \"Topic7\", \"Topic7\", \"Topic7\", \"Topic7\", \"Topic7\", \"Topic7\", \"Topic7\", \"Topic7\", \"Topic7\", \"Topic7\", \"Topic7\", \"Topic7\", \"Topic7\", \"Topic7\", \"Topic7\", \"Topic7\", \"Topic7\", \"Topic7\", \"Topic7\", \"Topic7\", \"Topic7\", \"Topic7\", \"Topic7\", \"Topic7\", \"Topic7\", \"Topic7\", \"Topic7\", \"Topic7\", \"Topic7\", \"Topic7\", \"Topic7\", \"Topic7\", \"Topic7\", \"Topic7\", \"Topic7\", \"Topic7\", \"Topic7\", \"Topic7\", \"Topic7\", \"Topic7\", \"Topic7\", \"Topic7\", \"Topic7\", \"Topic7\", \"Topic7\", \"Topic7\", \"Topic7\", \"Topic7\", \"Topic7\", \"Topic7\", \"Topic7\", \"Topic7\", \"Topic7\", \"Topic7\", \"Topic7\", \"Topic7\", \"Topic7\", \"Topic8\", \"Topic8\", \"Topic8\", \"Topic8\", \"Topic8\", \"Topic8\", \"Topic8\", \"Topic8\", \"Topic8\", \"Topic8\", \"Topic8\", \"Topic8\", \"Topic8\", \"Topic8\", \"Topic8\", \"Topic8\", \"Topic8\", \"Topic8\", \"Topic8\", \"Topic8\", \"Topic8\", \"Topic8\", \"Topic8\", \"Topic8\", \"Topic8\", \"Topic8\", \"Topic8\", \"Topic8\", \"Topic8\", \"Topic8\", \"Topic8\", \"Topic8\", \"Topic8\", \"Topic8\", \"Topic8\", \"Topic8\", \"Topic8\", \"Topic8\", \"Topic8\", \"Topic8\", \"Topic8\", \"Topic8\", \"Topic8\", \"Topic8\", \"Topic8\", \"Topic8\", \"Topic8\", \"Topic8\", \"Topic8\", \"Topic8\", \"Topic8\", \"Topic8\", \"Topic8\", \"Topic8\", \"Topic8\", \"Topic8\", \"Topic8\", \"Topic8\", \"Topic8\", \"Topic8\", \"Topic8\", \"Topic8\", \"Topic8\", \"Topic8\", \"Topic8\", \"Topic8\", \"Topic8\", \"Topic8\", \"Topic8\", \"Topic8\", \"Topic8\", \"Topic8\", \"Topic8\", \"Topic8\", \"Topic8\", \"Topic8\"], \"Freq\": [5730.0, 7155.0, 9013.0, 5078.0, 3022.0, 6795.0, 1791.0, 2180.0, 2239.0, 2945.0, 2050.0, 3463.0, 4441.0, 2431.0, 1193.0, 1675.0, 1010.0, 1773.0, 3277.0, 2424.0, 1237.0, 1351.0, 1661.0, 966.0, 2216.0, 818.0, 1190.0, 1100.0, 1506.0, 962.0, 468.2584228515625, 294.680419921875, 132.71420288085938, 116.28202819824219, 102.22622680664062, 353.6399841308594, 212.37014770507812, 307.830322265625, 87.64718627929688, 92.81301879882812, 114.65371704101562, 81.66181182861328, 86.89034271240234, 78.49075317382812, 584.5944213867188, 87.13612365722656, 66.21212005615234, 62.39539337158203, 352.0382080078125, 306.1728515625, 178.709716796875, 61.949615478515625, 54.474815368652344, 44.612266540527344, 44.45277786254883, 40.3270149230957, 42.500614166259766, 74.94445037841797, 56.05757141113281, 46.34186935424805, 202.70013427734375, 277.60052490234375, 71.00422668457031, 806.2084350585938, 369.6207580566406, 146.1780242919922, 1144.614990234375, 6267.607421875, 428.3604431152344, 301.7391662597656, 275.07373046875, 1880.69921875, 152.32498168945312, 140.2603302001953, 169.777099609375, 154.1934051513672, 1393.9124755859375, 198.53128051757812, 388.6679382324219, 1171.422119140625, 342.96966552734375, 336.75396728515625, 287.1165466308594, 507.41680908203125, 1343.41552734375, 273.1168212890625, 328.435546875, 728.7999877929688, 740.9221801757812, 673.6991577148438, 770.2125244140625, 382.032958984375, 691.425537109375, 798.674072265625, 392.0246276855469, 422.3687744140625, 372.1196594238281, 321.32061767578125, 75.63648223876953, 53.02436447143555, 37.672340393066406, 36.08905029296875, 126.9928207397461, 30.080381393432617, 28.93975067138672, 33.58251953125, 25.77167510986328, 101.12995910644531, 23.859188079833984, 63.29098129272461, 433.1678771972656, 23.415143966674805, 158.12672424316406, 265.8526306152344, 256.70361328125, 15.366803169250488, 36.60752868652344, 14.282066345214844, 13.923837661743164, 13.885329246520996, 12.767498970031738, 12.706677436828613, 14.260587692260742, 12.802660942077637, 11.333941459655762, 34.993141174316406, 10.651909828186035, 10.444437026977539, 446.93634033203125, 40.503177642822266, 131.65130615234375, 114.81228637695312, 83.77742767333984, 31.38530158996582, 386.40631103515625, 242.39016723632812, 828.5953979492188, 86.87797546386719, 166.11935424804688, 352.0678405761719, 316.70635986328125, 169.8627166748047, 448.6761474609375, 1110.1798095703125, 357.80926513671875, 193.63027954101562, 3446.7333984375, 103.37767028808594, 972.87451171875, 68.09439849853516, 662.683837890625, 264.29791259765625, 393.1934814453125, 234.63812255859375, 1243.44921875, 1074.2314453125, 694.361328125, 739.3829345703125, 342.5615539550781, 368.8204650878906, 499.27880859375, 864.4065551757812, 340.32537841796875, 245.27574157714844, 329.7137451171875, 402.6019287109375, 449.4548034667969, 420.9235534667969, 84.46306610107422, 55.011192321777344, 495.0468444824219, 123.20254516601562, 85.59431457519531, 28.954692840576172, 92.85260009765625, 26.727981567382812, 227.7786865234375, 15.64319133758545, 223.27200317382812, 324.77789306640625, 16.60894203186035, 15.033641815185547, 27.100128173828125, 1687.431396484375, 13.04980754852295, 13.062616348266602, 16.501888275146484, 12.540315628051758, 14.208842277526855, 83.34336853027344, 11.89398193359375, 11.856404304504395, 12.716282844543457, 14.704550743103027, 11.17770004272461, 10.867654800415039, 11.065701484680176, 311.226318359375, 150.61630249023438, 267.32965087890625, 82.5959243774414, 135.02410888671875, 49.26777648925781, 1860.3887939453125, 1868.3831787109375, 811.5097045898438, 311.9407653808594, 48.5185546875, 770.3827514648438, 151.48635864257812, 132.36080932617188, 370.37335205078125, 130.19256591796875, 542.7301635742188, 201.56903076171875, 296.4356994628906, 300.64923095703125, 1324.6082763671875, 293.44378662109375, 1501.1015625, 316.4140625, 519.4034423828125, 197.5537567138672, 1045.0411376953125, 1630.6572265625, 581.279296875, 471.3695373535156, 403.0245056152344, 468.7731628417969, 428.28936767578125, 840.3391723632812, 401.7187194824219, 407.2838134765625, 303.3686828613281, 163.8748779296875, 145.56878662109375, 110.27859497070312, 83.6252212524414, 70.6644058227539, 50.40010070800781, 70.60501861572266, 40.82582473754883, 105.17398071289062, 126.1202163696289, 27.293991088867188, 27.62751579284668, 27.959190368652344, 18.373804092407227, 17.242467880249023, 17.084009170532227, 17.42980194091797, 15.798604965209961, 17.425167083740234, 18.51340675354004, 15.941556930541992, 15.263215065002441, 15.3800048828125, 15.769783020019531, 13.802701950073242, 13.67690372467041, 16.062360763549805, 2830.241943359375, 12.305935859680176, 12.429220199584961, 152.33181762695312, 86.9665298461914, 51.83559799194336, 200.4888916015625, 172.364013671875, 201.56900024414062, 398.7474060058594, 152.2259979248047, 365.50872802734375, 82.68093872070312, 281.9085693359375, 80.12672424316406, 94.08891296386719, 56.318931579589844, 159.54837036132812, 36.3355712890625, 716.2648315429688, 212.89608764648438, 408.5648193359375, 560.9962158203125, 144.69114685058594, 530.817138671875, 187.1078338623047, 1095.137939453125, 568.991455078125, 340.89617919921875, 571.0557861328125, 139.56289672851562, 366.3621826171875, 150.9150848388672, 521.2157592773438, 466.0666809082031, 358.4635925292969, 539.3355712890625, 380.4311828613281, 226.85372924804688, 184.16140747070312, 262.03228759765625, 255.23825073242188, 222.3877410888672, 264.416015625, 177.70236206054688, 186.69390869140625, 29.153968811035156, 21.790315628051758, 18.961732864379883, 16.982227325439453, 16.92038917541504, 14.832239151000977, 13.903331756591797, 11.269176483154297, 11.056132316589355, 9.713920593261719, 9.651751518249512, 124.45362091064453, 8.549128532409668, 7.841540336608887, 7.768791198730469, 7.764756679534912, 7.676782131195068, 10.812047958374023, 7.1240620613098145, 7.749355316162109, 6.880762100219727, 6.942773818969727, 7.0684003829956055, 6.720043659210205, 6.810452938079834, 6.620927333831787, 113.7489013671875, 6.451391220092773, 6.901805877685547, 6.1820268630981445, 4710.876953125, 653.3218383789062, 780.350830078125, 112.97789001464844, 3455.89501953125, 93.80541229248047, 270.7969970703125, 60.27050018310547, 10.729235649108887, 17.22572135925293, 327.1221008300781, 67.87967681884766, 760.5602416992188, 1060.193603515625, 186.41297912597656, 30.24954605102539, 633.8274536132812, 735.4892578125, 3470.1484375, 113.6562728881836, 370.5978088378906, 52.986289978027344, 68.88799285888672, 98.69739532470703, 177.60406494140625, 566.4451293945312, 205.05014038085938, 153.80226135253906, 532.7798461914062, 296.64697265625, 450.187744140625, 125.47695922851562, 886.0930786132812, 279.8660583496094, 198.32061767578125, 303.2957763671875, 136.74696350097656, 160.8437957763672, 179.67556762695312, 184.78407287597656, 165.1122589111328, 141.2526092529297, 271.55133056640625, 208.53652954101562, 214.50433349609375, 106.80292510986328, 71.27922058105469, 146.58447265625, 48.03950881958008, 42.15671157836914, 43.702598571777344, 213.03756713867188, 27.39153480529785, 23.894742965698242, 34.948726654052734, 18.164234161376953, 17.880199432373047, 17.21810531616211, 17.212345123291016, 17.267248153686523, 15.935277938842773, 14.714000701904297, 14.534400939941406, 14.348401069641113, 14.068787574768066, 15.826456069946289, 16.312116622924805, 30.304019927978516, 12.437703132629395, 14.547216415405273, 27.16743278503418, 23.60291290283203, 315.6816711425781, 185.3966522216797, 84.08006286621094, 309.3425598144531, 20.80656623840332, 262.63348388671875, 30.613126754760742, 34.43251037597656, 144.8307647705078, 103.55796813964844, 244.7257080078125, 47.78267288208008, 34.00722122192383, 33.6240234375, 48.38180923461914, 227.51907348632812, 152.58551025390625, 144.569091796875, 74.94825744628906, 212.51678466796875, 131.44949340820312, 509.9954833984375, 85.330078125, 155.75607299804688, 228.997802734375, 89.45289611816406, 146.173828125, 70.01744842529297, 163.01686096191406, 607.4176635742188, 330.0120849609375, 121.47103118896484, 221.52651977539062, 198.43064880371094, 227.46058654785156, 439.48419189453125, 370.82708740234375, 245.7792205810547, 177.50010681152344, 202.65042114257812, 193.66197204589844, 212.7941131591797, 201.33203125, 164.4257049560547, 31.764448165893555, 23.585268020629883, 34.89476776123047, 21.3500919342041, 15.790369987487793, 14.286181449890137, 13.59725570678711, 17.31256866455078, 12.293197631835938, 37.998756408691406, 9.841472625732422, 9.618425369262695, 9.437475204467773, 9.001473426818848, 8.886186599731445, 8.885098457336426, 9.187627792358398, 8.752692222595215, 8.245260238647461, 10.219672203063965, 8.046795845031738, 7.254366397857666, 8.077921867370605, 7.050520420074463, 14.246785163879395, 11.136545181274414, 6.581811904907227, 9.528481483459473, 6.698433876037598, 6.5161614418029785, 15.839340209960938, 209.06649780273438, 102.59473419189453, 20.528488159179688, 23.350597381591797, 259.2272033691406, 76.18359375, 69.92403411865234, 650.3033447265625, 170.5298614501953, 34.27781295776367, 524.3471069335938, 50.04316711425781, 1200.552001953125, 99.11370086669922, 29.455781936645508, 144.82180786132812, 2563.981201171875, 298.8520202636719, 240.2471160888672, 211.64617919921875, 109.1351318359375, 643.4938354492188, 1142.4527587890625, 61.4874267578125, 370.2200012207031, 496.3207702636719, 169.35658264160156, 1225.591796875, 60.261051177978516, 317.56097412109375, 72.5327377319336, 66.04351806640625, 585.9361572265625, 328.0044860839844, 249.90953063964844, 124.53787994384766, 170.42633056640625, 210.08583068847656, 104.37451934814453, 121.12189483642578, 176.77938842773438, 361.3694763183594, 186.431884765625, 214.3204345703125, 147.01699829101562, 177.21658325195312, 152.35353088378906, 183.6900634765625, 174.15875244140625, 154.70265197753906, 54.765968322753906, 78.89969635009766, 43.80564498901367, 52.68938446044922, 32.76350784301758, 35.1037712097168, 25.081878662109375, 93.4576187133789, 32.33842849731445, 28.225950241088867, 21.414859771728516, 21.34347152709961, 21.017858505249023, 19.43130874633789, 17.89412498474121, 17.431560516357422, 15.396466255187988, 15.72325325012207, 14.07685661315918, 13.392827987670898, 13.222274780273438, 17.634035110473633, 12.777837753295898, 12.449427604675293, 12.504338264465332, 12.018747329711914, 11.981645584106445, 81.88935852050781, 11.488109588623047, 11.839491844177246, 57.7392463684082, 58.986534118652344, 17.60438346862793, 164.11978149414062, 48.700870513916016, 26.392053604125977, 90.02820587158203, 74.31430053710938, 35.39997100830078, 72.18106079101562, 121.15023040771484, 111.37109375, 44.24293518066406, 93.00105285644531, 105.9897689819336, 49.98452377319336, 50.83298110961914, 572.2801513671875, 110.14047241210938, 137.95803833007812, 81.91728210449219, 393.8794860839844, 227.56747436523438, 130.89682006835938, 121.43949127197266, 108.84803009033203, 136.6618194580078, 378.71826171875, 166.2628631591797, 155.70196533203125, 157.09384155273438, 175.68296813964844, 446.8768310546875, 313.6706237792969, 130.499755859375, 315.1635437011719, 125.44648742675781, 181.58631896972656, 216.50680541992188, 185.87832641601562, 113.588134765625, 231.06614685058594, 156.67799377441406, 208.8304443359375, 120.17337799072266, 111.69772338867188], \"Term\": [\"good\", \"batteries\", \"great\", \"price\", \"kindle\", \"tablet\", \"year\", \"old\", \"loves\", \"easy\", \"product\", \"love\", \"use\", \"kids\", \"gift\", \"games\", \"value\", \"apps\", \"bought\", \"long\", \"brand\", \"quality\", \"screen\", \"christmas\", \"work\", \"deal\", \"read\", \"play\", \"works\", \"daughter\", \"aa\", \"amazonbasics\", \"controllers\", \"flashlights\", \"candles\", \"aaa\", \"remotes\", \"remote\", \"controller\", \"packs\", \"die\", \"costco\", \"waste\", \"cardboard\", \"duracell\", \"wrapped\", \"operated\", \"leaked\", \"pack\", \"energizer\", \"dead\", \"batch\", \"results\", \"copper\", \"branded\", \"acid\", \"clocks\", \"worst\", \"flashlight\", \"energizers\", \"alkaline\", \"basics\", \"duracells\", \"brands\", \"toys\", \"packaged\", \"brand\", \"batteries\", \"box\", \"lasting\", \"lasted\", \"long\", \"xbox\", \"bulk\", \"half\", \"save\", \"work\", \"packaging\", \"buying\", \"battery\", \"longer\", \"cheaper\", \"power\", \"ve\", \"amazon\", \"ones\", \"cheap\", \"buy\", \"like\", \"time\", \"use\", \"lot\", \"price\", \"great\", \"life\", \"better\", \"store\", \"bought\", \"surf\", \"social\", \"smooth\", \"hulu\", \"browsing\", \"nexus\", \"ecosystem\", \"tube\", \"chrome\", \"install\", \"appstore\", \"users\", \"google\", \"slower\", \"youtube\", \"web\", \"netflix\", \"rooting\", \"lag\", \"invested\", \"buffering\", \"versatility\", \"searches\", \"minecraft\", \"unwanted\", \"knowledge\", \"instagram\", \"interested\", \"grader\", \"elderly\", \"watch\", \"browse\", \"load\", \"surfing\", \"os\", \"youngest\", \"internet\", \"android\", \"play\", \"media\", \"shows\", \"download\", \"videos\", \"account\", \"movies\", \"apps\", \"app\", \"slow\", \"tablet\", \"facebook\", \"games\", \"emails\", \"books\", \"prime\", \"ipad\", \"access\", \"use\", \"amazon\", \"kids\", \"easy\", \"store\", \"read\", \"like\", \"great\", \"reading\", \"want\", \"screen\", \"love\", \"good\", \"parental\", \"parent\", \"provides\", \"grandson\", \"appropriate\", \"protection\", \"olds\", \"gifts\", \"restrictions\", \"educational\", \"quiet\", \"age\", \"durable\", \"fighting\", \"dropping\", \"protects\", \"year\", \"logic\", \"contents\", \"engaged\", \"hes\", \"aspects\", \"freetime\", \"monitoring\", \"active\", \"definite\", \"shouldn\", \"charm\", \"slide\", \"bass\", \"yr\", \"grand\", \"warranty\", \"drops\", \"dropped\", \"protected\", \"old\", \"loves\", \"daughter\", \"controls\", \"younger\", \"son\", \"grandkids\", \"nephew\", \"child\", \"young\", \"case\", \"control\", \"granddaughter\", \"children\", \"kids\", \"learning\", \"bought\", \"kid\", \"christmas\", \"absolutely\", \"love\", \"tablet\", \"games\", \"purchased\", \"got\", \"time\", \"apps\", \"great\", \"easy\", \"use\", \"perfect\", \"voyage\", \"paperwhite\", \"generation\", \"lighter\", \"paper\", \"lighting\", \"readers\", \"backlight\", \"nook\", \"oasis\", \"auto\", \"brighter\", \"thoroughly\", \"clearer\", \"textbooks\", \"fingertips\", \"exchanged\", \"voyager\", \"lighted\", \"touchscreen\", \"newest\", \"bezel\", \"upgrades\", \"leather\", \"traditional\", \"bedtime\", \"aspect\", \"kindle\", \"flip\", \"compete\", \"original\", \"white\", \"dark\", \"upgrade\", \"weight\", \"model\", \"reader\", \"page\", \"wife\", \"upgraded\", \"book\", \"owned\", \"buttons\", \"improvement\", \"previous\", \"glare\", \"read\", \"easier\", \"light\", \"new\", \"kindles\", \"reading\", \"older\", \"love\", \"books\", \"hd\", \"screen\", \"cover\", \"best\", \"faster\", \"easy\", \"like\", \"better\", \"use\", \"bought\", \"size\", \"wanted\", \"buy\", \"battery\", \"got\", \"great\", \"years\", \"old\", \"hardware\", \"girls\", \"lowest\", \"duracel\", \"robust\", \"fuss\", \"everybody\", \"receiver\", \"code\", \"retail\", \"googleplay\", \"advertised\", \"schedule\", \"elaborate\", \"batterys\", \"disability\", \"bt\", \"balance\", \"advertise\", \"taste\", \"lackluster\", \"tremendous\", \"burn\", \"claimed\", \"lovely\", \"drove\", \"described\", \"transmitter\", \"stupid\", \"maintain\", \"good\", \"deal\", \"value\", \"reasonable\", \"price\", \"shipping\", \"expected\", \"delivery\", \"timely\", \"kiddos\", \"beat\", \"expectations\", \"quality\", \"product\", \"decent\", \"exceeded\", \"far\", \"works\", \"great\", \"exactly\", \"excellent\", \"complain\", \"solid\", \"complaints\", \"performance\", \"buy\", \"pretty\", \"issues\", \"work\", \"life\", \"battery\", \"problems\", \"batteries\", \"nice\", \"fast\", \"long\", \"low\", \"money\", \"best\", \"time\", \"better\", \"cheap\", \"friday\", \"echo\", \"tap\", \"port\", \"voice\", \"button\", \"ad\", \"adds\", \"dot\", \"sd\", \"commands\", \"doesnt\", \"entry\", \"clicking\", \"icons\", \"expanded\", \"allowing\", \"keys\", \"pen\", \"folder\", \"signal\", \"delete\", \"closes\", \"deck\", \"pain\", \"advertisements\", \"borrowed\", \"touching\", \"sufficient\", \"sort\", \"black\", \"speaker\", \"micro\", \"card\", \"opens\", \"alexa\", \"pop\", \"magazine\", \"ads\", \"bluetooth\", \"gb\", \"ram\", \"external\", \"internal\", \"volume\", \"memory\", \"laptop\", \"add\", \"annoying\", \"sound\", \"portable\", \"device\", \"speakers\", \"charging\", \"music\", \"mini\", \"wifi\", \"room\", \"storage\", \"amazon\", \"better\", \"hard\", \"little\", \"ipad\", \"nice\", \"tablet\", \"price\", \"screen\", \"need\", \"bought\", \"like\", \"good\", \"great\", \"books\", \"breaks\", \"sleek\", \"guy\", \"grip\", \"responds\", \"brings\", \"anybody\", \"disney\", \"kiddo\", \"grandchild\", \"godson\", \"birthdays\", \"gym\", \"vlc\", \"alphabet\", \"relaxing\", \"ample\", \"input\", \"appointments\", \"sluggish\", \"meetings\", \"sports\", \"east\", \"amd\", \"teenager\", \"facing\", \"slippery\", \"brilliant\", \"angles\", \"letter\", \"filter\", \"picture\", \"friend\", \"red\", \"compatible\", \"highly\", \"graphics\", \"blue\", \"recommend\", \"color\", \"wi\", \"size\", \"clarity\", \"easy\", \"inch\", \"fi\", \"clear\", \"great\", \"fast\", \"awesome\", \"small\", \"resolution\", \"product\", \"use\", \"friends\", \"perfect\", \"screen\", \"camera\", \"tablet\", \"person\", \"gift\", \"recommended\", \"entertained\", \"love\", \"works\", \"nice\", \"sound\", \"movies\", \"little\", \"watching\", \"storage\", \"purchase\", \"price\", \"quality\", \"battery\", \"hd\", \"loves\", \"life\", \"bought\", \"kids\", \"reading\", \"xmas\", \"sales\", \"credit\", \"squad\", \"associate\", \"adapter\", \"floor\", \"\\u00e4\\u00f4t\", \"called\", \"complete\", \"dog\", \"refund\", \"opportunity\", \"hang\", \"feedback\", \"capable\", \"practical\", \"disable\", \"growing\", \"thoughts\", \"suitable\", \"contacted\", \"manga\", \"gifted\", \"plugs\", \"logo\", \"prompt\", \"told\", \"accident\", \"visit\", \"savvy\", \"geek\", \"presents\", \"service\", \"fix\", \"cartoons\", \"customer\", \"opened\", \"sent\", \"excited\", \"received\", \"returned\", \"heard\", \"minutes\", \"tech\", \"trouble\", \"charges\", \"gift\", \"thank\", \"gave\", \"return\", \"christmas\", \"day\", \"went\", \"thanks\", \"help\", \"mom\", \"best\", \"item\", \"loved\", \"know\", \"charge\", \"bought\", \"time\", \"days\", \"buy\", \"worked\", \"happy\", \"purchased\", \"got\", \"tried\", \"amazon\", \"purchase\", \"use\", \"perfect\", \"free\"], \"Total\": [5730.0, 7155.0, 9013.0, 5078.0, 3022.0, 6795.0, 1791.0, 2180.0, 2239.0, 2945.0, 2050.0, 3463.0, 4441.0, 2431.0, 1193.0, 1675.0, 1010.0, 1773.0, 3277.0, 2424.0, 1237.0, 1351.0, 1661.0, 966.0, 2216.0, 818.0, 1190.0, 1100.0, 1506.0, 962.0, 470.6041259765625, 296.341796875, 133.5734405517578, 117.10330963134766, 103.01679229736328, 356.430419921875, 214.15567016601562, 310.5244140625, 88.42922973632812, 93.6598129272461, 115.74708557128906, 82.4543685913086, 87.76657104492188, 79.29974365234375, 590.6537475585938, 88.07582092285156, 66.99427032470703, 63.19062042236328, 356.7966003417969, 310.3659973144531, 181.2675323486328, 62.92325210571289, 55.334510803222656, 45.4367561340332, 45.28799057006836, 41.102821350097656, 43.33255386352539, 76.43933868408203, 57.185302734375, 47.28609848022461, 207.47555541992188, 286.6368408203125, 72.5674819946289, 845.1764526367188, 386.1703796386719, 151.24366760253906, 1237.824462890625, 7155.31982421875, 474.6048278808594, 335.7508239746094, 306.2215881347656, 2424.4091796875, 164.21315002441406, 150.84889221191406, 188.9436798095703, 169.51168823242188, 2216.3828125, 231.0269012451172, 535.4983520507812, 2138.586181640625, 462.57891845703125, 456.55078125, 377.5591125488281, 896.4200439453125, 3863.8203125, 396.2544250488281, 576.187255859375, 2269.161376953125, 2443.991943359375, 2060.55078125, 4441.30517578125, 948.6729736328125, 5078.96923828125, 9013.3291015625, 1030.8143310546875, 1464.5435791015625, 1013.7279052734375, 3277.9365234375, 76.55148315429688, 54.12734603881836, 38.53129196166992, 36.94428253173828, 130.36485290527344, 30.945659637451172, 29.879411697387695, 34.690818786621094, 26.633195877075195, 104.8131103515625, 24.73023223876953, 65.74104309082031, 451.9399108886719, 24.571733474731445, 166.1393585205078, 280.6251525878906, 271.34771728515625, 16.270044326782227, 38.819950103759766, 15.149828910827637, 14.77853775024414, 14.805394172668457, 13.621634483337402, 13.560942649841309, 15.281787872314453, 13.753357887268066, 12.188129425048828, 37.68224334716797, 11.513347625732422, 11.30099868774414, 495.9153747558594, 44.0018424987793, 147.86761474609375, 131.03683471679688, 94.7235336303711, 34.567176818847656, 472.5851745605469, 297.73095703125, 1100.32763671875, 102.97492218017578, 207.32342529296875, 470.62347412109375, 426.6624450683594, 216.29579162597656, 641.3734741210938, 1773.4971923828125, 504.0721740722656, 253.20010375976562, 6795.09619140625, 126.96641540527344, 1675.84814453125, 81.6683349609375, 1488.4166259765625, 476.3374938964844, 823.1378784179688, 411.00067138671875, 4441.30517578125, 3863.8203125, 2431.75732421875, 2945.406494140625, 1013.7279052734375, 1190.740478515625, 2443.991943359375, 9013.3291015625, 1205.981689453125, 561.2381591796875, 1661.008544921875, 3463.911865234375, 5730.19189453125, 425.66265869140625, 85.54041290283203, 55.87209701538086, 502.9939270019531, 125.3336410522461, 88.11420440673828, 29.813495635986328, 96.0250015258789, 27.950172424316406, 239.300537109375, 16.488388061523438, 235.60279846191406, 343.83538818359375, 17.593826293945312, 15.958958625793457, 28.77163314819336, 1791.9537353515625, 13.892416000366211, 13.933646202087402, 17.602468490600586, 13.386725425720215, 15.171987533569336, 89.0790023803711, 12.739129066467285, 12.706953048706055, 13.659403800964355, 15.805337905883789, 12.02475357055664, 11.72365665435791, 11.938163757324219, 337.866455078125, 162.64984130859375, 290.65484619140625, 89.40255737304688, 147.8212890625, 53.40601348876953, 2180.06298828125, 2239.578857421875, 962.485595703125, 365.6935119628906, 53.995513916015625, 966.910400390625, 182.7229766845703, 158.43592834472656, 484.04486083984375, 160.98529052734375, 800.1484375, 264.5080261230469, 409.2762451171875, 432.6463928222656, 2431.75732421875, 436.51806640625, 3277.9365234375, 489.783447265625, 966.134765625, 281.05584716796875, 3463.911865234375, 6795.09619140625, 1675.84814453125, 1393.34814453125, 1301.3814697265625, 2060.55078125, 1773.4971923828125, 9013.3291015625, 2945.406494140625, 4441.30517578125, 1116.02197265625, 164.97813415527344, 146.76962280273438, 111.26571655273438, 84.49000549316406, 71.80628204345703, 51.29786682128906, 72.14112091064453, 41.73488998413086, 107.53038024902344, 129.07101440429688, 28.161401748657227, 28.61783218383789, 29.148656845092773, 19.23508644104004, 18.087230682373047, 17.92870330810547, 18.313940048217773, 16.64255142211914, 18.35606575012207, 19.503637313842773, 16.834415435791016, 16.12150001525879, 16.252960205078125, 16.69821548461914, 14.657198905944824, 14.523638725280762, 17.09872817993164, 3022.0234375, 13.148046493530273, 13.295271873474121, 164.4571075439453, 94.473876953125, 56.120784759521484, 224.03855895996094, 195.06912231445312, 233.90330505371094, 493.29046630859375, 181.57186889648438, 466.970703125, 96.2838363647461, 359.44476318359375, 93.26158905029297, 111.04066467285156, 65.1380615234375, 202.33248901367188, 41.274497985839844, 1190.740478515625, 307.6513366699219, 668.83447265625, 979.1129150390625, 204.248291015625, 1205.981689453125, 310.62359619140625, 3463.911865234375, 1488.4166259765625, 773.0394897460938, 1661.008544921875, 232.57138061523438, 1429.5733642578125, 269.9432373046875, 2945.406494140625, 2443.991943359375, 1464.5435791015625, 4441.30517578125, 3277.9365234375, 1000.196533203125, 527.6575927734375, 2269.161376953125, 2138.586181640625, 1301.3814697265625, 9013.3291015625, 561.020751953125, 2180.06298828125, 30.035743713378906, 22.627317428588867, 19.776016235351562, 17.799367904663086, 17.76447868347168, 15.649877548217773, 14.721016883850098, 12.083479881286621, 11.871879577636719, 10.53217601776123, 10.465510368347168, 135.6623077392578, 9.362361907958984, 8.665148735046387, 8.58530044555664, 8.581522941589355, 8.491599082946777, 12.017971992492676, 7.938953876495361, 8.648260116577148, 7.693417072296143, 7.768031597137451, 7.918004512786865, 7.533616065979004, 7.635775566101074, 7.438142776489258, 127.83231353759766, 7.266180038452148, 7.784784317016602, 6.996271133422852, 5730.19189453125, 818.12646484375, 1010.4068603515625, 140.63487243652344, 5078.96923828125, 118.62528228759766, 362.3376770019531, 75.41950225830078, 12.277453422546387, 20.369131088256836, 491.23614501953125, 89.67162322998047, 1351.25830078125, 2050.49560546875, 295.00347900390625, 39.17554473876953, 1196.8240966796875, 1506.813232421875, 9013.3291015625, 177.94540405273438, 707.6030883789062, 74.98311614990234, 109.70175170898438, 181.4579315185547, 410.28759765625, 2269.161376953125, 553.3408203125, 374.5300598144531, 2216.3828125, 1030.8143310546875, 2138.586181640625, 296.30181884765625, 7155.31982421875, 1216.8743896484375, 685.6918334960938, 2424.4091796875, 406.22698974609375, 780.8939819335938, 1429.5733642578125, 2060.55078125, 1464.5435791015625, 576.187255859375, 272.5687255859375, 210.25404357910156, 216.4880828857422, 108.3722915649414, 72.39120483398438, 149.7961883544922, 49.3043212890625, 43.290287017822266, 44.919490814208984, 219.2191162109375, 28.249740600585938, 24.74726104736328, 36.32505416870117, 18.99787712097168, 18.720186233520508, 18.049734115600586, 18.04543113708496, 18.106916427612305, 16.773284912109375, 15.55387020111084, 15.372218132019043, 15.183248519897461, 14.905423164367676, 16.789085388183594, 17.383352279663086, 32.31598663330078, 13.279035568237305, 15.53242301940918, 29.01872444152832, 25.21514892578125, 343.7008972167969, 201.15496826171875, 90.5497055053711, 353.703369140625, 22.230493545532227, 311.1927795410156, 33.32426071166992, 38.197139739990234, 179.8895263671875, 127.10419464111328, 326.7054443359375, 55.837730407714844, 38.33756637573242, 38.39814758300781, 58.656185150146484, 362.4791564941406, 226.81275939941406, 215.26095581054688, 98.63282012939453, 352.74139404296875, 198.9951171875, 1061.2054443359375, 118.34928894042969, 253.3449249267578, 456.5669860839844, 133.19068908691406, 285.8071594238281, 98.44720458984375, 402.1356201171875, 3863.8203125, 1464.5435791015625, 263.46551513671875, 964.12353515625, 823.1378784179688, 1216.8743896484375, 6795.09619140625, 5078.96923828125, 1661.008544921875, 948.3001098632812, 3277.9365234375, 2443.991943359375, 5730.19189453125, 9013.3291015625, 1488.4166259765625, 32.60993194580078, 24.440380096435547, 36.17001724243164, 22.270998001098633, 16.636423110961914, 15.137154579162598, 14.445504188537598, 18.4354248046875, 13.13581371307373, 40.69729995727539, 10.686847686767578, 10.461788177490234, 10.28195571899414, 9.846357345581055, 9.72972297668457, 9.730441093444824, 10.06903076171875, 9.600749015808105, 9.087825775146484, 11.278661727905273, 8.890019416809082, 8.100290298461914, 9.041199684143066, 7.899566650390625, 15.972643852233887, 12.492761611938477, 7.425029277801514, 10.755941390991211, 7.565772533416748, 7.363970756530762, 17.99733543395996, 246.45225524902344, 121.10677337646484, 23.855682373046875, 27.373046875, 336.6507873535156, 100.44676971435547, 93.70890808105469, 1090.3778076171875, 257.1345520019531, 43.79798889160156, 1000.196533203125, 70.17764282226562, 2945.406494140625, 164.96792602539062, 39.43361282348633, 270.4872131347656, 9013.3291015625, 685.6918334960938, 533.3544921875, 477.917724609375, 207.40570068359375, 2050.49560546875, 4441.30517578125, 101.85687255859375, 1116.02197265625, 1661.008544921875, 395.204345703125, 6795.09619140625, 102.15838623046875, 1193.3402099609375, 135.3925323486328, 117.49336242675781, 3463.911865234375, 1506.813232421875, 1216.8743896484375, 352.74139404296875, 641.3734741210938, 964.12353515625, 288.37750244140625, 402.1356201171875, 958.06103515625, 5078.96923828125, 1351.25830078125, 2138.586181640625, 773.0394897460938, 2239.578857421875, 1030.8143310546875, 3277.9365234375, 2431.75732421875, 1205.981689453125, 55.634796142578125, 80.30644226074219, 44.6371955871582, 53.881893157958984, 33.59152603149414, 36.122684478759766, 25.909648895263672, 96.54229736328125, 33.42646789550781, 29.1768856048584, 22.27208709716797, 22.213897705078125, 21.90274429321289, 20.257305145263672, 18.73489761352539, 18.282615661621094, 16.222702026367188, 16.607419967651367, 14.908574104309082, 14.228007316589355, 14.047944068908691, 18.765836715698242, 13.607794761657715, 13.27518367767334, 13.339896202087402, 12.846324920654297, 12.808246612548828, 87.64546966552734, 12.314821243286133, 12.718504905700684, 62.20269012451172, 64.04527282714844, 18.921846389770508, 187.46923828125, 54.119197845458984, 29.049732208251953, 105.83575439453125, 87.5874252319336, 40.42832946777344, 87.74153900146484, 154.90707397460938, 141.78778076171875, 52.09015655517578, 120.91289520263672, 140.97691345214844, 61.35009765625, 63.90327835083008, 1193.3402099609375, 165.1418914794922, 219.69122314453125, 121.89077758789062, 966.134765625, 476.887451171875, 248.13919067382812, 228.19302368164062, 195.72885131835938, 293.084228515625, 1429.5733642578125, 410.7520751953125, 432.9449768066406, 441.5378112792969, 569.6995239257812, 3277.9365234375, 2060.55078125, 334.205810546875, 2269.161376953125, 340.41790771484375, 841.7733764648438, 1393.34814453125, 1301.3814697265625, 271.52777099609375, 3863.8203125, 958.06103515625, 4441.30517578125, 1116.02197265625, 614.95068359375], \"loglift\": [30.0, 29.0, 28.0, 27.0, 26.0, 25.0, 24.0, 23.0, 22.0, 21.0, 20.0, 19.0, 18.0, 17.0, 16.0, 15.0, 14.0, 13.0, 12.0, 11.0, 10.0, 9.0, 8.0, 7.0, 6.0, 5.0, 4.0, 3.0, 2.0, 1.0, 1.4986000061035156, 1.4979000091552734, 1.4970999956130981, 1.496500015258789, 1.4958000183105469, 1.4957000017166138, 1.4952000379562378, 1.4947999715805054, 1.4946999549865723, 1.4945000410079956, 1.4940999746322632, 1.493899941444397, 1.493499994277954, 1.493299961090088, 1.4931999444961548, 1.492799997329712, 1.4917999505996704, 1.4909000396728516, 1.4901000261306763, 1.48989999294281, 1.489300012588501, 1.4880000352859497, 1.4879000186920166, 1.485200047492981, 1.4848999977111816, 1.4845000505447388, 1.4842000007629395, 1.4838000535964966, 1.4836000204086304, 1.4833999872207642, 1.480299949645996, 1.471500039100647, 1.4817999601364136, 1.4563000202178955, 1.4596999883651733, 1.469499945640564, 1.4253000020980835, 1.3710999488830566, 1.4010000228881836, 1.3967000246047974, 1.396299958229065, 1.2496000528335571, 1.4284000396728516, 1.430799961090088, 1.3966000080108643, 1.4088000059127808, 1.0398000478744507, 1.3519999980926514, 1.1830999851226807, 0.9016000032424927, 1.2043999433517456, 1.1992000341415405, 1.229699969291687, 0.934499979019165, 0.4471000134944916, 1.1313999891281128, 0.9415000081062317, 0.3677999973297119, 0.3100999891757965, 0.3856000006198883, -0.2485000044107437, 0.593999981880188, -0.49059998989105225, -0.9200000166893005, 0.5368000268936157, 0.26010000705718994, 0.5013999938964844, -0.8190000057220459, 1.8903000354766846, 1.881700038909912, 1.8797999620437622, 1.8789000511169434, 1.876099944114685, 1.8739999532699585, 1.8703999519348145, 1.8697999715805054, 1.8694000244140625, 1.8665000200271606, 1.8665000200271606, 1.864300012588501, 1.8598999977111816, 1.854099988937378, 1.8529000282287598, 1.8481999635696411, 1.8467999696731567, 1.8451999425888062, 1.8436000347137451, 1.8432999849319458, 1.8427000045776367, 1.8381999731063843, 1.8375999927520752, 1.8372000455856323, 1.8331999778747559, 1.8307000398635864, 1.829699993133545, 1.8282999992370605, 1.8244999647140503, 1.8235000371932983, 1.79830002784729, 1.8194999694824219, 1.7862000465393066, 1.7700999975204468, 1.7795000076293945, 1.8056999444961548, 1.7009999752044678, 1.6966999769210815, 1.6187000274658203, 1.732300043106079, 1.6806999444961548, 1.6121000051498413, 1.6043000221252441, 1.6606999635696411, 1.5449999570846558, 1.433899998664856, 1.5595999956130981, 1.6340999603271484, 1.2235000133514404, 1.6967999935150146, 1.3585000038146973, 1.7204999923706055, 1.0930999517440796, 1.3133000135421753, 1.1634999513626099, 1.3417999744415283, 0.6292999982833862, 0.6223000288009644, 0.6488999724388123, 0.5200999975204468, 0.8173999786376953, 0.7303000092506409, 0.3140999972820282, -0.44209998846054077, 0.6371999979019165, 1.0745999813079834, 0.28540000319480896, -0.2498999983072281, -0.6431999802589417, 1.9371999502182007, 1.9357999563217163, 1.9328999519348145, 1.9325000047683716, 1.9313000440597534, 1.9193999767303467, 1.9191999435424805, 1.9148000478744507, 1.9036999940872192, 1.8990999460220337, 1.895799994468689, 1.894700050354004, 1.8913999795913696, 1.8907999992370605, 1.888700008392334, 1.8885999917984009, 1.8882999420166016, 1.8859000205993652, 1.8839000463485718, 1.8839000463485718, 1.8831000328063965, 1.8828999996185303, 1.8818999528884888, 1.8797999620437622, 1.8791999816894531, 1.8768999576568604, 1.8762999773025513, 1.8753999471664429, 1.8725999593734741, 1.8725999593734741, 1.8662999868392944, 1.8716000318527222, 1.864799976348877, 1.8693000078201294, 1.8579000234603882, 1.867799997329712, 1.7898999452590942, 1.767199993133545, 1.7777999639511108, 1.7894999980926514, 1.8415000438690186, 1.7211999893188477, 1.7610000371932983, 1.7685999870300293, 1.680799961090088, 1.7360999584197998, 1.5602999925613403, 1.6766999959945679, 1.6259000301361084, 1.5844999551773071, 1.34089994430542, 1.551300048828125, 1.1674000024795532, 1.5115000009536743, 1.3278000354766846, 1.595900058746338, 0.7501000165939331, 0.5212000012397766, 0.8895999789237976, 0.8646000027656555, 0.7763000130653381, 0.46779999136924744, 0.5274999737739563, -0.42419999837875366, -0.043800000101327896, -0.4406999945640564, 0.6459000110626221, 2.102099895477295, 2.100600004196167, 2.099900007247925, 2.0985000133514404, 2.0927999019622803, 2.091200113296509, 2.0873000621795654, 2.0868000984191895, 2.086699962615967, 2.085700035095215, 2.077500104904175, 2.0736000537872314, 2.067199945449829, 2.062999963760376, 2.061000108718872, 2.0606000423431396, 2.059299945831299, 2.05679988861084, 2.05679988861084, 2.0566999912261963, 2.05430006980896, 2.0541000366210938, 2.0536000728607178, 2.0515999794006348, 2.048799991607666, 2.0487000942230225, 2.046299934387207, 2.043299913406372, 2.04259991645813, 2.0415000915527344, 2.0322000980377197, 2.0260000228881836, 2.029400110244751, 1.9977999925613403, 1.9851000308990479, 1.9600000381469727, 1.8960000276565552, 1.9325000047683716, 1.863800048828125, 1.9565000534057617, 1.8658000230789185, 1.9570000171661377, 1.9431999921798706, 1.9632999897003174, 1.8712999820709229, 1.9814000129699707, 1.6004999876022339, 1.7407000064849854, 1.6159000396728516, 1.551900029182434, 1.7640999555587769, 1.2882000207901, 1.6018999814987183, 0.9573000073432922, 1.1471999883651733, 1.2900999784469604, 1.041100025177002, 1.598099946975708, 0.7473000288009644, 1.5273000001907349, 0.37700000405311584, 0.45179998874664307, 0.7013000249862671, 0.0005000000237487257, -0.04479999840259552, 0.6251999735832214, 1.0562000274658203, -0.04989999905228615, -0.016899999231100082, 0.34209999442100525, -1.4200999736785889, 0.9592000246047974, -0.34880000352859497, 2.2316999435424805, 2.22379994392395, 2.2195000648498535, 2.2144999504089355, 2.2128000259399414, 2.207900047302246, 2.204400062561035, 2.191800117492676, 2.1902999877929688, 2.1805999279022217, 2.1805999279022217, 2.175299882888794, 2.1707000732421875, 2.161600112915039, 2.161600112915039, 2.1614999771118164, 2.160599946975708, 2.1558001041412354, 2.1531999111175537, 2.1517999172210693, 2.149899959564209, 2.149199962615967, 2.1480000019073486, 2.147200107574463, 2.1470999717712402, 2.1451001167297363, 2.1447999477386475, 2.1426000595092773, 2.1410999298095703, 2.1377999782562256, 2.0655999183654785, 2.036600112915039, 2.003200054168701, 2.0425000190734863, 1.8765000104904175, 2.0267999172210693, 1.9702999591827393, 2.0373001098632812, 2.126699924468994, 2.093899965286255, 1.8549000024795532, 1.9831000566482544, 1.6868000030517578, 1.6018999814987183, 1.8025000095367432, 2.0028998851776123, 1.6259000301361084, 1.5442999601364136, 1.3070000410079956, 1.8131999969482422, 1.614799976348877, 1.9142999649047852, 1.7962000370025635, 1.6526000499725342, 1.4242000579833984, 0.8737000226974487, 1.2688000202178955, 1.371500015258789, 0.8360000252723694, 1.0160000324249268, 0.7032999992370605, 1.4023000001907349, 0.17270000278949738, 0.7918000221252441, 1.0210000276565552, 0.18289999663829803, 1.172700047492981, 0.6815000176429749, 0.1875, -0.15000000596046448, 0.07880000025033951, 0.8555999994277954, 2.3420000076293945, 2.337599992752075, 2.3366000652313232, 2.331199884414673, 2.3303000926971436, 2.3241000175476074, 2.3197999000549316, 2.319200038909912, 2.3183000087738037, 2.317199945449829, 2.3148999214172363, 2.310699939727783, 2.3071000576019287, 2.3008999824523926, 2.299799919128418, 2.2985999584198, 2.2985000610351562, 2.29830002784729, 2.2945001125335693, 2.2901999950408936, 2.2897000312805176, 2.2892000675201416, 2.2880001068115234, 2.2867000102996826, 2.2822000980377197, 2.2815001010894775, 2.2802999019622803, 2.2802000045776367, 2.2797999382019043, 2.2797000408172607, 2.260699987411499, 2.26419997215271, 2.2716000080108643, 2.211699962615967, 2.279599905014038, 2.176100015640259, 2.2609000205993652, 2.242000102996826, 2.128999948501587, 2.140899896621704, 2.05679988861084, 2.190000057220459, 2.2258999347686768, 2.2130000591278076, 2.1531999111175537, 1.8799999952316284, 1.9493999481201172, 1.947700023651123, 2.0710999965667725, 1.8389999866485596, 1.9311000108718872, 1.6130000352859497, 2.0185999870300293, 1.8593000173568726, 1.6556999683380127, 1.947700023651123, 1.6751999855041504, 2.005000114440918, 1.4428000450134277, 0.49559998512268066, 0.8555999994277954, 1.5714999437332153, 0.8751000165939331, 0.9230999946594238, 0.6686999797821045, -0.39259999990463257, -0.27140000462532043, 0.4350000023841858, 0.6700999736785889, -0.4377000033855438, -0.18950000405311584, -0.9473999738693237, -1.4557000398635864, 0.14270000159740448, 2.358599901199341, 2.3492000102996826, 2.348900079727173, 2.342600107192993, 2.3326001167297363, 2.3269999027252197, 2.3243000507354736, 2.322000026702881, 2.31850004196167, 2.316200017929077, 2.3024001121520996, 2.300800085067749, 2.299099922180176, 2.295099973678589, 2.294100046157837, 2.2939000129699707, 2.2932000160217285, 2.29229998588562, 2.2874999046325684, 2.2862000465393066, 2.2852001190185547, 2.2744998931884766, 2.272200107574463, 2.2711000442504883, 2.2704999446868896, 2.26990008354187, 2.2643001079559326, 2.2636001110076904, 2.2630999088287354, 2.262500047683716, 2.2571001052856445, 2.2202999591827393, 2.218899965286255, 2.234600067138672, 2.2258999347686768, 2.123500108718872, 2.108299970626831, 2.0920000076293945, 1.8680000305175781, 1.9740999937057495, 2.139699935913086, 1.7389999628067017, 2.0467000007629395, 1.4874000549316406, 1.8753000497817993, 2.093100070953369, 1.76010000705719, 1.1276999711990356, 1.5542999505996704, 1.5872999429702759, 1.5702999830245972, 1.7426999807357788, 1.2259000539779663, 1.0270999670028687, 1.8801000118255615, 1.2813999652862549, 1.176900029182434, 1.5374000072479248, 0.671999990940094, 1.8569999933242798, 1.0609999895095825, 1.760699987411499, 1.8087999820709229, 0.6079000234603882, 0.8600999712944031, 0.8019000291824341, 1.3437000513076782, 1.059499979019165, 0.8611000180244446, 1.368499994277954, 1.1848000288009644, 0.6948000192642212, -0.2581000030040741, 0.4041000008583069, 0.0843999981880188, 0.7250000238418579, -0.1518000066280365, 0.47290000319480896, -0.4968999922275543, -0.2515999972820282, 0.3312999904155731, 2.608599901199341, 2.6066999435424805, 2.6054999828338623, 2.6019999980926514, 2.599400043487549, 2.5957000255584717, 2.591900110244751, 2.591900110244751, 2.591200113296509, 2.591200113296509, 2.585099935531616, 2.584399938583374, 2.5831000804901123, 2.58270001411438, 2.578399896621704, 2.57669997215271, 2.5720999240875244, 2.5696001052856445, 2.5669000148773193, 2.563800096511841, 2.563800096511841, 2.5620999336242676, 2.5613999366760254, 2.5601000785827637, 2.5597000122070312, 2.5576999187469482, 2.5576000213623047, 2.5564000606536865, 2.554800033569336, 2.5527000427246094, 2.5499000549316406, 2.542099952697754, 2.5522000789642334, 2.491300106048584, 2.5188000202178955, 2.52839994430542, 2.462599992752075, 2.4600000381469727, 2.491499900817871, 2.4291000366210938, 2.378499984741211, 2.3828999996185303, 2.4611001014709473, 2.3619000911712646, 2.339099884033203, 2.4195001125335693, 2.3954999446868896, 1.8895000219345093, 2.2193000316619873, 2.15910005569458, 2.226900100708008, 1.7271000146865845, 1.8845000267028809, 1.9847999811172485, 1.9936000108718872, 2.037600040435791, 1.8614000082015991, 1.2960000038146973, 1.7199000120162964, 1.601699948310852, 1.59089994430542, 1.4479000568389893, 0.6316999793052673, 0.7419999837875366, 1.684000015258789, 0.6503000259399414, 1.6260000467300415, 1.0906000137329102, 0.762499988079071, 0.6782000064849854, 1.7529000043869019, -0.1923999935388565, 0.8136000037193298, -0.4327999949455261, 0.39570000767707825, 0.9186000227928162], \"logprob\": [30.0, 29.0, 28.0, 27.0, 26.0, 25.0, 24.0, 23.0, 22.0, 21.0, 20.0, 19.0, 18.0, 17.0, 16.0, 15.0, 14.0, 13.0, 12.0, 11.0, 10.0, 9.0, 8.0, 7.0, 6.0, 5.0, 4.0, 3.0, 2.0, 1.0, -4.983799934387207, -5.446899890899658, -6.24459981918335, -6.376800060272217, -6.5055999755859375, -5.264500141143799, -5.774499893188477, -5.403299808502197, -6.6595001220703125, -6.602200031280518, -6.390900135040283, -6.730199813842773, -6.6682000160217285, -6.769800186157227, -4.761899948120117, -6.665299892425537, -6.939899921417236, -6.999300003051758, -5.269100189208984, -5.408599853515625, -5.947000026702881, -7.006499767303467, -7.1350998878479, -7.334799766540527, -7.338399887084961, -7.435800075531006, -7.383299827575684, -6.816100120544434, -7.106400012969971, -7.296800136566162, -5.821100234985352, -5.5065999031066895, -6.870100021362305, -4.440499782562256, -5.220300197601318, -6.1479997634887695, -4.090000152587891, -2.3896000385284424, -5.072800159454346, -5.4232001304626465, -5.5157999992370605, -3.593400001525879, -6.106800079345703, -6.189300060272217, -5.998300075531006, -6.094600200653076, -3.892899990081787, -5.841899871826172, -5.170100212097168, -4.066800117492676, -5.295199871063232, -5.313399791717529, -5.472899913787842, -4.903500080108643, -3.929800033569336, -5.522900104522705, -5.338500022888184, -4.541399955749512, -4.524899959564209, -4.619999885559082, -4.486100196838379, -5.187300205230713, -4.593999862670898, -4.44980001449585, -5.161499977111816, -5.086900234222412, -5.213600158691406, -5.360400199890137, -6.408100128173828, -6.763299942016602, -7.105100154876709, -7.1479997634887695, -5.889900207519531, -7.3302001953125, -7.368800163269043, -7.21999979019165, -7.484799861907959, -6.117599964141846, -7.5619001388549805, -6.586299896240234, -4.662899971008301, -7.580599784851074, -5.670599937438965, -5.151100158691406, -5.186100006103516, -8.001799583435059, -7.133800029754639, -8.074999809265137, -8.1003999710083, -8.10319995880127, -8.187100410461426, -8.191900253295898, -8.076499938964844, -8.184399604797363, -8.30620002746582, -7.178899765014648, -8.368300437927246, -8.387999534606934, -4.6315999031066895, -7.032700061798096, -5.853899955749512, -5.990699768066406, -6.3059000968933105, -7.287700176239014, -4.777100086212158, -5.243500232696533, -4.0142998695373535, -6.269499778747559, -5.621300220489502, -4.870200157165527, -4.976099967956543, -5.598999977111816, -4.627699851989746, -3.7218000888824463, -4.854000091552734, -5.468100070953369, -2.588900089263916, -6.095600128173828, -3.853800058364868, -6.5131001472473145, -4.23769998550415, -5.1570000648498535, -4.759699821472168, -5.276000022888184, -3.6084001064300537, -3.754699945449829, -4.190999984741211, -4.128200054168701, -4.897600173950195, -4.823699951171875, -4.520899772644043, -3.9719998836517334, -4.904099941253662, -5.231599807739258, -4.935800075531006, -4.736100196838379, -4.625999927520752, -4.645400047302246, -6.2515997886657715, -6.6803998947143555, -4.4832000732421875, -5.874100208282471, -6.23829984664917, -7.322199821472168, -6.156899929046631, -7.402200222015381, -5.259500026702881, -7.937900066375732, -5.2795000076293945, -4.904799938201904, -7.877999782562256, -7.97760009765625, -7.388400077819824, -3.2569000720977783, -8.119099617004395, -8.1181001663208, -7.884399890899658, -8.159000396728516, -8.034000396728516, -6.264900207519531, -8.211899757385254, -8.21500015258789, -8.145000457763672, -7.99970006942749, -8.27400016784668, -8.30210018157959, -8.284099578857422, -4.947400093078613, -5.6732001304626465, -5.099400043487549, -6.273900032043457, -5.782400131225586, -6.790599822998047, -3.15939998626709, -3.155100107192993, -3.989000082015991, -4.945099830627441, -6.806000232696533, -4.040999889373779, -5.667399883270264, -5.8024001121521, -4.773399829864502, -5.818900108337402, -4.391300201416016, -5.381800174713135, -4.996099948883057, -4.98199987411499, -3.499000072479248, -5.006199836730957, -3.3738999366760254, -4.930799961090088, -4.435200214385986, -5.401899814605713, -3.7360999584198, -3.2911999225616455, -4.322700023651123, -4.532299995422363, -4.688899993896484, -4.537799835205078, -4.6280999183654785, -3.9540998935699463, -4.6921000480651855, -4.678400039672852, -4.9730000495910645, -5.428400039672852, -5.546899795532227, -5.82450008392334, -6.101200103759766, -6.269599914550781, -6.607500076293945, -6.270400047302246, -6.81820011138916, -5.8719000816345215, -5.690299987792969, -7.220900058746338, -7.208700180053711, -7.196800231933594, -7.616600036621094, -7.680200099945068, -7.6894001960754395, -7.669300079345703, -7.767600059509277, -7.669600009918213, -7.609000205993652, -7.758600234985352, -7.80210018157959, -7.79449987411499, -7.769400119781494, -7.902699947357178, -7.911799907684326, -7.750999927520752, -2.579400062561035, -8.017399787902832, -8.007499694824219, -5.501500129699707, -6.061999797821045, -6.579500198364258, -5.226799964904785, -5.377900123596191, -5.221399784088135, -4.5391998291015625, -5.502200126647949, -4.626200199127197, -6.112500190734863, -4.885900020599365, -6.143899917602539, -5.98330020904541, -6.496500015258789, -5.4552001953125, -6.934700012207031, -3.9535000324249268, -5.1666998863220215, -4.514900207519531, -4.197800159454346, -5.5528998374938965, -4.2530999183654785, -5.29580020904541, -3.528899908065796, -4.183700084686279, -4.695899963378906, -4.179999828338623, -5.589000225067139, -4.623899936676025, -5.510799884796143, -4.271399974822998, -4.383200168609619, -4.645699977874756, -4.237199783325195, -4.58620023727417, -5.1031999588012695, -5.311699867248535, -4.959099769592285, -4.985300064086914, -5.1230998039245605, -4.949999809265137, -5.347400188446045, -5.298099994659424, -7.002200126647949, -7.293399810791016, -7.432400226593018, -7.542699813842773, -7.546299934387207, -7.677999973297119, -7.742700099945068, -7.9527997970581055, -7.971799850463867, -8.101300239562988, -8.10770034790039, -5.550899982452393, -8.229000091552734, -8.315400123596191, -8.324700355529785, -8.325200080871582, -8.336600303649902, -7.994200229644775, -8.411299705505371, -8.327199935913086, -8.446100234985352, -8.437100410461426, -8.41919994354248, -8.46969985961914, -8.456399917602539, -8.484600067138672, -5.6407999992370605, -8.510499954223633, -8.442999839782715, -8.553199768066406, -1.917199969291687, -3.8928000926971436, -3.715100049972534, -5.647600173950195, -2.2269999980926514, -5.833600044250488, -4.773499965667725, -6.276000022888184, -8.001899719238281, -7.52839994430542, -4.584499835968018, -6.157100200653076, -3.740799903869629, -3.408600091934204, -5.146900177001953, -6.9653000831604, -3.923099994659424, -3.7743000984191895, -2.222899913787842, -5.641600131988525, -4.459700107574463, -6.404799938201904, -6.142300128936768, -5.782800197601318, -5.195300102233887, -4.035399913787842, -5.051599979400635, -5.339200019836426, -4.096700191497803, -4.682300090789795, -4.265200138092041, -5.542699813842773, -3.5880000591278076, -4.740499973297119, -5.08489990234375, -4.660099983215332, -5.456699848175049, -5.294400215148926, -5.183700084686279, -5.155600070953369, -5.268199920654297, -5.424300193786621, -4.686399936676025, -4.950500011444092, -4.922299861907959, -5.61959981918335, -6.02400016784668, -5.302999973297119, -6.418600082397461, -6.549200057983398, -6.513199806213379, -4.929100036621094, -6.980400085449219, -7.1168999671936035, -6.736700057983398, -7.39109992980957, -7.406899929046631, -7.4446001052856445, -7.445000171661377, -7.441800117492676, -7.52209997177124, -7.601799964904785, -7.614099979400635, -7.626999855041504, -7.646599769592285, -7.528900146484375, -7.498700141906738, -6.879300117492676, -7.769899845123291, -7.6132001876831055, -6.98859977722168, -7.129199981689453, -4.535900115966797, -5.0680999755859375, -5.858799934387207, -4.556099891662598, -7.255300045013428, -4.719799995422363, -6.869200229644775, -6.7515997886657715, -5.315000057220459, -5.6504998207092285, -4.790500164031982, -6.423900127410889, -6.763999938964844, -6.775400161743164, -6.411499977111816, -4.863399982452393, -5.262899875640869, -5.316800117492676, -5.973800182342529, -4.931600093841553, -5.4120001792907715, -4.05620002746582, -5.844099998474121, -5.242300033569336, -4.856900215148926, -5.796899795532227, -5.305799961090088, -6.041800022125244, -5.196700096130371, -3.8814001083374023, -4.491499900817871, -5.490900039672852, -4.889999866485596, -5.000199794769287, -4.86359977722168, -4.204999923706055, -4.374899864196777, -4.786200046539307, -5.111599922180176, -4.979100227355957, -5.024499893188477, -4.930300235748291, -4.985599994659424, -5.1880998611450195, -6.7932000160217285, -7.09089994430542, -6.69920015335083, -7.190499782562256, -7.492099761962891, -7.592199802398682, -7.64169979095459, -7.400100231170654, -7.742499828338623, -6.613999843597412, -7.964900016784668, -7.987800121307373, -8.006799697875977, -8.054100036621094, -8.067000389099121, -8.067099571228027, -8.033699989318848, -8.082200050354004, -8.141900062561035, -7.927199840545654, -8.166299819946289, -8.26990032196045, -8.162400245666504, -8.298399925231934, -7.59499979019165, -7.841300010681152, -8.367199897766113, -7.997200012207031, -8.349699974060059, -8.37720012664795, -7.488999843597412, -4.908899784088135, -5.620699882507324, -7.229700088500977, -7.100900173187256, -4.69379997253418, -5.918399810791016, -6.0040998458862305, -3.7741000652313232, -5.112599849700928, -6.7170000076293945, -3.9893999099731445, -6.338600158691406, -3.1610000133514404, -5.655300140380859, -6.868599891662598, -5.276000022888184, -2.4021999835968018, -4.551599979400635, -4.769899845123291, -4.896599769592285, -5.558899879455566, -3.784600019454956, -3.210599899291992, -6.132699966430664, -4.337399959564209, -4.044300079345703, -5.119500160217285, -3.1403000354766846, -6.1528000831604, -4.490900039672852, -5.96750020980835, -6.061200141906738, -3.8782999515533447, -4.458499908447266, -4.730400085449219, -5.4268999099731445, -5.1132001876831055, -4.9039998054504395, -5.603499889373779, -5.454699993133545, -5.076600074768066, -4.361599922180176, -5.023499965667725, -4.884099960327148, -5.261000156402588, -5.07420015335083, -5.225299835205078, -5.038300037384033, -5.091599941253662, -5.210000038146973, -6.008900165557861, -5.643799781799316, -6.2322001457214355, -6.047599792480469, -6.52269983291626, -6.453700065612793, -6.789899826049805, -5.4745001792907715, -6.535799980163574, -6.671800136566162, -6.94789981842041, -6.951300144195557, -6.966599941253662, -7.045100212097168, -7.127500057220459, -7.15369987487793, -7.277900218963623, -7.256899833679199, -7.367499828338623, -7.417300224304199, -7.430099964141846, -7.142199993133545, -7.464300155639648, -7.490300178527832, -7.485899925231934, -7.5254998207092285, -7.528600215911865, -5.606599807739258, -7.570700168609619, -7.540599822998047, -5.956099987030029, -5.934700012207031, -7.143899917602539, -4.911399841308594, -6.126299858093262, -6.738900184631348, -5.511899948120117, -5.703700065612793, -6.445300102233887, -5.732800006866455, -5.215000152587891, -5.299099922180176, -6.222300052642822, -5.479400157928467, -5.348700046539307, -6.100299835205078, -6.083499908447266, -3.662400007247925, -5.310299873352051, -5.085100173950195, -5.606299877166748, -4.035999774932861, -4.58459997177124, -5.137599945068359, -5.212600231170654, -5.3221001625061035, -5.0945000648498535, -4.075200080871582, -4.898399829864502, -4.964099884033203, -4.9552001953125, -4.843299865722656, -3.9096999168395996, -4.263700008392334, -5.140600204467773, -4.258900165557861, -5.180099964141846, -4.810299873352051, -4.634399890899658, -4.786900043487549, -5.279399871826172, -4.569300174713135, -4.957799911499023, -4.670499801635742, -5.223100185394287, -5.296199798583984]}, \"token.table\": {\"Topic\": [1, 5, 1, 5, 1, 2, 3, 4, 6, 7, 2, 3, 4, 5, 6, 7, 8, 8, 1, 2, 3, 4, 6, 7, 1, 3, 6, 8, 1, 3, 4, 5, 6, 7, 8, 6, 2, 4, 6, 5, 5, 8, 2, 6, 1, 3, 8, 2, 3, 4, 6, 7, 8, 1, 5, 6, 7, 1, 2, 3, 4, 5, 6, 7, 8, 1, 5, 7, 7, 2, 3, 6, 7, 1, 2, 4, 6, 7, 2, 3, 4, 6, 7, 3, 8, 1, 2, 3, 4, 5, 6, 7, 8, 2, 4, 3, 8, 4, 1, 2, 3, 4, 5, 6, 7, 8, 4, 5, 1, 3, 3, 1, 1, 5, 8, 1, 2, 3, 4, 5, 6, 7, 8, 5, 1, 2, 3, 4, 5, 6, 7, 4, 1, 2, 3, 4, 5, 6, 7, 8, 1, 2, 3, 4, 5, 6, 7, 8, 4, 7, 2, 4, 6, 7, 8, 2, 3, 7, 8, 1, 3, 6, 7, 2, 4, 6, 7, 8, 1, 2, 3, 4, 6, 7, 8, 6, 1, 2, 3, 4, 5, 6, 7, 8, 1, 3, 4, 5, 6, 8, 1, 5, 1, 1, 5, 7, 4, 7, 8, 7, 2, 4, 5, 2, 6, 5, 2, 1, 4, 5, 5, 4, 6, 4, 6, 8, 1, 2, 3, 4, 5, 6, 7, 8, 1, 2, 3, 4, 5, 6, 8, 8, 1, 2, 4, 5, 6, 7, 1, 8, 2, 3, 6, 7, 8, 1, 6, 8, 1, 2, 3, 4, 5, 6, 7, 8, 1, 2, 3, 4, 6, 7, 8, 1, 3, 8, 1, 2, 3, 4, 6, 7, 8, 3, 1, 2, 3, 5, 6, 7, 1, 2, 3, 4, 5, 6, 2, 3, 5, 7, 8, 1, 2, 3, 4, 5, 6, 7, 8, 1, 2, 3, 4, 5, 6, 7, 8, 2, 5, 2, 4, 7, 1, 2, 4, 5, 6, 7, 4, 6, 1, 6, 5, 2, 4, 7, 8, 6, 2, 4, 7, 4, 1, 2, 3, 4, 5, 6, 1, 2, 4, 5, 7, 8, 8, 3, 1, 3, 4, 6, 8, 1, 1, 1, 2, 3, 1, 1, 4, 6, 7, 8, 8, 4, 5, 7, 8, 4, 7, 1, 2, 3, 4, 7, 8, 1, 2, 3, 4, 5, 6, 7, 8, 1, 2, 3, 4, 5, 6, 8, 1, 8, 1, 4, 5, 6, 8, 1, 2, 5, 6, 7, 6, 3, 6, 1, 5, 1, 5, 7, 8, 1, 2, 3, 4, 5, 6, 7, 8, 1, 5, 8, 7, 6, 8, 6, 2, 3, 4, 6, 7, 8, 3, 5, 8, 3, 3, 8, 5, 1, 3, 5, 7, 8, 5, 1, 5, 1, 5, 1, 2, 4, 6, 7, 7, 1, 2, 3, 4, 5, 6, 7, 8, 6, 7, 2, 2, 3, 7, 5, 2, 2, 4, 6, 1, 5, 1, 3, 2, 3, 7, 8, 6, 7, 5, 1, 3, 4, 5, 6, 7, 8, 2, 3, 5, 8, 1, 2, 3, 4, 5, 6, 7, 8, 4, 1, 3, 4, 6, 8, 6, 1, 2, 3, 5, 8, 1, 3, 4, 5, 6, 7, 8, 1, 3, 6, 2, 4, 6, 7, 2, 7, 1, 2, 3, 4, 5, 6, 7, 8, 1, 2, 3, 4, 5, 6, 7, 1, 2, 3, 4, 5, 6, 7, 8, 2, 7, 3, 7, 8, 4, 6, 8, 1, 1, 4, 8, 6, 1, 2, 3, 4, 5, 6, 7, 8, 2, 3, 6, 6, 4, 5, 6, 7, 1, 3, 4, 7, 8, 5, 1, 2, 3, 4, 6, 7, 8, 1, 2, 3, 4, 5, 6, 7, 8, 2, 3, 6, 7, 8, 2, 4, 8, 4, 2, 3, 4, 5, 6, 7, 8, 8, 3, 4, 6, 5, 2, 4, 8, 7, 1, 2, 3, 4, 5, 6, 7, 8, 2, 3, 6, 5, 1, 2, 3, 4, 5, 6, 7, 8, 2, 2, 3, 8, 2, 7, 2, 3, 6, 7, 8, 2, 3, 4, 5, 2, 3, 4, 6, 7, 2, 4, 7, 1, 2, 3, 4, 5, 6, 7, 8, 7, 8, 4, 7, 7, 1, 3, 6, 8, 1, 2, 3, 4, 5, 6, 7, 8, 1, 2, 3, 4, 5, 6, 7, 8, 5, 2, 3, 4, 6, 7, 8, 1, 6, 8, 1, 2, 3, 4, 7, 8, 3, 1, 2, 3, 4, 7, 8, 2, 6, 4, 6, 7, 2, 3, 4, 6, 7, 7, 2, 1, 2, 6, 7, 1, 2, 1, 3, 6, 2, 3, 4, 6, 7, 2, 2, 3, 4, 5, 6, 7, 1, 2, 3, 4, 5, 6, 8, 1, 2, 3, 4, 5, 6, 7, 8, 6, 1, 2, 3, 4, 5, 7, 8, 7, 4, 5, 7, 1, 2, 3, 4, 5, 6, 7, 8, 1, 2, 3, 4, 6, 7, 8, 2, 3, 4, 6, 7, 8, 1, 2, 3, 4, 5, 6, 7, 8, 2, 5, 2, 3, 4, 1, 2, 6, 7, 8, 1, 3, 5, 8, 1, 5, 1, 2, 3, 4, 7, 8, 4, 7, 1, 2, 3, 4, 5, 6, 7, 8, 1, 2, 3, 4, 5, 6, 7, 8, 4, 4, 4, 1, 2, 3, 4, 5, 6, 7, 8, 1, 2, 3, 4, 5, 6, 7, 8, 2, 4, 6, 3, 8, 1, 2, 3, 4, 5, 6, 7, 8, 1, 2, 3, 4, 5, 6, 7, 8, 1, 2, 3, 4, 5, 6, 7, 8, 1, 2, 3, 4, 5, 6, 7, 8, 1, 2, 3, 4, 7, 8, 5, 2, 3, 4, 7, 8, 1, 2, 3, 4, 5, 6, 7, 8, 5, 2, 6, 8, 5, 8, 2, 6, 8, 7, 2, 3, 6, 7, 3, 6, 2, 1, 2, 4, 6, 8, 1, 2, 3, 8, 2, 3, 4, 6, 7, 2, 3, 4, 8, 1, 2, 3, 4, 5, 6, 7, 8, 3, 2, 3, 6, 7, 8, 2, 3, 4, 6, 7, 1, 2, 3, 4, 5, 6, 7, 8, 3, 5, 7, 8, 2, 7, 1, 2, 3, 4, 5, 6, 7, 8, 4, 2, 1, 2, 3, 4, 5, 6, 7, 8, 3, 4, 6, 4, 8, 1, 2, 3, 4, 6, 7, 8, 2, 3, 4, 7, 8, 3, 1, 2, 3, 4, 5, 6, 7, 8, 1, 6, 8, 6, 1, 8, 1, 4, 6, 8, 2, 3, 4, 2, 4, 6, 1, 4, 1, 5, 1, 5, 1, 4, 6, 6, 4, 4, 3, 2, 3, 6, 1, 2, 3, 4, 5, 6, 7, 8, 1, 2, 4, 5, 6, 8, 1, 2, 4, 5, 7, 8, 1, 2, 4, 5, 7, 8, 1, 2, 3, 4, 6, 8, 8, 1, 6, 4, 6, 1, 3, 4, 6, 7, 8, 1, 5, 6, 8, 8, 8, 1, 2, 3, 4, 5, 6, 7, 8, 1, 2, 3, 4, 6, 1, 2, 3, 4, 5, 6, 7, 8, 1, 2, 3, 4, 5, 6, 7, 8, 1, 2, 3, 4, 5, 6, 7, 8, 1, 2, 3, 4, 5, 6, 7, 8, 8, 2, 3, 8, 1, 3, 1, 3, 3, 1, 2, 3, 4, 5, 6, 7, 8, 1, 2, 3, 4, 5, 6, 7, 8, 1, 2, 3, 4, 5, 6, 7, 8, 3, 6, 7, 1, 2, 3, 4, 5, 6, 7, 8, 2, 4, 6, 7, 8, 4, 8, 2, 3, 4, 5, 6, 7, 8, 1, 5, 6, 1, 3, 8, 5, 1, 2, 3, 4, 5, 6, 7, 8, 1, 2, 3, 5, 7, 8, 1, 7, 8, 7, 1, 6, 1, 5, 2, 3, 4, 5, 6, 7, 8, 7, 3, 1, 5, 1, 2, 3, 4, 5, 8, 2, 3, 4, 8, 5, 1, 3, 4, 6, 7, 8, 2, 1, 8, 1, 6, 8, 4, 7, 8, 5, 2, 3, 4, 5, 6, 7, 8, 2, 3, 6, 7, 8, 2, 1, 5, 8, 2, 4, 5, 7, 8, 1, 5, 8, 3, 1, 2, 3, 4, 7, 6, 1, 2, 3, 4, 5, 6, 7, 8, 7, 3, 7, 2, 3, 4, 5, 6, 2, 7, 1, 2, 3, 4, 5, 6, 7, 8, 2, 2, 1, 2, 5, 7, 8, 1, 2, 3, 4, 7, 8, 2, 6, 1, 2, 3, 5, 6, 7, 6, 7, 2, 4, 6, 7, 8, 7, 8, 1, 2, 3, 4, 5, 6, 7, 8, 1, 2, 3, 4, 5, 6, 7, 8, 5, 2, 6, 8, 2, 2, 6, 7, 2, 3, 4, 5, 6, 7, 8, 6, 7, 5, 2, 4, 7, 8, 3, 7, 4, 1, 5, 7, 8, 1, 3, 5, 8, 4, 8, 1, 2, 3, 4, 5, 6, 7, 8, 5, 6, 3, 4, 8, 6, 4, 1, 5, 4, 5, 5, 1, 2, 3, 4, 5, 6, 8, 1, 2, 8, 2, 2, 2, 3, 4, 6, 7, 8, 4, 7, 4, 1, 2, 3, 4, 5, 6, 7, 8, 2, 3, 1, 2, 4, 5, 6, 7, 1, 2, 3, 4, 5, 6, 7, 8, 2, 2, 3, 6, 7, 8, 8, 7, 6, 1, 3, 6, 7, 8, 4, 4, 1, 2, 3, 4, 5, 6, 7, 8, 1, 2, 3, 4, 5, 6, 7, 8, 2, 3, 8, 1, 2, 3, 7, 8, 2, 3, 6, 7, 8, 2, 4, 6, 1, 4, 7, 8, 1, 2, 3, 4, 6, 7, 8, 1, 4, 8, 2, 7, 2, 3, 4, 8, 2, 3, 4, 6, 7, 8, 1, 2, 3, 4, 5, 6, 7, 8, 1, 2, 3, 4, 5, 6, 7, 8, 1, 2, 3, 4, 5, 6, 7, 8, 1, 5, 1, 1, 2, 8, 1, 2, 3, 6, 7, 8, 1, 2, 3, 4, 6, 8, 2, 3, 8, 3, 8, 1, 2, 2, 3, 6, 3, 7, 2, 4, 8], \"Freq\": [0.9944664239883423, 0.00424985634163022, 0.9931812286376953, 0.0056111933663487434, 0.032022107392549515, 0.017790058627724648, 0.7044863104820251, 0.09962432831525803, 0.017790058627724648, 0.12808842957019806, 0.5717751979827881, 0.20924539864063263, 0.09975653141736984, 0.002433086046949029, 0.10705578327178955, 0.002433086046949029, 0.0072992583736777306, 0.8932326436042786, 0.004623298533260822, 0.7859607338905334, 0.12945236265659332, 0.06934947520494461, 0.004623298533260822, 0.004623298533260822, 0.973169207572937, 0.9443648457527161, 0.973545491695404, 0.9689202308654785, 0.018582096323370934, 0.06503733992576599, 0.013936572708189487, 0.05110076814889908, 0.6736010313034058, 0.12078363448381424, 0.05574629083275795, 0.9701945185661316, 0.1778869479894638, 0.011117934249341488, 0.8060502409934998, 0.8817282319068909, 0.9140343070030212, 0.07371243834495544, 0.03094443678855896, 0.9283331036567688, 0.012733295559883118, 0.9465082883834839, 0.03395545482635498, 0.003213442163541913, 0.003213442163541913, 0.019280653446912766, 0.8451352715492249, 0.09318982064723969, 0.03534786403179169, 0.9784285426139832, 0.01927937939763069, 0.9420667290687561, 0.9250006675720215, 0.34758344292640686, 0.277963250875473, 0.05875014513731003, 0.038562871515750885, 0.033904269337654114, 0.15709839761257172, 0.02613993175327778, 0.0597853884100914, 0.9954721331596375, 0.0033744818065315485, 0.8861245512962341, 0.8938298225402832, 0.8128143548965454, 0.0302286334335804, 0.1511431634426117, 0.9252194762229919, 0.05069306492805481, 0.16221781075000763, 0.020277226343750954, 0.7603960037231445, 0.9691596627235413, 0.7102157473564148, 0.05157991498708725, 0.0019838428124785423, 0.23409345746040344, 0.8802985548973083, 0.9813805818557739, 0.007978703826665878, 0.0005638576694764197, 0.6258820295333862, 0.241331085562706, 0.0011277153389528394, 0.0005638576694764197, 0.06879063695669174, 0.060896627604961395, 0.0011277153389528394, 0.9704720973968506, 0.9357421398162842, 0.9227532148361206, 0.9823906421661377, 0.958759069442749, 0.1274949461221695, 0.09187135845422745, 0.2099916636943817, 0.02249910682439804, 0.00562477670609951, 0.07312209904193878, 0.4499821364879608, 0.020624181255698204, 0.9823914766311646, 0.9152958393096924, 0.9698683619499207, 0.027909880504012108, 0.9214147329330444, 0.9853273034095764, 0.8759915828704834, 0.12382395565509796, 0.0001397561572957784, 0.5475580096244812, 0.002337993122637272, 0.0018703945679590106, 0.11923765391111374, 0.21041938662528992, 0.008416775614023209, 0.10006611049175262, 0.009351972490549088, 0.9318252801895142, 0.18524695932865143, 0.008142723701894283, 0.014249765314161777, 0.002035680925473571, 0.6656676530838013, 0.06514178961515427, 0.059034742414951324, 0.963945746421814, 0.08603965491056442, 0.060157809406518936, 0.08044358342885971, 0.2560204267501831, 0.12591169774532318, 0.055261243134737015, 0.07134995609521866, 0.26511406898498535, 0.28814437985420227, 0.015704551711678505, 0.06964626908302307, 0.24444475769996643, 0.11266309022903442, 0.22532618045806885, 0.04233400896191597, 0.000682806596159935, 0.93043452501297, 0.9558595418930054, 0.0029095064383000135, 0.07564716786146164, 0.9194040298461914, 0.0029095064383000135, 0.0029095064383000135, 0.0426853746175766, 0.11738478392362595, 0.7469940781593323, 0.0853707492351532, 0.070808045566082, 0.007867560721933842, 0.8182263374328613, 0.10227829217910767, 0.06398757547140121, 0.7845433354377747, 0.030602755025029182, 0.005564137361943722, 0.11406481266021729, 0.000671854882966727, 0.44543978571891785, 0.03695201873779297, 0.3822854459285736, 0.1101842001080513, 0.013437097892165184, 0.011421533301472664, 0.9036800861358643, 0.09792745858430862, 0.06742046028375626, 0.45791003108024597, 0.1159265860915184, 0.0064064692705869675, 0.06192920356988907, 0.05613287538290024, 0.13636627793312073, 0.9018028974533081, 0.0021070160437375307, 0.006321048364043236, 0.004214032087475061, 0.04214031994342804, 0.040033306926488876, 0.9250099658966064, 0.07432394474744797, 0.971560001373291, 0.9536470174789429, 0.044961024075746536, 0.9812961220741272, 0.9784109592437744, 0.9297187328338623, 0.09297186881303787, 0.9248765707015991, 0.931779146194458, 0.02272632159292698, 0.04545264318585396, 0.9741889834403992, 0.015341558493673801, 0.942107617855072, 0.9473196864128113, 0.9280810356140137, 0.04640405252575874, 0.019887451082468033, 0.8840610980987549, 0.01335147488862276, 0.9813333749771118, 0.8465366959571838, 0.07204567641019821, 0.08105138689279556, 0.3212640583515167, 0.014542817138135433, 0.07844308018684387, 0.11546115577220917, 0.24943135678768158, 0.043187759816646576, 0.03878084570169449, 0.13881780207157135, 0.7264261245727539, 0.0037348386831581593, 0.10831032693386078, 0.04855290427803993, 0.0074696773663163185, 0.04481806606054306, 0.06162483990192413, 0.9573252201080322, 0.13663817942142487, 0.18218423426151276, 0.16700221598148346, 0.07084942609071732, 0.015182019211351871, 0.4276268780231476, 0.990129828453064, 0.9298450946807861, 0.0028272278141230345, 0.014136139303445816, 0.8736134171485901, 0.00848168320953846, 0.09895297139883041, 0.9836097359657288, 0.06884744763374329, 0.8950168490409851, 0.028744665905833244, 0.04499165341258049, 0.6786240935325623, 0.11497866362333298, 0.004999072290956974, 0.028744665905833244, 0.05623956397175789, 0.04374188557267189, 0.23872233927249908, 0.03335091471672058, 0.01930842362344265, 0.11058460921049118, 0.21414797008037567, 0.07372307032346725, 0.3089347779750824, 0.10954054445028305, 0.09389189630746841, 0.79808109998703, 0.00789437536150217, 0.01973593980073929, 0.00789437536150217, 0.25262001156806946, 0.6157612800598145, 0.003947187680751085, 0.09078531712293625, 0.9147796630859375, 0.5692594051361084, 0.13363711535930634, 0.0017355468589812517, 0.24471211433410645, 0.03991757705807686, 0.008677734062075615, 0.7381435036659241, 0.03285505250096321, 0.03504538908600807, 0.08323279768228531, 0.02628404274582863, 0.08323279768228531, 0.20246057212352753, 0.7643919587135315, 0.008263696916401386, 0.004131848458200693, 0.01859331876039505, 0.02080220729112625, 0.11325646191835403, 0.6957182884216309, 0.0023113563656806946, 0.004622712731361389, 0.004622712731361389, 0.13868138194084167, 0.023113563656806946, 0.010350522585213184, 0.001035052235238254, 0.537192165851593, 0.02277114987373352, 0.001035052235238254, 0.002070104470476508, 0.017595889046788216, 0.40781059861183167, 0.9762253165245056, 0.9291686415672302, 0.05699820816516876, 0.22799283266067505, 0.7124776244163513, 0.003697032341733575, 0.21073085069656372, 0.22182194888591766, 0.003697032341733575, 0.025879226624965668, 0.5360696911811829, 0.935789942741394, 0.9474743008613586, 0.9923255443572998, 0.9392554759979248, 0.9265592694282532, 0.011667043901979923, 0.2838980555534363, 0.6650214791297913, 0.03889014571905136, 0.9557610154151917, 0.036532286554574966, 0.1095968633890152, 0.8402426242828369, 0.9025765061378479, 0.053345341235399246, 0.013336335308849812, 0.013336335308849812, 0.013336335308849812, 0.7068257927894592, 0.20004503428936005, 0.22043676674365997, 0.10470746457576752, 0.005510919261723757, 0.5455809831619263, 0.1267511397600174, 0.9596637487411499, 0.9591898322105408, 0.9329934120178223, 0.17012716829776764, 0.763681948184967, 0.01512241456657648, 0.04158664122223854, 0.00378060364164412, 0.9951460361480713, 0.9957069158554077, 0.136726513504982, 0.010938121005892754, 0.8531734347343445, 0.9903876185417175, 0.9944894313812256, 0.6019657254219055, 0.05159706249833107, 0.33968067169189453, 0.004299755208194256, 0.9857249855995178, 0.009448602795600891, 0.08503742516040802, 0.037794411182403564, 0.8503742218017578, 0.9265729188919067, 0.07127483934164047, 0.00103897659573704, 0.1049366369843483, 0.8436489701271057, 0.023896461352705956, 0.011428742669522762, 0.015584648586809635, 0.19711150228977203, 0.06081099435687065, 0.07968337088823318, 0.14049436151981354, 0.016775446012616158, 0.0020969307515770197, 0.02516316995024681, 0.4781002402305603, 0.5236294269561768, 0.011968673206865788, 0.05086686089634895, 0.01795300841331482, 0.002992168301716447, 0.005984336603432894, 0.3889818787574768, 0.987490713596344, 0.011033415794372559, 0.09411747753620148, 0.003666914766654372, 0.7981650829315186, 0.10022900253534317, 0.0024446097668260336, 0.030508114024996758, 0.1186426654458046, 0.6305010318756104, 0.1999976485967636, 0.013559161685407162, 0.9530000686645508, 0.9517253041267395, 0.9220688343048096, 0.18562838435173035, 0.7955502271652222, 0.039113741368055344, 0.8917933106422424, 0.007822748273611069, 0.06258198618888855, 0.058424126356840134, 0.11967522650957108, 0.09705943614244461, 0.09046316146850586, 0.0009423245792277157, 0.4805855453014374, 0.12721382081508636, 0.02638508938252926, 0.9935455322265625, 0.9322354793548584, 0.963424801826477, 0.9221376776695251, 0.9698042869567871, 0.9428842663764954, 0.9795302748680115, 0.7479439973831177, 0.12749044597148895, 0.029747772961854935, 0.046746499836444855, 0.00637452257797122, 0.04037197679281235, 0.9132649302482605, 0.006764925550669432, 0.06764925271272659, 0.9399109482765198, 0.9283850789070129, 0.05592681095004082, 0.9410951137542725, 0.008725105784833431, 0.9452197551727295, 0.005816736724227667, 0.031992051750421524, 0.005816736724227667, 0.9550901055335999, 0.9904279708862305, 0.008465196006000042, 0.9783996343612671, 0.013780277222394943, 0.0682590901851654, 0.11376515030860901, 0.6923421621322632, 0.00975129846483469, 0.11051471531391144, 0.884838342666626, 0.009166816249489784, 0.25089916586875916, 0.13648371398448944, 0.17688560485839844, 0.00305560533888638, 0.00441365223377943, 0.4077535569667816, 0.011543397791683674, 0.9940356016159058, 0.004756151232868433, 0.9705680012702942, 0.041788455098867416, 0.9527767896652222, 0.004178845789283514, 0.9232386350631714, 0.8848775625228882, 0.8326360583305359, 0.14693577587604523, 0.01224464736878872, 0.9859327673912048, 0.012888009659945965, 0.9728017449378967, 0.9657736420631409, 0.05106671527028084, 0.35746699571609497, 0.5617338418960571, 0.02553335763514042, 0.9635223150253296, 0.02752920798957348, 0.9510212540626526, 0.02809850685298443, 0.022478803992271423, 0.10677432268857956, 0.6406459212303162, 0.03933790698647499, 0.14611223340034485, 0.016859102994203568, 0.05105225741863251, 0.025526128709316254, 0.7657838463783264, 0.15315677225589752, 0.05087598040699959, 0.06500819325447083, 0.08196685463190079, 0.10740484297275543, 0.5243052244186401, 0.07914040982723236, 0.08903296291828156, 0.0014132215874269605, 0.9282546639442444, 0.09117688238620758, 0.011397110298275948, 0.011397110298275948, 0.05698555335402489, 0.820591926574707, 0.9418421387672424, 0.01115179993212223, 0.12266980111598969, 0.02230359986424446, 0.7583224177360535, 0.07806260138750076, 0.14903225004673004, 0.008279569447040558, 0.022078851237893105, 0.7479211091995239, 0.055197130888700485, 0.011039425618946552, 0.005519712809473276, 0.07825222611427307, 0.02608407661318779, 0.8868585824966431, 0.811238169670105, 0.03938049450516701, 0.0945131853222847, 0.04725659266114235, 0.08004635572433472, 0.8805098533630371, 0.18799754977226257, 0.06600803136825562, 0.043448321521282196, 0.10945635288953781, 0.5297353267669678, 0.02506634034216404, 0.006684357300400734, 0.03091515228152275, 0.07875257730484009, 0.17208896577358246, 0.004375143442302942, 0.018958954140543938, 0.2887594401836395, 0.0014583810698240995, 0.4360559582710266, 0.17781515419483185, 0.04445378854870796, 0.007408964913338423, 0.5593768358230591, 0.01111344713717699, 0.06297620385885239, 0.1370658576488495, 0.9607738852500916, 0.22823168337345123, 0.7354131937026978, 0.9662480354309082, 0.8890205025672913, 0.055563781410455704, 0.9482002258300781, 0.09238865971565247, 0.9054088592529297, 0.9792726039886475, 0.990578293800354, 0.9126831293106079, 0.9648914933204651, 0.964390218257904, 0.04878440126776695, 0.3610045611858368, 0.3561261296272278, 0.0016261466080322862, 0.0032522932160645723, 0.03902751952409744, 0.008130732923746109, 0.1821284294128418, 0.03367796912789345, 0.9317571520805359, 0.02245198003947735, 0.9979134798049927, 0.13211482763290405, 0.008257176727056503, 0.008257176727056503, 0.8504891991615295, 0.0785415843129158, 0.1767185628414154, 0.01963539607822895, 0.5988795757293701, 0.1178123727440834, 0.9584739804267883, 0.0005967127508483827, 0.5806015133857727, 0.3466901183128357, 0.0005967127508483827, 0.003580276621505618, 0.06742854416370392, 0.0005967127508483827, 0.059173960238695145, 0.004551843274384737, 0.19572925567626953, 0.09103686362504959, 0.004551843274384737, 0.013655529357492924, 0.004551843274384737, 0.6281543374061584, 0.11019100248813629, 0.04897378012537956, 0.7499109506607056, 0.05815635994076729, 0.033669471740722656, 0.01561395451426506, 0.04684186354279518, 0.9212233424186707, 0.9886243939399719, 0.004189920146018267, 0.2120099514722824, 0.035195328295230865, 0.0016759679419919848, 0.0008379839709959924, 0.26647892594337463, 0.47932684421539307, 0.9039422869682312, 0.9684977531433105, 0.02082790993154049, 0.010413954965770245, 0.9722760915756226, 0.07268410921096802, 0.8722092509269714, 0.024228034541010857, 0.9357296228408813, 0.04380306974053383, 0.07835688441991806, 0.004537370055913925, 0.005060912575572729, 0.8221365213394165, 0.03717153146862984, 0.0062825120985507965, 0.0026177132967859507, 0.9580919742584229, 0.008850733749568462, 0.03097756952047348, 0.9555195569992065, 0.12064103037118912, 0.0737677663564682, 0.30967092514038086, 0.170587956905365, 0.00845255609601736, 0.08759921789169312, 0.08606238663196564, 0.14292503893375397, 0.9554128050804138, 0.04303723946213722, 0.928374707698822, 0.024592706933617592, 0.04914331063628197, 0.9337228536605835, 0.014660025015473366, 0.7232279181480408, 0.002443337580189109, 0.14904358983039856, 0.10506351292133331, 0.010945530608296394, 0.8263875842094421, 0.1477646678686142, 0.010945530608296394, 0.0019880954641848803, 0.9841073155403137, 0.005964286625385284, 0.0019880954641848803, 0.0039761909283697605, 0.13937731087207794, 0.08959969878196716, 0.7566196322441101, 0.08864649385213852, 0.09585803002119064, 0.09319531172513962, 0.029289955273270607, 0.38498538732528687, 0.02230030670762062, 0.28446757793426514, 0.0011094679357483983, 0.9429303407669067, 0.939056932926178, 0.02764720842242241, 0.9676522612571716, 0.8753198385238647, 0.8997390270233154, 0.021170329302549362, 0.07938873767852783, 0.9379332661628723, 0.10810510814189911, 0.03920295089483261, 0.12711259722709656, 0.191262885928154, 0.15087196230888367, 0.02851123735308647, 0.1389922797679901, 0.21621021628379822, 0.174595907330513, 0.1100713312625885, 0.1024802029132843, 0.01897781528532505, 0.02277337945997715, 0.4592631459236145, 0.1024802029132843, 0.00759112648665905, 0.9655162692070007, 0.24190226197242737, 0.018110329285264015, 0.4411158859729767, 0.10866197943687439, 0.19015845656394958, 0.0012935949489474297, 0.05759245529770851, 0.07678993791341782, 0.8446893692016602, 0.005109108984470367, 0.24012811481952667, 0.18392792344093323, 0.005109108984470367, 0.010218217968940735, 0.5568928718566895, 0.9711112976074219, 0.17228534817695618, 0.002970437053591013, 0.014852185733616352, 0.014852185733616352, 0.7693431973457336, 0.023763496428728104, 0.974440336227417, 0.9615288972854614, 0.8597124218940735, 0.04605602100491524, 0.09211204200983047, 0.060617845505476, 0.006061784457415342, 0.31521278619766235, 0.01818535290658474, 0.6001166701316833, 0.9374268651008606, 0.9025174975395203, 0.009540791623294353, 0.9636198878288269, 0.009540791623294353, 0.009540791623294353, 0.0530753955245018, 0.9288194179534912, 0.05208584666252136, 0.05208584666252136, 0.8854593634605408, 0.8167839646339417, 0.008464083075523376, 0.11849715560674667, 0.05078449472784996, 0.002116020768880844, 0.9241028428077698, 0.47744128108024597, 0.06074316427111626, 0.15550249814987183, 0.014578359201550484, 0.240542933344841, 0.049809396266937256, 0.12015056610107422, 0.11214052885770798, 0.17088080942630768, 0.04806022718548775, 0.4111819565296173, 0.12015056610107422, 0.018690088763833046, 0.014607351273298264, 0.0024345587007701397, 0.07790587842464447, 0.01704191043972969, 0.304319828748703, 0.06329852342605591, 0.11685881018638611, 0.4041367173194885, 0.9388677477836609, 0.01225031167268753, 0.20213015377521515, 0.6451830863952637, 0.002041718689724803, 0.03675093501806259, 0.08371046185493469, 0.016333749517798424, 0.9135330319404602, 0.04909389466047287, 0.8345962166786194, 0.04909389466047287, 0.05839398503303528, 0.28539031744003296, 0.5448734760284424, 0.008224504999816418, 0.019738811999559402, 0.0004112252499908209, 0.07155319303274155, 0.01110308151692152, 0.00033090412034653127, 0.04136301577091217, 0.00628717802464962, 0.9364586472511292, 0.010588931851089, 0.0036399452947080135, 0.0009927123319357634, 0.019584007561206818, 0.15177606046199799, 0.7099202871322632, 0.09302403777837753, 0.009792003780603409, 0.009792003780603409, 0.3487809896469116, 0.031707365065813065, 0.09059246629476547, 0.022648116573691368, 0.015853682532906532, 0.13135908544063568, 0.004529623314738274, 0.35557544231414795, 0.9452236890792847, 0.9098687767982483, 0.9531181454658508, 0.025759950280189514, 0.025759950280189514, 0.057315997779369354, 0.14990338683128357, 0.6745651960372925, 0.013226768933236599, 0.09699630737304688, 0.8980425000190735, 0.006531218066811562, 0.009796827100217342, 0.08490583300590515, 0.8994765877723694, 0.0982871726155281, 0.9811582565307617, 0.13516050577163696, 0.6712207794189453, 0.025199415162205696, 0.14203307032585144, 0.025199415162205696, 0.9581862092018127, 0.9505741000175476, 0.38028186559677124, 0.0019402136094868183, 0.0038804272189736366, 0.16394804418087006, 0.2881217300891876, 0.0009701068047434092, 0.14745622873306274, 0.012611388228833675, 0.08073746412992477, 0.08223260194063187, 0.0014951382763683796, 0.6115115284919739, 0.004485414829105139, 0.002990276552736759, 0.12260133773088455, 0.0941937118768692, 0.9261243939399719, 0.9942004084587097, 0.9746993780136108, 0.30319249629974365, 0.20417416095733643, 0.09860916435718536, 0.1906716525554657, 0.04009833186864853, 0.07937832921743393, 0.057692497968673706, 0.02577749826014042, 0.14209797978401184, 0.19499576091766357, 0.08608855307102203, 0.05082336440682411, 0.01763259433209896, 0.2302609533071518, 0.21781441569328308, 0.06015826761722565, 0.8926904201507568, 0.06086525321006775, 0.040576837956905365, 0.935762345790863, 0.9341192841529846, 0.7758591175079346, 0.01938616670668125, 0.023098411038517952, 0.009074375964701176, 0.12497889995574951, 0.01814875192940235, 0.027635598555207253, 0.002062358194962144, 0.7414950728416443, 0.0259415190666914, 0.002161793177947402, 0.17294345796108246, 0.002161793177947402, 0.004323586355894804, 0.03458869084715843, 0.015132552944123745, 0.40266773104667664, 0.12333016842603683, 0.1676025390625, 0.13492532074451447, 0.027406705543398857, 0.061138033866882324, 0.08222011476755142, 0.0010541040683165193, 0.08314299583435059, 0.1163424551486969, 0.3016820549964905, 0.316116601228714, 0.0020208365749567747, 0.009815492667257786, 0.16917289793491364, 0.0020208365749567747, 0.00230976240709424, 0.011548811569809914, 0.44809389114379883, 0.1224174052476883, 0.055434297770261765, 0.3603229224681854, 0.9167372584342957, 0.02768377587199211, 0.8340854048728943, 0.05492103844881058, 0.07903271913528442, 0.0035721000749617815, 0.2683228850364685, 0.017231745645403862, 0.0073850336484611034, 0.046771880239248276, 0.33724987506866455, 0.2683228850364685, 0.002461677882820368, 0.05169523507356644, 0.960759699344635, 0.07853991538286209, 0.8901190161705017, 0.026179971173405647, 0.857599675655365, 0.9553347826004028, 0.8448659181594849, 0.10682212561368942, 0.038844410330057144, 0.8998855352401733, 0.0055175586603581905, 0.09379849582910538, 0.6290016770362854, 0.27036038041114807, 0.06626194715499878, 0.9276673197746277, 0.9586354494094849, 0.007508032489567995, 0.2853052318096161, 0.022524096071720123, 0.6682148575782776, 0.007508032489567995, 0.20676040649414062, 0.008270416408777237, 0.008270416408777237, 0.7691487073898315, 0.02565162628889084, 0.004275270737707615, 0.863604724407196, 0.0855054184794426, 0.02137635461986065, 0.16718743741512299, 0.17401140928268433, 0.19107134640216827, 0.46744242310523987, 0.3739303946495056, 0.06787092983722687, 0.05890684574842453, 0.06018742918968201, 0.20617395639419556, 0.1152525246143341, 0.09860493242740631, 0.020489336922764778, 0.9419796466827393, 0.7000601291656494, 0.02026900090277195, 0.01091407798230648, 0.26505616307258606, 0.0015591540141031146, 0.35482197999954224, 0.010951295495033264, 0.010951295495033264, 0.5015693306922913, 0.1204642504453659, 0.2994832396507263, 0.18770429491996765, 0.043235257267951965, 0.07803437113761902, 0.09068859368562698, 0.18770429491996765, 0.03269007429480553, 0.08119792491197586, 0.8331443667411804, 0.006311699748039246, 0.14516909420490265, 0.012623399496078491, 0.9471242427825928, 0.051594316959381104, 0.1654558926820755, 0.1194959208369255, 0.02246931940317154, 0.5729676485061646, 0.0020426653791218996, 0.02246931940317154, 0.034725312143564224, 0.059237293899059296, 0.9504339694976807, 0.969441294670105, 0.08464308083057404, 0.14381106197834015, 0.03533643111586571, 0.11258351802825928, 0.230097696185112, 0.18654349446296692, 0.20544438064098358, 0.0016435550060123205, 0.00929969735443592, 0.9764682054519653, 0.00929969735443592, 0.9762067794799805, 0.015495345927774906, 0.0009174046572297812, 0.021559009328484535, 0.8531863689422607, 0.08577733486890793, 0.0004587023286148906, 0.029356949031352997, 0.008715344592928886, 0.01931598223745823, 0.26076576113700867, 0.6020147800445557, 0.07082527130842209, 0.045070625841617584, 0.972713828086853, 0.688951313495636, 0.01766541786491871, 0.10094524174928665, 0.015141787007451057, 0.04542535915970802, 0.08327982574701309, 0.02018904872238636, 0.025236310437321663, 0.1370059698820114, 0.011417164467275143, 0.8448701500892639, 0.9446483850479126, 0.9851588606834412, 0.9587839841842651, 0.06080612912774086, 0.9242531657218933, 0.0060806130059063435, 0.0060806130059063435, 0.8867912292480469, 0.0738992691040039, 0.03167111426591873, 0.03216758370399475, 0.8578022122383118, 0.09650275111198425, 0.9865564703941345, 0.011210869066417217, 0.965329647064209, 0.026447387412190437, 0.8613715767860413, 0.1385120153427124, 0.992955207824707, 0.837134063243866, 0.15420891344547272, 0.9204208850860596, 0.9887714385986328, 0.994756281375885, 0.9819920063018799, 0.009397112764418125, 0.9890460968017578, 0.9538978338241577, 0.0044801984913647175, 0.1657673418521881, 0.27150002121925354, 0.05555446073412895, 0.045698024332523346, 0.017024753615260124, 0.3315346837043762, 0.10752476751804352, 0.4289673864841461, 0.03899703547358513, 0.017061203718185425, 0.4338420331478119, 0.07799407094717026, 0.0024373147170990705, 0.05873233079910278, 0.07830977439880371, 0.16640827059745789, 0.06852105259895325, 0.5873233079910278, 0.02936616539955139, 0.008115162141621113, 0.1257850080728531, 0.012172742746770382, 0.004057581070810556, 0.8480344414710999, 0.004057581070810556, 0.0063617415726184845, 0.7534119486808777, 0.20721100270748138, 0.001817640382796526, 0.028173426166176796, 0.002726460574194789, 0.9745203256607056, 0.06001633405685425, 0.9302532076835632, 0.0092274509370327, 0.9873372316360474, 0.015075746923685074, 0.005025248974561691, 0.010050497949123383, 0.6583076119422913, 0.20100995898246765, 0.10553022474050522, 0.7601458430290222, 0.05297183617949486, 0.14832115173339844, 0.03708028793334961, 0.9246301651000977, 0.9512813687324524, 0.20421411097049713, 0.17529883980751038, 0.05060172453522682, 0.012650431133806705, 0.3704769015312195, 0.05963774770498276, 0.05783054232597351, 0.0686737671494484, 0.10873191803693771, 0.07413540035486221, 0.019769439473748207, 0.7907776236534119, 0.004942359868437052, 0.1360512226819992, 0.01909836381673813, 0.004528477787971497, 0.0149636659771204, 0.6804530024528503, 0.07304631918668747, 0.07107741385698318, 0.0005906710284762084, 0.06717926263809204, 0.5542289018630981, 0.04198703542351723, 0.01469546277076006, 0.01679481565952301, 0.2393261045217514, 0.05878185108304024, 0.0062980554066598415, 0.13837242126464844, 0.1214977353811264, 0.02024962194263935, 0.05399899184703827, 0.42186713218688965, 0.013499747961759567, 0.010124810971319675, 0.21599596738815308, 0.033162713050842285, 0.0024384348653256893, 0.05754706263542175, 0.04486720263957977, 0.5169482231140137, 0.0029261219315230846, 0.31358271837234497, 0.02828584425151348, 0.9368963837623596, 0.018724482506513596, 0.9174996614456177, 0.056173451244831085, 0.02269781567156315, 0.9760060906410217, 0.034756455570459366, 0.938424289226532, 0.9843912124633789, 0.2442433089017868, 0.06993291527032852, 0.08558953553438187, 0.09289596229791641, 0.10750880837440491, 0.05218874290585518, 0.18474814295768738, 0.1638726443052292, 0.14712762832641602, 0.14282144606113434, 0.3380346894264221, 0.10765435546636581, 0.010047740302979946, 0.017942393198609352, 0.08109961450099945, 0.15573997795581818, 0.2123946249485016, 0.007400509435683489, 0.0037002547178417444, 0.012580865994095802, 0.5631787776947021, 0.06290432810783386, 0.13764947652816772, 0.0007400509784929454, 0.9703798890113831, 0.8596338033676147, 0.12536326050758362, 0.0008398135541938245, 0.3098911941051483, 0.0008398135541938245, 0.6013064980506897, 0.0008398135541938245, 0.01847589761018753, 0.005878694821149111, 0.061306390911340714, 0.081088125705719, 0.8088540434837341, 0.01621762476861477, 0.07095210999250412, 0.022299235686659813, 0.9841821193695068, 0.013861719518899918, 0.28192800283432007, 0.0008291999693028629, 0.4403052031993866, 0.0016583999386057258, 0.11194200068712234, 0.1285260021686554, 0.033997200429439545, 0.14932285249233246, 0.803499162197113, 0.04266367107629776, 0.2065754532814026, 0.006455482915043831, 0.7811134457588196, 0.9103338122367859, 0.1320643126964569, 0.043104324489831924, 0.12289318442344666, 0.03485030680894852, 0.03393319249153137, 0.009171132929623127, 0.5961236357688904, 0.02843051217496395, 0.05908745527267456, 0.00738593190908432, 0.02215779572725296, 0.20680609345436096, 0.5391730070114136, 0.16987642645835876, 0.12575620412826538, 0.8802934288978577, 0.9453541040420532, 0.9249323606491089, 0.9918704628944397, 0.00644071726128459, 0.9899340867996216, 0.004669500514864922, 0.14464405179023743, 0.009642936289310455, 0.21696607768535614, 0.009642936289310455, 0.06750055402517319, 0.5255400538444519, 0.02410734072327614, 0.9617452025413513, 0.9660047888755798, 0.9758828282356262, 0.9494714140892029, 0.1558772623538971, 0.12306099385023117, 0.032816264778375626, 0.008204066194593906, 0.008204066194593906, 0.6727334260940552, 0.021158382296562195, 0.021158382296562195, 0.16926705837249756, 0.7828601002693176, 0.9569658637046814, 0.1015772894024849, 0.09141955524682999, 0.02031545713543892, 0.7110410332679749, 0.01015772856771946, 0.06094637140631676, 0.9219397306442261, 0.012452301569283009, 0.9837318062782288, 0.9084919095039368, 0.07669087499380112, 0.011798596009612083, 0.03215295076370239, 0.016076475381851196, 0.9324355721473694, 0.9612959027290344, 0.19867447018623352, 0.008428613655269146, 0.34376704692840576, 0.0006020438740961254, 0.1481027901172638, 0.2986137568950653, 0.0024081754963845015, 0.004561645910143852, 0.013684937730431557, 0.9716305732727051, 0.004561645910143852, 0.004561645910143852, 0.9543641805648804, 0.02473513036966324, 0.07420539110898972, 0.865729570388794, 0.005334208253771067, 0.005334208253771067, 0.010668416507542133, 0.10134996473789215, 0.8748102188110352, 0.1938878446817398, 0.792411208152771, 0.008429906331002712, 0.9490464329719543, 0.028940290212631226, 0.8006813526153564, 0.0192935261875391, 0.06270395964384079, 0.08682087063789368, 0.9757863283157349, 0.030993908643722534, 0.12197602540254593, 0.004999017342925072, 0.22695539891719818, 0.005998820997774601, 0.06298761814832687, 0.5238970518112183, 0.021995676681399345, 0.9819814562797546, 0.9382737874984741, 0.942757248878479, 0.7661924362182617, 0.02764611877501011, 0.031595565378665924, 0.0039494456723332405, 0.1737755984067917, 0.9360349178314209, 0.8866299986839294, 0.1632080078125, 0.04603302851319313, 0.0062772310338914394, 0.1632080078125, 0.00209241034463048, 0.1653004139661789, 0.44359099864959717, 0.012554462067782879, 0.9862114191055298, 0.9791723489761353, 0.10027187317609787, 0.13673436641693115, 0.6289781332015991, 0.06380937248468399, 0.06380937248468399, 0.014479108154773712, 0.1344488561153412, 0.7963509559631348, 0.0020684439223259687, 0.045505765825510025, 0.007239554077386856, 0.03965869918465614, 0.951808750629425, 0.0028349380008876324, 0.03401925787329674, 0.0028349380008876324, 0.0028349380008876324, 0.6038417816162109, 0.3543672561645508, 0.9196889400482178, 0.07456937432289124, 0.1689912974834442, 0.01689912937581539, 0.7182130217552185, 0.008449564687907696, 0.0844956487417221, 0.8641665577888489, 0.9836328625679016, 0.08952203392982483, 0.13179633021354675, 0.039787571877241135, 0.007460169959813356, 0.017407063394784927, 0.4053359031677246, 0.30089351534843445, 0.009946892969310284, 0.36696237325668335, 0.33835509419441223, 0.016769785434007645, 0.027620824053883553, 0.04044477641582489, 0.11936141550540924, 0.0019729160703718662, 0.08976767957210541, 0.8991899490356445, 0.034460507333278656, 0.9304337501525879, 0.9254023432731628, 0.9927959442138672, 0.8776158094406128, 0.015262884087860584, 0.09920874238014221, 0.5072776079177856, 0.24002604186534882, 0.0033847938757389784, 0.00206030928529799, 0.06460541486740112, 0.18042422831058502, 0.0022074743174016476, 0.9931262731552124, 0.004619191866368055, 0.9250415563583374, 0.007093360181897879, 0.14186720550060272, 0.09930703788995743, 0.7518961429595947, 0.062607042491436, 0.8764985799789429, 0.9398896098136902, 0.11505257338285446, 0.1998281627893448, 0.012110797688364983, 0.6660938858985901, 0.13584990799427032, 0.0832628458738327, 0.24540627002716064, 0.5302528738975525, 0.9605931639671326, 0.9136908650398254, 0.32709699869155884, 0.08978182077407837, 0.2276090532541275, 0.06648708134889603, 0.08978182077407837, 0.03930987790226936, 0.008250221610069275, 0.15238644182682037, 0.8959512710571289, 0.08145011216402054, 0.04563841223716736, 0.01140960305929184, 0.9355874061584473, 0.965721845626831, 0.9741772413253784, 0.9581263065338135, 0.04143248870968819, 0.9551620483398438, 0.8257433772087097, 0.9011291861534119, 0.5192838907241821, 0.003682864597067237, 0.007365729194134474, 0.003682864597067237, 0.003682864597067237, 0.04419437423348427, 0.4198465645313263, 0.08149946480989456, 0.09779935330152512, 0.8149946331977844, 0.9800863862037659, 0.9161231517791748, 0.00892703514546156, 0.00446351757273078, 0.8927034735679626, 0.06248924136161804, 0.01785407029092312, 0.013390552252531052, 0.8620346188545227, 0.13501746952533722, 0.9229087829589844, 0.17337246239185333, 0.27987268567085266, 0.09163972735404968, 0.12136071920394897, 0.006979930214583874, 0.02229074388742447, 0.2571316063404083, 0.047058239579200745, 0.9583054780960083, 0.015211197547614574, 0.113815538585186, 0.000989700318314135, 0.00197940063662827, 0.771966278553009, 0.023752808570861816, 0.08709362894296646, 0.5655830502510071, 0.04350639134645462, 0.05131522938609123, 0.14167465269565582, 0.0245420653373003, 0.07474174350500107, 0.001115548424422741, 0.09705271571874619, 0.9456012845039368, 0.7429761290550232, 0.1593765765428543, 0.002343773143365979, 0.08671960979700089, 0.007031319662928581, 0.9435071349143982, 0.9140436053276062, 0.980782151222229, 0.01704850047826767, 0.06819400191307068, 0.8183280229568481, 0.06819400191307068, 0.01704850047826767, 0.9940711259841919, 0.961391031742096, 0.06592566519975662, 0.4365348219871521, 0.058798566460609436, 0.1532326340675354, 0.01959952339529991, 0.18708635866641998, 0.017817748710513115, 0.06058034300804138, 0.0037903368938714266, 0.24447672069072723, 0.05495988205075264, 0.3487109839916229, 0.0018951684469357133, 0.1118149384856224, 0.07770190387964249, 0.15919414162635803, 0.07225064188241959, 0.9186153411865234, 0.0034405069891363382, 0.9912657737731934, 0.9013634920120239, 0.04839535430073738, 0.04436240717768669, 0.004032946191728115, 0.5756343603134155, 0.045079801231622696, 0.010403030551970005, 0.36063840985298157, 0.003467676928266883, 0.947883665561676, 0.007126945070922375, 0.0427616685628891, 0.020505551248788834, 0.8817387223243713, 0.08714859187602997, 0.005126387812197208, 0.1974698156118393, 0.05641994625329971, 0.028209973126649857, 0.1531398594379425, 0.012089988216757774, 0.02014998160302639, 0.5279294848442078, 0.05292468145489693, 0.9208894968032837, 0.0211698729544878, 0.2054888904094696, 0.7762913703918457, 0.01284877210855484, 0.17774134874343872, 0.7837750911712646, 0.02569754421710968, 0.20993176102638245, 0.08047384023666382, 0.15394996106624603, 0.5108339786529541, 0.013995450921356678, 0.024492038413882256, 0.6289527416229248, 0.05414227023720741, 0.016242681071162224, 0.010828454047441483, 0.2404819279909134, 0.0397043339908123, 0.0004511855950113386, 0.009474897757172585, 0.35838302969932556, 0.008812697604298592, 0.008812697604298592, 0.047001052647829056, 0.19387933611869812, 0.011750263161957264, 0.005875131580978632, 0.367195725440979, 0.008627478964626789, 0.11282088607549667, 0.1002114936709404, 0.03716452792286873, 0.48778441548347473, 0.027873395010828972, 0.21767793595790863, 0.007300174795091152, 0.9811701774597168, 0.013082269579172134, 0.987785279750824, 0.9256262183189392, 0.06698610633611679, 0.9885899424552917, 0.01785760372877121, 0.013393202796578407, 0.9414305686950684, 0.0005580501165241003, 0.009486852213740349, 0.016183452680706978, 0.22459062933921814, 0.014259722083806992, 0.39035987854003906, 0.31727880239486694, 0.005347395781427622, 0.04990902543067932, 0.16771718859672546, 0.8075271844863892, 0.01863524317741394, 0.9074828028678894, 0.09260028600692749, 0.05785835534334183, 0.8968045115470886, 0.9510088562965393, 0.006019043270498514, 0.03611426055431366, 0.9204820394515991, 0.0769534781575203, 0.010358153842389584, 0.010358153842389584, 0.9633083343505859], \"Term\": [\"aa\", \"aa\", \"aaa\", \"aaa\", \"absolutely\", \"absolutely\", \"absolutely\", \"absolutely\", \"absolutely\", \"absolutely\", \"access\", \"access\", \"access\", \"access\", \"access\", \"access\", \"access\", \"accident\", \"account\", \"account\", \"account\", \"account\", \"account\", \"account\", \"acid\", \"active\", \"ad\", \"adapter\", \"add\", \"add\", \"add\", \"add\", \"add\", \"add\", \"add\", \"adds\", \"ads\", \"ads\", \"ads\", \"advertise\", \"advertised\", \"advertised\", \"advertisements\", \"advertisements\", \"age\", \"age\", \"age\", \"alexa\", \"alexa\", \"alexa\", \"alexa\", \"alexa\", \"alexa\", \"alkaline\", \"alkaline\", \"allowing\", \"alphabet\", \"amazon\", \"amazon\", \"amazon\", \"amazon\", \"amazon\", \"amazon\", \"amazon\", \"amazon\", \"amazonbasics\", \"amazonbasics\", \"amd\", \"ample\", \"android\", \"android\", \"android\", \"angles\", \"annoying\", \"annoying\", \"annoying\", \"annoying\", \"anybody\", \"app\", \"app\", \"app\", \"app\", \"appointments\", \"appropriate\", \"appropriate\", \"apps\", \"apps\", \"apps\", \"apps\", \"apps\", \"apps\", \"apps\", \"apps\", \"appstore\", \"aspect\", \"aspects\", \"associate\", \"auto\", \"awesome\", \"awesome\", \"awesome\", \"awesome\", \"awesome\", \"awesome\", \"awesome\", \"awesome\", \"backlight\", \"balance\", \"basics\", \"basics\", \"bass\", \"batch\", \"batteries\", \"batteries\", \"batteries\", \"battery\", \"battery\", \"battery\", \"battery\", \"battery\", \"battery\", \"battery\", \"battery\", \"batterys\", \"beat\", \"beat\", \"beat\", \"beat\", \"beat\", \"beat\", \"beat\", \"bedtime\", \"best\", \"best\", \"best\", \"best\", \"best\", \"best\", \"best\", \"best\", \"better\", \"better\", \"better\", \"better\", \"better\", \"better\", \"better\", \"better\", \"bezel\", \"birthdays\", \"black\", \"black\", \"black\", \"black\", \"black\", \"blue\", \"blue\", \"blue\", \"blue\", \"bluetooth\", \"bluetooth\", \"bluetooth\", \"bluetooth\", \"book\", \"book\", \"book\", \"book\", \"book\", \"books\", \"books\", \"books\", \"books\", \"books\", \"books\", \"books\", \"borrowed\", \"bought\", \"bought\", \"bought\", \"bought\", \"bought\", \"bought\", \"bought\", \"bought\", \"box\", \"box\", \"box\", \"box\", \"box\", \"box\", \"brand\", \"brand\", \"branded\", \"brands\", \"brands\", \"breaks\", \"brighter\", \"brilliant\", \"brilliant\", \"brings\", \"browse\", \"browse\", \"browse\", \"browsing\", \"browsing\", \"bt\", \"buffering\", \"bulk\", \"bulk\", \"bulk\", \"burn\", \"button\", \"button\", \"buttons\", \"buttons\", \"buttons\", \"buy\", \"buy\", \"buy\", \"buy\", \"buy\", \"buy\", \"buy\", \"buy\", \"buying\", \"buying\", \"buying\", \"buying\", \"buying\", \"buying\", \"buying\", \"called\", \"camera\", \"camera\", \"camera\", \"camera\", \"camera\", \"camera\", \"candles\", \"capable\", \"card\", \"card\", \"card\", \"card\", \"card\", \"cardboard\", \"cartoons\", \"cartoons\", \"case\", \"case\", \"case\", \"case\", \"case\", \"case\", \"case\", \"case\", \"charge\", \"charge\", \"charge\", \"charge\", \"charge\", \"charge\", \"charge\", \"charges\", \"charges\", \"charges\", \"charging\", \"charging\", \"charging\", \"charging\", \"charging\", \"charging\", \"charging\", \"charm\", \"cheap\", \"cheap\", \"cheap\", \"cheap\", \"cheap\", \"cheap\", \"cheaper\", \"cheaper\", \"cheaper\", \"cheaper\", \"cheaper\", \"cheaper\", \"child\", \"child\", \"child\", \"child\", \"child\", \"children\", \"children\", \"children\", \"children\", \"children\", \"children\", \"children\", \"children\", \"christmas\", \"christmas\", \"christmas\", \"christmas\", \"christmas\", \"christmas\", \"christmas\", \"christmas\", \"chrome\", \"claimed\", \"clarity\", \"clarity\", \"clarity\", \"clear\", \"clear\", \"clear\", \"clear\", \"clear\", \"clear\", \"clearer\", \"clicking\", \"clocks\", \"closes\", \"code\", \"color\", \"color\", \"color\", \"color\", \"commands\", \"compatible\", \"compatible\", \"compatible\", \"compete\", \"complain\", \"complain\", \"complain\", \"complain\", \"complain\", \"complain\", \"complaints\", \"complaints\", \"complaints\", \"complaints\", \"complaints\", \"complete\", \"contacted\", \"contents\", \"control\", \"control\", \"control\", \"control\", \"control\", \"controller\", \"controllers\", \"controls\", \"controls\", \"controls\", \"copper\", \"costco\", \"cover\", \"cover\", \"cover\", \"cover\", \"credit\", \"customer\", \"customer\", \"customer\", \"customer\", \"dark\", \"dark\", \"daughter\", \"daughter\", \"daughter\", \"daughter\", \"daughter\", \"daughter\", \"day\", \"day\", \"day\", \"day\", \"day\", \"day\", \"day\", \"day\", \"days\", \"days\", \"days\", \"days\", \"days\", \"days\", \"days\", \"dead\", \"dead\", \"deal\", \"deal\", \"deal\", \"deal\", \"deal\", \"decent\", \"decent\", \"decent\", \"decent\", \"decent\", \"deck\", \"definite\", \"delete\", \"delivery\", \"delivery\", \"described\", \"described\", \"described\", \"described\", \"device\", \"device\", \"device\", \"device\", \"device\", \"device\", \"device\", \"device\", \"die\", \"disability\", \"disable\", \"disney\", \"doesnt\", \"dog\", \"dot\", \"download\", \"download\", \"download\", \"download\", \"download\", \"download\", \"dropped\", \"dropped\", \"dropped\", \"dropping\", \"drops\", \"drops\", \"drove\", \"durable\", \"durable\", \"durable\", \"durable\", \"durable\", \"duracel\", \"duracell\", \"duracell\", \"duracells\", \"duracells\", \"easier\", \"easier\", \"easier\", \"easier\", \"easier\", \"east\", \"easy\", \"easy\", \"easy\", \"easy\", \"easy\", \"easy\", \"easy\", \"easy\", \"echo\", \"echo\", \"ecosystem\", \"educational\", \"educational\", \"educational\", \"elaborate\", \"elderly\", \"emails\", \"emails\", \"emails\", \"energizer\", \"energizer\", \"energizers\", \"engaged\", \"entertained\", \"entertained\", \"entertained\", \"entertained\", \"entry\", \"entry\", \"everybody\", \"exactly\", \"exactly\", \"exactly\", \"exactly\", \"exactly\", \"exactly\", \"exactly\", \"exceeded\", \"exceeded\", \"exceeded\", \"exceeded\", \"excellent\", \"excellent\", \"excellent\", \"excellent\", \"excellent\", \"excellent\", \"excellent\", \"excellent\", \"exchanged\", \"excited\", \"excited\", \"excited\", \"excited\", \"excited\", \"expanded\", \"expectations\", \"expectations\", \"expectations\", \"expectations\", \"expectations\", \"expected\", \"expected\", \"expected\", \"expected\", \"expected\", \"expected\", \"expected\", \"external\", \"external\", \"external\", \"facebook\", \"facebook\", \"facebook\", \"facebook\", \"facing\", \"facing\", \"far\", \"far\", \"far\", \"far\", \"far\", \"far\", \"far\", \"far\", \"fast\", \"fast\", \"fast\", \"fast\", \"fast\", \"fast\", \"fast\", \"faster\", \"faster\", \"faster\", \"faster\", \"faster\", \"faster\", \"faster\", \"feedback\", \"fi\", \"fi\", \"fighting\", \"filter\", \"filter\", \"fingertips\", \"fix\", \"fix\", \"flashlight\", \"flashlights\", \"flip\", \"floor\", \"folder\", \"free\", \"free\", \"free\", \"free\", \"free\", \"free\", \"free\", \"free\", \"freetime\", \"freetime\", \"freetime\", \"friday\", \"friend\", \"friend\", \"friend\", \"friend\", \"friends\", \"friends\", \"friends\", \"friends\", \"friends\", \"fuss\", \"games\", \"games\", \"games\", \"games\", \"games\", \"games\", \"games\", \"gave\", \"gave\", \"gave\", \"gave\", \"gave\", \"gave\", \"gave\", \"gave\", \"gb\", \"gb\", \"gb\", \"gb\", \"gb\", \"geek\", \"geek\", \"geek\", \"generation\", \"gift\", \"gift\", \"gift\", \"gift\", \"gift\", \"gift\", \"gift\", \"gifted\", \"gifts\", \"gifts\", \"gifts\", \"girls\", \"glare\", \"glare\", \"glare\", \"godson\", \"good\", \"good\", \"good\", \"good\", \"good\", \"good\", \"good\", \"good\", \"google\", \"google\", \"google\", \"googleplay\", \"got\", \"got\", \"got\", \"got\", \"got\", \"got\", \"got\", \"got\", \"grader\", \"grand\", \"grand\", \"grand\", \"grandchild\", \"grandchild\", \"granddaughter\", \"granddaughter\", \"granddaughter\", \"granddaughter\", \"granddaughter\", \"grandkids\", \"grandkids\", \"grandkids\", \"grandkids\", \"grandson\", \"grandson\", \"grandson\", \"grandson\", \"grandson\", \"graphics\", \"graphics\", \"graphics\", \"great\", \"great\", \"great\", \"great\", \"great\", \"great\", \"great\", \"great\", \"grip\", \"growing\", \"guy\", \"guy\", \"gym\", \"half\", \"half\", \"half\", \"hang\", \"happy\", \"happy\", \"happy\", \"happy\", \"happy\", \"happy\", \"happy\", \"happy\", \"hard\", \"hard\", \"hard\", \"hard\", \"hard\", \"hard\", \"hard\", \"hard\", \"hardware\", \"hd\", \"hd\", \"hd\", \"hd\", \"hd\", \"hd\", \"heard\", \"heard\", \"heard\", \"help\", \"help\", \"help\", \"help\", \"help\", \"help\", \"hes\", \"highly\", \"highly\", \"highly\", \"highly\", \"highly\", \"highly\", \"hulu\", \"icons\", \"improvement\", \"improvement\", \"improvement\", \"inch\", \"inch\", \"inch\", \"inch\", \"inch\", \"input\", \"instagram\", \"install\", \"install\", \"install\", \"install\", \"interested\", \"interested\", \"internal\", \"internal\", \"internal\", \"internet\", \"internet\", \"internet\", \"internet\", \"internet\", \"invested\", \"ipad\", \"ipad\", \"ipad\", \"ipad\", \"ipad\", \"ipad\", \"issues\", \"issues\", \"issues\", \"issues\", \"issues\", \"issues\", \"issues\", \"item\", \"item\", \"item\", \"item\", \"item\", \"item\", \"item\", \"item\", \"keys\", \"kid\", \"kid\", \"kid\", \"kid\", \"kid\", \"kid\", \"kid\", \"kiddo\", \"kiddos\", \"kiddos\", \"kiddos\", \"kids\", \"kids\", \"kids\", \"kids\", \"kids\", \"kids\", \"kids\", \"kids\", \"kindle\", \"kindle\", \"kindle\", \"kindle\", \"kindle\", \"kindle\", \"kindle\", \"kindles\", \"kindles\", \"kindles\", \"kindles\", \"kindles\", \"kindles\", \"know\", \"know\", \"know\", \"know\", \"know\", \"know\", \"know\", \"know\", \"knowledge\", \"lackluster\", \"lag\", \"lag\", \"lag\", \"laptop\", \"laptop\", \"laptop\", \"laptop\", \"laptop\", \"lasted\", \"lasted\", \"lasted\", \"lasted\", \"lasting\", \"lasting\", \"leaked\", \"learning\", \"learning\", \"learning\", \"learning\", \"learning\", \"leather\", \"letter\", \"life\", \"life\", \"life\", \"life\", \"life\", \"life\", \"life\", \"life\", \"light\", \"light\", \"light\", \"light\", \"light\", \"light\", \"light\", \"light\", \"lighted\", \"lighter\", \"lighting\", \"like\", \"like\", \"like\", \"like\", \"like\", \"like\", \"like\", \"like\", \"little\", \"little\", \"little\", \"little\", \"little\", \"little\", \"little\", \"little\", \"load\", \"load\", \"load\", \"logic\", \"logo\", \"long\", \"long\", \"long\", \"long\", \"long\", \"long\", \"long\", \"long\", \"longer\", \"longer\", \"longer\", \"longer\", \"longer\", \"longer\", \"longer\", \"longer\", \"lot\", \"lot\", \"lot\", \"lot\", \"lot\", \"lot\", \"lot\", \"lot\", \"love\", \"love\", \"love\", \"love\", \"love\", \"love\", \"love\", \"love\", \"loved\", \"loved\", \"loved\", \"loved\", \"loved\", \"loved\", \"lovely\", \"loves\", \"loves\", \"loves\", \"loves\", \"loves\", \"low\", \"low\", \"low\", \"low\", \"low\", \"low\", \"low\", \"low\", \"lowest\", \"magazine\", \"magazine\", \"magazine\", \"maintain\", \"manga\", \"media\", \"media\", \"media\", \"meetings\", \"memory\", \"memory\", \"memory\", \"memory\", \"micro\", \"micro\", \"minecraft\", \"mini\", \"mini\", \"mini\", \"mini\", \"mini\", \"minutes\", \"minutes\", \"minutes\", \"minutes\", \"model\", \"model\", \"model\", \"model\", \"model\", \"mom\", \"mom\", \"mom\", \"mom\", \"money\", \"money\", \"money\", \"money\", \"money\", \"money\", \"money\", \"money\", \"monitoring\", \"movies\", \"movies\", \"movies\", \"movies\", \"movies\", \"music\", \"music\", \"music\", \"music\", \"music\", \"need\", \"need\", \"need\", \"need\", \"need\", \"need\", \"need\", \"need\", \"nephew\", \"nephew\", \"nephew\", \"nephew\", \"netflix\", \"netflix\", \"new\", \"new\", \"new\", \"new\", \"new\", \"new\", \"new\", \"new\", \"newest\", \"nexus\", \"nice\", \"nice\", \"nice\", \"nice\", \"nice\", \"nice\", \"nice\", \"nice\", \"nook\", \"nook\", \"nook\", \"oasis\", \"oasis\", \"old\", \"old\", \"old\", \"old\", \"old\", \"old\", \"old\", \"older\", \"older\", \"older\", \"older\", \"older\", \"olds\", \"ones\", \"ones\", \"ones\", \"ones\", \"ones\", \"ones\", \"ones\", \"ones\", \"opened\", \"opened\", \"opened\", \"opens\", \"operated\", \"opportunity\", \"original\", \"original\", \"original\", \"original\", \"os\", \"os\", \"os\", \"owned\", \"owned\", \"owned\", \"pack\", \"pack\", \"packaged\", \"packaged\", \"packaging\", \"packaging\", \"packs\", \"page\", \"page\", \"pain\", \"paper\", \"paperwhite\", \"parent\", \"parental\", \"parental\", \"pen\", \"perfect\", \"perfect\", \"perfect\", \"perfect\", \"perfect\", \"perfect\", \"perfect\", \"perfect\", \"performance\", \"performance\", \"performance\", \"performance\", \"performance\", \"performance\", \"person\", \"person\", \"person\", \"person\", \"person\", \"person\", \"picture\", \"picture\", \"picture\", \"picture\", \"picture\", \"picture\", \"play\", \"play\", \"play\", \"play\", \"play\", \"play\", \"plugs\", \"pop\", \"pop\", \"port\", \"port\", \"portable\", \"portable\", \"portable\", \"portable\", \"portable\", \"portable\", \"power\", \"power\", \"power\", \"power\", \"practical\", \"presents\", \"pretty\", \"pretty\", \"pretty\", \"pretty\", \"pretty\", \"pretty\", \"pretty\", \"pretty\", \"previous\", \"previous\", \"previous\", \"previous\", \"previous\", \"price\", \"price\", \"price\", \"price\", \"price\", \"price\", \"price\", \"price\", \"prime\", \"prime\", \"prime\", \"prime\", \"prime\", \"prime\", \"prime\", \"prime\", \"problems\", \"problems\", \"problems\", \"problems\", \"problems\", \"problems\", \"problems\", \"problems\", \"product\", \"product\", \"product\", \"product\", \"product\", \"product\", \"product\", \"product\", \"prompt\", \"protected\", \"protected\", \"protected\", \"protection\", \"protection\", \"protects\", \"protects\", \"provides\", \"purchase\", \"purchase\", \"purchase\", \"purchase\", \"purchase\", \"purchase\", \"purchase\", \"purchase\", \"purchased\", \"purchased\", \"purchased\", \"purchased\", \"purchased\", \"purchased\", \"purchased\", \"purchased\", \"quality\", \"quality\", \"quality\", \"quality\", \"quality\", \"quality\", \"quality\", \"quality\", \"quiet\", \"ram\", \"ram\", \"read\", \"read\", \"read\", \"read\", \"read\", \"read\", \"read\", \"read\", \"reader\", \"reader\", \"reader\", \"reader\", \"reader\", \"readers\", \"readers\", \"reading\", \"reading\", \"reading\", \"reading\", \"reading\", \"reading\", \"reading\", \"reasonable\", \"reasonable\", \"reasonable\", \"received\", \"received\", \"received\", \"receiver\", \"recommend\", \"recommend\", \"recommend\", \"recommend\", \"recommend\", \"recommend\", \"recommend\", \"recommend\", \"recommended\", \"recommended\", \"recommended\", \"recommended\", \"recommended\", \"recommended\", \"red\", \"red\", \"refund\", \"relaxing\", \"remote\", \"remote\", \"remotes\", \"remotes\", \"resolution\", \"resolution\", \"resolution\", \"resolution\", \"resolution\", \"resolution\", \"resolution\", \"responds\", \"restrictions\", \"results\", \"retail\", \"return\", \"return\", \"return\", \"return\", \"return\", \"return\", \"returned\", \"returned\", \"returned\", \"returned\", \"robust\", \"room\", \"room\", \"room\", \"room\", \"room\", \"room\", \"rooting\", \"sales\", \"sales\", \"save\", \"save\", \"save\", \"savvy\", \"savvy\", \"savvy\", \"schedule\", \"screen\", \"screen\", \"screen\", \"screen\", \"screen\", \"screen\", \"screen\", \"sd\", \"sd\", \"sd\", \"sd\", \"sd\", \"searches\", \"sent\", \"sent\", \"sent\", \"service\", \"service\", \"service\", \"service\", \"service\", \"shipping\", \"shipping\", \"shipping\", \"shouldn\", \"shows\", \"shows\", \"shows\", \"shows\", \"shows\", \"signal\", \"size\", \"size\", \"size\", \"size\", \"size\", \"size\", \"size\", \"size\", \"sleek\", \"slide\", \"slippery\", \"slow\", \"slow\", \"slow\", \"slow\", \"slow\", \"slower\", \"sluggish\", \"small\", \"small\", \"small\", \"small\", \"small\", \"small\", \"small\", \"small\", \"smooth\", \"social\", \"solid\", \"solid\", \"solid\", \"solid\", \"solid\", \"son\", \"son\", \"son\", \"son\", \"son\", \"son\", \"sort\", \"sort\", \"sound\", \"sound\", \"sound\", \"sound\", \"sound\", \"sound\", \"speaker\", \"speaker\", \"speakers\", \"speakers\", \"speakers\", \"speakers\", \"speakers\", \"sports\", \"squad\", \"storage\", \"storage\", \"storage\", \"storage\", \"storage\", \"storage\", \"storage\", \"storage\", \"store\", \"store\", \"store\", \"store\", \"store\", \"store\", \"store\", \"store\", \"stupid\", \"sufficient\", \"sufficient\", \"suitable\", \"surf\", \"surfing\", \"surfing\", \"surfing\", \"tablet\", \"tablet\", \"tablet\", \"tablet\", \"tablet\", \"tablet\", \"tablet\", \"tap\", \"tap\", \"taste\", \"tech\", \"tech\", \"tech\", \"tech\", \"teenager\", \"teenager\", \"textbooks\", \"thank\", \"thank\", \"thank\", \"thank\", \"thanks\", \"thanks\", \"thanks\", \"thanks\", \"thoroughly\", \"thoughts\", \"time\", \"time\", \"time\", \"time\", \"time\", \"time\", \"time\", \"time\", \"timely\", \"timely\", \"told\", \"told\", \"told\", \"touching\", \"touchscreen\", \"toys\", \"toys\", \"traditional\", \"transmitter\", \"tremendous\", \"tried\", \"tried\", \"tried\", \"tried\", \"tried\", \"tried\", \"tried\", \"trouble\", \"trouble\", \"trouble\", \"tube\", \"unwanted\", \"upgrade\", \"upgrade\", \"upgrade\", \"upgrade\", \"upgrade\", \"upgrade\", \"upgraded\", \"upgraded\", \"upgrades\", \"use\", \"use\", \"use\", \"use\", \"use\", \"use\", \"use\", \"use\", \"users\", \"users\", \"value\", \"value\", \"value\", \"value\", \"value\", \"value\", \"ve\", \"ve\", \"ve\", \"ve\", \"ve\", \"ve\", \"ve\", \"ve\", \"versatility\", \"videos\", \"videos\", \"videos\", \"videos\", \"videos\", \"visit\", \"vlc\", \"voice\", \"volume\", \"volume\", \"volume\", \"volume\", \"volume\", \"voyage\", \"voyager\", \"want\", \"want\", \"want\", \"want\", \"want\", \"want\", \"want\", \"want\", \"wanted\", \"wanted\", \"wanted\", \"wanted\", \"wanted\", \"wanted\", \"wanted\", \"wanted\", \"warranty\", \"warranty\", \"warranty\", \"waste\", \"watch\", \"watch\", \"watch\", \"watch\", \"watching\", \"watching\", \"watching\", \"watching\", \"watching\", \"web\", \"web\", \"web\", \"weight\", \"weight\", \"weight\", \"weight\", \"went\", \"went\", \"went\", \"went\", \"went\", \"went\", \"went\", \"white\", \"white\", \"white\", \"wi\", \"wi\", \"wife\", \"wife\", \"wife\", \"wife\", \"wifi\", \"wifi\", \"wifi\", \"wifi\", \"wifi\", \"wifi\", \"work\", \"work\", \"work\", \"work\", \"work\", \"work\", \"work\", \"work\", \"worked\", \"worked\", \"worked\", \"worked\", \"worked\", \"worked\", \"worked\", \"worked\", \"works\", \"works\", \"works\", \"works\", \"works\", \"works\", \"works\", \"works\", \"worst\", \"worst\", \"wrapped\", \"xbox\", \"xbox\", \"xmas\", \"year\", \"year\", \"year\", \"year\", \"year\", \"year\", \"years\", \"years\", \"years\", \"years\", \"years\", \"years\", \"young\", \"young\", \"young\", \"younger\", \"younger\", \"youngest\", \"youngest\", \"youtube\", \"youtube\", \"youtube\", \"yr\", \"yr\", \"\\u00e4\\u00f4t\", \"\\u00e4\\u00f4t\", \"\\u00e4\\u00f4t\"]}, \"R\": 30, \"lambda.step\": 0.01, \"plot.opts\": {\"xlab\": \"PC1\", \"ylab\": \"PC2\"}, \"topic.order\": [7, 2, 6, 3, 4, 5, 1, 8]};\n",
       "\n",
       "function LDAvis_load_lib(url, callback){\n",
       "  var s = document.createElement('script');\n",
       "  s.src = url;\n",
       "  s.async = true;\n",
       "  s.onreadystatechange = s.onload = callback;\n",
       "  s.onerror = function(){console.warn(\"failed to load library \" + url);};\n",
       "  document.getElementsByTagName(\"head\")[0].appendChild(s);\n",
       "}\n",
       "\n",
       "if(typeof(LDAvis) !== \"undefined\"){\n",
       "   // already loaded: just create the visualization\n",
       "   !function(LDAvis){\n",
       "       new LDAvis(\"#\" + \"ldavis_el68591401248597932248611333105\", ldavis_el68591401248597932248611333105_data);\n",
       "   }(LDAvis);\n",
       "}else if(typeof define === \"function\" && define.amd){\n",
       "   // require.js is available: use it to load d3/LDAvis\n",
       "   require.config({paths: {d3: \"https://cdnjs.cloudflare.com/ajax/libs/d3/3.5.5/d3.min\"}});\n",
       "   require([\"d3\"], function(d3){\n",
       "      window.d3 = d3;\n",
       "      LDAvis_load_lib(\"https://cdn.rawgit.com/bmabey/pyLDAvis/files/ldavis.v1.0.0.js\", function(){\n",
       "        new LDAvis(\"#\" + \"ldavis_el68591401248597932248611333105\", ldavis_el68591401248597932248611333105_data);\n",
       "      });\n",
       "    });\n",
       "}else{\n",
       "    // require.js not available: dynamically load d3 & LDAvis\n",
       "    LDAvis_load_lib(\"https://cdnjs.cloudflare.com/ajax/libs/d3/3.5.5/d3.min.js\", function(){\n",
       "         LDAvis_load_lib(\"https://cdn.rawgit.com/bmabey/pyLDAvis/files/ldavis.v1.0.0.js\", function(){\n",
       "                 new LDAvis(\"#\" + \"ldavis_el68591401248597932248611333105\", ldavis_el68591401248597932248611333105_data);\n",
       "            })\n",
       "         });\n",
       "}\n",
       "</script>"
      ],
      "text/plain": [
       "PreparedData(topic_coordinates=              x         y  topics  cluster       Freq\n",
       "topic                                                \n",
       "6      0.190418 -0.111818       1        1  22.234009\n",
       "1     -0.122117  0.080947       2        1  14.922306\n",
       "5     -0.186253  0.039546       3        1  14.249553\n",
       "2     -0.089348 -0.030354       4        1  12.138127\n",
       "3      0.295493  0.114516       5        1  10.419210\n",
       "4      0.013933 -0.031961       6        1   9.577480\n",
       "0     -0.052644  0.181844       7        1   9.210544\n",
       "7     -0.049482 -0.242721       8        1   7.248768, topic_info=     Category         Freq       Term        Total  loglift  logprob\n",
       "34    Default  5730.000000       good  5730.000000  30.0000  30.0000\n",
       "18    Default  7155.000000  batteries  7155.000000  29.0000  29.0000\n",
       "21    Default  9013.000000      great  9013.000000  28.0000  28.0000\n",
       "17    Default  5078.000000      price  5078.000000  27.0000  27.0000\n",
       "2076  Default  3022.000000     kindle  3022.000000  26.0000  26.0000\n",
       "2433  Default  6795.000000     tablet  6795.000000  25.0000  25.0000\n",
       "105   Default  1791.000000       year  1791.000000  24.0000  24.0000\n",
       "521   Default  2180.000000        old  2180.000000  23.0000  23.0000\n",
       "1857  Default  2239.000000      loves  2239.000000  22.0000  22.0000\n",
       "755   Default  2945.000000       easy  2945.000000  21.0000  21.0000\n",
       "165   Default  2050.000000    product  2050.000000  20.0000  20.0000\n",
       "90    Default  3463.000000       love  3463.000000  19.0000  19.0000\n",
       "94    Default  4441.000000        use  4441.000000  18.0000  18.0000\n",
       "192   Default  2431.000000       kids  2431.000000  17.0000  17.0000\n",
       "885   Default  1193.000000       gift  1193.000000  16.0000  16.0000\n",
       "652   Default  1675.000000      games  1675.000000  15.0000  15.0000\n",
       "387   Default  1010.000000      value  1010.000000  14.0000  14.0000\n",
       "1548  Default  1773.000000       apps  1773.000000  13.0000  13.0000\n",
       "28    Default  3277.000000     bought  3277.000000  12.0000  12.0000\n",
       "23    Default  2424.000000       long  2424.000000  11.0000  11.0000\n",
       "20    Default  1237.000000      brand  1237.000000  10.0000  10.0000\n",
       "7     Default  1351.000000    quality  1351.000000   9.0000   9.0000\n",
       "1679  Default  1661.000000     screen  1661.000000   8.0000   8.0000\n",
       "31    Default   966.000000  christmas   966.000000   7.0000   7.0000\n",
       "9     Default  2216.000000       work  2216.000000   6.0000   6.0000\n",
       "432   Default   818.000000       deal   818.000000   5.0000   5.0000\n",
       "786   Default  1190.000000       read  1190.000000   4.0000   4.0000\n",
       "409   Default  1100.000000       play  1100.000000   3.0000   3.0000\n",
       "96    Default  1506.000000      works  1506.000000   2.0000   2.0000\n",
       "1268  Default   962.000000   daughter   962.000000   1.0000   1.0000\n",
       "...       ...          ...        ...          ...      ...      ...\n",
       "788    Topic8    50.832981    charges    63.903278   2.3955  -6.0835\n",
       "885    Topic8   572.280151       gift  1193.340210   1.8895  -3.6624\n",
       "162    Topic8   110.140472      thank   165.141891   2.2193  -5.3103\n",
       "157    Topic8   137.958038       gave   219.691223   2.1591  -5.0851\n",
       "694    Topic8    81.917282     return   121.890778   2.2269  -5.6063\n",
       "31     Topic8   393.879486  christmas   966.134766   1.7271  -4.0360\n",
       "234    Topic8   227.567474        day   476.887451   1.8845  -4.5846\n",
       "1020   Topic8   130.896820       went   248.139191   1.9848  -5.1376\n",
       "181    Topic8   121.439491     thanks   228.193024   1.9936  -5.2126\n",
       "880    Topic8   108.848030       help   195.728851   2.0376  -5.3221\n",
       "960    Topic8   136.661819        mom   293.084229   1.8614  -5.0945\n",
       "222    Topic8   378.718262       best  1429.573364   1.2960  -4.0752\n",
       "3      Topic8   166.262863       item   410.752075   1.7199  -4.8984\n",
       "901    Topic8   155.701965      loved   432.944977   1.6017  -4.9641\n",
       "115    Topic8   157.093842       know   441.537811   1.5909  -4.9552\n",
       "217    Topic8   175.682968     charge   569.699524   1.4479  -4.8433\n",
       "28     Topic8   446.876831     bought  3277.936523   0.6317  -3.9097\n",
       "173    Topic8   313.670624       time  2060.550781   0.7420  -4.2637\n",
       "98     Topic8   130.499756       days   334.205811   1.6840  -5.1406\n",
       "29     Topic8   315.163544        buy  2269.161377   0.6503  -4.2589\n",
       "221    Topic8   125.446487     worked   340.417908   1.6260  -5.1801\n",
       "16     Topic8   181.586319      happy   841.773376   1.0906  -4.8103\n",
       "128    Topic8   216.506805  purchased  1393.348145   0.7625  -4.6344\n",
       "101    Topic8   185.878326        got  1301.381470   0.6782  -4.7869\n",
       "479    Topic8   113.588135      tried   271.527771   1.7529  -5.2794\n",
       "24     Topic8   231.066147     amazon  3863.820312  -0.1924  -4.5693\n",
       "40     Topic8   156.677994   purchase   958.061035   0.8136  -4.9578\n",
       "94     Topic8   208.830444        use  4441.305176  -0.4328  -4.6705\n",
       "48     Topic8   120.173378    perfect  1116.021973   0.3957  -5.2231\n",
       "900    Topic8   111.697723       free   614.950684   0.9186  -5.2962\n",
       "\n",
       "[610 rows x 6 columns], token_table=      Topic      Freq        Term\n",
       "term                             \n",
       "56        1  0.994466          aa\n",
       "56        5  0.004250          aa\n",
       "57        1  0.993181         aaa\n",
       "57        5  0.005611         aaa\n",
       "991       1  0.032022  absolutely\n",
       "991       2  0.017790  absolutely\n",
       "991       3  0.704486  absolutely\n",
       "991       4  0.099624  absolutely\n",
       "991       6  0.017790  absolutely\n",
       "991       7  0.128088  absolutely\n",
       "1471      2  0.571775      access\n",
       "1471      3  0.209245      access\n",
       "1471      4  0.099757      access\n",
       "1471      5  0.002433      access\n",
       "1471      6  0.107056      access\n",
       "1471      7  0.002433      access\n",
       "1471      8  0.007299      access\n",
       "2645      8  0.893233    accident\n",
       "474       1  0.004623     account\n",
       "474       2  0.785961     account\n",
       "474       3  0.129452     account\n",
       "474       4  0.069349     account\n",
       "474       6  0.004623     account\n",
       "474       7  0.004623     account\n",
       "1141      1  0.973169        acid\n",
       "1895      3  0.944365      active\n",
       "804       6  0.973545          ad\n",
       "2785      8  0.968920     adapter\n",
       "1480      1  0.018582         add\n",
       "1480      3  0.065037         add\n",
       "...     ...       ...         ...\n",
       "152       1  0.925626        xbox\n",
       "152       2  0.066986        xbox\n",
       "1892      8  0.988590        xmas\n",
       "105       1  0.017858        year\n",
       "105       2  0.013393        year\n",
       "105       3  0.941431        year\n",
       "105       6  0.000558        year\n",
       "105       7  0.009487        year\n",
       "105       8  0.016183        year\n",
       "174       1  0.224591       years\n",
       "174       2  0.014260       years\n",
       "174       3  0.390360       years\n",
       "174       4  0.317279       years\n",
       "174       6  0.005347       years\n",
       "174       8  0.049909       years\n",
       "961       2  0.167717       young\n",
       "961       3  0.807527       young\n",
       "961       8  0.018635       young\n",
       "1375      3  0.907483     younger\n",
       "1375      8  0.092600     younger\n",
       "2534      1  0.057858    youngest\n",
       "2534      2  0.896805    youngest\n",
       "2224      2  0.951009     youtube\n",
       "2224      3  0.006019     youtube\n",
       "2224      6  0.036114     youtube\n",
       "1804      3  0.920482          yr\n",
       "1804      7  0.076953          yr\n",
       "2985      2  0.010358         äôt\n",
       "2985      4  0.010358         äôt\n",
       "2985      8  0.963308         äôt\n",
       "\n",
       "[1631 rows x 3 columns], R=30, lambda_step=0.01, plot_opts={'xlab': 'PC1', 'ylab': 'PC2'}, topic_order=[7, 2, 6, 3, 4, 5, 1, 8])"
      ]
     },
     "execution_count": 45,
     "metadata": {},
     "output_type": "execute_result"
    }
   ],
   "source": [
    "pyLDAvis.gensim.prepare(lda, corpus, id2word)"
   ]
  },
  {
   "cell_type": "code",
   "execution_count": 72,
   "metadata": {},
   "outputs": [
    {
     "data": {
      "image/png": "[encoded data removed]",
      "text/plain": [
       "<Figure size 432x288 with 1 Axes>"
      ]
     },
     "metadata": {
      "needs_background": "light"
     },
     "output_type": "display_data"
    }
   ],
   "source": [
    "import seaborn as sns\n",
    "\n",
    "ax = sns.lineplot(x=\"num_topics\", y=\"coherence_score\", data=topic_coherence)\n",
    "ax.set_title(\"Coherence for number of topics\");"
   ]
  },
  {
   "cell_type": "markdown",
   "metadata": {},
   "source": [
    "## Stretch Goals\n",
    "\n",
    "* Incorporate Named Entity Recognition in your analysis\n",
    "* Incorporate some custom pre-processing from our previous lessons (like spacy lemmatization)\n",
    "* Analyze a dataset of interest to you with topic modeling"
   ]
  },
  {
   "cell_type": "code",
   "execution_count": 78,
   "metadata": {},
   "outputs": [
    {
     "data": {
      "text/html": [
       "<div>\n",
       "<style scoped>\n",
       "    .dataframe tbody tr th:only-of-type {\n",
       "        vertical-align: middle;\n",
       "    }\n",
       "\n",
       "    .dataframe tbody tr th {\n",
       "        vertical-align: top;\n",
       "    }\n",
       "\n",
       "    .dataframe thead th {\n",
       "        text-align: right;\n",
       "    }\n",
       "</style>\n",
       "<table border=\"1\" class=\"dataframe\">\n",
       "  <thead>\n",
       "    <tr style=\"text-align: right;\">\n",
       "      <th></th>\n",
       "      <th>coherence_score</th>\n",
       "      <th>num_topics</th>\n",
       "      <th>pass</th>\n",
       "    </tr>\n",
       "  </thead>\n",
       "  <tbody>\n",
       "    <tr>\n",
       "      <th>0</th>\n",
       "      <td>-2.591045</td>\n",
       "      <td>2</td>\n",
       "      <td>0</td>\n",
       "    </tr>\n",
       "    <tr>\n",
       "      <th>1</th>\n",
       "      <td>-2.610810</td>\n",
       "      <td>7</td>\n",
       "      <td>0</td>\n",
       "    </tr>\n",
       "    <tr>\n",
       "      <th>2</th>\n",
       "      <td>-2.750213</td>\n",
       "      <td>12</td>\n",
       "      <td>0</td>\n",
       "    </tr>\n",
       "    <tr>\n",
       "      <th>3</th>\n",
       "      <td>-2.732078</td>\n",
       "      <td>17</td>\n",
       "      <td>0</td>\n",
       "    </tr>\n",
       "    <tr>\n",
       "      <th>4</th>\n",
       "      <td>-2.591361</td>\n",
       "      <td>2</td>\n",
       "      <td>1</td>\n",
       "    </tr>\n",
       "    <tr>\n",
       "      <th>5</th>\n",
       "      <td>-2.694664</td>\n",
       "      <td>7</td>\n",
       "      <td>1</td>\n",
       "    </tr>\n",
       "    <tr>\n",
       "      <th>6</th>\n",
       "      <td>-2.681667</td>\n",
       "      <td>12</td>\n",
       "      <td>1</td>\n",
       "    </tr>\n",
       "    <tr>\n",
       "      <th>7</th>\n",
       "      <td>-2.820335</td>\n",
       "      <td>17</td>\n",
       "      <td>1</td>\n",
       "    </tr>\n",
       "    <tr>\n",
       "      <th>8</th>\n",
       "      <td>-2.507879</td>\n",
       "      <td>2</td>\n",
       "      <td>2</td>\n",
       "    </tr>\n",
       "    <tr>\n",
       "      <th>9</th>\n",
       "      <td>-2.664864</td>\n",
       "      <td>7</td>\n",
       "      <td>2</td>\n",
       "    </tr>\n",
       "    <tr>\n",
       "      <th>10</th>\n",
       "      <td>-2.749131</td>\n",
       "      <td>12</td>\n",
       "      <td>2</td>\n",
       "    </tr>\n",
       "    <tr>\n",
       "      <th>11</th>\n",
       "      <td>-2.790140</td>\n",
       "      <td>17</td>\n",
       "      <td>2</td>\n",
       "    </tr>\n",
       "    <tr>\n",
       "      <th>12</th>\n",
       "      <td>-2.577080</td>\n",
       "      <td>2</td>\n",
       "      <td>3</td>\n",
       "    </tr>\n",
       "    <tr>\n",
       "      <th>13</th>\n",
       "      <td>-2.634535</td>\n",
       "      <td>7</td>\n",
       "      <td>3</td>\n",
       "    </tr>\n",
       "    <tr>\n",
       "      <th>14</th>\n",
       "      <td>-2.740807</td>\n",
       "      <td>12</td>\n",
       "      <td>3</td>\n",
       "    </tr>\n",
       "    <tr>\n",
       "      <th>15</th>\n",
       "      <td>-2.736292</td>\n",
       "      <td>17</td>\n",
       "      <td>3</td>\n",
       "    </tr>\n",
       "    <tr>\n",
       "      <th>16</th>\n",
       "      <td>-2.636686</td>\n",
       "      <td>2</td>\n",
       "      <td>4</td>\n",
       "    </tr>\n",
       "    <tr>\n",
       "      <th>17</th>\n",
       "      <td>-2.671376</td>\n",
       "      <td>7</td>\n",
       "      <td>4</td>\n",
       "    </tr>\n",
       "    <tr>\n",
       "      <th>18</th>\n",
       "      <td>-2.655559</td>\n",
       "      <td>12</td>\n",
       "      <td>4</td>\n",
       "    </tr>\n",
       "    <tr>\n",
       "      <th>19</th>\n",
       "      <td>-2.784036</td>\n",
       "      <td>17</td>\n",
       "      <td>4</td>\n",
       "    </tr>\n",
       "    <tr>\n",
       "      <th>20</th>\n",
       "      <td>-2.592658</td>\n",
       "      <td>2</td>\n",
       "      <td>5</td>\n",
       "    </tr>\n",
       "    <tr>\n",
       "      <th>21</th>\n",
       "      <td>-2.593268</td>\n",
       "      <td>7</td>\n",
       "      <td>5</td>\n",
       "    </tr>\n",
       "    <tr>\n",
       "      <th>22</th>\n",
       "      <td>-2.758253</td>\n",
       "      <td>12</td>\n",
       "      <td>5</td>\n",
       "    </tr>\n",
       "    <tr>\n",
       "      <th>23</th>\n",
       "      <td>-2.719016</td>\n",
       "      <td>17</td>\n",
       "      <td>5</td>\n",
       "    </tr>\n",
       "    <tr>\n",
       "      <th>24</th>\n",
       "      <td>-2.483518</td>\n",
       "      <td>2</td>\n",
       "      <td>6</td>\n",
       "    </tr>\n",
       "    <tr>\n",
       "      <th>25</th>\n",
       "      <td>-2.710835</td>\n",
       "      <td>7</td>\n",
       "      <td>6</td>\n",
       "    </tr>\n",
       "    <tr>\n",
       "      <th>26</th>\n",
       "      <td>-2.682444</td>\n",
       "      <td>12</td>\n",
       "      <td>6</td>\n",
       "    </tr>\n",
       "    <tr>\n",
       "      <th>27</th>\n",
       "      <td>-2.667241</td>\n",
       "      <td>17</td>\n",
       "      <td>6</td>\n",
       "    </tr>\n",
       "    <tr>\n",
       "      <th>28</th>\n",
       "      <td>-2.605388</td>\n",
       "      <td>2</td>\n",
       "      <td>7</td>\n",
       "    </tr>\n",
       "    <tr>\n",
       "      <th>29</th>\n",
       "      <td>-2.581845</td>\n",
       "      <td>7</td>\n",
       "      <td>7</td>\n",
       "    </tr>\n",
       "    <tr>\n",
       "      <th>30</th>\n",
       "      <td>-2.619148</td>\n",
       "      <td>12</td>\n",
       "      <td>7</td>\n",
       "    </tr>\n",
       "    <tr>\n",
       "      <th>31</th>\n",
       "      <td>-2.751881</td>\n",
       "      <td>17</td>\n",
       "      <td>7</td>\n",
       "    </tr>\n",
       "    <tr>\n",
       "      <th>32</th>\n",
       "      <td>-2.611207</td>\n",
       "      <td>2</td>\n",
       "      <td>8</td>\n",
       "    </tr>\n",
       "    <tr>\n",
       "      <th>33</th>\n",
       "      <td>-2.694691</td>\n",
       "      <td>7</td>\n",
       "      <td>8</td>\n",
       "    </tr>\n",
       "    <tr>\n",
       "      <th>34</th>\n",
       "      <td>-2.707936</td>\n",
       "      <td>12</td>\n",
       "      <td>8</td>\n",
       "    </tr>\n",
       "    <tr>\n",
       "      <th>35</th>\n",
       "      <td>-2.785903</td>\n",
       "      <td>17</td>\n",
       "      <td>8</td>\n",
       "    </tr>\n",
       "    <tr>\n",
       "      <th>36</th>\n",
       "      <td>-2.643211</td>\n",
       "      <td>2</td>\n",
       "      <td>9</td>\n",
       "    </tr>\n",
       "    <tr>\n",
       "      <th>37</th>\n",
       "      <td>-2.612478</td>\n",
       "      <td>7</td>\n",
       "      <td>9</td>\n",
       "    </tr>\n",
       "    <tr>\n",
       "      <th>38</th>\n",
       "      <td>-2.702556</td>\n",
       "      <td>12</td>\n",
       "      <td>9</td>\n",
       "    </tr>\n",
       "    <tr>\n",
       "      <th>39</th>\n",
       "      <td>-2.723568</td>\n",
       "      <td>17</td>\n",
       "      <td>9</td>\n",
       "    </tr>\n",
       "  </tbody>\n",
       "</table>\n",
       "</div>"
      ],
      "text/plain": [
       "    coherence_score  num_topics  pass\n",
       "0         -2.591045           2     0\n",
       "1         -2.610810           7     0\n",
       "2         -2.750213          12     0\n",
       "3         -2.732078          17     0\n",
       "4         -2.591361           2     1\n",
       "5         -2.694664           7     1\n",
       "6         -2.681667          12     1\n",
       "7         -2.820335          17     1\n",
       "8         -2.507879           2     2\n",
       "9         -2.664864           7     2\n",
       "10        -2.749131          12     2\n",
       "11        -2.790140          17     2\n",
       "12        -2.577080           2     3\n",
       "13        -2.634535           7     3\n",
       "14        -2.740807          12     3\n",
       "15        -2.736292          17     3\n",
       "16        -2.636686           2     4\n",
       "17        -2.671376           7     4\n",
       "18        -2.655559          12     4\n",
       "19        -2.784036          17     4\n",
       "20        -2.592658           2     5\n",
       "21        -2.593268           7     5\n",
       "22        -2.758253          12     5\n",
       "23        -2.719016          17     5\n",
       "24        -2.483518           2     6\n",
       "25        -2.710835           7     6\n",
       "26        -2.682444          12     6\n",
       "27        -2.667241          17     6\n",
       "28        -2.605388           2     7\n",
       "29        -2.581845           7     7\n",
       "30        -2.619148          12     7\n",
       "31        -2.751881          17     7\n",
       "32        -2.611207           2     8\n",
       "33        -2.694691           7     8\n",
       "34        -2.707936          12     8\n",
       "35        -2.785903          17     8\n",
       "36        -2.643211           2     9\n",
       "37        -2.612478           7     9\n",
       "38        -2.702556          12     9\n",
       "39        -2.723568          17     9"
      ]
     },
     "execution_count": 78,
     "metadata": {},
     "output_type": "execute_result"
    }
   ],
   "source": [
    "topic_coherence"
   ]
  },
  {
   "cell_type": "code",
   "execution_count": null,
   "metadata": {},
   "outputs": [],
   "source": []
  }
 ],
 "metadata": {
  "kernelspec": {
   "display_name": "U4S1 NLP",
   "language": "python",
   "name": "u4s1"
  },
  "language_info": {
   "codemirror_mode": {
    "name": "ipython",
    "version": 3
   },
   "file_extension": ".py",
   "mimetype": "text/x-python",
   "name": "python",
   "nbconvert_exporter": "python",
   "pygments_lexer": "ipython3",
   "version": "3.7.0"
  }
 },
 "nbformat": 4,
 "nbformat_minor": 4
}
